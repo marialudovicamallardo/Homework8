{
 "cells": [
  {
   "attachments": {},
   "cell_type": "markdown",
   "metadata": {},
   "source": [
    "## Analisi Dataset"
   ]
  },
  {
   "cell_type": "code",
   "execution_count": 155,
   "metadata": {},
   "outputs": [],
   "source": [
    "!pip install pandas -q\n",
    "!pip install pandas-profiling -q\n",
    "!pip install numpy -q"
   ]
  },
  {
   "cell_type": "code",
   "execution_count": 156,
   "metadata": {},
   "outputs": [],
   "source": [
    "import pandas as pd\n",
    "import numpy as np"
   ]
  },
  {
   "attachments": {},
   "cell_type": "markdown",
   "metadata": {},
   "source": [
    "### **ariregister.rik.ee**"
   ]
  },
  {
   "attachments": {},
   "cell_type": "markdown",
   "metadata": {},
   "source": [
    "#### Formato .csv"
   ]
  },
  {
   "cell_type": "code",
   "execution_count": 157,
   "metadata": {},
   "outputs": [
    {
     "data": {
      "text/html": [
       "<div>\n",
       "<style scoped>\n",
       "    .dataframe tbody tr th:only-of-type {\n",
       "        vertical-align: middle;\n",
       "    }\n",
       "\n",
       "    .dataframe tbody tr th {\n",
       "        vertical-align: top;\n",
       "    }\n",
       "\n",
       "    .dataframe thead th {\n",
       "        text-align: right;\n",
       "    }\n",
       "</style>\n",
       "<table border=\"1\" class=\"dataframe\">\n",
       "  <thead>\n",
       "    <tr style=\"text-align: right;\">\n",
       "      <th></th>\n",
       "      <th>ID azienda</th>\n",
       "      <th>Area of Activity</th>\n",
       "      <th>EMTAK Code</th>\n",
       "      <th>NACE Code</th>\n",
       "      <th>Source</th>\n",
       "    </tr>\n",
       "  </thead>\n",
       "  <tbody>\n",
       "    <tr>\n",
       "      <th>1010</th>\n",
       "      <td>1463</td>\n",
       "      <td>Other information technology and computer serv...</td>\n",
       "      <td>62091 (EMTAK 2008)</td>\n",
       "      <td>62.09</td>\n",
       "      <td>Electronic submission\\n                       ...</td>\n",
       "    </tr>\n",
       "    <tr>\n",
       "      <th>1011</th>\n",
       "      <td>1464</td>\n",
       "      <td>Other professional, scientific and technical a...</td>\n",
       "      <td>74901 (EMTAK 2008)</td>\n",
       "      <td>74.90</td>\n",
       "      <td>Annual report\\n                               ...</td>\n",
       "    </tr>\n",
       "    <tr>\n",
       "      <th>1012</th>\n",
       "      <td>1465</td>\n",
       "      <td>Retail sale via mail order houses or via Internet</td>\n",
       "      <td>47911 (EMTAK 2008)</td>\n",
       "      <td>47.91</td>\n",
       "      <td>Annual report\\n                               ...</td>\n",
       "    </tr>\n",
       "    <tr>\n",
       "      <th>1013</th>\n",
       "      <td>1466</td>\n",
       "      <td>Manufacture of furniture n.e.c.</td>\n",
       "      <td>31091 (EMTAK 2008)</td>\n",
       "      <td>31.09</td>\n",
       "      <td>Annual report\\n                               ...</td>\n",
       "    </tr>\n",
       "    <tr>\n",
       "      <th>1014</th>\n",
       "      <td>1470</td>\n",
       "      <td>Other business support service activities n.e.c.</td>\n",
       "      <td>82991 (EMTAK 2008)</td>\n",
       "      <td>82.99</td>\n",
       "      <td>Electronic submission\\n                       ...</td>\n",
       "    </tr>\n",
       "  </tbody>\n",
       "</table>\n",
       "</div>"
      ],
      "text/plain": [
       "      ID azienda                                   Area of Activity  \\\n",
       "1010        1463  Other information technology and computer serv...   \n",
       "1011        1464  Other professional, scientific and technical a...   \n",
       "1012        1465  Retail sale via mail order houses or via Internet   \n",
       "1013        1466                    Manufacture of furniture n.e.c.   \n",
       "1014        1470   Other business support service activities n.e.c.   \n",
       "\n",
       "              EMTAK Code  NACE Code  \\\n",
       "1010  62091 (EMTAK 2008)      62.09   \n",
       "1011  74901 (EMTAK 2008)      74.90   \n",
       "1012  47911 (EMTAK 2008)      47.91   \n",
       "1013  31091 (EMTAK 2008)      31.09   \n",
       "1014  82991 (EMTAK 2008)      82.99   \n",
       "\n",
       "                                                 Source  \n",
       "1010  Electronic submission\\n                       ...  \n",
       "1011  Annual report\\n                               ...  \n",
       "1012  Annual report\\n                               ...  \n",
       "1013  Annual report\\n                               ...  \n",
       "1014  Electronic submission\\n                       ...  "
      ]
     },
     "execution_count": 157,
     "metadata": {},
     "output_type": "execute_result"
    }
   ],
   "source": [
    "ar1 = pd.read_csv(\"de-sources-2022-2023/ariregister.rik.ee/wissel-activity-ariregister.rik.ee.csv\")\n",
    "ar1.tail(5)"
   ]
  },
  {
   "cell_type": "code",
   "execution_count": 158,
   "metadata": {},
   "outputs": [
    {
     "name": "stdout",
     "output_type": "stream",
     "text": [
      "<class 'pandas.core.frame.DataFrame'>\n",
      "RangeIndex: 1015 entries, 0 to 1014\n",
      "Data columns (total 5 columns):\n",
      " #   Column            Non-Null Count  Dtype  \n",
      "---  ------            --------------  -----  \n",
      " 0   ID azienda        1015 non-null   int64  \n",
      " 1   Area of Activity  1015 non-null   object \n",
      " 2   EMTAK Code        1015 non-null   object \n",
      " 3   NACE Code         1015 non-null   float64\n",
      " 4   Source            1015 non-null   object \n",
      "dtypes: float64(1), int64(1), object(3)\n",
      "memory usage: 39.8+ KB\n"
     ]
    }
   ],
   "source": [
    "ar1.info()"
   ]
  },
  {
   "cell_type": "code",
   "execution_count": 159,
   "metadata": {},
   "outputs": [
    {
     "data": {
      "text/plain": [
       "ID azienda            int64\n",
       "Area of Activity     object\n",
       "EMTAK Code           object\n",
       "NACE Code           float64\n",
       "Source               object\n",
       "dtype: object"
      ]
     },
     "execution_count": 159,
     "metadata": {},
     "output_type": "execute_result"
    }
   ],
   "source": [
    "ar1.dtypes"
   ]
  },
  {
   "cell_type": "code",
   "execution_count": 160,
   "metadata": {},
   "outputs": [
    {
     "data": {
      "text/plain": [
       "ID azienda          0\n",
       "Area of Activity    0\n",
       "EMTAK Code          0\n",
       "NACE Code           0\n",
       "Source              0\n",
       "dtype: int64"
      ]
     },
     "execution_count": 160,
     "metadata": {},
     "output_type": "execute_result"
    }
   ],
   "source": [
    "ar1.isnull().sum()"
   ]
  },
  {
   "cell_type": "code",
   "execution_count": 161,
   "metadata": {},
   "outputs": [
    {
     "data": {
      "text/html": [
       "<div>\n",
       "<style scoped>\n",
       "    .dataframe tbody tr th:only-of-type {\n",
       "        vertical-align: middle;\n",
       "    }\n",
       "\n",
       "    .dataframe tbody tr th {\n",
       "        vertical-align: top;\n",
       "    }\n",
       "\n",
       "    .dataframe thead th {\n",
       "        text-align: right;\n",
       "    }\n",
       "</style>\n",
       "<table border=\"1\" class=\"dataframe\">\n",
       "  <thead>\n",
       "    <tr style=\"text-align: right;\">\n",
       "      <th></th>\n",
       "      <th>URL</th>\n",
       "      <th>ID</th>\n",
       "      <th>Name</th>\n",
       "      <th>Code</th>\n",
       "      <th>Legal form</th>\n",
       "      <th>Status</th>\n",
       "      <th>Registration Date</th>\n",
       "      <th>Capital</th>\n",
       "      <th>Address</th>\n",
       "      <th>Deletion Date</th>\n",
       "    </tr>\n",
       "  </thead>\n",
       "  <tbody>\n",
       "    <tr>\n",
       "      <th>1464</th>\n",
       "      <td>https://ariregister.rik.ee/eng/company/1165596...</td>\n",
       "      <td>1465</td>\n",
       "      <td>OÃœYESPARMÃ–Ã–BEL(11655968)</td>\n",
       "      <td>11655968.0</td>\n",
       "      <td>Private limited company</td>\n",
       "      <td>Enteredintotheregister</td>\n",
       "      <td>10.06.2009</td>\n",
       "      <td>Capitalis2Â 520Â â‚¬</td>\n",
       "      <td>Tartu maakond Tartu li...</td>\n",
       "      <td>NaN</td>\n",
       "    </tr>\n",
       "    <tr>\n",
       "      <th>1465</th>\n",
       "      <td>https://ariregister.rik.ee/eng/company/1132968...</td>\n",
       "      <td>1466</td>\n",
       "      <td>OsaÃ¼hingYespartner(11329683)</td>\n",
       "      <td>11329683.0</td>\n",
       "      <td>Private limited company</td>\n",
       "      <td>Deleted</td>\n",
       "      <td>11.12.2006</td>\n",
       "      <td>NaN</td>\n",
       "      <td>NaN</td>\n",
       "      <td>19.10.2011</td>\n",
       "    </tr>\n",
       "    <tr>\n",
       "      <th>1466</th>\n",
       "      <td>https://ariregister.rik.ee/eng/company/1227478...</td>\n",
       "      <td>1467</td>\n",
       "      <td>YespartnerOÃœ(12274783)</td>\n",
       "      <td>12274783.0</td>\n",
       "      <td>Private limited company</td>\n",
       "      <td>Deleted</td>\n",
       "      <td>30.04.2012</td>\n",
       "      <td>NaN</td>\n",
       "      <td>NaN</td>\n",
       "      <td>07.07.2017</td>\n",
       "    </tr>\n",
       "    <tr>\n",
       "      <th>1467</th>\n",
       "      <td>https://ariregister.rik.ee/eng/company/1172619...</td>\n",
       "      <td>1468</td>\n",
       "      <td>YespatronOÃœ(11726199)</td>\n",
       "      <td>11726199.0</td>\n",
       "      <td>Private limited company</td>\n",
       "      <td>Deleted</td>\n",
       "      <td>28.09.2009</td>\n",
       "      <td>NaN</td>\n",
       "      <td>NaN</td>\n",
       "      <td>04.07.2013</td>\n",
       "    </tr>\n",
       "    <tr>\n",
       "      <th>1468</th>\n",
       "      <td>https://ariregister.rik.ee/eng/company/1469261...</td>\n",
       "      <td>1469</td>\n",
       "      <td>YKSEhituspartnerOÃœ(14692616)</td>\n",
       "      <td>14692616.0</td>\n",
       "      <td>Private limited company</td>\n",
       "      <td>Enteredintotheregister</td>\n",
       "      <td>28.03.2019</td>\n",
       "      <td>Capitalis2Â 508Â â‚¬</td>\n",
       "      <td>Harju maakond Tallinn ...</td>\n",
       "      <td>NaN</td>\n",
       "    </tr>\n",
       "  </tbody>\n",
       "</table>\n",
       "</div>"
      ],
      "text/plain": [
       "                                                    URL    ID  \\\n",
       "1464  https://ariregister.rik.ee/eng/company/1165596...  1465   \n",
       "1465  https://ariregister.rik.ee/eng/company/1132968...  1466   \n",
       "1466  https://ariregister.rik.ee/eng/company/1227478...  1467   \n",
       "1467  https://ariregister.rik.ee/eng/company/1172619...  1468   \n",
       "1468  https://ariregister.rik.ee/eng/company/1469261...  1469   \n",
       "\n",
       "                               Name        Code               Legal form  \\\n",
       "1464    OÃœYESPARMÃ–Ã–BEL(11655968)  11655968.0  Private limited company   \n",
       "1465  OsaÃ¼hingYespartner(11329683)  11329683.0  Private limited company   \n",
       "1466        YespartnerOÃœ(12274783)  12274783.0  Private limited company   \n",
       "1467         YespatronOÃœ(11726199)  11726199.0  Private limited company   \n",
       "1468  YKSEhituspartnerOÃœ(14692616)  14692616.0  Private limited company   \n",
       "\n",
       "                      Status Registration Date               Capital  \\\n",
       "1464  Enteredintotheregister        10.06.2009  Capitalis2Â 520Â â‚¬   \n",
       "1465                 Deleted        11.12.2006                   NaN   \n",
       "1466                 Deleted        30.04.2012                   NaN   \n",
       "1467                 Deleted        28.09.2009                   NaN   \n",
       "1468  Enteredintotheregister        28.03.2019  Capitalis2Â 508Â â‚¬   \n",
       "\n",
       "                                                Address Deletion Date  \n",
       "1464                          Tartu maakond Tartu li...           NaN  \n",
       "1465                                                NaN    19.10.2011  \n",
       "1466                                                NaN    07.07.2017  \n",
       "1467                                                NaN    04.07.2013  \n",
       "1468                          Harju maakond Tallinn ...           NaN  "
      ]
     },
     "execution_count": 161,
     "metadata": {},
     "output_type": "execute_result"
    }
   ],
   "source": [
    "ar2 = pd.read_csv(\"de-sources-2022-2023/ariregister.rik.ee/wissel-aziende-ariregister.rik.ee.csv\")\n",
    "ar2.tail(5)"
   ]
  },
  {
   "cell_type": "code",
   "execution_count": 162,
   "metadata": {},
   "outputs": [
    {
     "name": "stdout",
     "output_type": "stream",
     "text": [
      "<class 'pandas.core.frame.DataFrame'>\n",
      "RangeIndex: 1469 entries, 0 to 1468\n",
      "Data columns (total 10 columns):\n",
      " #   Column             Non-Null Count  Dtype  \n",
      "---  ------             --------------  -----  \n",
      " 0   URL                1469 non-null   object \n",
      " 1   ID                 1469 non-null   int64  \n",
      " 2   Name               1469 non-null   object \n",
      " 3   Code               1466 non-null   float64\n",
      " 4   Legal form         1469 non-null   object \n",
      " 5   Status             1437 non-null   object \n",
      " 6   Registration Date  1466 non-null   object \n",
      " 7   Capital            896 non-null    object \n",
      " 8   Address            968 non-null    object \n",
      " 9   Deletion Date      458 non-null    object \n",
      "dtypes: float64(1), int64(1), object(8)\n",
      "memory usage: 114.9+ KB\n"
     ]
    }
   ],
   "source": [
    "ar2.info()"
   ]
  },
  {
   "cell_type": "code",
   "execution_count": 163,
   "metadata": {},
   "outputs": [
    {
     "data": {
      "text/plain": [
       "URL                   object\n",
       "ID                     int64\n",
       "Name                  object\n",
       "Code                 float64\n",
       "Legal form            object\n",
       "Status                object\n",
       "Registration Date     object\n",
       "Capital               object\n",
       "Address               object\n",
       "Deletion Date         object\n",
       "dtype: object"
      ]
     },
     "execution_count": 163,
     "metadata": {},
     "output_type": "execute_result"
    }
   ],
   "source": [
    "ar2.dtypes"
   ]
  },
  {
   "cell_type": "code",
   "execution_count": 164,
   "metadata": {},
   "outputs": [
    {
     "data": {
      "text/plain": [
       "URL                     0\n",
       "ID                      0\n",
       "Name                    0\n",
       "Code                    3\n",
       "Legal form              0\n",
       "Status                 32\n",
       "Registration Date       3\n",
       "Capital               573\n",
       "Address               501\n",
       "Deletion Date        1011\n",
       "dtype: int64"
      ]
     },
     "execution_count": 164,
     "metadata": {},
     "output_type": "execute_result"
    }
   ],
   "source": [
    "ar2.isnull().sum()"
   ]
  },
  {
   "cell_type": "code",
   "execution_count": 165,
   "metadata": {},
   "outputs": [
    {
     "data": {
      "text/html": [
       "<div>\n",
       "<style scoped>\n",
       "    .dataframe tbody tr th:only-of-type {\n",
       "        vertical-align: middle;\n",
       "    }\n",
       "\n",
       "    .dataframe tbody tr th {\n",
       "        vertical-align: top;\n",
       "    }\n",
       "\n",
       "    .dataframe thead th {\n",
       "        text-align: right;\n",
       "    }\n",
       "</style>\n",
       "<table border=\"1\" class=\"dataframe\">\n",
       "  <thead>\n",
       "    <tr style=\"text-align: right;\">\n",
       "      <th></th>\n",
       "      <th>ID azienda</th>\n",
       "      <th>Name</th>\n",
       "      <th>Code</th>\n",
       "      <th>Participation</th>\n",
       "      <th>Contribution</th>\n",
       "    </tr>\n",
       "  </thead>\n",
       "  <tbody>\n",
       "    <tr>\n",
       "      <th>1186</th>\n",
       "      <td>1465</td>\n",
       "      <td>\\n                                        Liri...</td>\n",
       "      <td>39212260062\\n</td>\n",
       "      <td>100.00%</td>\n",
       "      <td>\\n                                    2500.00 ...</td>\n",
       "    </tr>\n",
       "    <tr>\n",
       "      <th>1187</th>\n",
       "      <td>1466</td>\n",
       "      <td>\\n                                        Andr...</td>\n",
       "      <td>36607232737\\n</td>\n",
       "      <td>42.50%</td>\n",
       "      <td>\\n                                    1071.00 ...</td>\n",
       "    </tr>\n",
       "    <tr>\n",
       "      <th>1188</th>\n",
       "      <td>1466</td>\n",
       "      <td>\\n                                        Marg...</td>\n",
       "      <td>37801150228\\n</td>\n",
       "      <td>42.50%</td>\n",
       "      <td>\\n                                    1071.00 ...</td>\n",
       "    </tr>\n",
       "    <tr>\n",
       "      <th>1189</th>\n",
       "      <td>1466</td>\n",
       "      <td>\\n                                        Alek...</td>\n",
       "      <td>35311212719\\n</td>\n",
       "      <td>15.00%</td>\n",
       "      <td>\\n                                    378.00 EUR</td>\n",
       "    </tr>\n",
       "    <tr>\n",
       "      <th>1190</th>\n",
       "      <td>1470</td>\n",
       "      <td>\\n</td>\n",
       "      <td>12067392\\n</td>\n",
       "      <td>100.00%</td>\n",
       "      <td>\\n                                    2508.00 ...</td>\n",
       "    </tr>\n",
       "  </tbody>\n",
       "</table>\n",
       "</div>"
      ],
      "text/plain": [
       "      ID azienda                                               Name  \\\n",
       "1186        1465  \\n                                        Liri...   \n",
       "1187        1466  \\n                                        Andr...   \n",
       "1188        1466  \\n                                        Marg...   \n",
       "1189        1466  \\n                                        Alek...   \n",
       "1190        1470                                                 \\n   \n",
       "\n",
       "                                               Code Participation  \\\n",
       "1186  39212260062\\n                                       100.00%   \n",
       "1187  36607232737\\n                                        42.50%   \n",
       "1188  37801150228\\n                                        42.50%   \n",
       "1189  35311212719\\n                                        15.00%   \n",
       "1190     12067392\\n                                       100.00%   \n",
       "\n",
       "                                           Contribution  \n",
       "1186  \\n                                    2500.00 ...  \n",
       "1187  \\n                                    1071.00 ...  \n",
       "1188  \\n                                    1071.00 ...  \n",
       "1189  \\n                                    378.00 EUR   \n",
       "1190  \\n                                    2508.00 ...  "
      ]
     },
     "execution_count": 165,
     "metadata": {},
     "output_type": "execute_result"
    }
   ],
   "source": [
    "ar3 = pd.read_csv(\"de-sources-2022-2023/ariregister.rik.ee/wissel-partners-ariregister.rik.ee.csv\")\n",
    "ar3.tail(5)"
   ]
  },
  {
   "cell_type": "code",
   "execution_count": 166,
   "metadata": {},
   "outputs": [
    {
     "name": "stdout",
     "output_type": "stream",
     "text": [
      "<class 'pandas.core.frame.DataFrame'>\n",
      "RangeIndex: 1191 entries, 0 to 1190\n",
      "Data columns (total 5 columns):\n",
      " #   Column         Non-Null Count  Dtype \n",
      "---  ------         --------------  ----- \n",
      " 0   ID azienda     1191 non-null   int64 \n",
      " 1   Name           1191 non-null   object\n",
      " 2   Code           1191 non-null   object\n",
      " 3   Participation  1191 non-null   object\n",
      " 4   Contribution   1191 non-null   object\n",
      "dtypes: int64(1), object(4)\n",
      "memory usage: 46.6+ KB\n"
     ]
    }
   ],
   "source": [
    "ar3.info()"
   ]
  },
  {
   "cell_type": "code",
   "execution_count": 167,
   "metadata": {},
   "outputs": [
    {
     "data": {
      "text/plain": [
       "ID azienda        int64\n",
       "Name             object\n",
       "Code             object\n",
       "Participation    object\n",
       "Contribution     object\n",
       "dtype: object"
      ]
     },
     "execution_count": 167,
     "metadata": {},
     "output_type": "execute_result"
    }
   ],
   "source": [
    "ar3.dtypes"
   ]
  },
  {
   "cell_type": "code",
   "execution_count": 168,
   "metadata": {},
   "outputs": [
    {
     "data": {
      "text/plain": [
       "ID azienda       0\n",
       "Name             0\n",
       "Code             0\n",
       "Participation    0\n",
       "Contribution     0\n",
       "dtype: int64"
      ]
     },
     "execution_count": 168,
     "metadata": {},
     "output_type": "execute_result"
    }
   ],
   "source": [
    "ar3.isnull().sum()"
   ]
  },
  {
   "cell_type": "code",
   "execution_count": 169,
   "metadata": {},
   "outputs": [
    {
     "data": {
      "text/html": [
       "<div>\n",
       "<style scoped>\n",
       "    .dataframe tbody tr th:only-of-type {\n",
       "        vertical-align: middle;\n",
       "    }\n",
       "\n",
       "    .dataframe tbody tr th {\n",
       "        vertical-align: top;\n",
       "    }\n",
       "\n",
       "    .dataframe thead th {\n",
       "        text-align: right;\n",
       "    }\n",
       "</style>\n",
       "<table border=\"1\" class=\"dataframe\">\n",
       "  <thead>\n",
       "    <tr style=\"text-align: right;\">\n",
       "      <th></th>\n",
       "      <th>ID azienda</th>\n",
       "      <th>Name</th>\n",
       "      <th>Code</th>\n",
       "      <th>Role</th>\n",
       "      <th>Start Date</th>\n",
       "    </tr>\n",
       "  </thead>\n",
       "  <tbody>\n",
       "    <tr>\n",
       "      <th>1000</th>\n",
       "      <td>1463</td>\n",
       "      <td>\\n                                Olajide Semi...</td>\n",
       "      <td>\\n                                    37211260...</td>\n",
       "      <td>\\n                                Management b...</td>\n",
       "      <td>02.12.2020</td>\n",
       "    </tr>\n",
       "    <tr>\n",
       "      <th>1001</th>\n",
       "      <td>1464</td>\n",
       "      <td>\\n                                Kaidi Klein\\...</td>\n",
       "      <td>\\n                                    47104180...</td>\n",
       "      <td>\\n                                Management b...</td>\n",
       "      <td>01.12.2015</td>\n",
       "    </tr>\n",
       "    <tr>\n",
       "      <th>1002</th>\n",
       "      <td>1465</td>\n",
       "      <td>\\n                                Liridon Resh...</td>\n",
       "      <td>\\n                                    39212260...</td>\n",
       "      <td>\\n                                Management b...</td>\n",
       "      <td>22.05.2019</td>\n",
       "    </tr>\n",
       "    <tr>\n",
       "      <th>1003</th>\n",
       "      <td>1466</td>\n",
       "      <td>\\n                                Margus L\\xc3...</td>\n",
       "      <td>\\n                                    37801150...</td>\n",
       "      <td>\\n                                Management b...</td>\n",
       "      <td>31.07.2009</td>\n",
       "    </tr>\n",
       "    <tr>\n",
       "      <th>1004</th>\n",
       "      <td>1470</td>\n",
       "      <td>\\n                                Hannes Rosin...</td>\n",
       "      <td>\\n                                    37902090...</td>\n",
       "      <td>\\n                                Management b...</td>\n",
       "      <td>17.07.2019</td>\n",
       "    </tr>\n",
       "  </tbody>\n",
       "</table>\n",
       "</div>"
      ],
      "text/plain": [
       "      ID azienda                                               Name  \\\n",
       "1000        1463  \\n                                Olajide Semi...   \n",
       "1001        1464  \\n                                Kaidi Klein\\...   \n",
       "1002        1465  \\n                                Liridon Resh...   \n",
       "1003        1466  \\n                                Margus L\\xc3...   \n",
       "1004        1470  \\n                                Hannes Rosin...   \n",
       "\n",
       "                                                   Code  \\\n",
       "1000  \\n                                    37211260...   \n",
       "1001  \\n                                    47104180...   \n",
       "1002  \\n                                    39212260...   \n",
       "1003  \\n                                    37801150...   \n",
       "1004  \\n                                    37902090...   \n",
       "\n",
       "                                                   Role  Start Date  \n",
       "1000  \\n                                Management b...  02.12.2020  \n",
       "1001  \\n                                Management b...  01.12.2015  \n",
       "1002  \\n                                Management b...  22.05.2019  \n",
       "1003  \\n                                Management b...  31.07.2009  \n",
       "1004  \\n                                Management b...  17.07.2019  "
      ]
     },
     "execution_count": 169,
     "metadata": {},
     "output_type": "execute_result"
    }
   ],
   "source": [
    "ar4 = pd.read_csv(\"de-sources-2022-2023/ariregister.rik.ee/wissel-rappresentanti-ariregister.rik.ee.csv\")\n",
    "ar4.tail(5)"
   ]
  },
  {
   "cell_type": "code",
   "execution_count": 170,
   "metadata": {},
   "outputs": [
    {
     "name": "stdout",
     "output_type": "stream",
     "text": [
      "<class 'pandas.core.frame.DataFrame'>\n",
      "RangeIndex: 1005 entries, 0 to 1004\n",
      "Data columns (total 5 columns):\n",
      " #   Column      Non-Null Count  Dtype \n",
      "---  ------      --------------  ----- \n",
      " 0   ID azienda  1005 non-null   int64 \n",
      " 1   Name        1005 non-null   object\n",
      " 2   Code        1005 non-null   object\n",
      " 3   Role        1005 non-null   object\n",
      " 4   Start Date  1005 non-null   object\n",
      "dtypes: int64(1), object(4)\n",
      "memory usage: 39.4+ KB\n"
     ]
    }
   ],
   "source": [
    "ar4.info()"
   ]
  },
  {
   "cell_type": "code",
   "execution_count": 171,
   "metadata": {},
   "outputs": [
    {
     "data": {
      "text/plain": [
       "ID azienda     int64\n",
       "Name          object\n",
       "Code          object\n",
       "Role          object\n",
       "Start Date    object\n",
       "dtype: object"
      ]
     },
     "execution_count": 171,
     "metadata": {},
     "output_type": "execute_result"
    }
   ],
   "source": [
    "ar4.dtypes"
   ]
  },
  {
   "cell_type": "code",
   "execution_count": 172,
   "metadata": {},
   "outputs": [
    {
     "data": {
      "text/plain": [
       "ID azienda    0\n",
       "Name          0\n",
       "Code          0\n",
       "Role          0\n",
       "Start Date    0\n",
       "dtype: int64"
      ]
     },
     "execution_count": 172,
     "metadata": {},
     "output_type": "execute_result"
    }
   ],
   "source": [
    "ar4.isnull().sum()"
   ]
  },
  {
   "attachments": {},
   "cell_type": "markdown",
   "metadata": {},
   "source": [
    "### **cbinsight.com**"
   ]
  },
  {
   "attachments": {},
   "cell_type": "markdown",
   "metadata": {},
   "source": [
    "#### Formato .csv"
   ]
  },
  {
   "cell_type": "code",
   "execution_count": 173,
   "metadata": {},
   "outputs": [
    {
     "data": {
      "text/html": [
       "<div>\n",
       "<style scoped>\n",
       "    .dataframe tbody tr th:only-of-type {\n",
       "        vertical-align: middle;\n",
       "    }\n",
       "\n",
       "    .dataframe tbody tr th {\n",
       "        vertical-align: top;\n",
       "    }\n",
       "\n",
       "    .dataframe thead th {\n",
       "        text-align: right;\n",
       "    }\n",
       "</style>\n",
       "<table border=\"1\" class=\"dataframe\">\n",
       "  <thead>\n",
       "    <tr style=\"text-align: right;\">\n",
       "      <th></th>\n",
       "      <th>Unnamed: 0</th>\n",
       "      <th>name</th>\n",
       "      <th>valuation</th>\n",
       "      <th>dateJoined</th>\n",
       "      <th>country</th>\n",
       "      <th>city</th>\n",
       "      <th>industry</th>\n",
       "      <th>investors</th>\n",
       "      <th>founded</th>\n",
       "      <th>stage</th>\n",
       "      <th>totalRaised</th>\n",
       "    </tr>\n",
       "  </thead>\n",
       "  <tbody>\n",
       "    <tr>\n",
       "      <th>1180</th>\n",
       "      <td>1180</td>\n",
       "      <td>SpaceX</td>\n",
       "      <td>$127B</td>\n",
       "      <td>12/1/2012</td>\n",
       "      <td>United States</td>\n",
       "      <td>Hawthorne</td>\n",
       "      <td>Other</td>\n",
       "      <td>Founders Fund, Draper Fisher Jurvetson, Rothen...</td>\n",
       "      <td>2002</td>\n",
       "      <td>Unattributed - VIII</td>\n",
       "      <td>$9.704B</td>\n",
       "    </tr>\n",
       "    <tr>\n",
       "      <th>1181</th>\n",
       "      <td>1181</td>\n",
       "      <td>Fanatics</td>\n",
       "      <td>$31B</td>\n",
       "      <td>6/6/2012</td>\n",
       "      <td>United States</td>\n",
       "      <td>Jacksonville</td>\n",
       "      <td>E-commerce &amp; direct-to-consumer</td>\n",
       "      <td>SoftBank Group, Andreessen Horowitz, Temasek H...</td>\n",
       "      <td>1995</td>\n",
       "      <td>Series I</td>\n",
       "      <td>$4.89B</td>\n",
       "    </tr>\n",
       "    <tr>\n",
       "      <th>1182</th>\n",
       "      <td>1182</td>\n",
       "      <td>Instacart</td>\n",
       "      <td>$39B</td>\n",
       "      <td>12/30/2014</td>\n",
       "      <td>United States</td>\n",
       "      <td>San Francisco</td>\n",
       "      <td>Supply chain, logistics, &amp; delivery</td>\n",
       "      <td>Khosla Ventures, Kleiner Perkins Caufield &amp; By...</td>\n",
       "      <td>2012</td>\n",
       "      <td>Series I</td>\n",
       "      <td>$2.686B</td>\n",
       "    </tr>\n",
       "    <tr>\n",
       "      <th>1183</th>\n",
       "      <td>1183</td>\n",
       "      <td>Databricks</td>\n",
       "      <td>$38B</td>\n",
       "      <td>2/5/2019</td>\n",
       "      <td>United States</td>\n",
       "      <td>San Francisco</td>\n",
       "      <td>Data management &amp; analytics</td>\n",
       "      <td>Andreessen Horowitz, New Enterprise Associates...</td>\n",
       "      <td>2013</td>\n",
       "      <td>Corporate Minority</td>\n",
       "      <td>$3.497B</td>\n",
       "    </tr>\n",
       "    <tr>\n",
       "      <th>1184</th>\n",
       "      <td>1184</td>\n",
       "      <td>Stripe</td>\n",
       "      <td>$95B</td>\n",
       "      <td>1/23/2014</td>\n",
       "      <td>United States</td>\n",
       "      <td>San Francisco</td>\n",
       "      <td>Fintech</td>\n",
       "      <td>Khosla Ventures, LowercaseCapital, capitalG</td>\n",
       "      <td>2010</td>\n",
       "      <td>Corporate Minority - II</td>\n",
       "      <td>$2.901B</td>\n",
       "    </tr>\n",
       "  </tbody>\n",
       "</table>\n",
       "</div>"
      ],
      "text/plain": [
       "      Unnamed: 0        name valuation  dateJoined        country  \\\n",
       "1180        1180      SpaceX     $127B   12/1/2012  United States   \n",
       "1181        1181    Fanatics      $31B    6/6/2012  United States   \n",
       "1182        1182   Instacart      $39B  12/30/2014  United States   \n",
       "1183        1183  Databricks      $38B    2/5/2019  United States   \n",
       "1184        1184      Stripe      $95B   1/23/2014  United States   \n",
       "\n",
       "               city                             industry  \\\n",
       "1180      Hawthorne                                Other   \n",
       "1181   Jacksonville      E-commerce & direct-to-consumer   \n",
       "1182  San Francisco  Supply chain, logistics, & delivery   \n",
       "1183  San Francisco          Data management & analytics   \n",
       "1184  San Francisco                              Fintech   \n",
       "\n",
       "                                              investors founded  \\\n",
       "1180  Founders Fund, Draper Fisher Jurvetson, Rothen...    2002   \n",
       "1181  SoftBank Group, Andreessen Horowitz, Temasek H...    1995   \n",
       "1182  Khosla Ventures, Kleiner Perkins Caufield & By...    2012   \n",
       "1183  Andreessen Horowitz, New Enterprise Associates...    2013   \n",
       "1184        Khosla Ventures, LowercaseCapital, capitalG    2010   \n",
       "\n",
       "                        stage totalRaised  \n",
       "1180      Unattributed - VIII     $9.704B  \n",
       "1181                 Series I      $4.89B  \n",
       "1182                 Series I     $2.686B  \n",
       "1183       Corporate Minority     $3.497B  \n",
       "1184  Corporate Minority - II     $2.901B  "
      ]
     },
     "execution_count": 173,
     "metadata": {},
     "output_type": "execute_result"
    }
   ],
   "source": [
    "cbi1 = pd.read_csv(\"de-sources-2022-2023/cbinsight.com/DDD-cbinsight.com.csv\")\n",
    "cbi1.tail(5)"
   ]
  },
  {
   "cell_type": "code",
   "execution_count": 174,
   "metadata": {},
   "outputs": [
    {
     "name": "stdout",
     "output_type": "stream",
     "text": [
      "<class 'pandas.core.frame.DataFrame'>\n",
      "RangeIndex: 1185 entries, 0 to 1184\n",
      "Data columns (total 11 columns):\n",
      " #   Column       Non-Null Count  Dtype \n",
      "---  ------       --------------  ----- \n",
      " 0   Unnamed: 0   1185 non-null   int64 \n",
      " 1   name         1185 non-null   object\n",
      " 2   valuation    1185 non-null   object\n",
      " 3   dateJoined   1185 non-null   object\n",
      " 4   country      1185 non-null   object\n",
      " 5   city         1169 non-null   object\n",
      " 6   industry     1185 non-null   object\n",
      " 7   investors    1185 non-null   object\n",
      " 8   founded      1185 non-null   object\n",
      " 9   stage        1185 non-null   object\n",
      " 10  totalRaised  1185 non-null   object\n",
      "dtypes: int64(1), object(10)\n",
      "memory usage: 102.0+ KB\n"
     ]
    }
   ],
   "source": [
    "cbi1.info()"
   ]
  },
  {
   "cell_type": "code",
   "execution_count": 175,
   "metadata": {},
   "outputs": [
    {
     "data": {
      "text/plain": [
       "Unnamed: 0      int64\n",
       "name           object\n",
       "valuation      object\n",
       "dateJoined     object\n",
       "country        object\n",
       "city           object\n",
       "industry       object\n",
       "investors      object\n",
       "founded        object\n",
       "stage          object\n",
       "totalRaised    object\n",
       "dtype: object"
      ]
     },
     "execution_count": 175,
     "metadata": {},
     "output_type": "execute_result"
    }
   ],
   "source": [
    "cbi1.dtypes"
   ]
  },
  {
   "cell_type": "code",
   "execution_count": 176,
   "metadata": {},
   "outputs": [
    {
     "data": {
      "text/plain": [
       "Unnamed: 0      0\n",
       "name            0\n",
       "valuation       0\n",
       "dateJoined      0\n",
       "country         0\n",
       "city           16\n",
       "industry        0\n",
       "investors       0\n",
       "founded         0\n",
       "stage           0\n",
       "totalRaised     0\n",
       "dtype: int64"
      ]
     },
     "execution_count": 176,
     "metadata": {},
     "output_type": "execute_result"
    }
   ],
   "source": [
    "cbi1.isnull().sum()"
   ]
  },
  {
   "attachments": {},
   "cell_type": "markdown",
   "metadata": {},
   "source": [
    "#### Formato .json"
   ]
  },
  {
   "cell_type": "code",
   "execution_count": 177,
   "metadata": {},
   "outputs": [
    {
     "data": {
      "text/html": [
       "<div>\n",
       "<style scoped>\n",
       "    .dataframe tbody tr th:only-of-type {\n",
       "        vertical-align: middle;\n",
       "    }\n",
       "\n",
       "    .dataframe tbody tr th {\n",
       "        vertical-align: top;\n",
       "    }\n",
       "\n",
       "    .dataframe thead th {\n",
       "        text-align: right;\n",
       "    }\n",
       "</style>\n",
       "<table border=\"1\" class=\"dataframe\">\n",
       "  <thead>\n",
       "    <tr style=\"text-align: right;\">\n",
       "      <th></th>\n",
       "      <th>company</th>\n",
       "      <th>valuation</th>\n",
       "      <th>datejoined</th>\n",
       "      <th>country</th>\n",
       "      <th>city</th>\n",
       "      <th>industry</th>\n",
       "      <th>selectinvestors</th>\n",
       "    </tr>\n",
       "  </thead>\n",
       "  <tbody>\n",
       "    <tr>\n",
       "      <th>0</th>\n",
       "      <td>ByteDance</td>\n",
       "      <td>$140</td>\n",
       "      <td>4/7/2017</td>\n",
       "      <td>China</td>\n",
       "      <td>Beijing</td>\n",
       "      <td>Artificial intelligence</td>\n",
       "      <td>Sequoia Capital China, SIG Asia Investments, S...</td>\n",
       "    </tr>\n",
       "    <tr>\n",
       "      <th>1</th>\n",
       "      <td>SpaceX</td>\n",
       "      <td>$127</td>\n",
       "      <td>12/1/2012</td>\n",
       "      <td>United States</td>\n",
       "      <td>Hawthorne</td>\n",
       "      <td>Other</td>\n",
       "      <td>Founders Fund, Draper Fisher Jurvetson, Rothen...</td>\n",
       "    </tr>\n",
       "    <tr>\n",
       "      <th>2</th>\n",
       "      <td>SHEIN</td>\n",
       "      <td>$100</td>\n",
       "      <td>7/3/2018</td>\n",
       "      <td>China</td>\n",
       "      <td>Shenzhen</td>\n",
       "      <td>E-commerce &amp; direct-to-consumer</td>\n",
       "      <td>Tiger Global Management, Sequoia Capital China...</td>\n",
       "    </tr>\n",
       "    <tr>\n",
       "      <th>3</th>\n",
       "      <td>Stripe</td>\n",
       "      <td>$95</td>\n",
       "      <td>1/23/2014</td>\n",
       "      <td>United States</td>\n",
       "      <td>San Francisco</td>\n",
       "      <td>Fintech</td>\n",
       "      <td>Khosla Ventures, LowercaseCapital, capitalG</td>\n",
       "    </tr>\n",
       "    <tr>\n",
       "      <th>4</th>\n",
       "      <td>Canva</td>\n",
       "      <td>$40</td>\n",
       "      <td>1/8/2018</td>\n",
       "      <td>Australia</td>\n",
       "      <td>Surry Hills</td>\n",
       "      <td>Internet software &amp; services</td>\n",
       "      <td>Sequoia Capital China, Blackbird Ventures, Mat...</td>\n",
       "    </tr>\n",
       "  </tbody>\n",
       "</table>\n",
       "</div>"
      ],
      "text/plain": [
       "     company valuation datejoined        country           city  \\\n",
       "0  ByteDance      $140   4/7/2017          China        Beijing   \n",
       "1     SpaceX      $127  12/1/2012  United States      Hawthorne   \n",
       "2      SHEIN      $100   7/3/2018          China       Shenzhen   \n",
       "3     Stripe       $95  1/23/2014  United States  San Francisco   \n",
       "4      Canva       $40   1/8/2018      Australia    Surry Hills   \n",
       "\n",
       "                          industry  \\\n",
       "0          Artificial intelligence   \n",
       "1                            Other   \n",
       "2  E-commerce & direct-to-consumer   \n",
       "3                          Fintech   \n",
       "4     Internet software & services   \n",
       "\n",
       "                                     selectinvestors  \n",
       "0  Sequoia Capital China, SIG Asia Investments, S...  \n",
       "1  Founders Fund, Draper Fisher Jurvetson, Rothen...  \n",
       "2  Tiger Global Management, Sequoia Capital China...  \n",
       "3        Khosla Ventures, LowercaseCapital, capitalG  \n",
       "4  Sequoia Capital China, Blackbird Ventures, Mat...  "
      ]
     },
     "execution_count": 177,
     "metadata": {},
     "output_type": "execute_result"
    }
   ],
   "source": [
    "cbi2 = pd.read_json('de-sources-2022-2023/cbinsight.com/iGMM-cbinsights.json')\n",
    "cbi2.head()"
   ]
  },
  {
   "cell_type": "code",
   "execution_count": 178,
   "metadata": {},
   "outputs": [
    {
     "name": "stdout",
     "output_type": "stream",
     "text": [
      "<class 'pandas.core.frame.DataFrame'>\n",
      "RangeIndex: 1202 entries, 0 to 1201\n",
      "Data columns (total 7 columns):\n",
      " #   Column           Non-Null Count  Dtype \n",
      "---  ------           --------------  ----- \n",
      " 0   company          1202 non-null   object\n",
      " 1   valuation        1202 non-null   object\n",
      " 2   datejoined       1202 non-null   object\n",
      " 3   country          1202 non-null   object\n",
      " 4   city             1184 non-null   object\n",
      " 5   industry         1202 non-null   object\n",
      " 6   selectinvestors  1202 non-null   object\n",
      "dtypes: object(7)\n",
      "memory usage: 65.9+ KB\n"
     ]
    }
   ],
   "source": [
    "cbi2.info()"
   ]
  },
  {
   "cell_type": "code",
   "execution_count": 179,
   "metadata": {},
   "outputs": [
    {
     "data": {
      "text/plain": [
       "company            object\n",
       "valuation          object\n",
       "datejoined         object\n",
       "country            object\n",
       "city               object\n",
       "industry           object\n",
       "selectinvestors    object\n",
       "dtype: object"
      ]
     },
     "execution_count": 179,
     "metadata": {},
     "output_type": "execute_result"
    }
   ],
   "source": [
    "cbi2.dtypes"
   ]
  },
  {
   "cell_type": "code",
   "execution_count": 180,
   "metadata": {},
   "outputs": [
    {
     "data": {
      "text/plain": [
       "company             0\n",
       "valuation           0\n",
       "datejoined          0\n",
       "country             0\n",
       "city               18\n",
       "industry            0\n",
       "selectinvestors     0\n",
       "dtype: int64"
      ]
     },
     "execution_count": 180,
     "metadata": {},
     "output_type": "execute_result"
    }
   ],
   "source": [
    "cbi2.isnull().sum()"
   ]
  },
  {
   "attachments": {},
   "cell_type": "markdown",
   "metadata": {},
   "source": [
    "### **companiesmarketcap.com**"
   ]
  },
  {
   "attachments": {},
   "cell_type": "markdown",
   "metadata": {},
   "source": [
    "#### Formato .csv"
   ]
  },
  {
   "cell_type": "code",
   "execution_count": 181,
   "metadata": {},
   "outputs": [
    {
     "data": {
      "text/html": [
       "<div>\n",
       "<style scoped>\n",
       "    .dataframe tbody tr th:only-of-type {\n",
       "        vertical-align: middle;\n",
       "    }\n",
       "\n",
       "    .dataframe tbody tr th {\n",
       "        vertical-align: top;\n",
       "    }\n",
       "\n",
       "    .dataframe thead th {\n",
       "        text-align: right;\n",
       "    }\n",
       "</style>\n",
       "<table border=\"1\" class=\"dataframe\">\n",
       "  <thead>\n",
       "    <tr style=\"text-align: right;\">\n",
       "      <th></th>\n",
       "      <th>Name</th>\n",
       "      <th>Master Cap</th>\n",
       "      <th>Country</th>\n",
       "      <th>Rank</th>\n",
       "      <th>Share Price</th>\n",
       "    </tr>\n",
       "  </thead>\n",
       "  <tbody>\n",
       "    <tr>\n",
       "      <th>6280</th>\n",
       "      <td>Cardlytics</td>\n",
       "      <td>$0.17 B</td>\n",
       "      <td>USA</td>\n",
       "      <td>#6291</td>\n",
       "      <td>$5.25</td>\n",
       "    </tr>\n",
       "    <tr>\n",
       "      <th>6281</th>\n",
       "      <td>Vera Bradley</td>\n",
       "      <td>$0.17 B</td>\n",
       "      <td>USA</td>\n",
       "      <td>#6292</td>\n",
       "      <td>$5.63</td>\n",
       "    </tr>\n",
       "    <tr>\n",
       "      <th>6282</th>\n",
       "      <td>FingerMotion</td>\n",
       "      <td>$0.17 B</td>\n",
       "      <td>USA</td>\n",
       "      <td>#6293</td>\n",
       "      <td>$3.75</td>\n",
       "    </tr>\n",
       "    <tr>\n",
       "      <th>6283</th>\n",
       "      <td>KCP Limited</td>\n",
       "      <td>$0.17 B</td>\n",
       "      <td>India</td>\n",
       "      <td>#6294</td>\n",
       "      <td>$1.34</td>\n",
       "    </tr>\n",
       "    <tr>\n",
       "      <th>6284</th>\n",
       "      <td>Excel Industries</td>\n",
       "      <td>$0.17 B</td>\n",
       "      <td>India</td>\n",
       "      <td>#6295</td>\n",
       "      <td>$13.76</td>\n",
       "    </tr>\n",
       "    <tr>\n",
       "      <th>6285</th>\n",
       "      <td>Arteris</td>\n",
       "      <td>$0.17 B</td>\n",
       "      <td>USA</td>\n",
       "      <td>#6296</td>\n",
       "      <td>$5.18</td>\n",
       "    </tr>\n",
       "    <tr>\n",
       "      <th>6286</th>\n",
       "      <td>PlaySide Studios</td>\n",
       "      <td>$0.17 B</td>\n",
       "      <td>Australia</td>\n",
       "      <td>#6297</td>\n",
       "      <td>$0.43</td>\n",
       "    </tr>\n",
       "    <tr>\n",
       "      <th>6287</th>\n",
       "      <td>Alpine Summit Energy Partners</td>\n",
       "      <td>$0.17 B</td>\n",
       "      <td>USA</td>\n",
       "      <td>#6298</td>\n",
       "      <td>$4.53</td>\n",
       "    </tr>\n",
       "    <tr>\n",
       "      <th>6288</th>\n",
       "      <td>Intevac</td>\n",
       "      <td>$0.17 B</td>\n",
       "      <td>USA</td>\n",
       "      <td>#6299</td>\n",
       "      <td>$6.79</td>\n",
       "    </tr>\n",
       "    <tr>\n",
       "      <th>6289</th>\n",
       "      <td>Doma</td>\n",
       "      <td>$0.17 B</td>\n",
       "      <td>USA</td>\n",
       "      <td>#6300</td>\n",
       "      <td>$0.52</td>\n",
       "    </tr>\n",
       "  </tbody>\n",
       "</table>\n",
       "</div>"
      ],
      "text/plain": [
       "                               Name Master Cap    Country   Rank Share Price\n",
       "6280                     Cardlytics    $0.17 B        USA  #6291       $5.25\n",
       "6281                   Vera Bradley    $0.17 B        USA  #6292       $5.63\n",
       "6282                   FingerMotion    $0.17 B        USA  #6293       $3.75\n",
       "6283                    KCP Limited    $0.17 B      India  #6294       $1.34\n",
       "6284               Excel Industries    $0.17 B      India  #6295      $13.76\n",
       "6285                        Arteris    $0.17 B        USA  #6296       $5.18\n",
       "6286               PlaySide Studios    $0.17 B  Australia  #6297       $0.43\n",
       "6287  Alpine Summit Energy Partners    $0.17 B        USA  #6298       $4.53\n",
       "6288                        Intevac    $0.17 B        USA  #6299       $6.79\n",
       "6289                           Doma    $0.17 B        USA  #6300       $0.52"
      ]
     },
     "execution_count": 181,
     "metadata": {},
     "output_type": "execute_result"
    }
   ],
   "source": [
    "cmc1 = pd.read_csv(\"de-sources-2022-2023/companiesmarketcap.com/MarScoToc-companiesmarketcap.com.csv\")\n",
    "cmc1.tail(10)"
   ]
  },
  {
   "cell_type": "code",
   "execution_count": 182,
   "metadata": {},
   "outputs": [
    {
     "name": "stdout",
     "output_type": "stream",
     "text": [
      "<class 'pandas.core.frame.DataFrame'>\n",
      "RangeIndex: 6290 entries, 0 to 6289\n",
      "Data columns (total 5 columns):\n",
      " #   Column       Non-Null Count  Dtype \n",
      "---  ------       --------------  ----- \n",
      " 0   Name         6290 non-null   object\n",
      " 1   Master Cap   6290 non-null   object\n",
      " 2   Country      6116 non-null   object\n",
      " 3   Rank         6290 non-null   object\n",
      " 4   Share Price  6290 non-null   object\n",
      "dtypes: object(5)\n",
      "memory usage: 245.8+ KB\n"
     ]
    }
   ],
   "source": [
    "cmc1.info()"
   ]
  },
  {
   "cell_type": "code",
   "execution_count": 183,
   "metadata": {},
   "outputs": [
    {
     "data": {
      "text/plain": [
       "Name           object\n",
       "Master Cap     object\n",
       "Country        object\n",
       "Rank           object\n",
       "Share Price    object\n",
       "dtype: object"
      ]
     },
     "execution_count": 183,
     "metadata": {},
     "output_type": "execute_result"
    }
   ],
   "source": [
    "cmc1.dtypes"
   ]
  },
  {
   "cell_type": "code",
   "execution_count": 184,
   "metadata": {},
   "outputs": [
    {
     "data": {
      "text/plain": [
       "Name             0\n",
       "Master Cap       0\n",
       "Country        174\n",
       "Rank             0\n",
       "Share Price      0\n",
       "dtype: int64"
      ]
     },
     "execution_count": 184,
     "metadata": {},
     "output_type": "execute_result"
    }
   ],
   "source": [
    "cmc1.isnull().sum()"
   ]
  },
  {
   "cell_type": "code",
   "execution_count": 185,
   "metadata": {},
   "outputs": [
    {
     "data": {
      "text/html": [
       "<div>\n",
       "<style scoped>\n",
       "    .dataframe tbody tr th:only-of-type {\n",
       "        vertical-align: middle;\n",
       "    }\n",
       "\n",
       "    .dataframe tbody tr th {\n",
       "        vertical-align: top;\n",
       "    }\n",
       "\n",
       "    .dataframe thead th {\n",
       "        text-align: right;\n",
       "    }\n",
       "</style>\n",
       "<table border=\"1\" class=\"dataframe\">\n",
       "  <thead>\n",
       "    <tr style=\"text-align: right;\">\n",
       "      <th></th>\n",
       "      <th>Unnamed: 0</th>\n",
       "      <th>name</th>\n",
       "      <th>rank</th>\n",
       "      <th>marketcap</th>\n",
       "      <th>country</th>\n",
       "      <th>share_price</th>\n",
       "      <th>change1d</th>\n",
       "      <th>change1y</th>\n",
       "      <th>categories</th>\n",
       "    </tr>\n",
       "  </thead>\n",
       "  <tbody>\n",
       "    <tr>\n",
       "      <th>7207</th>\n",
       "      <td>7207</td>\n",
       "      <td>Univest</td>\n",
       "      <td>5013</td>\n",
       "      <td>$0.75 B</td>\n",
       "      <td>usa</td>\n",
       "      <td>$25.65</td>\n",
       "      <td>-1.31%</td>\n",
       "      <td>-18.31%</td>\n",
       "      <td>investment financial-services insurance</td>\n",
       "    </tr>\n",
       "    <tr>\n",
       "      <th>7208</th>\n",
       "      <td>7208</td>\n",
       "      <td>Northfield Bancorp</td>\n",
       "      <td>5007</td>\n",
       "      <td>$0.75 B</td>\n",
       "      <td>usa</td>\n",
       "      <td>$15.77</td>\n",
       "      <td>0.06%</td>\n",
       "      <td>-8.53%</td>\n",
       "      <td>banks financial-services</td>\n",
       "    </tr>\n",
       "    <tr>\n",
       "      <th>7209</th>\n",
       "      <td>7209</td>\n",
       "      <td>Hanmi Financial</td>\n",
       "      <td>5003</td>\n",
       "      <td>$0.75 B</td>\n",
       "      <td>usa</td>\n",
       "      <td>$24.79</td>\n",
       "      <td>-0.84%</td>\n",
       "      <td>-7.22%</td>\n",
       "      <td>banks financial-services</td>\n",
       "    </tr>\n",
       "    <tr>\n",
       "      <th>7210</th>\n",
       "      <td>7210</td>\n",
       "      <td>CTI BioPharma\\n</td>\n",
       "      <td>5000</td>\n",
       "      <td>$0.75 B</td>\n",
       "      <td>usa</td>\n",
       "      <td>$5.96</td>\n",
       "      <td>0.85%</td>\n",
       "      <td>168.47%</td>\n",
       "      <td>pharmaceuticals biotech</td>\n",
       "    </tr>\n",
       "    <tr>\n",
       "      <th>7211</th>\n",
       "      <td>7211</td>\n",
       "      <td>Protolabs</td>\n",
       "      <td>4999</td>\n",
       "      <td>$0.75 B</td>\n",
       "      <td>usa</td>\n",
       "      <td>$27.90</td>\n",
       "      <td>1.36%</td>\n",
       "      <td>-44.54%</td>\n",
       "      <td>3d-printing tech</td>\n",
       "    </tr>\n",
       "    <tr>\n",
       "      <th>7212</th>\n",
       "      <td>7212</td>\n",
       "      <td>ATN International</td>\n",
       "      <td>5008</td>\n",
       "      <td>$0.75 B</td>\n",
       "      <td>usa</td>\n",
       "      <td>$47.74</td>\n",
       "      <td>0.70%</td>\n",
       "      <td>17.10%</td>\n",
       "      <td>telecommunication</td>\n",
       "    </tr>\n",
       "    <tr>\n",
       "      <th>7213</th>\n",
       "      <td>7213</td>\n",
       "      <td>Al Moammar Information Systems</td>\n",
       "      <td>5010</td>\n",
       "      <td>$0.75 B</td>\n",
       "      <td>saudi-arabia</td>\n",
       "      <td>$25.04</td>\n",
       "      <td>0.32%</td>\n",
       "      <td>-29.21%</td>\n",
       "      <td>it-services</td>\n",
       "    </tr>\n",
       "    <tr>\n",
       "      <th>7214</th>\n",
       "      <td>7214</td>\n",
       "      <td>Karooooo</td>\n",
       "      <td>5014</td>\n",
       "      <td>$0.74 B</td>\n",
       "      <td>singapore</td>\n",
       "      <td>$24.20</td>\n",
       "      <td>-1.26%</td>\n",
       "      <td>-27.31%</td>\n",
       "      <td>software tech</td>\n",
       "    </tr>\n",
       "    <tr>\n",
       "      <th>7215</th>\n",
       "      <td>7215</td>\n",
       "      <td>Aerie Pharmaceuticals</td>\n",
       "      <td>5006</td>\n",
       "      <td>$0.75 B</td>\n",
       "      <td>usa</td>\n",
       "      <td>$15.25</td>\n",
       "      <td>0.00%</td>\n",
       "      <td>101.99%</td>\n",
       "      <td>pharmaceuticals biotech</td>\n",
       "    </tr>\n",
       "    <tr>\n",
       "      <th>7216</th>\n",
       "      <td>7216</td>\n",
       "      <td>Farmland Partners\\n</td>\n",
       "      <td>5004</td>\n",
       "      <td>$0.75 B</td>\n",
       "      <td>usa</td>\n",
       "      <td>$13.51</td>\n",
       "      <td>0.15%</td>\n",
       "      <td>10.92%</td>\n",
       "      <td>real-estate investment reit</td>\n",
       "    </tr>\n",
       "  </tbody>\n",
       "</table>\n",
       "</div>"
      ],
      "text/plain": [
       "      Unnamed: 0                            name  rank marketcap  \\\n",
       "7207        7207                         Univest  5013   $0.75 B   \n",
       "7208        7208              Northfield Bancorp  5007   $0.75 B   \n",
       "7209        7209                 Hanmi Financial  5003   $0.75 B   \n",
       "7210        7210                 CTI BioPharma\\n  5000   $0.75 B   \n",
       "7211        7211                       Protolabs  4999   $0.75 B   \n",
       "7212        7212               ATN International  5008   $0.75 B   \n",
       "7213        7213  Al Moammar Information Systems  5010   $0.75 B   \n",
       "7214        7214                        Karooooo  5014   $0.74 B   \n",
       "7215        7215           Aerie Pharmaceuticals  5006   $0.75 B   \n",
       "7216        7216             Farmland Partners\\n  5004   $0.75 B   \n",
       "\n",
       "           country share_price change1d change1y  \\\n",
       "7207           usa      $25.65   -1.31%  -18.31%   \n",
       "7208           usa      $15.77    0.06%   -8.53%   \n",
       "7209           usa      $24.79   -0.84%   -7.22%   \n",
       "7210           usa       $5.96    0.85%  168.47%   \n",
       "7211           usa      $27.90    1.36%  -44.54%   \n",
       "7212           usa      $47.74    0.70%   17.10%   \n",
       "7213  saudi-arabia      $25.04    0.32%  -29.21%   \n",
       "7214     singapore      $24.20   -1.26%  -27.31%   \n",
       "7215           usa      $15.25    0.00%  101.99%   \n",
       "7216           usa      $13.51    0.15%   10.92%   \n",
       "\n",
       "                                    categories  \n",
       "7207  investment financial-services insurance   \n",
       "7208                 banks financial-services   \n",
       "7209                 banks financial-services   \n",
       "7210                  pharmaceuticals biotech   \n",
       "7211                         3d-printing tech   \n",
       "7212                        telecommunication   \n",
       "7213                              it-services   \n",
       "7214                            software tech   \n",
       "7215                  pharmaceuticals biotech   \n",
       "7216              real-estate investment reit   "
      ]
     },
     "execution_count": 185,
     "metadata": {},
     "output_type": "execute_result"
    }
   ],
   "source": [
    "cmc2 = pd.read_csv(\"de-sources-2022-2023/companiesmarketcap.com/DDD-companiesmarketcap.com.csv\")\n",
    "cmc2.tail(10)"
   ]
  },
  {
   "cell_type": "code",
   "execution_count": 186,
   "metadata": {},
   "outputs": [
    {
     "name": "stdout",
     "output_type": "stream",
     "text": [
      "<class 'pandas.core.frame.DataFrame'>\n",
      "RangeIndex: 7217 entries, 0 to 7216\n",
      "Data columns (total 9 columns):\n",
      " #   Column       Non-Null Count  Dtype \n",
      "---  ------       --------------  ----- \n",
      " 0   Unnamed: 0   7217 non-null   int64 \n",
      " 1   name         7217 non-null   object\n",
      " 2   rank         7217 non-null   int64 \n",
      " 3   marketcap    7200 non-null   object\n",
      " 4   country      7217 non-null   object\n",
      " 5   share_price  7212 non-null   object\n",
      " 6   change1d     7217 non-null   object\n",
      " 7   change1y     7217 non-null   object\n",
      " 8   categories   7217 non-null   object\n",
      "dtypes: int64(2), object(7)\n",
      "memory usage: 507.6+ KB\n"
     ]
    }
   ],
   "source": [
    "cmc2.info()"
   ]
  },
  {
   "cell_type": "code",
   "execution_count": 187,
   "metadata": {},
   "outputs": [
    {
     "data": {
      "text/plain": [
       "Unnamed: 0      int64\n",
       "name           object\n",
       "rank            int64\n",
       "marketcap      object\n",
       "country        object\n",
       "share_price    object\n",
       "change1d       object\n",
       "change1y       object\n",
       "categories     object\n",
       "dtype: object"
      ]
     },
     "execution_count": 187,
     "metadata": {},
     "output_type": "execute_result"
    }
   ],
   "source": [
    "cmc2.dtypes"
   ]
  },
  {
   "cell_type": "code",
   "execution_count": 188,
   "metadata": {},
   "outputs": [
    {
     "data": {
      "text/plain": [
       "Unnamed: 0      0\n",
       "name            0\n",
       "rank            0\n",
       "marketcap      17\n",
       "country         0\n",
       "share_price     5\n",
       "change1d        0\n",
       "change1y        0\n",
       "categories      0\n",
       "dtype: int64"
      ]
     },
     "execution_count": 188,
     "metadata": {},
     "output_type": "execute_result"
    }
   ],
   "source": [
    "cmc2.isnull().sum()"
   ]
  },
  {
   "cell_type": "code",
   "execution_count": 189,
   "metadata": {},
   "outputs": [
    {
     "data": {
      "text/html": [
       "<div>\n",
       "<style scoped>\n",
       "    .dataframe tbody tr th:only-of-type {\n",
       "        vertical-align: middle;\n",
       "    }\n",
       "\n",
       "    .dataframe tbody tr th {\n",
       "        vertical-align: top;\n",
       "    }\n",
       "\n",
       "    .dataframe thead th {\n",
       "        text-align: right;\n",
       "    }\n",
       "</style>\n",
       "<table border=\"1\" class=\"dataframe\">\n",
       "  <thead>\n",
       "    <tr style=\"text-align: right;\">\n",
       "      <th></th>\n",
       "      <th>Unnamed: 0</th>\n",
       "      <th>URL</th>\n",
       "      <th>ID</th>\n",
       "      <th>Name</th>\n",
       "      <th>Company code</th>\n",
       "      <th>Marketcap</th>\n",
       "      <th>Share price</th>\n",
       "      <th>Earnings</th>\n",
       "      <th>Revenue</th>\n",
       "      <th>Shares</th>\n",
       "      <th>Employees</th>\n",
       "    </tr>\n",
       "  </thead>\n",
       "  <tbody>\n",
       "    <tr>\n",
       "      <th>6550</th>\n",
       "      <td>1390</td>\n",
       "      <td>https://companiesmarketcap.com/dolby/marketcap/</td>\n",
       "      <td>NaN</td>\n",
       "      <td>Dolby</td>\n",
       "      <td>DLB</td>\n",
       "      <td>$7.24 B</td>\n",
       "      <td>$75.47</td>\n",
       "      <td>$0.21 B</td>\n",
       "      <td>$1.25 B</td>\n",
       "      <td>100.213.000</td>\n",
       "      <td>2.368</td>\n",
       "    </tr>\n",
       "    <tr>\n",
       "      <th>6551</th>\n",
       "      <td>1391</td>\n",
       "      <td>https://companiesmarketcap.com/first-interstat...</td>\n",
       "      <td>NaN</td>\n",
       "      <td>First Interstate BancSystem</td>\n",
       "      <td>FIBK</td>\n",
       "      <td>$4.54 B</td>\n",
       "      <td>$43.53</td>\n",
       "      <td>$0.21 B</td>\n",
       "      <td>$0.96 B</td>\n",
       "      <td>106.526.000</td>\n",
       "      <td>2.358</td>\n",
       "    </tr>\n",
       "    <tr>\n",
       "      <th>6552</th>\n",
       "      <td>1392</td>\n",
       "      <td>https://companiesmarketcap.com/rapid7/marketcap/</td>\n",
       "      <td>NaN</td>\n",
       "      <td>Rapid7</td>\n",
       "      <td>RPD</td>\n",
       "      <td>$1.83 B</td>\n",
       "      <td>$31.00</td>\n",
       "      <td>-$0.15 B</td>\n",
       "      <td>$0.65 B</td>\n",
       "      <td>58.239.958</td>\n",
       "      <td>2.353</td>\n",
       "    </tr>\n",
       "    <tr>\n",
       "      <th>6553</th>\n",
       "      <td>1393</td>\n",
       "      <td>https://companiesmarketcap.com/secureworks/mar...</td>\n",
       "      <td>NaN</td>\n",
       "      <td>Secureworks</td>\n",
       "      <td>SCWX</td>\n",
       "      <td>$0.60 B</td>\n",
       "      <td>$7.08</td>\n",
       "      <td>-$89.23 M</td>\n",
       "      <td>$0.49 B</td>\n",
       "      <td>84.483.000</td>\n",
       "      <td>2.351</td>\n",
       "    </tr>\n",
       "    <tr>\n",
       "      <th>6554</th>\n",
       "      <td>1394</td>\n",
       "      <td>https://companiesmarketcap.com/helios-technolo...</td>\n",
       "      <td>NaN</td>\n",
       "      <td>Helios Technologies</td>\n",
       "      <td>HLIO</td>\n",
       "      <td>$1.72 B</td>\n",
       "      <td>$53.07</td>\n",
       "      <td>$0.14 B</td>\n",
       "      <td>$0.90 B</td>\n",
       "      <td>32.497.000</td>\n",
       "      <td>2.350</td>\n",
       "    </tr>\n",
       "    <tr>\n",
       "      <th>6555</th>\n",
       "      <td>1395</td>\n",
       "      <td>https://companiesmarketcap.com/accolade/market...</td>\n",
       "      <td>NaN</td>\n",
       "      <td>Accolade</td>\n",
       "      <td>ACCD</td>\n",
       "      <td>$0.64 B</td>\n",
       "      <td>$9.03</td>\n",
       "      <td>-$0.4 B</td>\n",
       "      <td>$0.35 B</td>\n",
       "      <td>70.475.778</td>\n",
       "      <td>2.350</td>\n",
       "    </tr>\n",
       "    <tr>\n",
       "      <th>6556</th>\n",
       "      <td>1396</td>\n",
       "      <td>https://companiesmarketcap.com/townsquare-medi...</td>\n",
       "      <td>NaN</td>\n",
       "      <td>Townsquare Media</td>\n",
       "      <td>TSQ</td>\n",
       "      <td>$0.12 B</td>\n",
       "      <td>$7.37</td>\n",
       "      <td>$70.45 M</td>\n",
       "      <td>$0.44 B</td>\n",
       "      <td>16.986.000</td>\n",
       "      <td>2.340</td>\n",
       "    </tr>\n",
       "    <tr>\n",
       "      <th>6557</th>\n",
       "      <td>1397</td>\n",
       "      <td>https://companiesmarketcap.com/netscout/market...</td>\n",
       "      <td>NaN</td>\n",
       "      <td>NETSCOUT</td>\n",
       "      <td>NTCT</td>\n",
       "      <td>$2.73 B</td>\n",
       "      <td>$37.80</td>\n",
       "      <td>$62.63 M</td>\n",
       "      <td>$0.89 B</td>\n",
       "      <td>72.452.000</td>\n",
       "      <td>2.308</td>\n",
       "    </tr>\n",
       "    <tr>\n",
       "      <th>6558</th>\n",
       "      <td>1398</td>\n",
       "      <td>https://companiesmarketcap.com/now/marketcap/</td>\n",
       "      <td>NaN</td>\n",
       "      <td>NOW Inc.</td>\n",
       "      <td>DNOW</td>\n",
       "      <td>$1.37 B</td>\n",
       "      <td>$12.49</td>\n",
       "      <td>$0.11 B</td>\n",
       "      <td>$2.02 B</td>\n",
       "      <td>111.000.000</td>\n",
       "      <td>2.300</td>\n",
       "    </tr>\n",
       "    <tr>\n",
       "      <th>6559</th>\n",
       "      <td>1399</td>\n",
       "      <td>https://companiesmarketcap.com/atn-internation...</td>\n",
       "      <td>NaN</td>\n",
       "      <td>ATN International</td>\n",
       "      <td>ATNI</td>\n",
       "      <td>$0.76 B</td>\n",
       "      <td>$48.53</td>\n",
       "      <td>-$13.66 M</td>\n",
       "      <td>$0.72 B</td>\n",
       "      <td>15.749.000</td>\n",
       "      <td>2.300</td>\n",
       "    </tr>\n",
       "  </tbody>\n",
       "</table>\n",
       "</div>"
      ],
      "text/plain": [
       "      Unnamed: 0                                                URL  ID  \\\n",
       "6550        1390    https://companiesmarketcap.com/dolby/marketcap/ NaN   \n",
       "6551        1391  https://companiesmarketcap.com/first-interstat... NaN   \n",
       "6552        1392   https://companiesmarketcap.com/rapid7/marketcap/ NaN   \n",
       "6553        1393  https://companiesmarketcap.com/secureworks/mar... NaN   \n",
       "6554        1394  https://companiesmarketcap.com/helios-technolo... NaN   \n",
       "6555        1395  https://companiesmarketcap.com/accolade/market... NaN   \n",
       "6556        1396  https://companiesmarketcap.com/townsquare-medi... NaN   \n",
       "6557        1397  https://companiesmarketcap.com/netscout/market... NaN   \n",
       "6558        1398      https://companiesmarketcap.com/now/marketcap/ NaN   \n",
       "6559        1399  https://companiesmarketcap.com/atn-internation... NaN   \n",
       "\n",
       "                             Name Company code Marketcap Share price  \\\n",
       "6550                        Dolby          DLB   $7.24 B      $75.47   \n",
       "6551  First Interstate BancSystem         FIBK   $4.54 B      $43.53   \n",
       "6552                       Rapid7          RPD   $1.83 B      $31.00   \n",
       "6553                  Secureworks         SCWX   $0.60 B       $7.08   \n",
       "6554          Helios Technologies         HLIO   $1.72 B      $53.07   \n",
       "6555                     Accolade         ACCD   $0.64 B       $9.03   \n",
       "6556             Townsquare Media          TSQ   $0.12 B       $7.37   \n",
       "6557                     NETSCOUT         NTCT   $2.73 B      $37.80   \n",
       "6558                     NOW Inc.         DNOW   $1.37 B      $12.49   \n",
       "6559            ATN International         ATNI   $0.76 B      $48.53   \n",
       "\n",
       "       Earnings  Revenue       Shares Employees  \n",
       "6550    $0.21 B  $1.25 B  100.213.000     2.368  \n",
       "6551    $0.21 B  $0.96 B  106.526.000     2.358  \n",
       "6552   -$0.15 B  $0.65 B   58.239.958     2.353  \n",
       "6553  -$89.23 M  $0.49 B   84.483.000     2.351  \n",
       "6554    $0.14 B  $0.90 B   32.497.000     2.350  \n",
       "6555    -$0.4 B  $0.35 B   70.475.778     2.350  \n",
       "6556   $70.45 M  $0.44 B   16.986.000     2.340  \n",
       "6557   $62.63 M  $0.89 B   72.452.000     2.308  \n",
       "6558    $0.11 B  $2.02 B  111.000.000     2.300  \n",
       "6559  -$13.66 M  $0.72 B   15.749.000     2.300  "
      ]
     },
     "execution_count": 189,
     "metadata": {},
     "output_type": "execute_result"
    }
   ],
   "source": [
    "cmc3 = pd.read_csv(\"de-sources-2022-2023/companiesmarketcap.com/wissel-aziende-companiesmarketcap.com.csv\")\n",
    "cmc3.tail(10)"
   ]
  },
  {
   "cell_type": "code",
   "execution_count": 190,
   "metadata": {},
   "outputs": [
    {
     "name": "stdout",
     "output_type": "stream",
     "text": [
      "<class 'pandas.core.frame.DataFrame'>\n",
      "RangeIndex: 6560 entries, 0 to 6559\n",
      "Data columns (total 11 columns):\n",
      " #   Column        Non-Null Count  Dtype  \n",
      "---  ------        --------------  -----  \n",
      " 0   Unnamed: 0    6560 non-null   int64  \n",
      " 1   URL           6560 non-null   object \n",
      " 2   ID            5151 non-null   float64\n",
      " 3   Name          6551 non-null   object \n",
      " 4   Company code  6550 non-null   object \n",
      " 5   Marketcap     6534 non-null   object \n",
      " 6   Share price   6547 non-null   object \n",
      " 7   Earnings      6506 non-null   object \n",
      " 8   Revenue       6268 non-null   object \n",
      " 9   Shares        2262 non-null   object \n",
      " 10  Employees     6157 non-null   object \n",
      "dtypes: float64(1), int64(1), object(9)\n",
      "memory usage: 563.9+ KB\n"
     ]
    }
   ],
   "source": [
    "cmc3.info()"
   ]
  },
  {
   "cell_type": "code",
   "execution_count": 191,
   "metadata": {},
   "outputs": [
    {
     "data": {
      "text/plain": [
       "Unnamed: 0        int64\n",
       "URL              object\n",
       "ID              float64\n",
       "Name             object\n",
       "Company code     object\n",
       "Marketcap        object\n",
       "Share price      object\n",
       "Earnings         object\n",
       "Revenue          object\n",
       "Shares           object\n",
       "Employees        object\n",
       "dtype: object"
      ]
     },
     "execution_count": 191,
     "metadata": {},
     "output_type": "execute_result"
    }
   ],
   "source": [
    "cmc3.dtypes"
   ]
  },
  {
   "cell_type": "code",
   "execution_count": 192,
   "metadata": {},
   "outputs": [
    {
     "data": {
      "text/plain": [
       "Unnamed: 0         0\n",
       "URL                0\n",
       "ID              1409\n",
       "Name               9\n",
       "Company code      10\n",
       "Marketcap         26\n",
       "Share price       13\n",
       "Earnings          54\n",
       "Revenue          292\n",
       "Shares          4298\n",
       "Employees        403\n",
       "dtype: int64"
      ]
     },
     "execution_count": 192,
     "metadata": {},
     "output_type": "execute_result"
    }
   ],
   "source": [
    "cmc3.isnull().sum()"
   ]
  },
  {
   "cell_type": "code",
   "execution_count": 193,
   "metadata": {},
   "outputs": [
    {
     "data": {
      "text/html": [
       "<div>\n",
       "<style scoped>\n",
       "    .dataframe tbody tr th:only-of-type {\n",
       "        vertical-align: middle;\n",
       "    }\n",
       "\n",
       "    .dataframe tbody tr th {\n",
       "        vertical-align: top;\n",
       "    }\n",
       "\n",
       "    .dataframe thead th {\n",
       "        text-align: right;\n",
       "    }\n",
       "</style>\n",
       "<table border=\"1\" class=\"dataframe\">\n",
       "  <thead>\n",
       "    <tr style=\"text-align: right;\">\n",
       "      <th></th>\n",
       "      <th>Company ID</th>\n",
       "      <th>Category</th>\n",
       "      <th>Hash</th>\n",
       "    </tr>\n",
       "  </thead>\n",
       "  <tbody>\n",
       "    <tr>\n",
       "      <th>1813</th>\n",
       "      <td>1393</td>\n",
       "      <td>Tech</td>\n",
       "      <td>5392941245537608590</td>\n",
       "    </tr>\n",
       "    <tr>\n",
       "      <th>1814</th>\n",
       "      <td>1394</td>\n",
       "      <td>ITsecurity</td>\n",
       "      <td>2028367090288460929</td>\n",
       "    </tr>\n",
       "    <tr>\n",
       "      <th>1815</th>\n",
       "      <td>1394</td>\n",
       "      <td>Tech</td>\n",
       "      <td>5392941245537608590</td>\n",
       "    </tr>\n",
       "    <tr>\n",
       "      <th>1816</th>\n",
       "      <td>1394</td>\n",
       "      <td>Software</td>\n",
       "      <td>6273975210915946900</td>\n",
       "    </tr>\n",
       "    <tr>\n",
       "      <th>1817</th>\n",
       "      <td>1396</td>\n",
       "      <td>Healthcare</td>\n",
       "      <td>1473658128705581606</td>\n",
       "    </tr>\n",
       "    <tr>\n",
       "      <th>1818</th>\n",
       "      <td>1397</td>\n",
       "      <td>MediaPress</td>\n",
       "      <td>-6159643471181631199</td>\n",
       "    </tr>\n",
       "    <tr>\n",
       "      <th>1819</th>\n",
       "      <td>1399</td>\n",
       "      <td>OilGas</td>\n",
       "      <td>7683904390150838630</td>\n",
       "    </tr>\n",
       "    <tr>\n",
       "      <th>1820</th>\n",
       "      <td>1399</td>\n",
       "      <td>OilGasEquipmentServices</td>\n",
       "      <td>-5823085833726200737</td>\n",
       "    </tr>\n",
       "    <tr>\n",
       "      <th>1821</th>\n",
       "      <td>1399</td>\n",
       "      <td>Energy</td>\n",
       "      <td>-2882595272621617431</td>\n",
       "    </tr>\n",
       "    <tr>\n",
       "      <th>1822</th>\n",
       "      <td>1400</td>\n",
       "      <td>Telecommunication</td>\n",
       "      <td>-3862064693147789081</td>\n",
       "    </tr>\n",
       "  </tbody>\n",
       "</table>\n",
       "</div>"
      ],
      "text/plain": [
       "      Company ID                 Category                 Hash\n",
       "1813        1393                     Tech  5392941245537608590\n",
       "1814        1394               ITsecurity  2028367090288460929\n",
       "1815        1394                     Tech  5392941245537608590\n",
       "1816        1394                 Software  6273975210915946900\n",
       "1817        1396               Healthcare  1473658128705581606\n",
       "1818        1397               MediaPress -6159643471181631199\n",
       "1819        1399                   OilGas  7683904390150838630\n",
       "1820        1399  OilGasEquipmentServices -5823085833726200737\n",
       "1821        1399                   Energy -2882595272621617431\n",
       "1822        1400        Telecommunication -3862064693147789081"
      ]
     },
     "execution_count": 193,
     "metadata": {},
     "output_type": "execute_result"
    }
   ],
   "source": [
    "cmc4 = pd.read_csv(\"de-sources-2022-2023/companiesmarketcap.com/wissel-categorie-companiesmarketcap.com.csv\")\n",
    "cmc4.tail(10)"
   ]
  },
  {
   "cell_type": "code",
   "execution_count": 194,
   "metadata": {},
   "outputs": [
    {
     "name": "stdout",
     "output_type": "stream",
     "text": [
      "<class 'pandas.core.frame.DataFrame'>\n",
      "RangeIndex: 1823 entries, 0 to 1822\n",
      "Data columns (total 3 columns):\n",
      " #   Column      Non-Null Count  Dtype \n",
      "---  ------      --------------  ----- \n",
      " 0   Company ID  1823 non-null   int64 \n",
      " 1   Category    1823 non-null   object\n",
      " 2   Hash        1823 non-null   int64 \n",
      "dtypes: int64(2), object(1)\n",
      "memory usage: 42.9+ KB\n"
     ]
    }
   ],
   "source": [
    "cmc4.info()"
   ]
  },
  {
   "cell_type": "code",
   "execution_count": 195,
   "metadata": {},
   "outputs": [
    {
     "data": {
      "text/plain": [
       "Company ID     int64\n",
       "Category      object\n",
       "Hash           int64\n",
       "dtype: object"
      ]
     },
     "execution_count": 195,
     "metadata": {},
     "output_type": "execute_result"
    }
   ],
   "source": [
    "cmc4.dtypes"
   ]
  },
  {
   "cell_type": "code",
   "execution_count": 196,
   "metadata": {},
   "outputs": [
    {
     "data": {
      "text/plain": [
       "Company ID    0\n",
       "Category      0\n",
       "Hash          0\n",
       "dtype: int64"
      ]
     },
     "execution_count": 196,
     "metadata": {},
     "output_type": "execute_result"
    }
   ],
   "source": [
    "cmc4.isnull().sum()"
   ]
  },
  {
   "attachments": {},
   "cell_type": "markdown",
   "metadata": {},
   "source": [
    "#### Formato .json"
   ]
  },
  {
   "cell_type": "code",
   "execution_count": 197,
   "metadata": {},
   "outputs": [
    {
     "data": {
      "text/html": [
       "<div>\n",
       "<style scoped>\n",
       "    .dataframe tbody tr th:only-of-type {\n",
       "        vertical-align: middle;\n",
       "    }\n",
       "\n",
       "    .dataframe tbody tr th {\n",
       "        vertical-align: top;\n",
       "    }\n",
       "\n",
       "    .dataframe thead th {\n",
       "        text-align: right;\n",
       "    }\n",
       "</style>\n",
       "<table border=\"1\" class=\"dataframe\">\n",
       "  <thead>\n",
       "    <tr style=\"text-align: right;\">\n",
       "      <th></th>\n",
       "      <th>id</th>\n",
       "      <th>name</th>\n",
       "      <th>rank</th>\n",
       "      <th>market_cap</th>\n",
       "      <th>country</th>\n",
       "      <th>share_price</th>\n",
       "      <th>change_1_day</th>\n",
       "      <th>change_1_year</th>\n",
       "      <th>categories</th>\n",
       "    </tr>\n",
       "  </thead>\n",
       "  <tbody>\n",
       "    <tr>\n",
       "      <th>0</th>\n",
       "      <td>1aeb78c70807445290795f145210a39e</td>\n",
       "      <td>Apple</td>\n",
       "      <td>1</td>\n",
       "      <td>$2.351 T</td>\n",
       "      <td>USA</td>\n",
       "      <td>$147.81</td>\n",
       "      <td>-0.34%</td>\n",
       "      <td>-9.74%</td>\n",
       "      <td>[Tech, Software, Dow jones, Tech Hardware, Ele...</td>\n",
       "    </tr>\n",
       "    <tr>\n",
       "      <th>1</th>\n",
       "      <td>8443bd488b2543718e4dab19e7d1b371</td>\n",
       "      <td>Bristol-myers Squibb</td>\n",
       "      <td>57</td>\n",
       "      <td>$172.49 B</td>\n",
       "      <td>USA</td>\n",
       "      <td>$81.13</td>\n",
       "      <td>0.31%</td>\n",
       "      <td>46.42%</td>\n",
       "      <td>[Pharmaceuticals, Biotech]</td>\n",
       "    </tr>\n",
       "    <tr>\n",
       "      <th>2</th>\n",
       "      <td>d35ff63680a645f986048ab48d2fe322</td>\n",
       "      <td>Wells Fargo</td>\n",
       "      <td>56</td>\n",
       "      <td>$175.05 B</td>\n",
       "      <td>USA</td>\n",
       "      <td>$45.94</td>\n",
       "      <td>-1.98%</td>\n",
       "      <td>-6.07%</td>\n",
       "      <td>[Banks, Financial services]</td>\n",
       "    </tr>\n",
       "    <tr>\n",
       "      <th>3</th>\n",
       "      <td>0664af11c7b9417bab58542ffa880c0e</td>\n",
       "      <td>Nike</td>\n",
       "      <td>55</td>\n",
       "      <td>$175.54 B</td>\n",
       "      <td>USA</td>\n",
       "      <td>$112.20</td>\n",
       "      <td>1.29%</td>\n",
       "      <td>-34.00%</td>\n",
       "      <td>[Sports goods, Footwear, Dow jones, Clothing]</td>\n",
       "    </tr>\n",
       "    <tr>\n",
       "      <th>4</th>\n",
       "      <td>4a67737ea89e450b8e8677a91e90327f</td>\n",
       "      <td>Walt Disney</td>\n",
       "      <td>54</td>\n",
       "      <td>$177.08 B</td>\n",
       "      <td>USA</td>\n",
       "      <td>$99.43</td>\n",
       "      <td>0.85%</td>\n",
       "      <td>-32.45%</td>\n",
       "      <td>[Entertainment, Dow jones]</td>\n",
       "    </tr>\n",
       "  </tbody>\n",
       "</table>\n",
       "</div>"
      ],
      "text/plain": [
       "                                 id                  name  rank market_cap  \\\n",
       "0  1aeb78c70807445290795f145210a39e                 Apple     1   $2.351 T   \n",
       "1  8443bd488b2543718e4dab19e7d1b371  Bristol-myers Squibb    57  $172.49 B   \n",
       "2  d35ff63680a645f986048ab48d2fe322           Wells Fargo    56  $175.05 B   \n",
       "3  0664af11c7b9417bab58542ffa880c0e                  Nike    55  $175.54 B   \n",
       "4  4a67737ea89e450b8e8677a91e90327f           Walt Disney    54  $177.08 B   \n",
       "\n",
       "  country share_price change_1_day change_1_year  \\\n",
       "0     USA     $147.81       -0.34%        -9.74%   \n",
       "1     USA      $81.13        0.31%        46.42%   \n",
       "2     USA      $45.94       -1.98%        -6.07%   \n",
       "3     USA     $112.20        1.29%       -34.00%   \n",
       "4     USA      $99.43        0.85%       -32.45%   \n",
       "\n",
       "                                          categories  \n",
       "0  [Tech, Software, Dow jones, Tech Hardware, Ele...  \n",
       "1                         [Pharmaceuticals, Biotech]  \n",
       "2                        [Banks, Financial services]  \n",
       "3      [Sports goods, Footwear, Dow jones, Clothing]  \n",
       "4                         [Entertainment, Dow jones]  "
      ]
     },
     "execution_count": 197,
     "metadata": {},
     "output_type": "execute_result"
    }
   ],
   "source": [
    "cmc5 = pd.read_json('de-sources-2022-2023/companiesmarketcap.com/avengers-companiesMarketCap.json', lines=True)\n",
    "cmc5.head()"
   ]
  },
  {
   "cell_type": "code",
   "execution_count": 198,
   "metadata": {},
   "outputs": [
    {
     "name": "stdout",
     "output_type": "stream",
     "text": [
      "<class 'pandas.core.frame.DataFrame'>\n",
      "RangeIndex: 5897 entries, 0 to 5896\n",
      "Data columns (total 9 columns):\n",
      " #   Column         Non-Null Count  Dtype \n",
      "---  ------         --------------  ----- \n",
      " 0   id             5897 non-null   object\n",
      " 1   name           5897 non-null   object\n",
      " 2   rank           5897 non-null   int64 \n",
      " 3   market_cap     5897 non-null   object\n",
      " 4   country        5741 non-null   object\n",
      " 5   share_price    5897 non-null   object\n",
      " 6   change_1_day   5897 non-null   object\n",
      " 7   change_1_year  5648 non-null   object\n",
      " 8   categories     5019 non-null   object\n",
      "dtypes: int64(1), object(8)\n",
      "memory usage: 414.8+ KB\n"
     ]
    }
   ],
   "source": [
    "cmc5.info()"
   ]
  },
  {
   "cell_type": "code",
   "execution_count": 199,
   "metadata": {},
   "outputs": [
    {
     "data": {
      "text/plain": [
       "id               object\n",
       "name             object\n",
       "rank              int64\n",
       "market_cap       object\n",
       "country          object\n",
       "share_price      object\n",
       "change_1_day     object\n",
       "change_1_year    object\n",
       "categories       object\n",
       "dtype: object"
      ]
     },
     "execution_count": 199,
     "metadata": {},
     "output_type": "execute_result"
    }
   ],
   "source": [
    "cmc5.dtypes"
   ]
  },
  {
   "cell_type": "code",
   "execution_count": 200,
   "metadata": {},
   "outputs": [
    {
     "data": {
      "text/plain": [
       "id                 0\n",
       "name               0\n",
       "rank               0\n",
       "market_cap         0\n",
       "country          156\n",
       "share_price        0\n",
       "change_1_day       0\n",
       "change_1_year    249\n",
       "categories       878\n",
       "dtype: int64"
      ]
     },
     "execution_count": 200,
     "metadata": {},
     "output_type": "execute_result"
    }
   ],
   "source": [
    "cmc5.isnull().sum()"
   ]
  },
  {
   "cell_type": "code",
   "execution_count": 201,
   "metadata": {},
   "outputs": [
    {
     "data": {
      "text/html": [
       "<div>\n",
       "<style scoped>\n",
       "    .dataframe tbody tr th:only-of-type {\n",
       "        vertical-align: middle;\n",
       "    }\n",
       "\n",
       "    .dataframe tbody tr th {\n",
       "        vertical-align: top;\n",
       "    }\n",
       "\n",
       "    .dataframe thead th {\n",
       "        text-align: right;\n",
       "    }\n",
       "</style>\n",
       "<table border=\"1\" class=\"dataframe\">\n",
       "  <thead>\n",
       "    <tr style=\"text-align: right;\">\n",
       "      <th></th>\n",
       "      <th>name</th>\n",
       "      <th>codice</th>\n",
       "      <th>pricecap</th>\n",
       "      <th>price</th>\n",
       "      <th>country</th>\n",
       "    </tr>\n",
       "  </thead>\n",
       "  <tbody>\n",
       "    <tr>\n",
       "      <th>0</th>\n",
       "      <td>Apple</td>\n",
       "      <td>AAPL</td>\n",
       "      <td>$2.143 T</td>\n",
       "      <td>$134.76</td>\n",
       "      <td>USA</td>\n",
       "    </tr>\n",
       "    <tr>\n",
       "      <th>1</th>\n",
       "      <td>Saudi Aramco</td>\n",
       "      <td>2222.SR</td>\n",
       "      <td>$1.878 T</td>\n",
       "      <td>$8.54</td>\n",
       "      <td>S. Arabia</td>\n",
       "    </tr>\n",
       "    <tr>\n",
       "      <th>2</th>\n",
       "      <td>Microsoft</td>\n",
       "      <td>MSFT</td>\n",
       "      <td>$1.783 T</td>\n",
       "      <td>$239.23</td>\n",
       "      <td>USA</td>\n",
       "    </tr>\n",
       "    <tr>\n",
       "      <th>3</th>\n",
       "      <td>Alphabet (Google)</td>\n",
       "      <td>GOOG</td>\n",
       "      <td>$1.195 T</td>\n",
       "      <td>$92.80</td>\n",
       "      <td>USA</td>\n",
       "    </tr>\n",
       "    <tr>\n",
       "      <th>4</th>\n",
       "      <td>Amazon</td>\n",
       "      <td>AMZN</td>\n",
       "      <td>$1.000 T</td>\n",
       "      <td>$98.12</td>\n",
       "      <td>USA</td>\n",
       "    </tr>\n",
       "  </tbody>\n",
       "</table>\n",
       "</div>"
      ],
      "text/plain": [
       "                name   codice  pricecap    price    country\n",
       "0              Apple     AAPL  $2.143 T  $134.76        USA\n",
       "1       Saudi Aramco  2222.SR  $1.878 T    $8.54  S. Arabia\n",
       "2          Microsoft     MSFT  $1.783 T  $239.23        USA\n",
       "3  Alphabet (Google)     GOOG  $1.195 T   $92.80        USA\n",
       "4             Amazon     AMZN  $1.000 T   $98.12        USA"
      ]
     },
     "execution_count": 201,
     "metadata": {},
     "output_type": "execute_result"
    }
   ],
   "source": [
    "cmc6 = pd.read_json('de-sources-2022-2023/companiesmarketcap.com/GioPonSpiz-companiesmarketcap.json')\n",
    "cmc6.head()"
   ]
  },
  {
   "cell_type": "code",
   "execution_count": 202,
   "metadata": {},
   "outputs": [
    {
     "name": "stdout",
     "output_type": "stream",
     "text": [
      "<class 'pandas.core.frame.DataFrame'>\n",
      "RangeIndex: 7200 entries, 0 to 7199\n",
      "Data columns (total 5 columns):\n",
      " #   Column    Non-Null Count  Dtype \n",
      "---  ------    --------------  ----- \n",
      " 0   name      7200 non-null   object\n",
      " 1   codice    7200 non-null   object\n",
      " 2   pricecap  7200 non-null   object\n",
      " 3   price     7200 non-null   object\n",
      " 4   country   7200 non-null   object\n",
      "dtypes: object(5)\n",
      "memory usage: 281.4+ KB\n"
     ]
    }
   ],
   "source": [
    "cmc6.info()"
   ]
  },
  {
   "cell_type": "code",
   "execution_count": 203,
   "metadata": {},
   "outputs": [
    {
     "data": {
      "text/plain": [
       "name        object\n",
       "codice      object\n",
       "pricecap    object\n",
       "price       object\n",
       "country     object\n",
       "dtype: object"
      ]
     },
     "execution_count": 203,
     "metadata": {},
     "output_type": "execute_result"
    }
   ],
   "source": [
    "cmc6.dtypes"
   ]
  },
  {
   "cell_type": "code",
   "execution_count": 204,
   "metadata": {},
   "outputs": [
    {
     "data": {
      "text/plain": [
       "name        0\n",
       "codice      0\n",
       "pricecap    0\n",
       "price       0\n",
       "country     0\n",
       "dtype: int64"
      ]
     },
     "execution_count": 204,
     "metadata": {},
     "output_type": "execute_result"
    }
   ],
   "source": [
    "cmc6.isnull().sum()"
   ]
  },
  {
   "cell_type": "code",
   "execution_count": 205,
   "metadata": {},
   "outputs": [
    {
     "data": {
      "text/html": [
       "<div>\n",
       "<style scoped>\n",
       "    .dataframe tbody tr th:only-of-type {\n",
       "        vertical-align: middle;\n",
       "    }\n",
       "\n",
       "    .dataframe tbody tr th {\n",
       "        vertical-align: top;\n",
       "    }\n",
       "\n",
       "    .dataframe thead th {\n",
       "        text-align: right;\n",
       "    }\n",
       "</style>\n",
       "<table border=\"1\" class=\"dataframe\">\n",
       "  <thead>\n",
       "    <tr style=\"text-align: right;\">\n",
       "      <th></th>\n",
       "      <th>name</th>\n",
       "      <th>market_capitalization_USD</th>\n",
       "      <th>price</th>\n",
       "      <th>country</th>\n",
       "    </tr>\n",
       "  </thead>\n",
       "  <tbody>\n",
       "    <tr>\n",
       "      <th>0</th>\n",
       "      <td>Apple</td>\n",
       "      <td>2062000000000</td>\n",
       "      <td>130</td>\n",
       "      <td>USA</td>\n",
       "    </tr>\n",
       "    <tr>\n",
       "      <th>1</th>\n",
       "      <td>Saudi Aramco</td>\n",
       "      <td>1848000000000</td>\n",
       "      <td>8</td>\n",
       "      <td>S. Arabia</td>\n",
       "    </tr>\n",
       "    <tr>\n",
       "      <th>2</th>\n",
       "      <td>Microsoft</td>\n",
       "      <td>1676000000000</td>\n",
       "      <td>225</td>\n",
       "      <td>USA</td>\n",
       "    </tr>\n",
       "    <tr>\n",
       "      <th>3</th>\n",
       "      <td>Alphabet (Google)</td>\n",
       "      <td>1137000000000</td>\n",
       "      <td>88</td>\n",
       "      <td>USA</td>\n",
       "    </tr>\n",
       "    <tr>\n",
       "      <th>4</th>\n",
       "      <td>Amazon</td>\n",
       "      <td>878160000000</td>\n",
       "      <td>86</td>\n",
       "      <td>USA</td>\n",
       "    </tr>\n",
       "  </tbody>\n",
       "</table>\n",
       "</div>"
      ],
      "text/plain": [
       "                name market_capitalization_USD price    country\n",
       "0              Apple             2062000000000   130        USA\n",
       "1       Saudi Aramco             1848000000000     8  S. Arabia\n",
       "2          Microsoft             1676000000000   225        USA\n",
       "3  Alphabet (Google)             1137000000000    88        USA\n",
       "4             Amazon              878160000000    86        USA"
      ]
     },
     "execution_count": 205,
     "metadata": {},
     "output_type": "execute_result"
    }
   ],
   "source": [
    "cmc7 = pd.read_json('de-sources-2022-2023/companiesmarketcap.com/gren-companiesmarketcap.com.json')\n",
    "cmc7.head()"
   ]
  },
  {
   "cell_type": "code",
   "execution_count": 206,
   "metadata": {},
   "outputs": [
    {
     "name": "stdout",
     "output_type": "stream",
     "text": [
      "<class 'pandas.core.frame.DataFrame'>\n",
      "RangeIndex: 7163 entries, 0 to 7162\n",
      "Data columns (total 4 columns):\n",
      " #   Column                     Non-Null Count  Dtype \n",
      "---  ------                     --------------  ----- \n",
      " 0   name                       7163 non-null   object\n",
      " 1   market_capitalization_USD  7163 non-null   object\n",
      " 2   price                      7163 non-null   object\n",
      " 3   country                    7163 non-null   object\n",
      "dtypes: object(4)\n",
      "memory usage: 224.0+ KB\n"
     ]
    }
   ],
   "source": [
    "cmc7.info()"
   ]
  },
  {
   "cell_type": "code",
   "execution_count": 207,
   "metadata": {},
   "outputs": [
    {
     "data": {
      "text/plain": [
       "name                         object\n",
       "market_capitalization_USD    object\n",
       "price                        object\n",
       "country                      object\n",
       "dtype: object"
      ]
     },
     "execution_count": 207,
     "metadata": {},
     "output_type": "execute_result"
    }
   ],
   "source": [
    "cmc7.dtypes"
   ]
  },
  {
   "cell_type": "code",
   "execution_count": 208,
   "metadata": {},
   "outputs": [
    {
     "data": {
      "text/plain": [
       "name                         0\n",
       "market_capitalization_USD    0\n",
       "price                        0\n",
       "country                      0\n",
       "dtype: int64"
      ]
     },
     "execution_count": 208,
     "metadata": {},
     "output_type": "execute_result"
    }
   ],
   "source": [
    "cmc7.isnull().sum()"
   ]
  },
  {
   "cell_type": "code",
   "execution_count": 209,
   "metadata": {},
   "outputs": [
    {
     "data": {
      "text/html": [
       "<div>\n",
       "<style scoped>\n",
       "    .dataframe tbody tr th:only-of-type {\n",
       "        vertical-align: middle;\n",
       "    }\n",
       "\n",
       "    .dataframe tbody tr th {\n",
       "        vertical-align: top;\n",
       "    }\n",
       "\n",
       "    .dataframe thead th {\n",
       "        text-align: right;\n",
       "    }\n",
       "</style>\n",
       "<table border=\"1\" class=\"dataframe\">\n",
       "  <thead>\n",
       "    <tr style=\"text-align: right;\">\n",
       "      <th></th>\n",
       "      <th>name</th>\n",
       "      <th>code</th>\n",
       "      <th>rank</th>\n",
       "      <th>marketcap</th>\n",
       "      <th>country</th>\n",
       "      <th>sharePrice</th>\n",
       "      <th>change(1day)</th>\n",
       "      <th>change(1year)</th>\n",
       "      <th>categories</th>\n",
       "    </tr>\n",
       "  </thead>\n",
       "  <tbody>\n",
       "    <tr>\n",
       "      <th>0</th>\n",
       "      <td>Apple</td>\n",
       "      <td>AAPL</td>\n",
       "      <td>1</td>\n",
       "      <td>$2.242 T</td>\n",
       "      <td>USA</td>\n",
       "      <td>$140.94</td>\n",
       "      <td>-1.38%</td>\n",
       "      <td>-17.67%</td>\n",
       "      <td>[Tech, Software, Dowjones, TechHardware, Elect...</td>\n",
       "    </tr>\n",
       "    <tr>\n",
       "      <th>1</th>\n",
       "      <td>McDonald</td>\n",
       "      <td>MCD</td>\n",
       "      <td>46</td>\n",
       "      <td>$198.00 B</td>\n",
       "      <td>USA</td>\n",
       "      <td>$270.34</td>\n",
       "      <td>-0.53%</td>\n",
       "      <td>4.01%</td>\n",
       "      <td>[Restaurantchains, Dowjones, Food]</td>\n",
       "    </tr>\n",
       "    <tr>\n",
       "      <th>2</th>\n",
       "      <td>T-Mobile US</td>\n",
       "      <td>TMUS</td>\n",
       "      <td>51</td>\n",
       "      <td>$185.11 B</td>\n",
       "      <td>USA</td>\n",
       "      <td>$148.79</td>\n",
       "      <td>-0.40%</td>\n",
       "      <td>27.01%</td>\n",
       "      <td>[Telecommunication]</td>\n",
       "    </tr>\n",
       "    <tr>\n",
       "      <th>3</th>\n",
       "      <td>Toyota</td>\n",
       "      <td>TM</td>\n",
       "      <td>49</td>\n",
       "      <td>$195.66 B</td>\n",
       "      <td>Japan</td>\n",
       "      <td>$141.86</td>\n",
       "      <td>0.55%</td>\n",
       "      <td>-24.32%</td>\n",
       "      <td>[Automakers, Manufacturing]</td>\n",
       "    </tr>\n",
       "    <tr>\n",
       "      <th>4</th>\n",
       "      <td>Cisco</td>\n",
       "      <td>CSCO</td>\n",
       "      <td>47</td>\n",
       "      <td>$197.92 B</td>\n",
       "      <td>USA</td>\n",
       "      <td>$48.18</td>\n",
       "      <td>-0.84%</td>\n",
       "      <td>-17.05%</td>\n",
       "      <td>[Tech, Electronics, Networkinghardware, Dowjon...</td>\n",
       "    </tr>\n",
       "  </tbody>\n",
       "</table>\n",
       "</div>"
      ],
      "text/plain": [
       "          name  code  rank  marketcap country sharePrice change(1day)  \\\n",
       "0        Apple  AAPL     1   $2.242 T     USA    $140.94       -1.38%   \n",
       "1     McDonald   MCD    46  $198.00 B     USA    $270.34       -0.53%   \n",
       "2  T-Mobile US  TMUS    51  $185.11 B     USA    $148.79       -0.40%   \n",
       "3       Toyota    TM    49  $195.66 B   Japan    $141.86        0.55%   \n",
       "4        Cisco  CSCO    47  $197.92 B     USA     $48.18       -0.84%   \n",
       "\n",
       "  change(1year)                                         categories  \n",
       "0       -17.67%  [Tech, Software, Dowjones, TechHardware, Elect...  \n",
       "1         4.01%                 [Restaurantchains, Dowjones, Food]  \n",
       "2        27.01%                                [Telecommunication]  \n",
       "3       -24.32%                        [Automakers, Manufacturing]  \n",
       "4       -17.05%  [Tech, Electronics, Networkinghardware, Dowjon...  "
      ]
     },
     "execution_count": 209,
     "metadata": {},
     "output_type": "execute_result"
    }
   ],
   "source": [
    "cmc8 = pd.read_json('de-sources-2022-2023/companiesmarketcap.com/iGMM-companiesmarketcap.json')\n",
    "cmc8.head()"
   ]
  },
  {
   "cell_type": "code",
   "execution_count": 210,
   "metadata": {},
   "outputs": [
    {
     "name": "stdout",
     "output_type": "stream",
     "text": [
      "<class 'pandas.core.frame.DataFrame'>\n",
      "RangeIndex: 7093 entries, 0 to 7092\n",
      "Data columns (total 9 columns):\n",
      " #   Column         Non-Null Count  Dtype \n",
      "---  ------         --------------  ----- \n",
      " 0   name           7093 non-null   object\n",
      " 1   code           7093 non-null   object\n",
      " 2   rank           7093 non-null   int64 \n",
      " 3   marketcap      7093 non-null   object\n",
      " 4   country        7093 non-null   object\n",
      " 5   sharePrice     7093 non-null   object\n",
      " 6   change(1day)   7093 non-null   object\n",
      " 7   change(1year)  6911 non-null   object\n",
      " 8   categories     7093 non-null   object\n",
      "dtypes: int64(1), object(8)\n",
      "memory usage: 498.9+ KB\n"
     ]
    }
   ],
   "source": [
    "cmc8.info()"
   ]
  },
  {
   "cell_type": "code",
   "execution_count": 211,
   "metadata": {},
   "outputs": [
    {
     "data": {
      "text/plain": [
       "name             object\n",
       "code             object\n",
       "rank              int64\n",
       "marketcap        object\n",
       "country          object\n",
       "sharePrice       object\n",
       "change(1day)     object\n",
       "change(1year)    object\n",
       "categories       object\n",
       "dtype: object"
      ]
     },
     "execution_count": 211,
     "metadata": {},
     "output_type": "execute_result"
    }
   ],
   "source": [
    "cmc8.dtypes"
   ]
  },
  {
   "cell_type": "code",
   "execution_count": 212,
   "metadata": {},
   "outputs": [
    {
     "data": {
      "text/plain": [
       "name               0\n",
       "code               0\n",
       "rank               0\n",
       "marketcap          0\n",
       "country            0\n",
       "sharePrice         0\n",
       "change(1day)       0\n",
       "change(1year)    182\n",
       "categories         0\n",
       "dtype: int64"
      ]
     },
     "execution_count": 212,
     "metadata": {},
     "output_type": "execute_result"
    }
   ],
   "source": [
    "cmc8.isnull().sum()"
   ]
  },
  {
   "attachments": {},
   "cell_type": "markdown",
   "metadata": {},
   "source": [
    "#### Formato .xls"
   ]
  },
  {
   "cell_type": "code",
   "execution_count": 213,
   "metadata": {},
   "outputs": [
    {
     "data": {
      "text/html": [
       "<div>\n",
       "<style scoped>\n",
       "    .dataframe tbody tr th:only-of-type {\n",
       "        vertical-align: middle;\n",
       "    }\n",
       "\n",
       "    .dataframe tbody tr th {\n",
       "        vertical-align: top;\n",
       "    }\n",
       "\n",
       "    .dataframe thead th {\n",
       "        text-align: right;\n",
       "    }\n",
       "</style>\n",
       "<table border=\"1\" class=\"dataframe\">\n",
       "  <thead>\n",
       "    <tr style=\"text-align: right;\">\n",
       "      <th></th>\n",
       "      <th>Unnamed: 0</th>\n",
       "      <th>Name</th>\n",
       "      <th>Symbol</th>\n",
       "      <th>MarketCap</th>\n",
       "      <th>Price</th>\n",
       "      <th>Country</th>\n",
       "    </tr>\n",
       "  </thead>\n",
       "  <tbody>\n",
       "    <tr>\n",
       "      <th>0</th>\n",
       "      <td>0</td>\n",
       "      <td>Apple</td>\n",
       "      <td>AAPL</td>\n",
       "      <td>$2.278 T</td>\n",
       "      <td>$143.21</td>\n",
       "      <td>USA</td>\n",
       "    </tr>\n",
       "    <tr>\n",
       "      <th>1</th>\n",
       "      <td>1</td>\n",
       "      <td>Microsoft</td>\n",
       "      <td>MSFT</td>\n",
       "      <td>$1.917 T</td>\n",
       "      <td>$257.22</td>\n",
       "      <td>USA</td>\n",
       "    </tr>\n",
       "    <tr>\n",
       "      <th>2</th>\n",
       "      <td>2</td>\n",
       "      <td>Saudi Aramco</td>\n",
       "      <td>2222.SR</td>\n",
       "      <td>$1.810 T</td>\n",
       "      <td>$8.23</td>\n",
       "      <td>S. Arabia</td>\n",
       "    </tr>\n",
       "    <tr>\n",
       "      <th>3</th>\n",
       "      <td>3</td>\n",
       "      <td>Alphabet (Google)</td>\n",
       "      <td>GOOG</td>\n",
       "      <td>$1.232 T</td>\n",
       "      <td>$95.31</td>\n",
       "      <td>USA</td>\n",
       "    </tr>\n",
       "    <tr>\n",
       "      <th>4</th>\n",
       "      <td>4</td>\n",
       "      <td>Amazon</td>\n",
       "      <td>AMZN</td>\n",
       "      <td>$934.27 B</td>\n",
       "      <td>$91.58</td>\n",
       "      <td>USA</td>\n",
       "    </tr>\n",
       "  </tbody>\n",
       "</table>\n",
       "</div>"
      ],
      "text/plain": [
       "   Unnamed: 0               Name   Symbol  MarketCap    Price    Country\n",
       "0           0              Apple     AAPL   $2.278 T  $143.21        USA\n",
       "1           1          Microsoft     MSFT   $1.917 T  $257.22        USA\n",
       "2           2       Saudi Aramco  2222.SR   $1.810 T    $8.23  S. Arabia\n",
       "3           3  Alphabet (Google)     GOOG   $1.232 T   $95.31        USA\n",
       "4           4             Amazon     AMZN  $934.27 B   $91.58        USA"
      ]
     },
     "execution_count": 213,
     "metadata": {},
     "output_type": "execute_result"
    }
   ],
   "source": [
    "cmc9 = pd.read_excel('de-sources-2022-2023/companiesmarketcap.com/MalPatSaj-companiesmarketcap.com.xls')\n",
    "cmc9.head()"
   ]
  },
  {
   "cell_type": "code",
   "execution_count": 214,
   "metadata": {},
   "outputs": [
    {
     "name": "stdout",
     "output_type": "stream",
     "text": [
      "<class 'pandas.core.frame.DataFrame'>\n",
      "RangeIndex: 7000 entries, 0 to 6999\n",
      "Data columns (total 6 columns):\n",
      " #   Column      Non-Null Count  Dtype \n",
      "---  ------      --------------  ----- \n",
      " 0   Unnamed: 0  7000 non-null   int64 \n",
      " 1   Name        7000 non-null   object\n",
      " 2   Symbol      6999 non-null   object\n",
      " 3   MarketCap   7000 non-null   object\n",
      " 4   Price       7000 non-null   object\n",
      " 5   Country     6999 non-null   object\n",
      "dtypes: int64(1), object(5)\n",
      "memory usage: 328.2+ KB\n"
     ]
    }
   ],
   "source": [
    "cmc9.info()"
   ]
  },
  {
   "cell_type": "code",
   "execution_count": 215,
   "metadata": {},
   "outputs": [
    {
     "data": {
      "text/plain": [
       "Unnamed: 0     int64\n",
       "Name          object\n",
       "Symbol        object\n",
       "MarketCap     object\n",
       "Price         object\n",
       "Country       object\n",
       "dtype: object"
      ]
     },
     "execution_count": 215,
     "metadata": {},
     "output_type": "execute_result"
    }
   ],
   "source": [
    "cmc9.dtypes"
   ]
  },
  {
   "cell_type": "code",
   "execution_count": 216,
   "metadata": {},
   "outputs": [
    {
     "data": {
      "text/plain": [
       "Unnamed: 0    0\n",
       "Name          0\n",
       "Symbol        1\n",
       "MarketCap     0\n",
       "Price         0\n",
       "Country       1\n",
       "dtype: int64"
      ]
     },
     "execution_count": 216,
     "metadata": {},
     "output_type": "execute_result"
    }
   ],
   "source": [
    "cmc9.isnull().sum()"
   ]
  },
  {
   "attachments": {},
   "cell_type": "markdown",
   "metadata": {},
   "source": [
    "### **disfold.com**"
   ]
  },
  {
   "attachments": {},
   "cell_type": "markdown",
   "metadata": {},
   "source": [
    "#### Formato .csv"
   ]
  },
  {
   "cell_type": "code",
   "execution_count": 217,
   "metadata": {},
   "outputs": [
    {
     "data": {
      "text/html": [
       "<div>\n",
       "<style scoped>\n",
       "    .dataframe tbody tr th:only-of-type {\n",
       "        vertical-align: middle;\n",
       "    }\n",
       "\n",
       "    .dataframe tbody tr th {\n",
       "        vertical-align: top;\n",
       "    }\n",
       "\n",
       "    .dataframe thead th {\n",
       "        text-align: right;\n",
       "    }\n",
       "</style>\n",
       "<table border=\"1\" class=\"dataframe\">\n",
       "  <thead>\n",
       "    <tr style=\"text-align: right;\">\n",
       "      <th></th>\n",
       "      <th>Founded</th>\n",
       "      <th>Top Competitor</th>\n",
       "      <th>Employees</th>\n",
       "      <th>CEO</th>\n",
       "      <th>Name</th>\n",
       "    </tr>\n",
       "  </thead>\n",
       "  <tbody>\n",
       "    <tr>\n",
       "      <th>889</th>\n",
       "      <td>NaN</td>\n",
       "      <td>BlackRock</td>\n",
       "      <td>Employees: 8,001</td>\n",
       "      <td>CEO: Mr. Johan Hjertonsson MBA</td>\n",
       "      <td>Investment AB Latour</td>\n",
       "    </tr>\n",
       "    <tr>\n",
       "      <th>890</th>\n",
       "      <td>NaN</td>\n",
       "      <td>Mitsui Fudosan Co. Ltd</td>\n",
       "      <td>Employees: 9,982</td>\n",
       "      <td>CEO: Mr. Junichi Yoshida</td>\n",
       "      <td>Mitsubishi Estate Co. Ltd</td>\n",
       "    </tr>\n",
       "    <tr>\n",
       "      <th>891</th>\n",
       "      <td>NaN</td>\n",
       "      <td>Morgan Stanley</td>\n",
       "      <td>Employees: 15,198</td>\n",
       "      <td>NaN</td>\n",
       "      <td>Guotai Junan Securities Co. Ltd</td>\n",
       "    </tr>\n",
       "    <tr>\n",
       "      <th>892</th>\n",
       "      <td>NaN</td>\n",
       "      <td>Linde</td>\n",
       "      <td>Employees: 27,318</td>\n",
       "      <td>NaN</td>\n",
       "      <td>Nippon Paint Holdings Co. Ltd</td>\n",
       "    </tr>\n",
       "    <tr>\n",
       "      <th>893</th>\n",
       "      <td>Founded: 2012</td>\n",
       "      <td>Amazon</td>\n",
       "      <td>Employees: 21,000</td>\n",
       "      <td>CEO: Mr. Ernest C. Garcia III</td>\n",
       "      <td>Carvana Co.</td>\n",
       "    </tr>\n",
       "    <tr>\n",
       "      <th>894</th>\n",
       "      <td>Founded: 1930</td>\n",
       "      <td>Chubb Limited</td>\n",
       "      <td>Employees: 20,300</td>\n",
       "      <td>CEO: Mr. Thomas Sinnickson Gayner</td>\n",
       "      <td>Markel Corporation</td>\n",
       "    </tr>\n",
       "    <tr>\n",
       "      <th>895</th>\n",
       "      <td>Founded: 1939</td>\n",
       "      <td>Marsh &amp; McLennan Companies, Inc.</td>\n",
       "      <td>Employees: 12,023</td>\n",
       "      <td>CEO: Mr. J. Powell Brown C.P.C.U., CPCU</td>\n",
       "      <td>Brown &amp; Brown, Inc.</td>\n",
       "    </tr>\n",
       "    <tr>\n",
       "      <th>896</th>\n",
       "      <td>NaN</td>\n",
       "      <td>Accenture</td>\n",
       "      <td>Employees: 16,196</td>\n",
       "      <td>CEO: Mr. Shingo Konomoto</td>\n",
       "      <td>Nomura Research Institute Ltd</td>\n",
       "    </tr>\n",
       "    <tr>\n",
       "      <th>897</th>\n",
       "      <td>Founded: 1986</td>\n",
       "      <td>Las Vegas Sands Corp.</td>\n",
       "      <td>Employees: 52,000</td>\n",
       "      <td>CEO: Mr. William Joseph Hornbuckle IV</td>\n",
       "      <td>MGM Resorts International</td>\n",
       "    </tr>\n",
       "    <tr>\n",
       "      <th>898</th>\n",
       "      <td>NaN</td>\n",
       "      <td>JPMorgan</td>\n",
       "      <td>Employees: 9,594</td>\n",
       "      <td>NaN</td>\n",
       "      <td>Mega Financial Holding Co. Ltd</td>\n",
       "    </tr>\n",
       "  </tbody>\n",
       "</table>\n",
       "</div>"
      ],
      "text/plain": [
       "           Founded                    Top Competitor          Employees  \\\n",
       "889            NaN                         BlackRock   Employees: 8,001   \n",
       "890            NaN            Mitsui Fudosan Co. Ltd   Employees: 9,982   \n",
       "891            NaN                    Morgan Stanley  Employees: 15,198   \n",
       "892            NaN                             Linde  Employees: 27,318   \n",
       "893  Founded: 2012                            Amazon  Employees: 21,000   \n",
       "894  Founded: 1930                     Chubb Limited  Employees: 20,300   \n",
       "895  Founded: 1939  Marsh & McLennan Companies, Inc.  Employees: 12,023   \n",
       "896            NaN                         Accenture  Employees: 16,196   \n",
       "897  Founded: 1986             Las Vegas Sands Corp.  Employees: 52,000   \n",
       "898            NaN                          JPMorgan   Employees: 9,594   \n",
       "\n",
       "                                         CEO                             Name  \n",
       "889           CEO: Mr. Johan Hjertonsson MBA             Investment AB Latour  \n",
       "890                 CEO: Mr. Junichi Yoshida        Mitsubishi Estate Co. Ltd  \n",
       "891                                      NaN  Guotai Junan Securities Co. Ltd  \n",
       "892                                      NaN    Nippon Paint Holdings Co. Ltd  \n",
       "893            CEO: Mr. Ernest C. Garcia III                      Carvana Co.  \n",
       "894        CEO: Mr. Thomas Sinnickson Gayner               Markel Corporation  \n",
       "895  CEO: Mr. J. Powell Brown C.P.C.U., CPCU              Brown & Brown, Inc.  \n",
       "896                 CEO: Mr. Shingo Konomoto    Nomura Research Institute Ltd  \n",
       "897    CEO: Mr. William Joseph Hornbuckle IV        MGM Resorts International  \n",
       "898                                      NaN   Mega Financial Holding Co. Ltd  "
      ]
     },
     "execution_count": 217,
     "metadata": {},
     "output_type": "execute_result"
    }
   ],
   "source": [
    "dis1 = pd.read_csv(\"de-sources-2022-2023/disfold.com/FR-disfold.csv\")\n",
    "dis1.tail(10)"
   ]
  },
  {
   "cell_type": "code",
   "execution_count": 218,
   "metadata": {},
   "outputs": [
    {
     "name": "stdout",
     "output_type": "stream",
     "text": [
      "<class 'pandas.core.frame.DataFrame'>\n",
      "RangeIndex: 899 entries, 0 to 898\n",
      "Data columns (total 5 columns):\n",
      " #   Column          Non-Null Count  Dtype \n",
      "---  ------          --------------  ----- \n",
      " 0   Founded         529 non-null    object\n",
      " 1   Top Competitor  899 non-null    object\n",
      " 2   Employees       860 non-null    object\n",
      " 3   CEO             759 non-null    object\n",
      " 4   Name            899 non-null    object\n",
      "dtypes: object(5)\n",
      "memory usage: 35.2+ KB\n"
     ]
    }
   ],
   "source": [
    "dis1.info()"
   ]
  },
  {
   "cell_type": "code",
   "execution_count": 219,
   "metadata": {},
   "outputs": [
    {
     "data": {
      "text/plain": [
       "Founded           object\n",
       "Top Competitor    object\n",
       "Employees         object\n",
       "CEO               object\n",
       "Name              object\n",
       "dtype: object"
      ]
     },
     "execution_count": 219,
     "metadata": {},
     "output_type": "execute_result"
    }
   ],
   "source": [
    "dis1.dtypes"
   ]
  },
  {
   "cell_type": "code",
   "execution_count": 220,
   "metadata": {},
   "outputs": [
    {
     "data": {
      "text/plain": [
       "Founded           370\n",
       "Top Competitor      0\n",
       "Employees          39\n",
       "CEO               140\n",
       "Name                0\n",
       "dtype: int64"
      ]
     },
     "execution_count": 220,
     "metadata": {},
     "output_type": "execute_result"
    }
   ],
   "source": [
    "dis1.isnull().sum()"
   ]
  },
  {
   "cell_type": "code",
   "execution_count": 221,
   "metadata": {},
   "outputs": [
    {
     "data": {
      "text/html": [
       "<div>\n",
       "<style scoped>\n",
       "    .dataframe tbody tr th:only-of-type {\n",
       "        vertical-align: middle;\n",
       "    }\n",
       "\n",
       "    .dataframe tbody tr th {\n",
       "        vertical-align: top;\n",
       "    }\n",
       "\n",
       "    .dataframe thead th {\n",
       "        text-align: right;\n",
       "    }\n",
       "</style>\n",
       "<table border=\"1\" class=\"dataframe\">\n",
       "  <thead>\n",
       "    <tr style=\"text-align: right;\">\n",
       "      <th></th>\n",
       "      <th>Name</th>\n",
       "      <th>MasterCap</th>\n",
       "      <th>Country</th>\n",
       "      <th>Industry</th>\n",
       "      <th>Sector</th>\n",
       "    </tr>\n",
       "  </thead>\n",
       "  <tbody>\n",
       "    <tr>\n",
       "      <th>950</th>\n",
       "      <td>Trinity Exploration &amp; Production plc</td>\n",
       "      <td>$93.2 M</td>\n",
       "      <td>United Kingdom</td>\n",
       "      <td>Oil &amp; Gas E&amp;P</td>\n",
       "      <td>Energy</td>\n",
       "    </tr>\n",
       "    <tr>\n",
       "      <th>951</th>\n",
       "      <td>Braemar Shipping Services plc</td>\n",
       "      <td>$93.2 M</td>\n",
       "      <td>United Kingdom</td>\n",
       "      <td>Marine Shipping</td>\n",
       "      <td>Industrials</td>\n",
       "    </tr>\n",
       "    <tr>\n",
       "      <th>952</th>\n",
       "      <td>Arena Events Group plc</td>\n",
       "      <td>(Jan. 1, 2022)</td>\n",
       "      <td>United Kingdom</td>\n",
       "      <td>Advertising Agencies</td>\n",
       "      <td>Communication Services</td>\n",
       "    </tr>\n",
       "    <tr>\n",
       "      <th>953</th>\n",
       "      <td>Geodrill Limited</td>\n",
       "      <td>$92.3 M</td>\n",
       "      <td>United Kingdom</td>\n",
       "      <td>Other Industrial Metals &amp; Mining</td>\n",
       "      <td>Basic Materials</td>\n",
       "    </tr>\n",
       "    <tr>\n",
       "      <th>954</th>\n",
       "      <td>OnTheMarket plc</td>\n",
       "      <td>$91.8 M</td>\n",
       "      <td>United Kingdom</td>\n",
       "      <td>Internet Content &amp; Information</td>\n",
       "      <td>Communication Services</td>\n",
       "    </tr>\n",
       "    <tr>\n",
       "      <th>955</th>\n",
       "      <td>Shoe Zone plc</td>\n",
       "      <td>$91.6 M</td>\n",
       "      <td>United Kingdom</td>\n",
       "      <td>Footwear &amp; Accessories</td>\n",
       "      <td>Consumer Discretionary</td>\n",
       "    </tr>\n",
       "    <tr>\n",
       "      <th>956</th>\n",
       "      <td>Real Estate Investors plc</td>\n",
       "      <td>$91.5 M</td>\n",
       "      <td>United Kingdom</td>\n",
       "      <td>REIT�Diversified</td>\n",
       "      <td>Real Estate</td>\n",
       "    </tr>\n",
       "    <tr>\n",
       "      <th>957</th>\n",
       "      <td>Futura Medical plc</td>\n",
       "      <td>$91.5 M</td>\n",
       "      <td>United Kingdom</td>\n",
       "      <td>Biotechnology</td>\n",
       "      <td>Healthcare</td>\n",
       "    </tr>\n",
       "    <tr>\n",
       "      <th>958</th>\n",
       "      <td>Bespoke Capital Acquisition Corp.</td>\n",
       "      <td>(April 5, 2021)</td>\n",
       "      <td>United Kingdom</td>\n",
       "      <td>Shell Companies</td>\n",
       "      <td>Financials</td>\n",
       "    </tr>\n",
       "    <tr>\n",
       "      <th>959</th>\n",
       "      <td>IG Design Group plc</td>\n",
       "      <td>$90.6 M</td>\n",
       "      <td>United Kingdom</td>\n",
       "      <td>Specialty Retail</td>\n",
       "      <td>Consumer Discretionary</td>\n",
       "    </tr>\n",
       "  </tbody>\n",
       "</table>\n",
       "</div>"
      ],
      "text/plain": [
       "                                     Name        MasterCap         Country  \\\n",
       "950  Trinity Exploration & Production plc          $93.2 M  United Kingdom   \n",
       "951         Braemar Shipping Services plc          $93.2 M  United Kingdom   \n",
       "952                Arena Events Group plc   (Jan. 1, 2022)  United Kingdom   \n",
       "953                      Geodrill Limited          $92.3 M  United Kingdom   \n",
       "954                       OnTheMarket plc          $91.8 M  United Kingdom   \n",
       "955                         Shoe Zone plc          $91.6 M  United Kingdom   \n",
       "956             Real Estate Investors plc          $91.5 M  United Kingdom   \n",
       "957                    Futura Medical plc          $91.5 M  United Kingdom   \n",
       "958     Bespoke Capital Acquisition Corp.  (April 5, 2021)  United Kingdom   \n",
       "959                   IG Design Group plc          $90.6 M  United Kingdom   \n",
       "\n",
       "                             Industry                  Sector  \n",
       "950                     Oil & Gas E&P                  Energy  \n",
       "951                   Marine Shipping             Industrials  \n",
       "952              Advertising Agencies  Communication Services  \n",
       "953  Other Industrial Metals & Mining         Basic Materials  \n",
       "954    Internet Content & Information  Communication Services  \n",
       "955            Footwear & Accessories  Consumer Discretionary  \n",
       "956                  REIT�Diversified             Real Estate  \n",
       "957                     Biotechnology              Healthcare  \n",
       "958                   Shell Companies              Financials  \n",
       "959                  Specialty Retail  Consumer Discretionary  "
      ]
     },
     "execution_count": 221,
     "metadata": {},
     "output_type": "execute_result"
    }
   ],
   "source": [
    "dis2 = pd.read_csv(\"de-sources-2022-2023/disfold.com/MarScoToc-Disfold.csv\")\n",
    "dis2.tail(10)"
   ]
  },
  {
   "cell_type": "code",
   "execution_count": 222,
   "metadata": {},
   "outputs": [
    {
     "name": "stdout",
     "output_type": "stream",
     "text": [
      "<class 'pandas.core.frame.DataFrame'>\n",
      "RangeIndex: 960 entries, 0 to 959\n",
      "Data columns (total 5 columns):\n",
      " #   Column     Non-Null Count  Dtype \n",
      "---  ------     --------------  ----- \n",
      " 0   Name       960 non-null    object\n",
      " 1   MasterCap  960 non-null    object\n",
      " 2   Country    960 non-null    object\n",
      " 3   Industry   960 non-null    object\n",
      " 4   Sector     960 non-null    object\n",
      "dtypes: object(5)\n",
      "memory usage: 37.6+ KB\n"
     ]
    }
   ],
   "source": [
    "dis2.info()"
   ]
  },
  {
   "cell_type": "code",
   "execution_count": 223,
   "metadata": {},
   "outputs": [
    {
     "data": {
      "text/plain": [
       "Name         object\n",
       "MasterCap    object\n",
       "Country      object\n",
       "Industry     object\n",
       "Sector       object\n",
       "dtype: object"
      ]
     },
     "execution_count": 223,
     "metadata": {},
     "output_type": "execute_result"
    }
   ],
   "source": [
    "dis2.dtypes"
   ]
  },
  {
   "cell_type": "code",
   "execution_count": 224,
   "metadata": {},
   "outputs": [
    {
     "data": {
      "text/plain": [
       "Name         0\n",
       "MasterCap    0\n",
       "Country      0\n",
       "Industry     0\n",
       "Sector       0\n",
       "dtype: int64"
      ]
     },
     "execution_count": 224,
     "metadata": {},
     "output_type": "execute_result"
    }
   ],
   "source": [
    "dis2.isnull().sum()"
   ]
  },
  {
   "cell_type": "code",
   "execution_count": 225,
   "metadata": {},
   "outputs": [
    {
     "data": {
      "text/html": [
       "<div>\n",
       "<style scoped>\n",
       "    .dataframe tbody tr th:only-of-type {\n",
       "        vertical-align: middle;\n",
       "    }\n",
       "\n",
       "    .dataframe tbody tr th {\n",
       "        vertical-align: top;\n",
       "    }\n",
       "\n",
       "    .dataframe thead th {\n",
       "        text-align: right;\n",
       "    }\n",
       "</style>\n",
       "<table border=\"1\" class=\"dataframe\">\n",
       "  <thead>\n",
       "    <tr style=\"text-align: right;\">\n",
       "      <th></th>\n",
       "      <th>name</th>\n",
       "      <th>country</th>\n",
       "      <th>market_value_apr_2022</th>\n",
       "      <th>sector</th>\n",
       "      <th>stock</th>\n",
       "    </tr>\n",
       "  </thead>\n",
       "  <tbody>\n",
       "    <tr>\n",
       "      <th>990</th>\n",
       "      <td>Quanta Services, Inc.</td>\n",
       "      <td>united states</td>\n",
       "      <td>$18.25 B</td>\n",
       "      <td>industrials</td>\n",
       "      <td>PWR</td>\n",
       "    </tr>\n",
       "    <tr>\n",
       "      <th>991</th>\n",
       "      <td>Catalent, Inc.</td>\n",
       "      <td>united states</td>\n",
       "      <td>$18.24 B</td>\n",
       "      <td>healthcare</td>\n",
       "      <td>CTLT</td>\n",
       "    </tr>\n",
       "    <tr>\n",
       "      <th>992</th>\n",
       "      <td>Haitong Securities Co. Ltd</td>\n",
       "      <td>china</td>\n",
       "      <td>$18.23 B</td>\n",
       "      <td>financials</td>\n",
       "      <td>600837</td>\n",
       "    </tr>\n",
       "    <tr>\n",
       "      <th>993</th>\n",
       "      <td>Asahi Group Holdings Ltd</td>\n",
       "      <td>japan</td>\n",
       "      <td>$18.21 B</td>\n",
       "      <td>consumer staples</td>\n",
       "      <td>2502</td>\n",
       "    </tr>\n",
       "    <tr>\n",
       "      <th>994</th>\n",
       "      <td>Capitec Bank Holdings Ltd</td>\n",
       "      <td>south africa</td>\n",
       "      <td>$18.21 B</td>\n",
       "      <td>financials</td>\n",
       "      <td>CPI</td>\n",
       "    </tr>\n",
       "    <tr>\n",
       "      <th>995</th>\n",
       "      <td>Restaurant Brands International Inc.</td>\n",
       "      <td>canada</td>\n",
       "      <td>$18.19 B</td>\n",
       "      <td>consumer discretionary</td>\n",
       "      <td>QSR</td>\n",
       "    </tr>\n",
       "    <tr>\n",
       "      <th>996</th>\n",
       "      <td>Yum China Holdings, Inc.</td>\n",
       "      <td>china</td>\n",
       "      <td>$18.18 B</td>\n",
       "      <td>consumer discretionary</td>\n",
       "      <td>YUMC</td>\n",
       "    </tr>\n",
       "    <tr>\n",
       "      <th>997</th>\n",
       "      <td>CEZ AS</td>\n",
       "      <td>NaN</td>\n",
       "      <td>NaN</td>\n",
       "      <td>NaN</td>\n",
       "      <td>CEZ</td>\n",
       "    </tr>\n",
       "    <tr>\n",
       "      <th>998</th>\n",
       "      <td>Veolia Environnement SA</td>\n",
       "      <td>france</td>\n",
       "      <td>$18.14 B</td>\n",
       "      <td>industrials</td>\n",
       "      <td>VIE</td>\n",
       "    </tr>\n",
       "    <tr>\n",
       "      <th>999</th>\n",
       "      <td>Avis Budget Group, Inc.</td>\n",
       "      <td>united states</td>\n",
       "      <td>$18.12 B</td>\n",
       "      <td>industrials</td>\n",
       "      <td>CAR</td>\n",
       "    </tr>\n",
       "  </tbody>\n",
       "</table>\n",
       "</div>"
      ],
      "text/plain": [
       "                                     name        country  \\\n",
       "990                 Quanta Services, Inc.  united states   \n",
       "991                        Catalent, Inc.  united states   \n",
       "992            Haitong Securities Co. Ltd          china   \n",
       "993              Asahi Group Holdings Ltd          japan   \n",
       "994             Capitec Bank Holdings Ltd   south africa   \n",
       "995  Restaurant Brands International Inc.         canada   \n",
       "996              Yum China Holdings, Inc.          china   \n",
       "997                                CEZ AS            NaN   \n",
       "998               Veolia Environnement SA         france   \n",
       "999               Avis Budget Group, Inc.  united states   \n",
       "\n",
       "    market_value_apr_2022                  sector   stock  \n",
       "990              $18.25 B             industrials     PWR  \n",
       "991              $18.24 B              healthcare    CTLT  \n",
       "992              $18.23 B              financials  600837  \n",
       "993              $18.21 B        consumer staples    2502  \n",
       "994              $18.21 B              financials     CPI  \n",
       "995              $18.19 B  consumer discretionary     QSR  \n",
       "996              $18.18 B  consumer discretionary    YUMC  \n",
       "997                   NaN                     NaN     CEZ  \n",
       "998              $18.14 B             industrials     VIE  \n",
       "999              $18.12 B             industrials     CAR  "
      ]
     },
     "execution_count": 225,
     "metadata": {},
     "output_type": "execute_result"
    }
   ],
   "source": [
    "dis3 = pd.read_csv(\"de-sources-2022-2023/disfold.com/silvestri-disfold.com.csv\")\n",
    "dis3.tail(10)"
   ]
  },
  {
   "cell_type": "code",
   "execution_count": 226,
   "metadata": {},
   "outputs": [
    {
     "name": "stdout",
     "output_type": "stream",
     "text": [
      "<class 'pandas.core.frame.DataFrame'>\n",
      "RangeIndex: 1000 entries, 0 to 999\n",
      "Data columns (total 5 columns):\n",
      " #   Column                 Non-Null Count  Dtype \n",
      "---  ------                 --------------  ----- \n",
      " 0   name                   1000 non-null   object\n",
      " 1   country                985 non-null    object\n",
      " 2   market_value_apr_2022  962 non-null    object\n",
      " 3   sector                 985 non-null    object\n",
      " 4   stock                  999 non-null    object\n",
      "dtypes: object(5)\n",
      "memory usage: 39.2+ KB\n"
     ]
    }
   ],
   "source": [
    "dis3.info()"
   ]
  },
  {
   "cell_type": "code",
   "execution_count": 227,
   "metadata": {},
   "outputs": [
    {
     "data": {
      "text/plain": [
       "name                     object\n",
       "country                  object\n",
       "market_value_apr_2022    object\n",
       "sector                   object\n",
       "stock                    object\n",
       "dtype: object"
      ]
     },
     "execution_count": 227,
     "metadata": {},
     "output_type": "execute_result"
    }
   ],
   "source": [
    "dis3.dtypes"
   ]
  },
  {
   "cell_type": "code",
   "execution_count": 228,
   "metadata": {},
   "outputs": [
    {
     "data": {
      "text/plain": [
       "name                      0\n",
       "country                  15\n",
       "market_value_apr_2022    38\n",
       "sector                   15\n",
       "stock                     1\n",
       "dtype: int64"
      ]
     },
     "execution_count": 228,
     "metadata": {},
     "output_type": "execute_result"
    }
   ],
   "source": [
    "dis3.isnull().sum()"
   ]
  },
  {
   "attachments": {},
   "cell_type": "markdown",
   "metadata": {},
   "source": [
    "#### Formato .json"
   ]
  },
  {
   "cell_type": "code",
   "execution_count": 229,
   "metadata": {},
   "outputs": [
    {
     "data": {
      "text/html": [
       "<div>\n",
       "<style scoped>\n",
       "    .dataframe tbody tr th:only-of-type {\n",
       "        vertical-align: middle;\n",
       "    }\n",
       "\n",
       "    .dataframe tbody tr th {\n",
       "        vertical-align: top;\n",
       "    }\n",
       "\n",
       "    .dataframe thead th {\n",
       "        text-align: right;\n",
       "    }\n",
       "</style>\n",
       "<table border=\"1\" class=\"dataframe\">\n",
       "  <thead>\n",
       "    <tr style=\"text-align: right;\">\n",
       "      <th></th>\n",
       "      <th>id</th>\n",
       "      <th>name</th>\n",
       "      <th>official_name</th>\n",
       "      <th>headquarters_country</th>\n",
       "      <th>headquarters_continent</th>\n",
       "      <th>founded</th>\n",
       "      <th>employees</th>\n",
       "      <th>ceo</th>\n",
       "      <th>market_cap</th>\n",
       "      <th>categories</th>\n",
       "      <th>gbp</th>\n",
       "    </tr>\n",
       "  </thead>\n",
       "  <tbody>\n",
       "    <tr>\n",
       "      <th>0</th>\n",
       "      <td>1e4dfb844d5a47e39c14699648cbd55a</td>\n",
       "      <td>Apple</td>\n",
       "      <td>Apple Inc.</td>\n",
       "      <td>Cupertino</td>\n",
       "      <td>CA</td>\n",
       "      <td>April 1, 1976</td>\n",
       "      <td>100,000</td>\n",
       "      <td>Mr. Timothy D. Cook</td>\n",
       "      <td>$2.825 Trillion</td>\n",
       "      <td>[UnitedStates, Technology, ConsumerElectronics...</td>\n",
       "      <td>NaN</td>\n",
       "    </tr>\n",
       "    <tr>\n",
       "      <th>1</th>\n",
       "      <td>031f69c6c7fd49d89b00ecdfcd294bad</td>\n",
       "      <td>Danaher</td>\n",
       "      <td>Danaher Corporation</td>\n",
       "      <td>Washington</td>\n",
       "      <td>DC</td>\n",
       "      <td>1969</td>\n",
       "      <td>78,000</td>\n",
       "      <td>Mr. Rainer M. Blair</td>\n",
       "      <td>$208.03 Billion</td>\n",
       "      <td>[UnitedStates, Healthcare, Diagnostics&amp;Researc...</td>\n",
       "      <td>NaN</td>\n",
       "    </tr>\n",
       "    <tr>\n",
       "      <th>2</th>\n",
       "      <td>8acd1acfe59d4fc88c28038c9d3e8911</td>\n",
       "      <td>Merck</td>\n",
       "      <td>Merck &amp; Co., Inc.</td>\n",
       "      <td>Kenilworth</td>\n",
       "      <td>NJ</td>\n",
       "      <td>1891</td>\n",
       "      <td>67,000</td>\n",
       "      <td>Mr. Robert M. Davis J.D.</td>\n",
       "      <td>$210.38 Billion</td>\n",
       "      <td>[UnitedStates, Healthcare, DrugManufacturers—G...</td>\n",
       "      <td>NaN</td>\n",
       "    </tr>\n",
       "    <tr>\n",
       "      <th>3</th>\n",
       "      <td>ba6efa594766439dafb4045f0b25a23a</td>\n",
       "      <td>Bhp</td>\n",
       "      <td>BHP Group</td>\n",
       "      <td>Melbourne</td>\n",
       "      <td>VIC</td>\n",
       "      <td>1885</td>\n",
       "      <td>40,110</td>\n",
       "      <td>Mr. Mike P. Henry B.Sc., BSc (Chem)</td>\n",
       "      <td>A$281.66 Billion</td>\n",
       "      <td>[Australia, BasicMaterials, OtherIndustrialMet...</td>\n",
       "      <td>$211.25 Billion</td>\n",
       "    </tr>\n",
       "    <tr>\n",
       "      <th>4</th>\n",
       "      <td>83d47a2c8bd545cf80c17abfa6d81cf9</td>\n",
       "      <td>Nike</td>\n",
       "      <td>Nike, Inc.</td>\n",
       "      <td>Beaverton</td>\n",
       "      <td>OR</td>\n",
       "      <td>January 25, 1964</td>\n",
       "      <td>73,300</td>\n",
       "      <td>Mr. John J. Donahoe II</td>\n",
       "      <td>$213.60 Billion</td>\n",
       "      <td>[UnitedStates, ConsumerDiscretionary, Footwear...</td>\n",
       "      <td>NaN</td>\n",
       "    </tr>\n",
       "  </tbody>\n",
       "</table>\n",
       "</div>"
      ],
      "text/plain": [
       "                                 id     name        official_name  \\\n",
       "0  1e4dfb844d5a47e39c14699648cbd55a    Apple           Apple Inc.   \n",
       "1  031f69c6c7fd49d89b00ecdfcd294bad  Danaher  Danaher Corporation   \n",
       "2  8acd1acfe59d4fc88c28038c9d3e8911    Merck    Merck & Co., Inc.   \n",
       "3  ba6efa594766439dafb4045f0b25a23a      Bhp            BHP Group   \n",
       "4  83d47a2c8bd545cf80c17abfa6d81cf9     Nike           Nike, Inc.   \n",
       "\n",
       "  headquarters_country headquarters_continent           founded employees  \\\n",
       "0            Cupertino                     CA     April 1, 1976   100,000   \n",
       "1           Washington                     DC              1969    78,000   \n",
       "2           Kenilworth                     NJ              1891    67,000   \n",
       "3            Melbourne                    VIC              1885    40,110   \n",
       "4            Beaverton                     OR  January 25, 1964    73,300   \n",
       "\n",
       "                                   ceo        market_cap  \\\n",
       "0                  Mr. Timothy D. Cook   $2.825 Trillion   \n",
       "1                  Mr. Rainer M. Blair   $208.03 Billion   \n",
       "2             Mr. Robert M. Davis J.D.   $210.38 Billion   \n",
       "3  Mr. Mike P. Henry B.Sc., BSc (Chem)  A$281.66 Billion   \n",
       "4               Mr. John J. Donahoe II   $213.60 Billion   \n",
       "\n",
       "                                          categories              gbp  \n",
       "0  [UnitedStates, Technology, ConsumerElectronics...              NaN  \n",
       "1  [UnitedStates, Healthcare, Diagnostics&Researc...              NaN  \n",
       "2  [UnitedStates, Healthcare, DrugManufacturers—G...              NaN  \n",
       "3  [Australia, BasicMaterials, OtherIndustrialMet...  $211.25 Billion  \n",
       "4  [UnitedStates, ConsumerDiscretionary, Footwear...              NaN  "
      ]
     },
     "execution_count": 229,
     "metadata": {},
     "output_type": "execute_result"
    }
   ],
   "source": [
    "dis4 = pd.read_json('de-sources-2022-2023/disfold.com/avengers-disfold.json', lines=True)\n",
    "dis4.head()"
   ]
  },
  {
   "cell_type": "code",
   "execution_count": 230,
   "metadata": {},
   "outputs": [
    {
     "name": "stdout",
     "output_type": "stream",
     "text": [
      "<class 'pandas.core.frame.DataFrame'>\n",
      "RangeIndex: 1000 entries, 0 to 999\n",
      "Data columns (total 11 columns):\n",
      " #   Column                  Non-Null Count  Dtype \n",
      "---  ------                  --------------  ----- \n",
      " 0   id                      1000 non-null   object\n",
      " 1   name                    1000 non-null   object\n",
      " 2   official_name           126 non-null    object\n",
      " 3   headquarters_country    907 non-null    object\n",
      " 4   headquarters_continent  907 non-null    object\n",
      " 5   founded                 564 non-null    object\n",
      " 6   employees               876 non-null    object\n",
      " 7   ceo                     800 non-null    object\n",
      " 8   market_cap              1000 non-null   object\n",
      " 9   categories              1000 non-null   object\n",
      " 10  gbp                     523 non-null    object\n",
      "dtypes: object(11)\n",
      "memory usage: 86.1+ KB\n"
     ]
    }
   ],
   "source": [
    "dis4.info()"
   ]
  },
  {
   "cell_type": "code",
   "execution_count": 231,
   "metadata": {},
   "outputs": [
    {
     "data": {
      "text/plain": [
       "id                        object\n",
       "name                      object\n",
       "official_name             object\n",
       "headquarters_country      object\n",
       "headquarters_continent    object\n",
       "founded                   object\n",
       "employees                 object\n",
       "ceo                       object\n",
       "market_cap                object\n",
       "categories                object\n",
       "gbp                       object\n",
       "dtype: object"
      ]
     },
     "execution_count": 231,
     "metadata": {},
     "output_type": "execute_result"
    }
   ],
   "source": [
    "dis4.dtypes"
   ]
  },
  {
   "cell_type": "code",
   "execution_count": 232,
   "metadata": {},
   "outputs": [
    {
     "data": {
      "text/plain": [
       "id                          0\n",
       "name                        0\n",
       "official_name             874\n",
       "headquarters_country       93\n",
       "headquarters_continent     93\n",
       "founded                   436\n",
       "employees                 124\n",
       "ceo                       200\n",
       "market_cap                  0\n",
       "categories                  0\n",
       "gbp                       477\n",
       "dtype: int64"
      ]
     },
     "execution_count": 232,
     "metadata": {},
     "output_type": "execute_result"
    }
   ],
   "source": [
    "dis4.isnull().sum()"
   ]
  },
  {
   "cell_type": "code",
   "execution_count": 233,
   "metadata": {},
   "outputs": [
    {
     "data": {
      "text/html": [
       "<div>\n",
       "<style scoped>\n",
       "    .dataframe tbody tr th:only-of-type {\n",
       "        vertical-align: middle;\n",
       "    }\n",
       "\n",
       "    .dataframe tbody tr th {\n",
       "        vertical-align: top;\n",
       "    }\n",
       "\n",
       "    .dataframe thead th {\n",
       "        text-align: right;\n",
       "    }\n",
       "</style>\n",
       "<table border=\"1\" class=\"dataframe\">\n",
       "  <thead>\n",
       "    <tr style=\"text-align: right;\">\n",
       "      <th></th>\n",
       "      <th>name</th>\n",
       "      <th>market_cap</th>\n",
       "      <th>stock</th>\n",
       "      <th>country</th>\n",
       "      <th>sector</th>\n",
       "      <th>industry</th>\n",
       "      <th>headquarters</th>\n",
       "      <th>founded</th>\n",
       "      <th>employees</th>\n",
       "      <th>ceo</th>\n",
       "    </tr>\n",
       "  </thead>\n",
       "  <tbody>\n",
       "    <tr>\n",
       "      <th>0</th>\n",
       "      <td>Avis Budget Group, Inc.</td>\n",
       "      <td>$18.12 B</td>\n",
       "      <td>CAR</td>\n",
       "      <td>United States</td>\n",
       "      <td>Industrials</td>\n",
       "      <td>Rental &amp; Leasing Services</td>\n",
       "      <td>Parsippany,NJ,UnitedStates</td>\n",
       "      <td>2006</td>\n",
       "      <td>16,000</td>\n",
       "      <td>Mr. Joseph A. Ferraro</td>\n",
       "    </tr>\n",
       "    <tr>\n",
       "      <th>1</th>\n",
       "      <td>Telefônica Brasil SA</td>\n",
       "      <td>$20.19 B</td>\n",
       "      <td>VIV</td>\n",
       "      <td>Brazil</td>\n",
       "      <td>Communication Services</td>\n",
       "      <td>Telecom Services</td>\n",
       "      <td>SÃ£oPaulo,SP,Brazil</td>\n",
       "      <td>1998</td>\n",
       "      <td>34,000</td>\n",
       "      <td>Mr. Christian  Mauad Gebara</td>\n",
       "    </tr>\n",
       "    <tr>\n",
       "      <th>2</th>\n",
       "      <td>East Japan Railway Company</td>\n",
       "      <td>$22.78 B</td>\n",
       "      <td>9020</td>\n",
       "      <td>Japan</td>\n",
       "      <td>Industrials</td>\n",
       "      <td>Railroads</td>\n",
       "      <td>Tokyo,Japan</td>\n",
       "      <td></td>\n",
       "      <td>71,973</td>\n",
       "      <td>Mr. Yuji  Fukasawa</td>\n",
       "    </tr>\n",
       "    <tr>\n",
       "      <th>3</th>\n",
       "      <td>Twilio Inc.</td>\n",
       "      <td>$26.09 B</td>\n",
       "      <td>TWLO</td>\n",
       "      <td>United States</td>\n",
       "      <td>Communication Services</td>\n",
       "      <td>Internet Content &amp; Information</td>\n",
       "      <td>SanFrancisco,CA,UnitedStates</td>\n",
       "      <td>2008</td>\n",
       "      <td>7,867</td>\n",
       "      <td>Mr. Jeffrey  Lawson</td>\n",
       "    </tr>\n",
       "    <tr>\n",
       "      <th>4</th>\n",
       "      <td>Delta Electronics, Inc.</td>\n",
       "      <td>$24.05 B</td>\n",
       "      <td>2308</td>\n",
       "      <td>Taiwan</td>\n",
       "      <td>Technology</td>\n",
       "      <td>Electronic Components</td>\n",
       "      <td>Taipei,Taiwan</td>\n",
       "      <td></td>\n",
       "      <td></td>\n",
       "      <td>Mr. Ping  Cheng</td>\n",
       "    </tr>\n",
       "  </tbody>\n",
       "</table>\n",
       "</div>"
      ],
      "text/plain": [
       "                         name market_cap stock        country  \\\n",
       "0     Avis Budget Group, Inc.   $18.12 B   CAR  United States   \n",
       "1        Telefônica Brasil SA   $20.19 B   VIV         Brazil   \n",
       "2  East Japan Railway Company   $22.78 B  9020          Japan   \n",
       "3                 Twilio Inc.   $26.09 B  TWLO  United States   \n",
       "4     Delta Electronics, Inc.   $24.05 B  2308         Taiwan   \n",
       "\n",
       "                   sector                        industry  \\\n",
       "0             Industrials       Rental & Leasing Services   \n",
       "1  Communication Services                Telecom Services   \n",
       "2             Industrials                       Railroads   \n",
       "3  Communication Services  Internet Content & Information   \n",
       "4              Technology           Electronic Components   \n",
       "\n",
       "                   headquarters founded employees  \\\n",
       "0    Parsippany,NJ,UnitedStates   2006     16,000   \n",
       "1           SÃ£oPaulo,SP,Brazil    1998    34,000   \n",
       "2                   Tokyo,Japan            71,973   \n",
       "3  SanFrancisco,CA,UnitedStates    2008     7,867   \n",
       "4                 Taipei,Taiwan                     \n",
       "\n",
       "                            ceo  \n",
       "0         Mr. Joseph A. Ferraro  \n",
       "1   Mr. Christian  Mauad Gebara  \n",
       "2            Mr. Yuji  Fukasawa  \n",
       "3           Mr. Jeffrey  Lawson  \n",
       "4               Mr. Ping  Cheng  "
      ]
     },
     "execution_count": 233,
     "metadata": {},
     "output_type": "execute_result"
    }
   ],
   "source": [
    "dis5 = pd.read_json('de-sources-2022-2023/disfold.com/DeBiGa-disfold.json')\n",
    "dis5.head()"
   ]
  },
  {
   "cell_type": "code",
   "execution_count": 234,
   "metadata": {},
   "outputs": [
    {
     "name": "stdout",
     "output_type": "stream",
     "text": [
      "<class 'pandas.core.frame.DataFrame'>\n",
      "RangeIndex: 1000 entries, 0 to 999\n",
      "Data columns (total 10 columns):\n",
      " #   Column        Non-Null Count  Dtype \n",
      "---  ------        --------------  ----- \n",
      " 0   name          1000 non-null   object\n",
      " 1   market_cap    1000 non-null   object\n",
      " 2   stock         1000 non-null   object\n",
      " 3   country       1000 non-null   object\n",
      " 4   sector        1000 non-null   object\n",
      " 5   industry      1000 non-null   object\n",
      " 6   headquarters  1000 non-null   object\n",
      " 7   founded       1000 non-null   object\n",
      " 8   employees     1000 non-null   object\n",
      " 9   ceo           1000 non-null   object\n",
      "dtypes: object(10)\n",
      "memory usage: 78.2+ KB\n"
     ]
    }
   ],
   "source": [
    "dis5.info()"
   ]
  },
  {
   "cell_type": "code",
   "execution_count": 235,
   "metadata": {},
   "outputs": [
    {
     "data": {
      "text/plain": [
       "name            object\n",
       "market_cap      object\n",
       "stock           object\n",
       "country         object\n",
       "sector          object\n",
       "industry        object\n",
       "headquarters    object\n",
       "founded         object\n",
       "employees       object\n",
       "ceo             object\n",
       "dtype: object"
      ]
     },
     "execution_count": 235,
     "metadata": {},
     "output_type": "execute_result"
    }
   ],
   "source": [
    "dis5.dtypes"
   ]
  },
  {
   "cell_type": "code",
   "execution_count": 236,
   "metadata": {},
   "outputs": [
    {
     "data": {
      "text/plain": [
       "name            0\n",
       "market_cap      0\n",
       "stock           0\n",
       "country         0\n",
       "sector          0\n",
       "industry        0\n",
       "headquarters    0\n",
       "founded         0\n",
       "employees       0\n",
       "ceo             0\n",
       "dtype: int64"
      ]
     },
     "execution_count": 236,
     "metadata": {},
     "output_type": "execute_result"
    }
   ],
   "source": [
    "dis5.isnull().sum()"
   ]
  },
  {
   "cell_type": "code",
   "execution_count": 237,
   "metadata": {},
   "outputs": [
    {
     "data": {
      "text/html": [
       "<div>\n",
       "<style scoped>\n",
       "    .dataframe tbody tr th:only-of-type {\n",
       "        vertical-align: middle;\n",
       "    }\n",
       "\n",
       "    .dataframe tbody tr th {\n",
       "        vertical-align: top;\n",
       "    }\n",
       "\n",
       "    .dataframe thead th {\n",
       "        text-align: right;\n",
       "    }\n",
       "</style>\n",
       "<table border=\"1\" class=\"dataframe\">\n",
       "  <thead>\n",
       "    <tr style=\"text-align: right;\">\n",
       "      <th></th>\n",
       "      <th>name</th>\n",
       "      <th>marketCap</th>\n",
       "      <th>stock</th>\n",
       "      <th>sector</th>\n",
       "      <th>industry</th>\n",
       "      <th>country</th>\n",
       "    </tr>\n",
       "  </thead>\n",
       "  <tbody>\n",
       "    <tr>\n",
       "      <th>0</th>\n",
       "      <td>Apple Inc.</td>\n",
       "      <td>$2.825 T</td>\n",
       "      <td>AAPL</td>\n",
       "      <td>Technology</td>\n",
       "      <td>Consumer Electronics</td>\n",
       "      <td>United States</td>\n",
       "    </tr>\n",
       "    <tr>\n",
       "      <th>1</th>\n",
       "      <td>Microsoft Corporation</td>\n",
       "      <td>$2.328 T</td>\n",
       "      <td>MSFT</td>\n",
       "      <td>Technology</td>\n",
       "      <td>Software—Infrastructure</td>\n",
       "      <td>United States</td>\n",
       "    </tr>\n",
       "    <tr>\n",
       "      <th>2</th>\n",
       "      <td>Saudi Arabian Oil Company</td>\n",
       "      <td>$2.297 T</td>\n",
       "      <td>2222</td>\n",
       "      <td>Energy</td>\n",
       "      <td>Oil &amp; Gas Integrated</td>\n",
       "      <td>Saudi Arabia</td>\n",
       "    </tr>\n",
       "    <tr>\n",
       "      <th>3</th>\n",
       "      <td>Alphabet Inc.</td>\n",
       "      <td>$1.825 T</td>\n",
       "      <td>GOOG</td>\n",
       "      <td>Communication Services</td>\n",
       "      <td>Internet Content &amp; Information</td>\n",
       "      <td>United States</td>\n",
       "    </tr>\n",
       "    <tr>\n",
       "      <th>4</th>\n",
       "      <td>Amazon.com, Inc.</td>\n",
       "      <td>$1.642 T</td>\n",
       "      <td>AMZN</td>\n",
       "      <td>Consumer Discretionary</td>\n",
       "      <td>Internet Retail</td>\n",
       "      <td>United States</td>\n",
       "    </tr>\n",
       "  </tbody>\n",
       "</table>\n",
       "</div>"
      ],
      "text/plain": [
       "                        name marketCap stock                  sector  \\\n",
       "0                 Apple Inc.  $2.825 T  AAPL              Technology   \n",
       "1      Microsoft Corporation  $2.328 T  MSFT              Technology   \n",
       "2  Saudi Arabian Oil Company  $2.297 T  2222                  Energy   \n",
       "3              Alphabet Inc.  $1.825 T  GOOG  Communication Services   \n",
       "4           Amazon.com, Inc.  $1.642 T  AMZN  Consumer Discretionary   \n",
       "\n",
       "                         industry        country  \n",
       "0            Consumer Electronics  United States  \n",
       "1         Software—Infrastructure  United States  \n",
       "2            Oil & Gas Integrated   Saudi Arabia  \n",
       "3  Internet Content & Information  United States  \n",
       "4                 Internet Retail  United States  "
      ]
     },
     "execution_count": 237,
     "metadata": {},
     "output_type": "execute_result"
    }
   ],
   "source": [
    "dis6 = pd.read_json('de-sources-2022-2023/disfold.com/GioPonSpiz-disfold.json')\n",
    "dis6.head()"
   ]
  },
  {
   "cell_type": "code",
   "execution_count": 238,
   "metadata": {},
   "outputs": [
    {
     "name": "stdout",
     "output_type": "stream",
     "text": [
      "<class 'pandas.core.frame.DataFrame'>\n",
      "RangeIndex: 1000 entries, 0 to 999\n",
      "Data columns (total 6 columns):\n",
      " #   Column     Non-Null Count  Dtype \n",
      "---  ------     --------------  ----- \n",
      " 0   name       1000 non-null   object\n",
      " 1   marketCap  1000 non-null   object\n",
      " 2   stock      1000 non-null   object\n",
      " 3   sector     1000 non-null   object\n",
      " 4   industry   1000 non-null   object\n",
      " 5   country    1000 non-null   object\n",
      "dtypes: object(6)\n",
      "memory usage: 47.0+ KB\n"
     ]
    }
   ],
   "source": [
    "dis6.info()"
   ]
  },
  {
   "cell_type": "code",
   "execution_count": 239,
   "metadata": {},
   "outputs": [
    {
     "data": {
      "text/plain": [
       "name         object\n",
       "marketCap    object\n",
       "stock        object\n",
       "sector       object\n",
       "industry     object\n",
       "country      object\n",
       "dtype: object"
      ]
     },
     "execution_count": 239,
     "metadata": {},
     "output_type": "execute_result"
    }
   ],
   "source": [
    "dis6.dtypes"
   ]
  },
  {
   "cell_type": "code",
   "execution_count": 240,
   "metadata": {},
   "outputs": [
    {
     "data": {
      "text/plain": [
       "name         0\n",
       "marketCap    0\n",
       "stock        0\n",
       "sector       0\n",
       "industry     0\n",
       "country      0\n",
       "dtype: int64"
      ]
     },
     "execution_count": 240,
     "metadata": {},
     "output_type": "execute_result"
    }
   ],
   "source": [
    "dis6.isnull().sum()"
   ]
  },
  {
   "cell_type": "code",
   "execution_count": 241,
   "metadata": {},
   "outputs": [
    {
     "data": {
      "text/html": [
       "<div>\n",
       "<style scoped>\n",
       "    .dataframe tbody tr th:only-of-type {\n",
       "        vertical-align: middle;\n",
       "    }\n",
       "\n",
       "    .dataframe tbody tr th {\n",
       "        vertical-align: top;\n",
       "    }\n",
       "\n",
       "    .dataframe thead th {\n",
       "        text-align: right;\n",
       "    }\n",
       "</style>\n",
       "<table border=\"1\" class=\"dataframe\">\n",
       "  <thead>\n",
       "    <tr style=\"text-align: right;\">\n",
       "      <th></th>\n",
       "      <th>name</th>\n",
       "      <th>code</th>\n",
       "      <th>rank</th>\n",
       "      <th>ceo</th>\n",
       "      <th>country</th>\n",
       "      <th>sector</th>\n",
       "      <th>industry</th>\n",
       "      <th>headquarters</th>\n",
       "      <th>employees</th>\n",
       "      <th>founded</th>\n",
       "      <th>marketcap</th>\n",
       "      <th>revenue</th>\n",
       "      <th>net income</th>\n",
       "      <th>link</th>\n",
       "    </tr>\n",
       "  </thead>\n",
       "  <tbody>\n",
       "    <tr>\n",
       "      <th>0</th>\n",
       "      <td>Apple</td>\n",
       "      <td>AAPL</td>\n",
       "      <td>1</td>\n",
       "      <td>Mr. Timothy D. Cook</td>\n",
       "      <td>United States</td>\n",
       "      <td>Technology</td>\n",
       "      <td>Consumer Electronics</td>\n",
       "      <td>Cupertino, CA, United States</td>\n",
       "      <td>100,000</td>\n",
       "      <td>April 1, 1976</td>\n",
       "      <td>$2.825 Trillion</td>\n",
       "      <td>US$365.82 billion (2021)</td>\n",
       "      <td>US$94.68 billion (2021)</td>\n",
       "      <td>[https://www.apple.com, https://www.facebook.c...</td>\n",
       "    </tr>\n",
       "    <tr>\n",
       "      <th>1</th>\n",
       "      <td>ExxonMobil</td>\n",
       "      <td>XOM</td>\n",
       "      <td>23</td>\n",
       "      <td>Mr. Darren W. Woods</td>\n",
       "      <td>United States</td>\n",
       "      <td>Energy</td>\n",
       "      <td>Oil &amp; Gas Integrated</td>\n",
       "      <td>Irving, TX, United States</td>\n",
       "      <td>63,000</td>\n",
       "      <td>November 30, 1999</td>\n",
       "      <td>$348.72 Billion</td>\n",
       "      <td>US$276.692 billion (2021)</td>\n",
       "      <td>US$23.040 billion (2021)</td>\n",
       "      <td>[https://corporate.exxonmobil.com, https://en....</td>\n",
       "    </tr>\n",
       "    <tr>\n",
       "      <th>2</th>\n",
       "      <td>Roche</td>\n",
       "      <td>ROG</td>\n",
       "      <td>22</td>\n",
       "      <td>Dr. Severin Schwan Ph.D.</td>\n",
       "      <td>Switzerland</td>\n",
       "      <td>Healthcare</td>\n",
       "      <td>Drug Manufacturers—General</td>\n",
       "      <td>Basel, Switzerland</td>\n",
       "      <td>100,920</td>\n",
       "      <td>None</td>\n",
       "      <td>US$349.50 Billion</td>\n",
       "      <td>None</td>\n",
       "      <td>None</td>\n",
       "      <td>[https://www.roche.com]</td>\n",
       "    </tr>\n",
       "    <tr>\n",
       "      <th>3</th>\n",
       "      <td>Home Depot</td>\n",
       "      <td>HD</td>\n",
       "      <td>25</td>\n",
       "      <td>Mr. Edward P. Decker</td>\n",
       "      <td>United States</td>\n",
       "      <td>Consumer Discretionary</td>\n",
       "      <td>Home Improvement Retail</td>\n",
       "      <td>Atlanta, GA, United States</td>\n",
       "      <td>490,600</td>\n",
       "      <td>February 6, 1978</td>\n",
       "      <td>$321.47 Billion</td>\n",
       "      <td>US$110.2 billion (2019)</td>\n",
       "      <td>US$11.24 billion (2019)</td>\n",
       "      <td>[https://www.homedepot.com, https://en.wikiped...</td>\n",
       "    </tr>\n",
       "    <tr>\n",
       "      <th>4</th>\n",
       "      <td>Pfizer</td>\n",
       "      <td>PFE</td>\n",
       "      <td>27</td>\n",
       "      <td>Dr. Albert Bourla D.V.M., DVM, Ph.D.</td>\n",
       "      <td>United States</td>\n",
       "      <td>Healthcare</td>\n",
       "      <td>Drug Manufacturers—General</td>\n",
       "      <td>New York, NY, United States</td>\n",
       "      <td>79,000</td>\n",
       "      <td>1849</td>\n",
       "      <td>$300.79 Billion</td>\n",
       "      <td>$41.908 billion (2020)</td>\n",
       "      <td>$9.616 billion (2020)</td>\n",
       "      <td>[https://www.pfizer.com, https://www.facebook....</td>\n",
       "    </tr>\n",
       "  </tbody>\n",
       "</table>\n",
       "</div>"
      ],
      "text/plain": [
       "         name  code rank                                   ceo        country  \\\n",
       "0       Apple  AAPL    1                   Mr. Timothy D. Cook  United States   \n",
       "1  ExxonMobil   XOM   23                   Mr. Darren W. Woods  United States   \n",
       "2       Roche   ROG   22              Dr. Severin Schwan Ph.D.    Switzerland   \n",
       "3  Home Depot    HD   25                  Mr. Edward P. Decker  United States   \n",
       "4      Pfizer   PFE   27  Dr. Albert Bourla D.V.M., DVM, Ph.D.  United States   \n",
       "\n",
       "                   sector                    industry  \\\n",
       "0              Technology        Consumer Electronics   \n",
       "1                  Energy        Oil & Gas Integrated   \n",
       "2              Healthcare  Drug Manufacturers—General   \n",
       "3  Consumer Discretionary     Home Improvement Retail   \n",
       "4              Healthcare  Drug Manufacturers—General   \n",
       "\n",
       "                   headquarters employees            founded  \\\n",
       "0  Cupertino, CA, United States   100,000      April 1, 1976   \n",
       "1     Irving, TX, United States    63,000  November 30, 1999   \n",
       "2            Basel, Switzerland   100,920               None   \n",
       "3    Atlanta, GA, United States   490,600   February 6, 1978   \n",
       "4   New York, NY, United States    79,000               1849   \n",
       "\n",
       "           marketcap                    revenue                net income  \\\n",
       "0    $2.825 Trillion   US$365.82 billion (2021)   US$94.68 billion (2021)   \n",
       "1    $348.72 Billion  US$276.692 billion (2021)  US$23.040 billion (2021)   \n",
       "2  US$349.50 Billion                       None                      None   \n",
       "3    $321.47 Billion    US$110.2 billion (2019)   US$11.24 billion (2019)   \n",
       "4    $300.79 Billion     $41.908 billion (2020)     $9.616 billion (2020)   \n",
       "\n",
       "                                                link  \n",
       "0  [https://www.apple.com, https://www.facebook.c...  \n",
       "1  [https://corporate.exxonmobil.com, https://en....  \n",
       "2                            [https://www.roche.com]  \n",
       "3  [https://www.homedepot.com, https://en.wikiped...  \n",
       "4  [https://www.pfizer.com, https://www.facebook....  "
      ]
     },
     "execution_count": 241,
     "metadata": {},
     "output_type": "execute_result"
    }
   ],
   "source": [
    "dis7 = pd.read_json('de-sources-2022-2023/disfold.com/iGMM-disfold.json')\n",
    "dis7.head()"
   ]
  },
  {
   "cell_type": "code",
   "execution_count": 242,
   "metadata": {},
   "outputs": [
    {
     "name": "stdout",
     "output_type": "stream",
     "text": [
      "<class 'pandas.core.frame.DataFrame'>\n",
      "RangeIndex: 1000 entries, 0 to 999\n",
      "Data columns (total 14 columns):\n",
      " #   Column        Non-Null Count  Dtype \n",
      "---  ------        --------------  ----- \n",
      " 0   name          1000 non-null   object\n",
      " 1   code          1000 non-null   object\n",
      " 2   rank          1000 non-null   object\n",
      " 3   ceo           835 non-null    object\n",
      " 4   country       1000 non-null   object\n",
      " 5   sector        1000 non-null   object\n",
      " 6   industry      1000 non-null   object\n",
      " 7   headquarters  995 non-null    object\n",
      " 8   employees     958 non-null    object\n",
      " 9   founded       579 non-null    object\n",
      " 10  marketcap     1000 non-null   object\n",
      " 11  revenue       564 non-null    object\n",
      " 12  net income    525 non-null    object\n",
      " 13  link          1000 non-null   object\n",
      "dtypes: object(14)\n",
      "memory usage: 109.5+ KB\n"
     ]
    }
   ],
   "source": [
    "dis7.info()"
   ]
  },
  {
   "cell_type": "code",
   "execution_count": 243,
   "metadata": {},
   "outputs": [
    {
     "data": {
      "text/plain": [
       "name            object\n",
       "code            object\n",
       "rank            object\n",
       "ceo             object\n",
       "country         object\n",
       "sector          object\n",
       "industry        object\n",
       "headquarters    object\n",
       "employees       object\n",
       "founded         object\n",
       "marketcap       object\n",
       "revenue         object\n",
       "net income      object\n",
       "link            object\n",
       "dtype: object"
      ]
     },
     "execution_count": 243,
     "metadata": {},
     "output_type": "execute_result"
    }
   ],
   "source": [
    "dis7.dtypes"
   ]
  },
  {
   "cell_type": "code",
   "execution_count": 244,
   "metadata": {},
   "outputs": [
    {
     "data": {
      "text/plain": [
       "name              0\n",
       "code              0\n",
       "rank              0\n",
       "ceo             165\n",
       "country           0\n",
       "sector            0\n",
       "industry          0\n",
       "headquarters      5\n",
       "employees        42\n",
       "founded         421\n",
       "marketcap         0\n",
       "revenue         436\n",
       "net income      475\n",
       "link              0\n",
       "dtype: int64"
      ]
     },
     "execution_count": 244,
     "metadata": {},
     "output_type": "execute_result"
    }
   ],
   "source": [
    "dis7.isnull().sum()"
   ]
  },
  {
   "cell_type": "code",
   "execution_count": 245,
   "metadata": {},
   "outputs": [
    {
     "data": {
      "text/html": [
       "<div>\n",
       "<style scoped>\n",
       "    .dataframe tbody tr th:only-of-type {\n",
       "        vertical-align: middle;\n",
       "    }\n",
       "\n",
       "    .dataframe tbody tr th {\n",
       "        vertical-align: top;\n",
       "    }\n",
       "\n",
       "    .dataframe thead th {\n",
       "        text-align: right;\n",
       "    }\n",
       "</style>\n",
       "<table border=\"1\" class=\"dataframe\">\n",
       "  <thead>\n",
       "    <tr style=\"text-align: right;\">\n",
       "      <th></th>\n",
       "      <th>name</th>\n",
       "      <th>market_capitalization_USD</th>\n",
       "      <th>stock</th>\n",
       "      <th>country</th>\n",
       "      <th>sector</th>\n",
       "      <th>industry</th>\n",
       "    </tr>\n",
       "  </thead>\n",
       "  <tbody>\n",
       "    <tr>\n",
       "      <th>0</th>\n",
       "      <td>Apple Inc.</td>\n",
       "      <td>2825000000000</td>\n",
       "      <td>AAPL</td>\n",
       "      <td>United States</td>\n",
       "      <td>Technology</td>\n",
       "      <td>Consumer Electronics</td>\n",
       "    </tr>\n",
       "    <tr>\n",
       "      <th>1</th>\n",
       "      <td>Microsoft Corporation</td>\n",
       "      <td>2328000000000</td>\n",
       "      <td>MSFT</td>\n",
       "      <td>United States</td>\n",
       "      <td>Technology</td>\n",
       "      <td>Software—Infrastructure</td>\n",
       "    </tr>\n",
       "    <tr>\n",
       "      <th>2</th>\n",
       "      <td>Saudi Arabian Oil Company</td>\n",
       "      <td>2297000000000</td>\n",
       "      <td>2222</td>\n",
       "      <td>Saudi Arabia</td>\n",
       "      <td>Energy</td>\n",
       "      <td>Oil &amp; Gas Integrated</td>\n",
       "    </tr>\n",
       "    <tr>\n",
       "      <th>3</th>\n",
       "      <td>Alphabet Inc.</td>\n",
       "      <td>1825000000000</td>\n",
       "      <td>GOOG</td>\n",
       "      <td>United States</td>\n",
       "      <td>Communication Services</td>\n",
       "      <td>Internet Content &amp; Information</td>\n",
       "    </tr>\n",
       "    <tr>\n",
       "      <th>4</th>\n",
       "      <td>Amazon.com, Inc.</td>\n",
       "      <td>1642000000000</td>\n",
       "      <td>AMZN</td>\n",
       "      <td>United States</td>\n",
       "      <td>Consumer Discretionary</td>\n",
       "      <td>Internet Retail</td>\n",
       "    </tr>\n",
       "  </tbody>\n",
       "</table>\n",
       "</div>"
      ],
      "text/plain": [
       "                        name  market_capitalization_USD stock        country  \\\n",
       "0                 Apple Inc.              2825000000000  AAPL  United States   \n",
       "1      Microsoft Corporation              2328000000000  MSFT  United States   \n",
       "2  Saudi Arabian Oil Company              2297000000000  2222   Saudi Arabia   \n",
       "3              Alphabet Inc.              1825000000000  GOOG  United States   \n",
       "4           Amazon.com, Inc.              1642000000000  AMZN  United States   \n",
       "\n",
       "                   sector                        industry  \n",
       "0              Technology            Consumer Electronics  \n",
       "1              Technology         Software—Infrastructure  \n",
       "2                  Energy            Oil & Gas Integrated  \n",
       "3  Communication Services  Internet Content & Information  \n",
       "4  Consumer Discretionary                 Internet Retail  "
      ]
     },
     "execution_count": 245,
     "metadata": {},
     "output_type": "execute_result"
    }
   ],
   "source": [
    "dis8 = pd.read_json('de-sources-2022-2023/disfold.com/gren-disfold.com.json')\n",
    "dis8.head()"
   ]
  },
  {
   "cell_type": "code",
   "execution_count": 246,
   "metadata": {},
   "outputs": [
    {
     "name": "stdout",
     "output_type": "stream",
     "text": [
      "<class 'pandas.core.frame.DataFrame'>\n",
      "RangeIndex: 1000 entries, 0 to 999\n",
      "Data columns (total 6 columns):\n",
      " #   Column                     Non-Null Count  Dtype \n",
      "---  ------                     --------------  ----- \n",
      " 0   name                       1000 non-null   object\n",
      " 1   market_capitalization_USD  1000 non-null   int64 \n",
      " 2   stock                      1000 non-null   object\n",
      " 3   country                    1000 non-null   object\n",
      " 4   sector                     1000 non-null   object\n",
      " 5   industry                   1000 non-null   object\n",
      "dtypes: int64(1), object(5)\n",
      "memory usage: 47.0+ KB\n"
     ]
    }
   ],
   "source": [
    "dis8.info()"
   ]
  },
  {
   "cell_type": "code",
   "execution_count": 247,
   "metadata": {},
   "outputs": [
    {
     "data": {
      "text/plain": [
       "name                         object\n",
       "market_capitalization_USD     int64\n",
       "stock                        object\n",
       "country                      object\n",
       "sector                       object\n",
       "industry                     object\n",
       "dtype: object"
      ]
     },
     "execution_count": 247,
     "metadata": {},
     "output_type": "execute_result"
    }
   ],
   "source": [
    "dis8.dtypes"
   ]
  },
  {
   "cell_type": "code",
   "execution_count": 248,
   "metadata": {},
   "outputs": [
    {
     "data": {
      "text/plain": [
       "name                         0\n",
       "market_capitalization_USD    0\n",
       "stock                        0\n",
       "country                      0\n",
       "sector                       0\n",
       "industry                     0\n",
       "dtype: int64"
      ]
     },
     "execution_count": 248,
     "metadata": {},
     "output_type": "execute_result"
    }
   ],
   "source": [
    "dis8.isnull().sum()"
   ]
  },
  {
   "cell_type": "code",
   "execution_count": 249,
   "metadata": {},
   "outputs": [
    {
     "data": {
      "text/html": [
       "<div>\n",
       "<style scoped>\n",
       "    .dataframe tbody tr th:only-of-type {\n",
       "        vertical-align: middle;\n",
       "    }\n",
       "\n",
       "    .dataframe tbody tr th {\n",
       "        vertical-align: top;\n",
       "    }\n",
       "\n",
       "    .dataframe thead th {\n",
       "        text-align: right;\n",
       "    }\n",
       "</style>\n",
       "<table border=\"1\" class=\"dataframe\">\n",
       "  <thead>\n",
       "    <tr style=\"text-align: right;\">\n",
       "      <th></th>\n",
       "      <th>link</th>\n",
       "      <th>name</th>\n",
       "      <th>headquarters</th>\n",
       "      <th>employees</th>\n",
       "      <th>ceo</th>\n",
       "      <th>market_cap</th>\n",
       "    </tr>\n",
       "  </thead>\n",
       "  <tbody>\n",
       "    <tr>\n",
       "      <th>0</th>\n",
       "      <td>https://disfold.com/company/great-wall-motor-c...</td>\n",
       "      <td>Great Wall Motor Co Ltd</td>\n",
       "      <td>Baoding, China</td>\n",
       "      <td>63,174</td>\n",
       "      <td>Not found</td>\n",
       "      <td>CN¥203.69 Billion</td>\n",
       "    </tr>\n",
       "    <tr>\n",
       "      <th>1</th>\n",
       "      <td>https://disfold.com/company/colbun-sa/</td>\n",
       "      <td>Colbún SA</td>\n",
       "      <td>Santiago, Chile</td>\n",
       "      <td>1,193</td>\n",
       "      <td>Mr. Thomas Lippold Keller</td>\n",
       "      <td>CL$1.098 Trillion</td>\n",
       "    </tr>\n",
       "    <tr>\n",
       "      <th>2</th>\n",
       "      <td>https://disfold.com/company/usinas-siderurgica...</td>\n",
       "      <td>Usinas Siderúrgicas de Minas Gerais SA</td>\n",
       "      <td>Belo Horizonte, Brazil</td>\n",
       "      <td>Not found</td>\n",
       "      <td>Mr. Sergio Leite de Andrade</td>\n",
       "      <td>€3.54 Billion</td>\n",
       "    </tr>\n",
       "    <tr>\n",
       "      <th>3</th>\n",
       "      <td>https://disfold.com/company/origin-enterprises...</td>\n",
       "      <td>Origin Enterprises plc</td>\n",
       "      <td>Dublin, Ireland</td>\n",
       "      <td>2,641</td>\n",
       "      <td>Mr. Sean Gerard Coyle</td>\n",
       "      <td>€539.3 Million</td>\n",
       "    </tr>\n",
       "    <tr>\n",
       "      <th>4</th>\n",
       "      <td>https://disfold.com/company/summit-real-estate...</td>\n",
       "      <td>Summit Real Estate Holdings Ltd</td>\n",
       "      <td>Haifa, Israel</td>\n",
       "      <td>144</td>\n",
       "      <td>Mr. Amir  Sagi</td>\n",
       "      <td>₪45.1 Million</td>\n",
       "    </tr>\n",
       "  </tbody>\n",
       "</table>\n",
       "</div>"
      ],
      "text/plain": [
       "                                                link  \\\n",
       "0  https://disfold.com/company/great-wall-motor-c...   \n",
       "1             https://disfold.com/company/colbun-sa/   \n",
       "2  https://disfold.com/company/usinas-siderurgica...   \n",
       "3  https://disfold.com/company/origin-enterprises...   \n",
       "4  https://disfold.com/company/summit-real-estate...   \n",
       "\n",
       "                                     name            headquarters  employees  \\\n",
       "0                 Great Wall Motor Co Ltd          Baoding, China     63,174   \n",
       "1                               Colbún SA         Santiago, Chile      1,193   \n",
       "2  Usinas Siderúrgicas de Minas Gerais SA  Belo Horizonte, Brazil  Not found   \n",
       "3                  Origin Enterprises plc         Dublin, Ireland      2,641   \n",
       "4         Summit Real Estate Holdings Ltd           Haifa, Israel        144   \n",
       "\n",
       "                           ceo         market_cap  \n",
       "0                    Not found  CN¥203.69 Billion  \n",
       "1    Mr. Thomas Lippold Keller  CL$1.098 Trillion  \n",
       "2  Mr. Sergio Leite de Andrade      €3.54 Billion  \n",
       "3        Mr. Sean Gerard Coyle     €539.3 Million  \n",
       "4               Mr. Amir  Sagi      ₪45.1 Million  "
      ]
     },
     "execution_count": 249,
     "metadata": {},
     "output_type": "execute_result"
    }
   ],
   "source": [
    "dis9 = pd.read_json('de-sources-2022-2023/disfold.com/slytherin-disfold.com.json')\n",
    "dis9.head()"
   ]
  },
  {
   "cell_type": "code",
   "execution_count": 250,
   "metadata": {},
   "outputs": [
    {
     "name": "stdout",
     "output_type": "stream",
     "text": [
      "<class 'pandas.core.frame.DataFrame'>\n",
      "RangeIndex: 16097 entries, 0 to 16096\n",
      "Data columns (total 6 columns):\n",
      " #   Column        Non-Null Count  Dtype \n",
      "---  ------        --------------  ----- \n",
      " 0   link          16097 non-null  object\n",
      " 1   name          16097 non-null  object\n",
      " 2   headquarters  16097 non-null  object\n",
      " 3   employees     16097 non-null  object\n",
      " 4   ceo           16097 non-null  object\n",
      " 5   market_cap    16097 non-null  object\n",
      "dtypes: object(6)\n",
      "memory usage: 754.7+ KB\n"
     ]
    }
   ],
   "source": [
    "dis9.info()"
   ]
  },
  {
   "cell_type": "code",
   "execution_count": 251,
   "metadata": {},
   "outputs": [
    {
     "data": {
      "text/plain": [
       "link            object\n",
       "name            object\n",
       "headquarters    object\n",
       "employees       object\n",
       "ceo             object\n",
       "market_cap      object\n",
       "dtype: object"
      ]
     },
     "execution_count": 251,
     "metadata": {},
     "output_type": "execute_result"
    }
   ],
   "source": [
    "dis9.dtypes"
   ]
  },
  {
   "cell_type": "code",
   "execution_count": 252,
   "metadata": {},
   "outputs": [
    {
     "data": {
      "text/plain": [
       "link            0\n",
       "name            0\n",
       "headquarters    0\n",
       "employees       0\n",
       "ceo             0\n",
       "market_cap      0\n",
       "dtype: int64"
      ]
     },
     "execution_count": 252,
     "metadata": {},
     "output_type": "execute_result"
    }
   ],
   "source": [
    "dis9.isnull().sum()"
   ]
  },
  {
   "attachments": {},
   "cell_type": "markdown",
   "metadata": {},
   "source": [
    "### Formato .xlsx"
   ]
  },
  {
   "cell_type": "code",
   "execution_count": 253,
   "metadata": {},
   "outputs": [
    {
     "name": "stderr",
     "output_type": "stream",
     "text": [
      "c:\\Users\\giord\\anaconda3\\lib\\site-packages\\openpyxl\\worksheet\\header_footer.py:48: UserWarning: Cannot parse header or footer so it will be ignored\n",
      "  warn(\"\"\"Cannot parse header or footer so it will be ignored\"\"\")\n"
     ]
    },
    {
     "data": {
      "text/html": [
       "<div>\n",
       "<style scoped>\n",
       "    .dataframe tbody tr th:only-of-type {\n",
       "        vertical-align: middle;\n",
       "    }\n",
       "\n",
       "    .dataframe tbody tr th {\n",
       "        vertical-align: top;\n",
       "    }\n",
       "\n",
       "    .dataframe thead th {\n",
       "        text-align: right;\n",
       "    }\n",
       "</style>\n",
       "<table border=\"1\" class=\"dataframe\">\n",
       "  <thead>\n",
       "    <tr style=\"text-align: right;\">\n",
       "      <th></th>\n",
       "      <th>Unnamed: 0</th>\n",
       "      <th>Name</th>\n",
       "      <th>MarketCap</th>\n",
       "      <th>Stock</th>\n",
       "      <th>Country</th>\n",
       "      <th>Sector</th>\n",
       "      <th>Industry</th>\n",
       "    </tr>\n",
       "  </thead>\n",
       "  <tbody>\n",
       "    <tr>\n",
       "      <th>0</th>\n",
       "      <td>0</td>\n",
       "      <td>Apple Inc.</td>\n",
       "      <td>$2.825 T</td>\n",
       "      <td>AAPL</td>\n",
       "      <td>United States</td>\n",
       "      <td>Technology</td>\n",
       "      <td>Consumer Electronics</td>\n",
       "    </tr>\n",
       "    <tr>\n",
       "      <th>1</th>\n",
       "      <td>1</td>\n",
       "      <td>Microsoft Corporation</td>\n",
       "      <td>$2.328 T</td>\n",
       "      <td>MSFT</td>\n",
       "      <td>United States</td>\n",
       "      <td>Technology</td>\n",
       "      <td>Software—Infrastructure</td>\n",
       "    </tr>\n",
       "    <tr>\n",
       "      <th>2</th>\n",
       "      <td>2</td>\n",
       "      <td>Saudi Arabian Oil Company</td>\n",
       "      <td>$2.297 T</td>\n",
       "      <td>2222</td>\n",
       "      <td>Saudi Arabia</td>\n",
       "      <td>Energy</td>\n",
       "      <td>Oil &amp; Gas Integrated</td>\n",
       "    </tr>\n",
       "    <tr>\n",
       "      <th>3</th>\n",
       "      <td>3</td>\n",
       "      <td>Alphabet Inc.</td>\n",
       "      <td>$1.825 T</td>\n",
       "      <td>GOOG</td>\n",
       "      <td>United States</td>\n",
       "      <td>Communication Services</td>\n",
       "      <td>Internet Content &amp; Information</td>\n",
       "    </tr>\n",
       "    <tr>\n",
       "      <th>4</th>\n",
       "      <td>4</td>\n",
       "      <td>Amazon.com, Inc.</td>\n",
       "      <td>$1.642 T</td>\n",
       "      <td>AMZN</td>\n",
       "      <td>United States</td>\n",
       "      <td>Consumer Discretionary</td>\n",
       "      <td>Internet Retail</td>\n",
       "    </tr>\n",
       "  </tbody>\n",
       "</table>\n",
       "</div>"
      ],
      "text/plain": [
       "   Unnamed: 0                       Name MarketCap Stock        Country  \\\n",
       "0           0                 Apple Inc.  $2.825 T  AAPL  United States   \n",
       "1           1      Microsoft Corporation  $2.328 T  MSFT  United States   \n",
       "2           2  Saudi Arabian Oil Company  $2.297 T  2222   Saudi Arabia   \n",
       "3           3              Alphabet Inc.  $1.825 T  GOOG  United States   \n",
       "4           4           Amazon.com, Inc.  $1.642 T  AMZN  United States   \n",
       "\n",
       "                   Sector                        Industry  \n",
       "0              Technology            Consumer Electronics  \n",
       "1              Technology         Software—Infrastructure  \n",
       "2                  Energy            Oil & Gas Integrated  \n",
       "3  Communication Services  Internet Content & Information  \n",
       "4  Consumer Discretionary                 Internet Retail  "
      ]
     },
     "execution_count": 253,
     "metadata": {},
     "output_type": "execute_result"
    }
   ],
   "source": [
    "dis10 = pd.read_excel('de-sources-2022-2023/disfold.com/MalPatSaj-disfold.com.xlsx')\n",
    "dis10.head()"
   ]
  },
  {
   "cell_type": "code",
   "execution_count": 254,
   "metadata": {},
   "outputs": [
    {
     "name": "stdout",
     "output_type": "stream",
     "text": [
      "<class 'pandas.core.frame.DataFrame'>\n",
      "RangeIndex: 1000 entries, 0 to 999\n",
      "Data columns (total 7 columns):\n",
      " #   Column      Non-Null Count  Dtype \n",
      "---  ------      --------------  ----- \n",
      " 0   Unnamed: 0  1000 non-null   int64 \n",
      " 1   Name        1000 non-null   object\n",
      " 2   MarketCap   1000 non-null   object\n",
      " 3   Stock       999 non-null    object\n",
      " 4   Country     1000 non-null   object\n",
      " 5   Sector      1000 non-null   object\n",
      " 6   Industry    1000 non-null   object\n",
      "dtypes: int64(1), object(6)\n",
      "memory usage: 54.8+ KB\n"
     ]
    }
   ],
   "source": [
    "dis10.info()"
   ]
  },
  {
   "cell_type": "code",
   "execution_count": 255,
   "metadata": {},
   "outputs": [
    {
     "data": {
      "text/plain": [
       "Unnamed: 0     int64\n",
       "Name          object\n",
       "MarketCap     object\n",
       "Stock         object\n",
       "Country       object\n",
       "Sector        object\n",
       "Industry      object\n",
       "dtype: object"
      ]
     },
     "execution_count": 255,
     "metadata": {},
     "output_type": "execute_result"
    }
   ],
   "source": [
    "dis10.dtypes"
   ]
  },
  {
   "cell_type": "code",
   "execution_count": 256,
   "metadata": {},
   "outputs": [
    {
     "data": {
      "text/plain": [
       "Unnamed: 0    0\n",
       "Name          0\n",
       "MarketCap     0\n",
       "Stock         1\n",
       "Country       0\n",
       "Sector        0\n",
       "Industry      0\n",
       "dtype: int64"
      ]
     },
     "execution_count": 256,
     "metadata": {},
     "output_type": "execute_result"
    }
   ],
   "source": [
    "dis10.isnull().sum()"
   ]
  },
  {
   "attachments": {},
   "cell_type": "markdown",
   "metadata": {},
   "source": [
    "### **forbes.com**"
   ]
  },
  {
   "attachments": {},
   "cell_type": "markdown",
   "metadata": {},
   "source": [
    "#### Formato .csv"
   ]
  },
  {
   "cell_type": "code",
   "execution_count": 257,
   "metadata": {},
   "outputs": [
    {
     "data": {
      "text/html": [
       "<div>\n",
       "<style scoped>\n",
       "    .dataframe tbody tr th:only-of-type {\n",
       "        vertical-align: middle;\n",
       "    }\n",
       "\n",
       "    .dataframe tbody tr th {\n",
       "        vertical-align: top;\n",
       "    }\n",
       "\n",
       "    .dataframe thead th {\n",
       "        text-align: right;\n",
       "    }\n",
       "</style>\n",
       "<table border=\"1\" class=\"dataframe\">\n",
       "  <thead>\n",
       "    <tr style=\"text-align: right;\">\n",
       "      <th></th>\n",
       "      <th>Industry</th>\n",
       "      <th>Founded</th>\n",
       "      <th>Revenue</th>\n",
       "      <th>Name</th>\n",
       "      <th>Location</th>\n",
       "    </tr>\n",
       "  </thead>\n",
       "  <tbody>\n",
       "    <tr>\n",
       "      <th>1433</th>\n",
       "      <td>Chemicals</td>\n",
       "      <td>1892.0</td>\n",
       "      <td>$8.9B</td>\n",
       "      <td>Olin</td>\n",
       "      <td>Clayton, Missouri</td>\n",
       "    </tr>\n",
       "    <tr>\n",
       "      <th>1434</th>\n",
       "      <td>Diversified Financials</td>\n",
       "      <td>1973.0</td>\n",
       "      <td>$1.4B</td>\n",
       "      <td>Kimco Realty</td>\n",
       "      <td>Jericho, New York</td>\n",
       "    </tr>\n",
       "    <tr>\n",
       "      <th>1435</th>\n",
       "      <td>Banking</td>\n",
       "      <td>1996.0</td>\n",
       "      <td>$3.9B</td>\n",
       "      <td>Bank of Chongqing</td>\n",
       "      <td>Chongqing, China</td>\n",
       "    </tr>\n",
       "    <tr>\n",
       "      <th>1436</th>\n",
       "      <td>Technology Hardware &amp; Equipment</td>\n",
       "      <td>2000.0</td>\n",
       "      <td>$3.3B</td>\n",
       "      <td>Fortinet</td>\n",
       "      <td>Sunnyvale, California</td>\n",
       "    </tr>\n",
       "    <tr>\n",
       "      <th>1437</th>\n",
       "      <td>Household &amp; Personal Products</td>\n",
       "      <td>1846.0</td>\n",
       "      <td>$5.2B</td>\n",
       "      <td>Church &amp; Dwight</td>\n",
       "      <td>Ewing, New Jersey</td>\n",
       "    </tr>\n",
       "  </tbody>\n",
       "</table>\n",
       "</div>"
      ],
      "text/plain": [
       "                             Industry  Founded Revenue               Name  \\\n",
       "1433                        Chemicals   1892.0   $8.9B               Olin   \n",
       "1434           Diversified Financials   1973.0   $1.4B       Kimco Realty   \n",
       "1435                          Banking   1996.0   $3.9B  Bank of Chongqing   \n",
       "1436  Technology Hardware & Equipment   2000.0   $3.3B           Fortinet   \n",
       "1437    Household & Personal Products   1846.0   $5.2B    Church & Dwight   \n",
       "\n",
       "                   Location  \n",
       "1433      Clayton, Missouri  \n",
       "1434      Jericho, New York  \n",
       "1435       Chongqing, China  \n",
       "1436  Sunnyvale, California  \n",
       "1437      Ewing, New Jersey  "
      ]
     },
     "execution_count": 257,
     "metadata": {},
     "output_type": "execute_result"
    }
   ],
   "source": [
    "for1 = pd.read_csv(\"de-sources-2022-2023/forbes.com/FR-forbes.csv\")\n",
    "for1.tail(5)"
   ]
  },
  {
   "cell_type": "code",
   "execution_count": 258,
   "metadata": {},
   "outputs": [
    {
     "name": "stdout",
     "output_type": "stream",
     "text": [
      "<class 'pandas.core.frame.DataFrame'>\n",
      "RangeIndex: 1438 entries, 0 to 1437\n",
      "Data columns (total 5 columns):\n",
      " #   Column    Non-Null Count  Dtype  \n",
      "---  ------    --------------  -----  \n",
      " 0   Industry  1438 non-null   object \n",
      " 1   Founded   1396 non-null   float64\n",
      " 2   Revenue   1438 non-null   object \n",
      " 3   Name      1438 non-null   object \n",
      " 4   Location  1438 non-null   object \n",
      "dtypes: float64(1), object(4)\n",
      "memory usage: 56.3+ KB\n"
     ]
    }
   ],
   "source": [
    "for1.info()"
   ]
  },
  {
   "cell_type": "code",
   "execution_count": 259,
   "metadata": {},
   "outputs": [
    {
     "data": {
      "text/plain": [
       "Industry     object\n",
       "Founded     float64\n",
       "Revenue      object\n",
       "Name         object\n",
       "Location     object\n",
       "dtype: object"
      ]
     },
     "execution_count": 259,
     "metadata": {},
     "output_type": "execute_result"
    }
   ],
   "source": [
    "for1.dtypes"
   ]
  },
  {
   "cell_type": "code",
   "execution_count": 260,
   "metadata": {},
   "outputs": [
    {
     "data": {
      "text/plain": [
       "Industry     0\n",
       "Founded     42\n",
       "Revenue      0\n",
       "Name         0\n",
       "Location     0\n",
       "dtype: int64"
      ]
     },
     "execution_count": 260,
     "metadata": {},
     "output_type": "execute_result"
    }
   ],
   "source": [
    "for1.isnull().sum()"
   ]
  },
  {
   "cell_type": "code",
   "execution_count": 261,
   "metadata": {},
   "outputs": [
    {
     "data": {
      "text/html": [
       "<div>\n",
       "<style scoped>\n",
       "    .dataframe tbody tr th:only-of-type {\n",
       "        vertical-align: middle;\n",
       "    }\n",
       "\n",
       "    .dataframe tbody tr th {\n",
       "        vertical-align: top;\n",
       "    }\n",
       "\n",
       "    .dataframe thead th {\n",
       "        text-align: right;\n",
       "    }\n",
       "</style>\n",
       "<table border=\"1\" class=\"dataframe\">\n",
       "  <thead>\n",
       "    <tr style=\"text-align: right;\">\n",
       "      <th></th>\n",
       "      <th>country</th>\n",
       "      <th>market_value_apr_2022</th>\n",
       "      <th>name</th>\n",
       "      <th>revenue_2022</th>\n",
       "    </tr>\n",
       "  </thead>\n",
       "  <tbody>\n",
       "    <tr>\n",
       "      <th>995</th>\n",
       "      <td>ireland</td>\n",
       "      <td>$12.59 B</td>\n",
       "      <td>aercap holdings</td>\n",
       "      <td>$4.52 B</td>\n",
       "    </tr>\n",
       "    <tr>\n",
       "      <th>996</th>\n",
       "      <td>united states</td>\n",
       "      <td>$12.21 B</td>\n",
       "      <td>first horizon</td>\n",
       "      <td>$3.15 B</td>\n",
       "    </tr>\n",
       "    <tr>\n",
       "      <th>997</th>\n",
       "      <td>japan</td>\n",
       "      <td>$10.34 B</td>\n",
       "      <td>dentsu</td>\n",
       "      <td>$9.88 B</td>\n",
       "    </tr>\n",
       "    <tr>\n",
       "      <th>998</th>\n",
       "      <td>united states</td>\n",
       "      <td>$19.08 B</td>\n",
       "      <td>molina healthcare</td>\n",
       "      <td>$27.77 B</td>\n",
       "    </tr>\n",
       "    <tr>\n",
       "      <th>999</th>\n",
       "      <td>india</td>\n",
       "      <td>$3.62 B</td>\n",
       "      <td>union bank of india</td>\n",
       "      <td>$11.28 B</td>\n",
       "    </tr>\n",
       "  </tbody>\n",
       "</table>\n",
       "</div>"
      ],
      "text/plain": [
       "           country market_value_apr_2022                 name revenue_2022\n",
       "995        ireland              $12.59 B      aercap holdings      $4.52 B\n",
       "996  united states              $12.21 B        first horizon      $3.15 B\n",
       "997          japan              $10.34 B               dentsu      $9.88 B\n",
       "998  united states              $19.08 B    molina healthcare     $27.77 B\n",
       "999          india               $3.62 B  union bank of india     $11.28 B"
      ]
     },
     "execution_count": 261,
     "metadata": {},
     "output_type": "execute_result"
    }
   ],
   "source": [
    "for2 = pd.read_csv(\"de-sources-2022-2023/forbes.com/silvestri-forbes.com.csv\")\n",
    "for2.tail(5)"
   ]
  },
  {
   "cell_type": "code",
   "execution_count": 262,
   "metadata": {},
   "outputs": [
    {
     "name": "stdout",
     "output_type": "stream",
     "text": [
      "<class 'pandas.core.frame.DataFrame'>\n",
      "RangeIndex: 1000 entries, 0 to 999\n",
      "Data columns (total 4 columns):\n",
      " #   Column                 Non-Null Count  Dtype \n",
      "---  ------                 --------------  ----- \n",
      " 0   country                1000 non-null   object\n",
      " 1   market_value_apr_2022  1000 non-null   object\n",
      " 2   name                   1000 non-null   object\n",
      " 3   revenue_2022           1000 non-null   object\n",
      "dtypes: object(4)\n",
      "memory usage: 31.4+ KB\n"
     ]
    }
   ],
   "source": [
    "for2.info()"
   ]
  },
  {
   "cell_type": "code",
   "execution_count": 263,
   "metadata": {},
   "outputs": [
    {
     "data": {
      "text/plain": [
       "country                  object\n",
       "market_value_apr_2022    object\n",
       "name                     object\n",
       "revenue_2022             object\n",
       "dtype: object"
      ]
     },
     "execution_count": 263,
     "metadata": {},
     "output_type": "execute_result"
    }
   ],
   "source": [
    "for2.dtypes"
   ]
  },
  {
   "cell_type": "code",
   "execution_count": 264,
   "metadata": {},
   "outputs": [
    {
     "data": {
      "text/plain": [
       "country                  0\n",
       "market_value_apr_2022    0\n",
       "name                     0\n",
       "revenue_2022             0\n",
       "dtype: int64"
      ]
     },
     "execution_count": 264,
     "metadata": {},
     "output_type": "execute_result"
    }
   ],
   "source": [
    "for2.isnull().sum()"
   ]
  },
  {
   "attachments": {},
   "cell_type": "markdown",
   "metadata": {},
   "source": [
    "#### Formato .json"
   ]
  },
  {
   "cell_type": "code",
   "execution_count": 265,
   "metadata": {},
   "outputs": [
    {
     "data": {
      "text/html": [
       "<div>\n",
       "<style scoped>\n",
       "    .dataframe tbody tr th:only-of-type {\n",
       "        vertical-align: middle;\n",
       "    }\n",
       "\n",
       "    .dataframe tbody tr th {\n",
       "        vertical-align: top;\n",
       "    }\n",
       "\n",
       "    .dataframe thead th {\n",
       "        text-align: right;\n",
       "    }\n",
       "</style>\n",
       "<table border=\"1\" class=\"dataframe\">\n",
       "  <thead>\n",
       "    <tr style=\"text-align: right;\">\n",
       "      <th></th>\n",
       "      <th>link</th>\n",
       "      <th>name</th>\n",
       "      <th>industry</th>\n",
       "      <th>founded</th>\n",
       "      <th>country</th>\n",
       "      <th>ceo</th>\n",
       "      <th>employees</th>\n",
       "      <th>revenue</th>\n",
       "    </tr>\n",
       "  </thead>\n",
       "  <tbody>\n",
       "    <tr>\n",
       "      <th>0</th>\n",
       "      <td>https://www.forbes.com/companies/berkshire-hat...</td>\n",
       "      <td>Berkshire Hathaway</td>\n",
       "      <td>Diversified Financials</td>\n",
       "      <td>1939</td>\n",
       "      <td>United States</td>\n",
       "      <td>Warren Edward Buffett</td>\n",
       "      <td>372,000</td>\n",
       "      <td>$276.1B</td>\n",
       "    </tr>\n",
       "    <tr>\n",
       "      <th>1</th>\n",
       "      <td>https://www.forbes.com/companies/icbc</td>\n",
       "      <td>ICBC</td>\n",
       "      <td>Banking</td>\n",
       "      <td>1984</td>\n",
       "      <td>China</td>\n",
       "      <td>Shu Gu</td>\n",
       "      <td>434,089</td>\n",
       "      <td>$208.1B</td>\n",
       "    </tr>\n",
       "    <tr>\n",
       "      <th>2</th>\n",
       "      <td>https://www.forbes.com/companies/saudi-arabian...</td>\n",
       "      <td>Saudi Arabian Oil Company (Saudi Aramco)</td>\n",
       "      <td>Oil &amp; Gas Operations</td>\n",
       "      <td>1933</td>\n",
       "      <td>Saudi Arabia</td>\n",
       "      <td>Amin bin Hasan Al-Nasser</td>\n",
       "      <td>68,493</td>\n",
       "      <td>$400.4B</td>\n",
       "    </tr>\n",
       "    <tr>\n",
       "      <th>3</th>\n",
       "      <td>https://www.forbes.com/companies/jpmorgan-chase</td>\n",
       "      <td>JPMorgan Chase</td>\n",
       "      <td>Banking and Financial Services</td>\n",
       "      <td>2000</td>\n",
       "      <td>United States</td>\n",
       "      <td>Jamie Dimon</td>\n",
       "      <td>270,000</td>\n",
       "      <td>$124.5B</td>\n",
       "    </tr>\n",
       "    <tr>\n",
       "      <th>4</th>\n",
       "      <td>https://www.forbes.com/companies/china-constru...</td>\n",
       "      <td>China Construction Bank</td>\n",
       "      <td>Banking</td>\n",
       "      <td>2014</td>\n",
       "      <td>China</td>\n",
       "      <td>Wang Zuji</td>\n",
       "      <td>349,671</td>\n",
       "      <td>$202.1B</td>\n",
       "    </tr>\n",
       "  </tbody>\n",
       "</table>\n",
       "</div>"
      ],
      "text/plain": [
       "                                                link  \\\n",
       "0  https://www.forbes.com/companies/berkshire-hat...   \n",
       "1              https://www.forbes.com/companies/icbc   \n",
       "2  https://www.forbes.com/companies/saudi-arabian...   \n",
       "3    https://www.forbes.com/companies/jpmorgan-chase   \n",
       "4  https://www.forbes.com/companies/china-constru...   \n",
       "\n",
       "                                       name                        industry  \\\n",
       "0                        Berkshire Hathaway          Diversified Financials   \n",
       "1                                      ICBC                         Banking   \n",
       "2  Saudi Arabian Oil Company (Saudi Aramco)            Oil & Gas Operations   \n",
       "3                            JPMorgan Chase  Banking and Financial Services   \n",
       "4                   China Construction Bank                         Banking   \n",
       "\n",
       "  founded        country                       ceo employees  revenue  \n",
       "0    1939  United States     Warren Edward Buffett   372,000  $276.1B  \n",
       "1    1984          China                    Shu Gu   434,089  $208.1B  \n",
       "2    1933   Saudi Arabia  Amin bin Hasan Al-Nasser    68,493  $400.4B  \n",
       "3    2000  United States               Jamie Dimon   270,000  $124.5B  \n",
       "4    2014          China                 Wang Zuji   349,671  $202.1B  "
      ]
     },
     "execution_count": 265,
     "metadata": {},
     "output_type": "execute_result"
    }
   ],
   "source": [
    "for3 = pd.read_json('de-sources-2022-2023/forbes.com/slytherin-forbes.com.json')\n",
    "for3.head()"
   ]
  },
  {
   "cell_type": "code",
   "execution_count": 266,
   "metadata": {},
   "outputs": [
    {
     "name": "stdout",
     "output_type": "stream",
     "text": [
      "<class 'pandas.core.frame.DataFrame'>\n",
      "RangeIndex: 2000 entries, 0 to 1999\n",
      "Data columns (total 8 columns):\n",
      " #   Column     Non-Null Count  Dtype \n",
      "---  ------     --------------  ----- \n",
      " 0   link       2000 non-null   object\n",
      " 1   name       2000 non-null   object\n",
      " 2   industry   2000 non-null   object\n",
      " 3   founded    2000 non-null   object\n",
      " 4   country    2000 non-null   object\n",
      " 5   ceo        2000 non-null   object\n",
      " 6   employees  2000 non-null   object\n",
      " 7   revenue    2000 non-null   object\n",
      "dtypes: object(8)\n",
      "memory usage: 125.1+ KB\n"
     ]
    }
   ],
   "source": [
    "for3.info()"
   ]
  },
  {
   "cell_type": "code",
   "execution_count": 267,
   "metadata": {},
   "outputs": [
    {
     "data": {
      "text/plain": [
       "link         object\n",
       "name         object\n",
       "industry     object\n",
       "founded      object\n",
       "country      object\n",
       "ceo          object\n",
       "employees    object\n",
       "revenue      object\n",
       "dtype: object"
      ]
     },
     "execution_count": 267,
     "metadata": {},
     "output_type": "execute_result"
    }
   ],
   "source": [
    "for3.dtypes"
   ]
  },
  {
   "cell_type": "code",
   "execution_count": 268,
   "metadata": {},
   "outputs": [
    {
     "data": {
      "text/plain": [
       "link         0\n",
       "name         0\n",
       "industry     0\n",
       "founded      0\n",
       "country      0\n",
       "ceo          0\n",
       "employees    0\n",
       "revenue      0\n",
       "dtype: int64"
      ]
     },
     "execution_count": 268,
     "metadata": {},
     "output_type": "execute_result"
    }
   ],
   "source": [
    "for3.isnull().sum()"
   ]
  },
  {
   "attachments": {},
   "cell_type": "markdown",
   "metadata": {},
   "source": [
    "#### Formato .xls"
   ]
  },
  {
   "cell_type": "code",
   "execution_count": 269,
   "metadata": {},
   "outputs": [
    {
     "data": {
      "text/html": [
       "<div>\n",
       "<style scoped>\n",
       "    .dataframe tbody tr th:only-of-type {\n",
       "        vertical-align: middle;\n",
       "    }\n",
       "\n",
       "    .dataframe tbody tr th {\n",
       "        vertical-align: top;\n",
       "    }\n",
       "\n",
       "    .dataframe thead th {\n",
       "        text-align: right;\n",
       "    }\n",
       "</style>\n",
       "<table border=\"1\" class=\"dataframe\">\n",
       "  <thead>\n",
       "    <tr style=\"text-align: right;\">\n",
       "      <th></th>\n",
       "      <th>Unnamed: 0</th>\n",
       "      <th>Name</th>\n",
       "      <th>Country</th>\n",
       "      <th>Sales</th>\n",
       "      <th>Profit</th>\n",
       "      <th>Assets</th>\n",
       "      <th>Market Value</th>\n",
       "    </tr>\n",
       "  </thead>\n",
       "  <tbody>\n",
       "    <tr>\n",
       "      <th>0</th>\n",
       "      <td>0</td>\n",
       "      <td>Berkshire Hathaway</td>\n",
       "      <td>United States</td>\n",
       "      <td>$276.09 B</td>\n",
       "      <td>$89.8 B</td>\n",
       "      <td>$958.78 B</td>\n",
       "      <td>$741.48 B</td>\n",
       "    </tr>\n",
       "    <tr>\n",
       "      <th>1</th>\n",
       "      <td>1</td>\n",
       "      <td>ICBC</td>\n",
       "      <td>China</td>\n",
       "      <td>$208.13 B</td>\n",
       "      <td>$54.03 B</td>\n",
       "      <td>$5,518.51 B</td>\n",
       "      <td>$214.43 B</td>\n",
       "    </tr>\n",
       "    <tr>\n",
       "      <th>2</th>\n",
       "      <td>2</td>\n",
       "      <td>Saudi Arabian Oil Company (Saudi Aramco)</td>\n",
       "      <td>Saudi Arabia</td>\n",
       "      <td>$400.38 B</td>\n",
       "      <td>$105.36 B</td>\n",
       "      <td>$576.04 B</td>\n",
       "      <td>$2,292.08 B</td>\n",
       "    </tr>\n",
       "    <tr>\n",
       "      <th>3</th>\n",
       "      <td>3</td>\n",
       "      <td>JPMorgan Chase</td>\n",
       "      <td>United States</td>\n",
       "      <td>$124.54 B</td>\n",
       "      <td>$42.12 B</td>\n",
       "      <td>$3,954.69 B</td>\n",
       "      <td>$374.45 B</td>\n",
       "    </tr>\n",
       "    <tr>\n",
       "      <th>4</th>\n",
       "      <td>4</td>\n",
       "      <td>China Construction Bank</td>\n",
       "      <td>China</td>\n",
       "      <td>$202.07 B</td>\n",
       "      <td>$46.89 B</td>\n",
       "      <td>$4,746.95 B</td>\n",
       "      <td>$181.32 B</td>\n",
       "    </tr>\n",
       "  </tbody>\n",
       "</table>\n",
       "</div>"
      ],
      "text/plain": [
       "   Unnamed: 0                                      Name        Country  \\\n",
       "0           0                        Berkshire Hathaway  United States   \n",
       "1           1                                      ICBC          China   \n",
       "2           2  Saudi Arabian Oil Company (Saudi Aramco)   Saudi Arabia   \n",
       "3           3                            JPMorgan Chase  United States   \n",
       "4           4                   China Construction Bank          China   \n",
       "\n",
       "       Sales     Profit       Assets Market Value  \n",
       "0  $276.09 B    $89.8 B    $958.78 B    $741.48 B  \n",
       "1  $208.13 B   $54.03 B  $5,518.51 B    $214.43 B  \n",
       "2  $400.38 B  $105.36 B    $576.04 B  $2,292.08 B  \n",
       "3  $124.54 B   $42.12 B  $3,954.69 B    $374.45 B  \n",
       "4  $202.07 B   $46.89 B  $4,746.95 B    $181.32 B  "
      ]
     },
     "execution_count": 269,
     "metadata": {},
     "output_type": "execute_result"
    }
   ],
   "source": [
    "for4 = pd.read_excel('de-sources-2022-2023/forbes.com/MalPatSaj-forbes.com.xls')\n",
    "for4.head()"
   ]
  },
  {
   "cell_type": "code",
   "execution_count": 270,
   "metadata": {},
   "outputs": [
    {
     "name": "stdout",
     "output_type": "stream",
     "text": [
      "<class 'pandas.core.frame.DataFrame'>\n",
      "RangeIndex: 2000 entries, 0 to 1999\n",
      "Data columns (total 7 columns):\n",
      " #   Column        Non-Null Count  Dtype \n",
      "---  ------        --------------  ----- \n",
      " 0   Unnamed: 0    2000 non-null   int64 \n",
      " 1   Name          2000 non-null   object\n",
      " 2   Country       2000 non-null   object\n",
      " 3   Sales         2000 non-null   object\n",
      " 4   Profit        2000 non-null   object\n",
      " 5   Assets        2000 non-null   object\n",
      " 6   Market Value  2000 non-null   object\n",
      "dtypes: int64(1), object(6)\n",
      "memory usage: 109.5+ KB\n"
     ]
    }
   ],
   "source": [
    "for4.info()"
   ]
  },
  {
   "cell_type": "code",
   "execution_count": 271,
   "metadata": {},
   "outputs": [
    {
     "data": {
      "text/plain": [
       "Unnamed: 0       int64\n",
       "Name            object\n",
       "Country         object\n",
       "Sales           object\n",
       "Profit          object\n",
       "Assets          object\n",
       "Market Value    object\n",
       "dtype: object"
      ]
     },
     "execution_count": 271,
     "metadata": {},
     "output_type": "execute_result"
    }
   ],
   "source": [
    "for4.dtypes"
   ]
  },
  {
   "cell_type": "code",
   "execution_count": 272,
   "metadata": {},
   "outputs": [
    {
     "data": {
      "text/plain": [
       "Unnamed: 0      0\n",
       "Name            0\n",
       "Country         0\n",
       "Sales           0\n",
       "Profit          0\n",
       "Assets          0\n",
       "Market Value    0\n",
       "dtype: int64"
      ]
     },
     "execution_count": 272,
     "metadata": {},
     "output_type": "execute_result"
    }
   ],
   "source": [
    "for4.isnull().sum()"
   ]
  },
  {
   "attachments": {},
   "cell_type": "markdown",
   "metadata": {},
   "source": [
    "### **ft.com**"
   ]
  },
  {
   "attachments": {},
   "cell_type": "markdown",
   "metadata": {},
   "source": [
    "#### Formato .csv"
   ]
  },
  {
   "cell_type": "code",
   "execution_count": 273,
   "metadata": {},
   "outputs": [
    {
     "data": {
      "text/html": [
       "<div>\n",
       "<style scoped>\n",
       "    .dataframe tbody tr th:only-of-type {\n",
       "        vertical-align: middle;\n",
       "    }\n",
       "\n",
       "    .dataframe tbody tr th {\n",
       "        vertical-align: top;\n",
       "    }\n",
       "\n",
       "    .dataframe thead th {\n",
       "        text-align: right;\n",
       "    }\n",
       "</style>\n",
       "<table border=\"1\" class=\"dataframe\">\n",
       "  <thead>\n",
       "    <tr style=\"text-align: right;\">\n",
       "      <th></th>\n",
       "      <th>Unnamed: 0</th>\n",
       "      <th>name</th>\n",
       "      <th>country</th>\n",
       "      <th>sector</th>\n",
       "      <th>absolute_growth_rate_pct</th>\n",
       "      <th>compound_annual_growth_rate_cagr_pct</th>\n",
       "      <th>revenue_2020_euro</th>\n",
       "      <th>revenue_2017_euro</th>\n",
       "      <th>number_of_employees_2020</th>\n",
       "      <th>number_of_employees_2017</th>\n",
       "      <th>founding_year</th>\n",
       "    </tr>\n",
       "  </thead>\n",
       "  <tbody>\n",
       "    <tr>\n",
       "      <th>995</th>\n",
       "      <td>995</td>\n",
       "      <td>peopleForecast</td>\n",
       "      <td>Germany</td>\n",
       "      <td>Technology</td>\n",
       "      <td>154.86</td>\n",
       "      <td>36.59</td>\n",
       "      <td>2,086,411</td>\n",
       "      <td>818,658</td>\n",
       "      <td>45</td>\n",
       "      <td>15</td>\n",
       "      <td>2014</td>\n",
       "    </tr>\n",
       "    <tr>\n",
       "      <th>996</th>\n",
       "      <td>996</td>\n",
       "      <td>Digitalpa</td>\n",
       "      <td>Italy</td>\n",
       "      <td>Management Consulting</td>\n",
       "      <td>154.82</td>\n",
       "      <td>36.59</td>\n",
       "      <td>1,731,340</td>\n",
       "      <td>679,440</td>\n",
       "      <td>12</td>\n",
       "      <td>41</td>\n",
       "      <td>2014</td>\n",
       "    </tr>\n",
       "    <tr>\n",
       "      <th>997</th>\n",
       "      <td>997</td>\n",
       "      <td>Faktenkontor</td>\n",
       "      <td>Germany</td>\n",
       "      <td>Advertising</td>\n",
       "      <td>154.81</td>\n",
       "      <td>36.59</td>\n",
       "      <td>30,967,000</td>\n",
       "      <td>12,153,143</td>\n",
       "      <td>150</td>\n",
       "      <td>100</td>\n",
       "      <td>2003</td>\n",
       "    </tr>\n",
       "    <tr>\n",
       "      <th>998</th>\n",
       "      <td>998</td>\n",
       "      <td>CLAREO</td>\n",
       "      <td>France</td>\n",
       "      <td>Retail</td>\n",
       "      <td>154.80</td>\n",
       "      <td>36.58</td>\n",
       "      <td>18,854,708</td>\n",
       "      <td>7,399,729</td>\n",
       "      <td>53</td>\n",
       "      <td>13</td>\n",
       "      <td>2012</td>\n",
       "    </tr>\n",
       "    <tr>\n",
       "      <th>999</th>\n",
       "      <td>999</td>\n",
       "      <td>Laca Trade</td>\n",
       "      <td>Italy</td>\n",
       "      <td>Property</td>\n",
       "      <td>154.60</td>\n",
       "      <td>36.55</td>\n",
       "      <td>24,741,510</td>\n",
       "      <td>9,717,860</td>\n",
       "      <td>5</td>\n",
       "      <td>5</td>\n",
       "      <td>2013</td>\n",
       "    </tr>\n",
       "  </tbody>\n",
       "</table>\n",
       "</div>"
      ],
      "text/plain": [
       "     Unnamed: 0            name  country                 sector  \\\n",
       "995         995  peopleForecast  Germany             Technology   \n",
       "996         996       Digitalpa    Italy  Management Consulting   \n",
       "997         997    Faktenkontor  Germany            Advertising   \n",
       "998         998          CLAREO   France                 Retail   \n",
       "999         999      Laca Trade    Italy               Property   \n",
       "\n",
       "    absolute_growth_rate_pct  compound_annual_growth_rate_cagr_pct  \\\n",
       "995                   154.86                                 36.59   \n",
       "996                   154.82                                 36.59   \n",
       "997                   154.81                                 36.59   \n",
       "998                   154.80                                 36.58   \n",
       "999                   154.60                                 36.55   \n",
       "\n",
       "    revenue_2020_euro revenue_2017_euro number_of_employees_2020  \\\n",
       "995         2,086,411           818,658                       45   \n",
       "996         1,731,340           679,440                       12   \n",
       "997        30,967,000        12,153,143                      150   \n",
       "998        18,854,708         7,399,729                       53   \n",
       "999        24,741,510         9,717,860                        5   \n",
       "\n",
       "    number_of_employees_2017  founding_year  \n",
       "995                       15           2014  \n",
       "996                       41           2014  \n",
       "997                      100           2003  \n",
       "998                       13           2012  \n",
       "999                        5           2013  "
      ]
     },
     "execution_count": 273,
     "metadata": {},
     "output_type": "execute_result"
    }
   ],
   "source": [
    "ft1 = pd.read_csv(\"de-sources-2022-2023/ft.com/DDD-ft.com.csv\")\n",
    "ft1.tail(5)"
   ]
  },
  {
   "cell_type": "code",
   "execution_count": 274,
   "metadata": {},
   "outputs": [
    {
     "name": "stdout",
     "output_type": "stream",
     "text": [
      "<class 'pandas.core.frame.DataFrame'>\n",
      "RangeIndex: 1000 entries, 0 to 999\n",
      "Data columns (total 11 columns):\n",
      " #   Column                                Non-Null Count  Dtype  \n",
      "---  ------                                --------------  -----  \n",
      " 0   Unnamed: 0                            1000 non-null   int64  \n",
      " 1   name                                  1000 non-null   object \n",
      " 2   country                               1000 non-null   object \n",
      " 3   sector                                1000 non-null   object \n",
      " 4   absolute_growth_rate_pct              1000 non-null   object \n",
      " 5   compound_annual_growth_rate_cagr_pct  1000 non-null   float64\n",
      " 6   revenue_2020_euro                     1000 non-null   object \n",
      " 7   revenue_2017_euro                     1000 non-null   object \n",
      " 8   number_of_employees_2020              1000 non-null   object \n",
      " 9   number_of_employees_2017              1000 non-null   object \n",
      " 10  founding_year                         1000 non-null   int64  \n",
      "dtypes: float64(1), int64(2), object(8)\n",
      "memory usage: 86.1+ KB\n"
     ]
    }
   ],
   "source": [
    "ft1.info()"
   ]
  },
  {
   "cell_type": "code",
   "execution_count": 275,
   "metadata": {},
   "outputs": [
    {
     "data": {
      "text/plain": [
       "Unnamed: 0                                int64\n",
       "name                                     object\n",
       "country                                  object\n",
       "sector                                   object\n",
       "absolute_growth_rate_pct                 object\n",
       "compound_annual_growth_rate_cagr_pct    float64\n",
       "revenue_2020_euro                        object\n",
       "revenue_2017_euro                        object\n",
       "number_of_employees_2020                 object\n",
       "number_of_employees_2017                 object\n",
       "founding_year                             int64\n",
       "dtype: object"
      ]
     },
     "execution_count": 275,
     "metadata": {},
     "output_type": "execute_result"
    }
   ],
   "source": [
    "ft1.dtypes"
   ]
  },
  {
   "cell_type": "code",
   "execution_count": 276,
   "metadata": {},
   "outputs": [
    {
     "data": {
      "text/plain": [
       "Unnamed: 0                              0\n",
       "name                                    0\n",
       "country                                 0\n",
       "sector                                  0\n",
       "absolute_growth_rate_pct                0\n",
       "compound_annual_growth_rate_cagr_pct    0\n",
       "revenue_2020_euro                       0\n",
       "revenue_2017_euro                       0\n",
       "number_of_employees_2020                0\n",
       "number_of_employees_2017                0\n",
       "founding_year                           0\n",
       "dtype: int64"
      ]
     },
     "execution_count": 276,
     "metadata": {},
     "output_type": "execute_result"
    }
   ],
   "source": [
    "ft1.isnull().sum()"
   ]
  },
  {
   "cell_type": "code",
   "execution_count": 277,
   "metadata": {},
   "outputs": [
    {
     "data": {
      "text/html": [
       "<div>\n",
       "<style scoped>\n",
       "    .dataframe tbody tr th:only-of-type {\n",
       "        vertical-align: middle;\n",
       "    }\n",
       "\n",
       "    .dataframe tbody tr th {\n",
       "        vertical-align: top;\n",
       "    }\n",
       "\n",
       "    .dataframe thead th {\n",
       "        text-align: right;\n",
       "    }\n",
       "</style>\n",
       "<table border=\"1\" class=\"dataframe\">\n",
       "  <thead>\n",
       "    <tr style=\"text-align: right;\">\n",
       "      <th></th>\n",
       "      <th>country</th>\n",
       "      <th>employees_2017</th>\n",
       "      <th>employees_2020</th>\n",
       "      <th>founding_year</th>\n",
       "      <th>name</th>\n",
       "      <th>revenue_2017</th>\n",
       "      <th>revenue_2020</th>\n",
       "      <th>sector</th>\n",
       "    </tr>\n",
       "  </thead>\n",
       "  <tbody>\n",
       "    <tr>\n",
       "      <th>995</th>\n",
       "      <td>germany</td>\n",
       "      <td>15</td>\n",
       "      <td>45.0</td>\n",
       "      <td>2014</td>\n",
       "      <td>peopleforecast</td>\n",
       "      <td>818,658</td>\n",
       "      <td>2,086,411</td>\n",
       "      <td>technology</td>\n",
       "    </tr>\n",
       "    <tr>\n",
       "      <th>996</th>\n",
       "      <td>italy</td>\n",
       "      <td>41</td>\n",
       "      <td>12.0</td>\n",
       "      <td>2014</td>\n",
       "      <td>digitalpa</td>\n",
       "      <td>679,440</td>\n",
       "      <td>1,731,340</td>\n",
       "      <td>management consulting</td>\n",
       "    </tr>\n",
       "    <tr>\n",
       "      <th>997</th>\n",
       "      <td>germany</td>\n",
       "      <td>100</td>\n",
       "      <td>150.0</td>\n",
       "      <td>2003</td>\n",
       "      <td>faktenkontor</td>\n",
       "      <td>12,153,143</td>\n",
       "      <td>30,967,000</td>\n",
       "      <td>advertising</td>\n",
       "    </tr>\n",
       "    <tr>\n",
       "      <th>998</th>\n",
       "      <td>france</td>\n",
       "      <td>13</td>\n",
       "      <td>53.0</td>\n",
       "      <td>2012</td>\n",
       "      <td>clareo</td>\n",
       "      <td>7,399,729</td>\n",
       "      <td>18,854,708</td>\n",
       "      <td>retail</td>\n",
       "    </tr>\n",
       "    <tr>\n",
       "      <th>999</th>\n",
       "      <td>italy</td>\n",
       "      <td>5</td>\n",
       "      <td>5.0</td>\n",
       "      <td>2013</td>\n",
       "      <td>laca trade</td>\n",
       "      <td>9,717,860</td>\n",
       "      <td>24,741,510</td>\n",
       "      <td>property</td>\n",
       "    </tr>\n",
       "  </tbody>\n",
       "</table>\n",
       "</div>"
      ],
      "text/plain": [
       "     country employees_2017  employees_2020  founding_year            name  \\\n",
       "995  germany             15            45.0           2014  peopleforecast   \n",
       "996    italy             41            12.0           2014       digitalpa   \n",
       "997  germany            100           150.0           2003    faktenkontor   \n",
       "998   france             13            53.0           2012          clareo   \n",
       "999    italy              5             5.0           2013      laca trade   \n",
       "\n",
       "    revenue_2017 revenue_2020                 sector  \n",
       "995      818,658    2,086,411             technology  \n",
       "996      679,440    1,731,340  management consulting  \n",
       "997   12,153,143   30,967,000            advertising  \n",
       "998    7,399,729   18,854,708                 retail  \n",
       "999    9,717,860   24,741,510               property  "
      ]
     },
     "execution_count": 277,
     "metadata": {},
     "output_type": "execute_result"
    }
   ],
   "source": [
    "ft2 = pd.read_csv(\"de-sources-2022-2023/ft.com/silvestri-ft.com.csv\")\n",
    "ft2.tail(5)"
   ]
  },
  {
   "cell_type": "code",
   "execution_count": 278,
   "metadata": {},
   "outputs": [
    {
     "name": "stdout",
     "output_type": "stream",
     "text": [
      "<class 'pandas.core.frame.DataFrame'>\n",
      "RangeIndex: 1000 entries, 0 to 999\n",
      "Data columns (total 8 columns):\n",
      " #   Column          Non-Null Count  Dtype  \n",
      "---  ------          --------------  -----  \n",
      " 0   country         1000 non-null   object \n",
      " 1   employees_2017  997 non-null    object \n",
      " 2   employees_2020  996 non-null    float64\n",
      " 3   founding_year   1000 non-null   int64  \n",
      " 4   name            1000 non-null   object \n",
      " 5   revenue_2017    1000 non-null   object \n",
      " 6   revenue_2020    1000 non-null   object \n",
      " 7   sector          1000 non-null   object \n",
      "dtypes: float64(1), int64(1), object(6)\n",
      "memory usage: 62.6+ KB\n"
     ]
    }
   ],
   "source": [
    "ft2.info()"
   ]
  },
  {
   "cell_type": "code",
   "execution_count": 279,
   "metadata": {},
   "outputs": [
    {
     "data": {
      "text/plain": [
       "country            object\n",
       "employees_2017     object\n",
       "employees_2020    float64\n",
       "founding_year       int64\n",
       "name               object\n",
       "revenue_2017       object\n",
       "revenue_2020       object\n",
       "sector             object\n",
       "dtype: object"
      ]
     },
     "execution_count": 279,
     "metadata": {},
     "output_type": "execute_result"
    }
   ],
   "source": [
    "ft2.dtypes"
   ]
  },
  {
   "cell_type": "code",
   "execution_count": 280,
   "metadata": {},
   "outputs": [
    {
     "data": {
      "text/plain": [
       "country           0\n",
       "employees_2017    3\n",
       "employees_2020    4\n",
       "founding_year     0\n",
       "name              0\n",
       "revenue_2017      0\n",
       "revenue_2020      0\n",
       "sector            0\n",
       "dtype: int64"
      ]
     },
     "execution_count": 280,
     "metadata": {},
     "output_type": "execute_result"
    }
   ],
   "source": [
    "ft2.isnull().sum()"
   ]
  },
  {
   "cell_type": "code",
   "execution_count": 281,
   "metadata": {},
   "outputs": [
    {
     "data": {
      "text/html": [
       "<div>\n",
       "<style scoped>\n",
       "    .dataframe tbody tr th:only-of-type {\n",
       "        vertical-align: middle;\n",
       "    }\n",
       "\n",
       "    .dataframe tbody tr th {\n",
       "        vertical-align: top;\n",
       "    }\n",
       "\n",
       "    .dataframe thead th {\n",
       "        text-align: right;\n",
       "    }\n",
       "</style>\n",
       "<table border=\"1\" class=\"dataframe\">\n",
       "  <thead>\n",
       "    <tr style=\"text-align: right;\">\n",
       "      <th></th>\n",
       "      <th>Rank</th>\n",
       "      <th>Name</th>\n",
       "      <th>in 2021 ranking</th>\n",
       "      <th>in 2020 ranking</th>\n",
       "      <th>Country</th>\n",
       "      <th>Sector</th>\n",
       "      <th>Absolute Growth Rate %</th>\n",
       "      <th>Compound Annual Growth Rate (CAGR) %</th>\n",
       "      <th>Revenue 2020 (€)</th>\n",
       "      <th>Revenue 2017 (€)</th>\n",
       "      <th>Number of employees 2020</th>\n",
       "      <th>Number of employees 2017</th>\n",
       "      <th>Founding Year</th>\n",
       "    </tr>\n",
       "  </thead>\n",
       "  <tbody>\n",
       "    <tr>\n",
       "      <th>995</th>\n",
       "      <td>996</td>\n",
       "      <td>peopleForecast</td>\n",
       "      <td>No</td>\n",
       "      <td>No</td>\n",
       "      <td>Germany</td>\n",
       "      <td>Technology</td>\n",
       "      <td>154.86</td>\n",
       "      <td>36.59</td>\n",
       "      <td>2,086,411</td>\n",
       "      <td>818,658</td>\n",
       "      <td>45.0</td>\n",
       "      <td>15</td>\n",
       "      <td>2014</td>\n",
       "    </tr>\n",
       "    <tr>\n",
       "      <th>996</th>\n",
       "      <td>997</td>\n",
       "      <td>Digitalpa</td>\n",
       "      <td>No</td>\n",
       "      <td>No</td>\n",
       "      <td>Italy</td>\n",
       "      <td>Management Consulting</td>\n",
       "      <td>154.82</td>\n",
       "      <td>36.59</td>\n",
       "      <td>1,731,340</td>\n",
       "      <td>679,440</td>\n",
       "      <td>12.0</td>\n",
       "      <td>41</td>\n",
       "      <td>2014</td>\n",
       "    </tr>\n",
       "    <tr>\n",
       "      <th>997</th>\n",
       "      <td>998</td>\n",
       "      <td>Faktenkontor</td>\n",
       "      <td>No</td>\n",
       "      <td>No</td>\n",
       "      <td>Germany</td>\n",
       "      <td>Advertising</td>\n",
       "      <td>154.81</td>\n",
       "      <td>36.59</td>\n",
       "      <td>30,967,000</td>\n",
       "      <td>12,153,143</td>\n",
       "      <td>150.0</td>\n",
       "      <td>100</td>\n",
       "      <td>2003</td>\n",
       "    </tr>\n",
       "    <tr>\n",
       "      <th>998</th>\n",
       "      <td>999</td>\n",
       "      <td>CLAREO</td>\n",
       "      <td>Yes</td>\n",
       "      <td>Yes</td>\n",
       "      <td>France</td>\n",
       "      <td>Retail</td>\n",
       "      <td>154.80</td>\n",
       "      <td>36.58</td>\n",
       "      <td>18,854,708</td>\n",
       "      <td>7,399,729</td>\n",
       "      <td>53.0</td>\n",
       "      <td>13</td>\n",
       "      <td>2012</td>\n",
       "    </tr>\n",
       "    <tr>\n",
       "      <th>999</th>\n",
       "      <td>1000</td>\n",
       "      <td>Laca Trade</td>\n",
       "      <td>Yes</td>\n",
       "      <td>Yes</td>\n",
       "      <td>Italy</td>\n",
       "      <td>Property</td>\n",
       "      <td>154.60</td>\n",
       "      <td>36.55</td>\n",
       "      <td>24,741,510</td>\n",
       "      <td>9,717,860</td>\n",
       "      <td>5.0</td>\n",
       "      <td>5</td>\n",
       "      <td>2013</td>\n",
       "    </tr>\n",
       "  </tbody>\n",
       "</table>\n",
       "</div>"
      ],
      "text/plain": [
       "     Rank            Name in 2021 ranking in 2020 ranking  Country  \\\n",
       "995   996  peopleForecast              No              No  Germany   \n",
       "996   997       Digitalpa              No              No    Italy   \n",
       "997   998    Faktenkontor              No              No  Germany   \n",
       "998   999          CLAREO             Yes             Yes   France   \n",
       "999  1000      Laca Trade             Yes             Yes    Italy   \n",
       "\n",
       "                    Sector Absolute Growth Rate %  \\\n",
       "995             Technology                 154.86   \n",
       "996  Management Consulting                 154.82   \n",
       "997            Advertising                 154.81   \n",
       "998                 Retail                 154.80   \n",
       "999               Property                 154.60   \n",
       "\n",
       "     Compound Annual Growth Rate (CAGR) % Revenue 2020 (€) Revenue 2017 (€)  \\\n",
       "995                                 36.59        2,086,411          818,658   \n",
       "996                                 36.59        1,731,340          679,440   \n",
       "997                                 36.59       30,967,000       12,153,143   \n",
       "998                                 36.58       18,854,708        7,399,729   \n",
       "999                                 36.55       24,741,510        9,717,860   \n",
       "\n",
       "     Number of employees 2020 Number of employees 2017  Founding Year  \n",
       "995                      45.0                       15           2014  \n",
       "996                      12.0                       41           2014  \n",
       "997                     150.0                      100           2003  \n",
       "998                      53.0                       13           2012  \n",
       "999                       5.0                        5           2013  "
      ]
     },
     "execution_count": 281,
     "metadata": {},
     "output_type": "execute_result"
    }
   ],
   "source": [
    "ft3 = pd.read_csv(\"de-sources-2022-2023/ft.com/FR-ft.csv\")\n",
    "ft3.tail(5)"
   ]
  },
  {
   "cell_type": "code",
   "execution_count": 282,
   "metadata": {},
   "outputs": [
    {
     "name": "stdout",
     "output_type": "stream",
     "text": [
      "<class 'pandas.core.frame.DataFrame'>\n",
      "RangeIndex: 1000 entries, 0 to 999\n",
      "Data columns (total 13 columns):\n",
      " #   Column                                Non-Null Count  Dtype  \n",
      "---  ------                                --------------  -----  \n",
      " 0   Rank                                  1000 non-null   int64  \n",
      " 1   Name                                  1000 non-null   object \n",
      " 2   in 2021 ranking                       1000 non-null   object \n",
      " 3   in 2020 ranking                       1000 non-null   object \n",
      " 4   Country                               1000 non-null   object \n",
      " 5   Sector                                1000 non-null   object \n",
      " 6   Absolute Growth Rate %                1000 non-null   object \n",
      " 7   Compound Annual Growth Rate (CAGR) %  1000 non-null   float64\n",
      " 8   Revenue 2020 (€)                      1000 non-null   object \n",
      " 9   Revenue 2017 (€)                      1000 non-null   object \n",
      " 10  Number of employees 2020              996 non-null    float64\n",
      " 11  Number of employees 2017              997 non-null    object \n",
      " 12  Founding Year                         1000 non-null   int64  \n",
      "dtypes: float64(2), int64(2), object(9)\n",
      "memory usage: 101.7+ KB\n"
     ]
    }
   ],
   "source": [
    "ft3.info()"
   ]
  },
  {
   "cell_type": "code",
   "execution_count": 283,
   "metadata": {},
   "outputs": [
    {
     "data": {
      "text/plain": [
       "Rank                                      int64\n",
       "Name                                     object\n",
       "in 2021 ranking                          object\n",
       "in 2020 ranking                          object\n",
       "Country                                  object\n",
       "Sector                                   object\n",
       "Absolute Growth Rate %                   object\n",
       "Compound Annual Growth Rate (CAGR) %    float64\n",
       "Revenue 2020 (€)                         object\n",
       "Revenue 2017 (€)                         object\n",
       "Number of employees 2020                float64\n",
       "Number of employees 2017                 object\n",
       "Founding Year                             int64\n",
       "dtype: object"
      ]
     },
     "execution_count": 283,
     "metadata": {},
     "output_type": "execute_result"
    }
   ],
   "source": [
    "ft3.dtypes"
   ]
  },
  {
   "cell_type": "code",
   "execution_count": 284,
   "metadata": {},
   "outputs": [
    {
     "data": {
      "text/plain": [
       "Rank                                    0\n",
       "Name                                    0\n",
       "in 2021 ranking                         0\n",
       "in 2020 ranking                         0\n",
       "Country                                 0\n",
       "Sector                                  0\n",
       "Absolute Growth Rate %                  0\n",
       "Compound Annual Growth Rate (CAGR) %    0\n",
       "Revenue 2020 (€)                        0\n",
       "Revenue 2017 (€)                        0\n",
       "Number of employees 2020                4\n",
       "Number of employees 2017                3\n",
       "Founding Year                           0\n",
       "dtype: int64"
      ]
     },
     "execution_count": 284,
     "metadata": {},
     "output_type": "execute_result"
    }
   ],
   "source": [
    "ft3.isnull().sum()"
   ]
  },
  {
   "attachments": {},
   "cell_type": "markdown",
   "metadata": {},
   "source": [
    "#### Formato .json"
   ]
  },
  {
   "cell_type": "code",
   "execution_count": 285,
   "metadata": {},
   "outputs": [
    {
     "data": {
      "text/html": [
       "<div>\n",
       "<style scoped>\n",
       "    .dataframe tbody tr th:only-of-type {\n",
       "        vertical-align: middle;\n",
       "    }\n",
       "\n",
       "    .dataframe tbody tr th {\n",
       "        vertical-align: top;\n",
       "    }\n",
       "\n",
       "    .dataframe thead th {\n",
       "        text-align: right;\n",
       "    }\n",
       "</style>\n",
       "<table border=\"1\" class=\"dataframe\">\n",
       "  <thead>\n",
       "    <tr style=\"text-align: right;\">\n",
       "      <th></th>\n",
       "      <th>link</th>\n",
       "      <th>name</th>\n",
       "      <th>country</th>\n",
       "      <th>industry</th>\n",
       "      <th>revenue</th>\n",
       "      <th>employees</th>\n",
       "      <th>founded</th>\n",
       "    </tr>\n",
       "  </thead>\n",
       "  <tbody>\n",
       "    <tr>\n",
       "      <th>0</th>\n",
       "      <td>https://www.greatdealscorp.com/</td>\n",
       "      <td>Great Deals E-Commerce Corp.</td>\n",
       "      <td>Philippines</td>\n",
       "      <td>Ecommerce</td>\n",
       "      <td>88.77</td>\n",
       "      <td>385</td>\n",
       "      <td>2017</td>\n",
       "    </tr>\n",
       "    <tr>\n",
       "      <th>1</th>\n",
       "      <td>http://www.pclchip.com/</td>\n",
       "      <td>PCL Inc.</td>\n",
       "      <td>South Korea</td>\n",
       "      <td>Pharmaceuticals</td>\n",
       "      <td>45.48</td>\n",
       "      <td>63</td>\n",
       "      <td>2008</td>\n",
       "    </tr>\n",
       "    <tr>\n",
       "      <th>2</th>\n",
       "      <td>https://www.spolive.com/</td>\n",
       "      <td>Spolive</td>\n",
       "      <td>South Korea</td>\n",
       "      <td>Games industry</td>\n",
       "      <td>9.49</td>\n",
       "      <td>47</td>\n",
       "      <td>2013</td>\n",
       "    </tr>\n",
       "    <tr>\n",
       "      <th>3</th>\n",
       "      <td>https://www.workmate.asia/</td>\n",
       "      <td>Workmate</td>\n",
       "      <td>Singapore</td>\n",
       "      <td>Support Services</td>\n",
       "      <td>12.44</td>\n",
       "      <td>82</td>\n",
       "      <td>2015</td>\n",
       "    </tr>\n",
       "    <tr>\n",
       "      <th>4</th>\n",
       "      <td>http://www.taimedbiologics.com/</td>\n",
       "      <td>TaiMed Biologics</td>\n",
       "      <td>Taiwan</td>\n",
       "      <td>Pharmaceuticals</td>\n",
       "      <td>24.42</td>\n",
       "      <td>78</td>\n",
       "      <td>2007</td>\n",
       "    </tr>\n",
       "  </tbody>\n",
       "</table>\n",
       "</div>"
      ],
      "text/plain": [
       "                              link                          name      country  \\\n",
       "0  https://www.greatdealscorp.com/  Great Deals E-Commerce Corp.  Philippines   \n",
       "1          http://www.pclchip.com/                      PCL Inc.  South Korea   \n",
       "2         https://www.spolive.com/                       Spolive  South Korea   \n",
       "3       https://www.workmate.asia/                      Workmate    Singapore   \n",
       "4  http://www.taimedbiologics.com/              TaiMed Biologics       Taiwan   \n",
       "\n",
       "           industry revenue employees  founded  \n",
       "0         Ecommerce   88.77       385     2017  \n",
       "1   Pharmaceuticals   45.48        63     2008  \n",
       "2    Games industry    9.49        47     2013  \n",
       "3  Support Services   12.44        82     2015  \n",
       "4   Pharmaceuticals   24.42        78     2007  "
      ]
     },
     "execution_count": 285,
     "metadata": {},
     "output_type": "execute_result"
    }
   ],
   "source": [
    "ft4 = pd.read_json('de-sources-2022-2023/ft.com/slytherin-ft.com.json')\n",
    "ft4.head()"
   ]
  },
  {
   "cell_type": "code",
   "execution_count": 286,
   "metadata": {},
   "outputs": [
    {
     "name": "stdout",
     "output_type": "stream",
     "text": [
      "<class 'pandas.core.frame.DataFrame'>\n",
      "RangeIndex: 5000 entries, 0 to 4999\n",
      "Data columns (total 7 columns):\n",
      " #   Column     Non-Null Count  Dtype \n",
      "---  ------     --------------  ----- \n",
      " 0   link       5000 non-null   object\n",
      " 1   name       5000 non-null   object\n",
      " 2   country    5000 non-null   object\n",
      " 3   industry   5000 non-null   object\n",
      " 4   revenue    5000 non-null   object\n",
      " 5   employees  5000 non-null   object\n",
      " 6   founded    5000 non-null   int64 \n",
      "dtypes: int64(1), object(6)\n",
      "memory usage: 273.6+ KB\n"
     ]
    }
   ],
   "source": [
    "ft4.info()"
   ]
  },
  {
   "cell_type": "code",
   "execution_count": 287,
   "metadata": {},
   "outputs": [
    {
     "data": {
      "text/plain": [
       "link         object\n",
       "name         object\n",
       "country      object\n",
       "industry     object\n",
       "revenue      object\n",
       "employees    object\n",
       "founded       int64\n",
       "dtype: object"
      ]
     },
     "execution_count": 287,
     "metadata": {},
     "output_type": "execute_result"
    }
   ],
   "source": [
    "ft4.dtypes"
   ]
  },
  {
   "cell_type": "code",
   "execution_count": 288,
   "metadata": {},
   "outputs": [
    {
     "data": {
      "text/plain": [
       "link         0\n",
       "name         0\n",
       "country      0\n",
       "industry     0\n",
       "revenue      0\n",
       "employees    0\n",
       "founded      0\n",
       "dtype: int64"
      ]
     },
     "execution_count": 288,
     "metadata": {},
     "output_type": "execute_result"
    }
   ],
   "source": [
    "ft4.isnull().sum()"
   ]
  },
  {
   "cell_type": "code",
   "execution_count": 289,
   "metadata": {},
   "outputs": [
    {
     "data": {
      "text/html": [
       "<div>\n",
       "<style scoped>\n",
       "    .dataframe tbody tr th:only-of-type {\n",
       "        vertical-align: middle;\n",
       "    }\n",
       "\n",
       "    .dataframe tbody tr th {\n",
       "        vertical-align: top;\n",
       "    }\n",
       "\n",
       "    .dataframe thead th {\n",
       "        text-align: right;\n",
       "    }\n",
       "</style>\n",
       "<table border=\"1\" class=\"dataframe\">\n",
       "  <thead>\n",
       "    <tr style=\"text-align: right;\">\n",
       "      <th></th>\n",
       "      <th>name</th>\n",
       "      <th>country</th>\n",
       "      <th>sector</th>\n",
       "      <th>revenue_2020_EU</th>\n",
       "      <th>revenue_2017_EU</th>\n",
       "      <th>employees_number_2020</th>\n",
       "      <th>employees_number_2017</th>\n",
       "      <th>founding_year</th>\n",
       "    </tr>\n",
       "  </thead>\n",
       "  <tbody>\n",
       "    <tr>\n",
       "      <th>0</th>\n",
       "      <td>Swappie</td>\n",
       "      <td>Finland</td>\n",
       "      <td>Technology</td>\n",
       "      <td>97611814</td>\n",
       "      <td>507000</td>\n",
       "      <td>218</td>\n",
       "      <td>1</td>\n",
       "      <td>2016</td>\n",
       "    </tr>\n",
       "    <tr>\n",
       "      <th>1</th>\n",
       "      <td>Kilo Health</td>\n",
       "      <td>Lithuania</td>\n",
       "      <td>Health</td>\n",
       "      <td>57318766</td>\n",
       "      <td>344428</td>\n",
       "      <td>177</td>\n",
       "      <td>10</td>\n",
       "      <td>2013</td>\n",
       "    </tr>\n",
       "    <tr>\n",
       "      <th>2</th>\n",
       "      <td>OCI</td>\n",
       "      <td>UK</td>\n",
       "      <td>Financial Services</td>\n",
       "      <td>568322073</td>\n",
       "      <td>4325512</td>\n",
       "      <td>32</td>\n",
       "      <td>4</td>\n",
       "      <td>2012</td>\n",
       "    </tr>\n",
       "    <tr>\n",
       "      <th>3</th>\n",
       "      <td>OnlyFans</td>\n",
       "      <td>UK</td>\n",
       "      <td>Technology</td>\n",
       "      <td>316732986</td>\n",
       "      <td>2652185</td>\n",
       "      <td>800</td>\n",
       "      <td>4</td>\n",
       "      <td>2016</td>\n",
       "    </tr>\n",
       "    <tr>\n",
       "      <th>4</th>\n",
       "      <td>Enpal</td>\n",
       "      <td>Germany</td>\n",
       "      <td>Energy</td>\n",
       "      <td>56109613</td>\n",
       "      <td>486165</td>\n",
       "      <td>365</td>\n",
       "      <td>9</td>\n",
       "      <td>2017</td>\n",
       "    </tr>\n",
       "  </tbody>\n",
       "</table>\n",
       "</div>"
      ],
      "text/plain": [
       "          name    country              sector  revenue_2020_EU  \\\n",
       "0      Swappie    Finland          Technology         97611814   \n",
       "1  Kilo Health  Lithuania              Health         57318766   \n",
       "2          OCI         UK  Financial Services        568322073   \n",
       "3     OnlyFans         UK          Technology        316732986   \n",
       "4        Enpal    Germany              Energy         56109613   \n",
       "\n",
       "   revenue_2017_EU employees_number_2020 employees_number_2017  founding_year  \n",
       "0           507000                   218                     1           2016  \n",
       "1           344428                   177                    10           2013  \n",
       "2          4325512                    32                     4           2012  \n",
       "3          2652185                   800                     4           2016  \n",
       "4           486165                   365                     9           2017  "
      ]
     },
     "execution_count": 289,
     "metadata": {},
     "output_type": "execute_result"
    }
   ],
   "source": [
    "ft5 = pd.read_json('de-sources-2022-2023/ft.com/gren-ft.com.json')\n",
    "ft5.head()"
   ]
  },
  {
   "cell_type": "code",
   "execution_count": 290,
   "metadata": {},
   "outputs": [
    {
     "name": "stdout",
     "output_type": "stream",
     "text": [
      "<class 'pandas.core.frame.DataFrame'>\n",
      "RangeIndex: 1000 entries, 0 to 999\n",
      "Data columns (total 8 columns):\n",
      " #   Column                 Non-Null Count  Dtype \n",
      "---  ------                 --------------  ----- \n",
      " 0   name                   1000 non-null   object\n",
      " 1   country                1000 non-null   object\n",
      " 2   sector                 1000 non-null   object\n",
      " 3   revenue_2020_EU        1000 non-null   int64 \n",
      " 4   revenue_2017_EU        1000 non-null   int64 \n",
      " 5   employees_number_2020  1000 non-null   object\n",
      " 6   employees_number_2017  1000 non-null   object\n",
      " 7   founding_year          1000 non-null   int64 \n",
      "dtypes: int64(3), object(5)\n",
      "memory usage: 62.6+ KB\n"
     ]
    }
   ],
   "source": [
    "ft5.info()"
   ]
  },
  {
   "cell_type": "code",
   "execution_count": 291,
   "metadata": {},
   "outputs": [
    {
     "data": {
      "text/plain": [
       "name                     object\n",
       "country                  object\n",
       "sector                   object\n",
       "revenue_2020_EU           int64\n",
       "revenue_2017_EU           int64\n",
       "employees_number_2020    object\n",
       "employees_number_2017    object\n",
       "founding_year             int64\n",
       "dtype: object"
      ]
     },
     "execution_count": 291,
     "metadata": {},
     "output_type": "execute_result"
    }
   ],
   "source": [
    "ft5.dtypes"
   ]
  },
  {
   "cell_type": "code",
   "execution_count": 292,
   "metadata": {},
   "outputs": [
    {
     "data": {
      "text/plain": [
       "name                     0\n",
       "country                  0\n",
       "sector                   0\n",
       "revenue_2020_EU          0\n",
       "revenue_2017_EU          0\n",
       "employees_number_2020    0\n",
       "employees_number_2017    0\n",
       "founding_year            0\n",
       "dtype: int64"
      ]
     },
     "execution_count": 292,
     "metadata": {},
     "output_type": "execute_result"
    }
   ],
   "source": [
    "ft5.isnull().sum()"
   ]
  },
  {
   "attachments": {},
   "cell_type": "markdown",
   "metadata": {},
   "source": [
    "### **value.today**"
   ]
  },
  {
   "attachments": {},
   "cell_type": "markdown",
   "metadata": {},
   "source": [
    "#### Formato .csv"
   ]
  },
  {
   "cell_type": "code",
   "execution_count": 293,
   "metadata": {},
   "outputs": [
    {
     "data": {
      "text/html": [
       "<div>\n",
       "<style scoped>\n",
       "    .dataframe tbody tr th:only-of-type {\n",
       "        vertical-align: middle;\n",
       "    }\n",
       "\n",
       "    .dataframe tbody tr th {\n",
       "        vertical-align: top;\n",
       "    }\n",
       "\n",
       "    .dataframe thead th {\n",
       "        text-align: right;\n",
       "    }\n",
       "</style>\n",
       "<table border=\"1\" class=\"dataframe\">\n",
       "  <thead>\n",
       "    <tr style=\"text-align: right;\">\n",
       "      <th></th>\n",
       "      <th>ceo</th>\n",
       "      <th>country</th>\n",
       "      <th>market_value_jan_2020</th>\n",
       "      <th>market_value_jan_2021</th>\n",
       "      <th>market_value_jan_2022</th>\n",
       "      <th>name</th>\n",
       "      <th>employees_2022</th>\n",
       "      <th>revenue_2022</th>\n",
       "      <th>sector</th>\n",
       "    </tr>\n",
       "  </thead>\n",
       "  <tbody>\n",
       "    <tr>\n",
       "      <th>990</th>\n",
       "      <td>NaN</td>\n",
       "      <td>spain</td>\n",
       "      <td>3.015 Billion USD</td>\n",
       "      <td>2.548 Billion USD</td>\n",
       "      <td>2.653 Billion USD</td>\n",
       "      <td>compania de distribucion integral logista hold...</td>\n",
       "      <td>NaN</td>\n",
       "      <td>11,930 Million USD</td>\n",
       "      <td>industries</td>\n",
       "    </tr>\n",
       "    <tr>\n",
       "      <th>991</th>\n",
       "      <td>NaN</td>\n",
       "      <td>france</td>\n",
       "      <td>1.847 Billion USD</td>\n",
       "      <td>1.958 Billion USD</td>\n",
       "      <td>2.648 Billion USD</td>\n",
       "      <td>constellium se</td>\n",
       "      <td>NaN</td>\n",
       "      <td>6,150 Million USD</td>\n",
       "      <td>basic materials</td>\n",
       "    </tr>\n",
       "    <tr>\n",
       "      <th>992</th>\n",
       "      <td>NaN</td>\n",
       "      <td>switzerland</td>\n",
       "      <td>0.980 Billion USD</td>\n",
       "      <td>1.723 Billion USD</td>\n",
       "      <td>2.647 Billion USD</td>\n",
       "      <td>comet holding ag</td>\n",
       "      <td>NaN</td>\n",
       "      <td>549 Million USD</td>\n",
       "      <td>technology</td>\n",
       "    </tr>\n",
       "    <tr>\n",
       "      <th>993</th>\n",
       "      <td>NaN</td>\n",
       "      <td>denmark</td>\n",
       "      <td>0.867 Billion USD</td>\n",
       "      <td>1.785 Billion USD</td>\n",
       "      <td>2.638 Billion USD</td>\n",
       "      <td>bavarian nordic a/s</td>\n",
       "      <td>NaN</td>\n",
       "      <td>255 Million USD</td>\n",
       "      <td>healthcare</td>\n",
       "    </tr>\n",
       "    <tr>\n",
       "      <th>994</th>\n",
       "      <td>NaN</td>\n",
       "      <td>germany</td>\n",
       "      <td>NaN</td>\n",
       "      <td>NaN</td>\n",
       "      <td>2.631 Billion USD</td>\n",
       "      <td>encavis ag</td>\n",
       "      <td>NaN</td>\n",
       "      <td>332 Million USD</td>\n",
       "      <td>utilities</td>\n",
       "    </tr>\n",
       "    <tr>\n",
       "      <th>995</th>\n",
       "      <td>NaN</td>\n",
       "      <td>uk</td>\n",
       "      <td>1.945 Billion USD</td>\n",
       "      <td>2.027 Billion USD</td>\n",
       "      <td>2.620 Billion USD</td>\n",
       "      <td>domino's pizza group</td>\n",
       "      <td>NaN</td>\n",
       "      <td>743 Million USD</td>\n",
       "      <td>consumer cyclical</td>\n",
       "    </tr>\n",
       "    <tr>\n",
       "      <th>996</th>\n",
       "      <td>NaN</td>\n",
       "      <td>germany</td>\n",
       "      <td>7.101 Billion USD</td>\n",
       "      <td>10.737 Billion USD</td>\n",
       "      <td>2.617 Billion USD</td>\n",
       "      <td>teamviewer ag</td>\n",
       "      <td>1,200</td>\n",
       "      <td>553 Million USD</td>\n",
       "      <td>technology</td>\n",
       "    </tr>\n",
       "    <tr>\n",
       "      <th>997</th>\n",
       "      <td>NaN</td>\n",
       "      <td>germany</td>\n",
       "      <td>1.464 Billion USD</td>\n",
       "      <td>2.013 Billion USD</td>\n",
       "      <td>2.610 Billion USD</td>\n",
       "      <td>gag immobilien ag</td>\n",
       "      <td>NaN</td>\n",
       "      <td>390 Million USD</td>\n",
       "      <td>real estate</td>\n",
       "    </tr>\n",
       "    <tr>\n",
       "      <th>998</th>\n",
       "      <td>NaN</td>\n",
       "      <td>france</td>\n",
       "      <td>2.794 Billion USD</td>\n",
       "      <td>2.387 Billion USD</td>\n",
       "      <td>2.600 Billion USD</td>\n",
       "      <td>nexity sa</td>\n",
       "      <td>NaN</td>\n",
       "      <td>4,467 Million USD</td>\n",
       "      <td>real estate</td>\n",
       "    </tr>\n",
       "    <tr>\n",
       "      <th>999</th>\n",
       "      <td>NaN</td>\n",
       "      <td>sweden</td>\n",
       "      <td>1.851 Billion USD</td>\n",
       "      <td>2.225 Billion USD</td>\n",
       "      <td>2.598 Billion USD</td>\n",
       "      <td>fastpartner ab (publ)</td>\n",
       "      <td>NaN</td>\n",
       "      <td>175 Million USD</td>\n",
       "      <td>real estate</td>\n",
       "    </tr>\n",
       "  </tbody>\n",
       "</table>\n",
       "</div>"
      ],
      "text/plain": [
       "     ceo      country market_value_jan_2020 market_value_jan_2021  \\\n",
       "990  NaN        spain     3.015 Billion USD     2.548 Billion USD   \n",
       "991  NaN       france     1.847 Billion USD     1.958 Billion USD   \n",
       "992  NaN  switzerland     0.980 Billion USD     1.723 Billion USD   \n",
       "993  NaN      denmark     0.867 Billion USD     1.785 Billion USD   \n",
       "994  NaN      germany                   NaN                   NaN   \n",
       "995  NaN           uk     1.945 Billion USD     2.027 Billion USD   \n",
       "996  NaN      germany     7.101 Billion USD    10.737 Billion USD   \n",
       "997  NaN      germany     1.464 Billion USD     2.013 Billion USD   \n",
       "998  NaN       france     2.794 Billion USD     2.387 Billion USD   \n",
       "999  NaN       sweden     1.851 Billion USD     2.225 Billion USD   \n",
       "\n",
       "    market_value_jan_2022                                               name  \\\n",
       "990     2.653 Billion USD  compania de distribucion integral logista hold...   \n",
       "991     2.648 Billion USD                                     constellium se   \n",
       "992     2.647 Billion USD                                   comet holding ag   \n",
       "993     2.638 Billion USD                                bavarian nordic a/s   \n",
       "994     2.631 Billion USD                                         encavis ag   \n",
       "995     2.620 Billion USD                               domino's pizza group   \n",
       "996     2.617 Billion USD                                      teamviewer ag   \n",
       "997     2.610 Billion USD                                  gag immobilien ag   \n",
       "998     2.600 Billion USD                                          nexity sa   \n",
       "999     2.598 Billion USD                              fastpartner ab (publ)   \n",
       "\n",
       "    employees_2022        revenue_2022             sector  \n",
       "990            NaN  11,930 Million USD         industries  \n",
       "991            NaN   6,150 Million USD    basic materials  \n",
       "992            NaN     549 Million USD         technology  \n",
       "993            NaN     255 Million USD         healthcare  \n",
       "994            NaN     332 Million USD          utilities  \n",
       "995            NaN     743 Million USD  consumer cyclical  \n",
       "996          1,200     553 Million USD         technology  \n",
       "997            NaN     390 Million USD        real estate  \n",
       "998            NaN   4,467 Million USD        real estate  \n",
       "999            NaN     175 Million USD        real estate  "
      ]
     },
     "execution_count": 293,
     "metadata": {},
     "output_type": "execute_result"
    }
   ],
   "source": [
    "val1 = pd.read_csv(\"de-sources-2022-2023/value.today/silvestri-value.today.csv\")\n",
    "val1.tail(10)"
   ]
  },
  {
   "cell_type": "code",
   "execution_count": 294,
   "metadata": {},
   "outputs": [
    {
     "name": "stdout",
     "output_type": "stream",
     "text": [
      "<class 'pandas.core.frame.DataFrame'>\n",
      "RangeIndex: 1000 entries, 0 to 999\n",
      "Data columns (total 9 columns):\n",
      " #   Column                 Non-Null Count  Dtype \n",
      "---  ------                 --------------  ----- \n",
      " 0   ceo                    303 non-null    object\n",
      " 1   country                1000 non-null   object\n",
      " 2   market_value_jan_2020  911 non-null    object\n",
      " 3   market_value_jan_2021  943 non-null    object\n",
      " 4   market_value_jan_2022  1000 non-null   object\n",
      " 5   name                   1000 non-null   object\n",
      " 6   employees_2022         719 non-null    object\n",
      " 7   revenue_2022           983 non-null    object\n",
      " 8   sector                 999 non-null    object\n",
      "dtypes: object(9)\n",
      "memory usage: 70.4+ KB\n"
     ]
    }
   ],
   "source": [
    "val1.info()"
   ]
  },
  {
   "cell_type": "code",
   "execution_count": 295,
   "metadata": {},
   "outputs": [
    {
     "data": {
      "text/plain": [
       "ceo                      object\n",
       "country                  object\n",
       "market_value_jan_2020    object\n",
       "market_value_jan_2021    object\n",
       "market_value_jan_2022    object\n",
       "name                     object\n",
       "employees_2022           object\n",
       "revenue_2022             object\n",
       "sector                   object\n",
       "dtype: object"
      ]
     },
     "execution_count": 295,
     "metadata": {},
     "output_type": "execute_result"
    }
   ],
   "source": [
    "val1.dtypes"
   ]
  },
  {
   "cell_type": "code",
   "execution_count": 296,
   "metadata": {},
   "outputs": [
    {
     "data": {
      "text/plain": [
       "ceo                      697\n",
       "country                    0\n",
       "market_value_jan_2020     89\n",
       "market_value_jan_2021     57\n",
       "market_value_jan_2022      0\n",
       "name                       0\n",
       "employees_2022           281\n",
       "revenue_2022              17\n",
       "sector                     1\n",
       "dtype: int64"
      ]
     },
     "execution_count": 296,
     "metadata": {},
     "output_type": "execute_result"
    }
   ],
   "source": [
    "val1.isnull().sum()"
   ]
  },
  {
   "cell_type": "code",
   "execution_count": 297,
   "metadata": {},
   "outputs": [
    {
     "data": {
      "text/html": [
       "<div>\n",
       "<style scoped>\n",
       "    .dataframe tbody tr th:only-of-type {\n",
       "        vertical-align: middle;\n",
       "    }\n",
       "\n",
       "    .dataframe tbody tr th {\n",
       "        vertical-align: top;\n",
       "    }\n",
       "\n",
       "    .dataframe thead th {\n",
       "        text-align: right;\n",
       "    }\n",
       "</style>\n",
       "<table border=\"1\" class=\"dataframe\">\n",
       "  <thead>\n",
       "    <tr style=\"text-align: right;\">\n",
       "      <th></th>\n",
       "      <th>IPO Year</th>\n",
       "      <th>Number of Employees</th>\n",
       "      <th>Country</th>\n",
       "      <th>CEO</th>\n",
       "      <th>Founded Year</th>\n",
       "      <th>Market Value</th>\n",
       "      <th>Name</th>\n",
       "    </tr>\n",
       "  </thead>\n",
       "  <tbody>\n",
       "    <tr>\n",
       "      <th>990</th>\n",
       "      <td>2016.0</td>\n",
       "      <td>8,961</td>\n",
       "      <td>Canada</td>\n",
       "      <td>Ashutosh Raghuvanshi</td>\n",
       "      <td>1987.0</td>\n",
       "      <td>22.01 Billion USD</td>\n",
       "      <td>FORTIS</td>\n",
       "    </tr>\n",
       "    <tr>\n",
       "      <th>991</th>\n",
       "      <td>NaN</td>\n",
       "      <td>9,230</td>\n",
       "      <td>China</td>\n",
       "      <td>NaN</td>\n",
       "      <td>1991.0</td>\n",
       "      <td>22.00 Billion USD</td>\n",
       "      <td>CHINA MERCHANTS SECURITIES</td>\n",
       "    </tr>\n",
       "    <tr>\n",
       "      <th>992</th>\n",
       "      <td>NaN</td>\n",
       "      <td>236,386</td>\n",
       "      <td>Germany</td>\n",
       "      <td>NaN</td>\n",
       "      <td>1871.0</td>\n",
       "      <td>21.98 Billion USD</td>\n",
       "      <td>CONTINENTAL AG</td>\n",
       "    </tr>\n",
       "    <tr>\n",
       "      <th>993</th>\n",
       "      <td>NaN</td>\n",
       "      <td>20,000</td>\n",
       "      <td>Russia</td>\n",
       "      <td>Pavel Sergeevich Grachev</td>\n",
       "      <td>1921.0</td>\n",
       "      <td>21.98 Billion USD</td>\n",
       "      <td>PJSC POLYUS</td>\n",
       "    </tr>\n",
       "    <tr>\n",
       "      <th>994</th>\n",
       "      <td>NaN</td>\n",
       "      <td>39,035</td>\n",
       "      <td>Japan</td>\n",
       "      <td>Masahiko Uotani</td>\n",
       "      <td>1872.0</td>\n",
       "      <td>21.97 Billion USD</td>\n",
       "      <td>SHISEIDO COMPANY</td>\n",
       "    </tr>\n",
       "    <tr>\n",
       "      <th>995</th>\n",
       "      <td>NaN</td>\n",
       "      <td>18,000</td>\n",
       "      <td>Norway</td>\n",
       "      <td>Sigve Brekke</td>\n",
       "      <td>1855.0</td>\n",
       "      <td>21.97 Billion USD</td>\n",
       "      <td>TELENOR ASA</td>\n",
       "    </tr>\n",
       "    <tr>\n",
       "      <th>996</th>\n",
       "      <td>NaN</td>\n",
       "      <td>355</td>\n",
       "      <td>UK</td>\n",
       "      <td>NaN</td>\n",
       "      <td>1920.0</td>\n",
       "      <td>21.95 Billion USD</td>\n",
       "      <td>SEGRO</td>\n",
       "    </tr>\n",
       "    <tr>\n",
       "      <th>997</th>\n",
       "      <td>NaN</td>\n",
       "      <td>18,515</td>\n",
       "      <td>Spain</td>\n",
       "      <td>Ignacio Madridejos Fernandez</td>\n",
       "      <td>1952.0</td>\n",
       "      <td>21.93 Billion USD</td>\n",
       "      <td>FERROVIAL</td>\n",
       "    </tr>\n",
       "    <tr>\n",
       "      <th>998</th>\n",
       "      <td>NaN</td>\n",
       "      <td>6,527</td>\n",
       "      <td>Denmark</td>\n",
       "      <td>Ester Baiget</td>\n",
       "      <td>2000.0</td>\n",
       "      <td>21.91 Billion USD</td>\n",
       "      <td>NOVOZYMES A/S</td>\n",
       "    </tr>\n",
       "    <tr>\n",
       "      <th>999</th>\n",
       "      <td>NaN</td>\n",
       "      <td>33,342</td>\n",
       "      <td>Brazil</td>\n",
       "      <td>Harry Schmelzer Jr.</td>\n",
       "      <td>1961.0</td>\n",
       "      <td>21.89 Billion USD</td>\n",
       "      <td>WEG</td>\n",
       "    </tr>\n",
       "  </tbody>\n",
       "</table>\n",
       "</div>"
      ],
      "text/plain": [
       "     IPO Year Number of Employees  Country                           CEO  \\\n",
       "990    2016.0               8,961   Canada          Ashutosh Raghuvanshi   \n",
       "991       NaN               9,230    China                           NaN   \n",
       "992       NaN             236,386  Germany                           NaN   \n",
       "993       NaN              20,000   Russia      Pavel Sergeevich Grachev   \n",
       "994       NaN              39,035    Japan               Masahiko Uotani   \n",
       "995       NaN              18,000   Norway                  Sigve Brekke   \n",
       "996       NaN                 355       UK                           NaN   \n",
       "997       NaN              18,515    Spain  Ignacio Madridejos Fernandez   \n",
       "998       NaN               6,527  Denmark                  Ester Baiget   \n",
       "999       NaN              33,342   Brazil           Harry Schmelzer Jr.   \n",
       "\n",
       "     Founded Year       Market Value                        Name  \n",
       "990        1987.0  22.01 Billion USD                      FORTIS  \n",
       "991        1991.0  22.00 Billion USD  CHINA MERCHANTS SECURITIES  \n",
       "992        1871.0  21.98 Billion USD              CONTINENTAL AG  \n",
       "993        1921.0  21.98 Billion USD                 PJSC POLYUS  \n",
       "994        1872.0  21.97 Billion USD            SHISEIDO COMPANY  \n",
       "995        1855.0  21.97 Billion USD                 TELENOR ASA  \n",
       "996        1920.0  21.95 Billion USD                       SEGRO  \n",
       "997        1952.0  21.93 Billion USD                   FERROVIAL  \n",
       "998        2000.0  21.91 Billion USD               NOVOZYMES A/S  \n",
       "999        1961.0  21.89 Billion USD                         WEG  "
      ]
     },
     "execution_count": 297,
     "metadata": {},
     "output_type": "execute_result"
    }
   ],
   "source": [
    "val2 = pd.read_csv(\"de-sources-2022-2023/value.today/FR-valuetoday.csv\")\n",
    "val2.tail(10)"
   ]
  },
  {
   "cell_type": "code",
   "execution_count": 298,
   "metadata": {},
   "outputs": [
    {
     "name": "stdout",
     "output_type": "stream",
     "text": [
      "<class 'pandas.core.frame.DataFrame'>\n",
      "RangeIndex: 1000 entries, 0 to 999\n",
      "Data columns (total 7 columns):\n",
      " #   Column               Non-Null Count  Dtype  \n",
      "---  ------               --------------  -----  \n",
      " 0   IPO Year             175 non-null    float64\n",
      " 1   Number of Employees  973 non-null    object \n",
      " 2   Country              1000 non-null   object \n",
      " 3   CEO                  842 non-null    object \n",
      " 4   Founded Year         977 non-null    float64\n",
      " 5   Market Value         968 non-null    object \n",
      " 6   Name                 1000 non-null   object \n",
      "dtypes: float64(2), object(5)\n",
      "memory usage: 54.8+ KB\n"
     ]
    }
   ],
   "source": [
    "val2.info()"
   ]
  },
  {
   "cell_type": "code",
   "execution_count": 299,
   "metadata": {},
   "outputs": [
    {
     "data": {
      "text/plain": [
       "IPO Year               float64\n",
       "Number of Employees     object\n",
       "Country                 object\n",
       "CEO                     object\n",
       "Founded Year           float64\n",
       "Market Value            object\n",
       "Name                    object\n",
       "dtype: object"
      ]
     },
     "execution_count": 299,
     "metadata": {},
     "output_type": "execute_result"
    }
   ],
   "source": [
    "val2.dtypes"
   ]
  },
  {
   "cell_type": "code",
   "execution_count": 300,
   "metadata": {},
   "outputs": [
    {
     "data": {
      "text/plain": [
       "IPO Year               825\n",
       "Number of Employees     27\n",
       "Country                  0\n",
       "CEO                    158\n",
       "Founded Year            23\n",
       "Market Value            32\n",
       "Name                     0\n",
       "dtype: int64"
      ]
     },
     "execution_count": 300,
     "metadata": {},
     "output_type": "execute_result"
    }
   ],
   "source": [
    "val2.isnull().sum()"
   ]
  },
  {
   "attachments": {},
   "cell_type": "markdown",
   "metadata": {},
   "source": [
    "#### Formato .json"
   ]
  },
  {
   "cell_type": "code",
   "execution_count": 301,
   "metadata": {},
   "outputs": [
    {
     "data": {
      "text/html": [
       "<div>\n",
       "<style scoped>\n",
       "    .dataframe tbody tr th:only-of-type {\n",
       "        vertical-align: middle;\n",
       "    }\n",
       "\n",
       "    .dataframe tbody tr th {\n",
       "        vertical-align: top;\n",
       "    }\n",
       "\n",
       "    .dataframe thead th {\n",
       "        text-align: right;\n",
       "    }\n",
       "</style>\n",
       "<table border=\"1\" class=\"dataframe\">\n",
       "  <thead>\n",
       "    <tr style=\"text-align: right;\">\n",
       "      <th></th>\n",
       "      <th>name</th>\n",
       "      <th>annual_revenue_USD</th>\n",
       "      <th>annual_net_income_USD</th>\n",
       "      <th>market_capitalization_2022</th>\n",
       "      <th>employees_number</th>\n",
       "      <th>CEO</th>\n",
       "      <th>headquarters_country</th>\n",
       "      <th>wikipedia_page_url</th>\n",
       "      <th>twitter_page_url</th>\n",
       "      <th>facebook_page_url</th>\n",
       "    </tr>\n",
       "  </thead>\n",
       "  <tbody>\n",
       "    <tr>\n",
       "      <th>0</th>\n",
       "      <td>APPLE</td>\n",
       "      <td>394330000000</td>\n",
       "      <td>99803000000</td>\n",
       "      <td>2825000000000</td>\n",
       "      <td>154000</td>\n",
       "      <td>Tim Cook</td>\n",
       "      <td>USA</td>\n",
       "      <td>https://en.wikipedia.org/wiki/Apple_Inc.</td>\n",
       "      <td>https://twitter.com/apple?lang=en</td>\n",
       "      <td>https://www.facebook.com/apple/</td>\n",
       "    </tr>\n",
       "    <tr>\n",
       "      <th>1</th>\n",
       "      <td>MICROSOFT CORPORATION</td>\n",
       "      <td>198270000000</td>\n",
       "      <td>72738000000</td>\n",
       "      <td>2358000000000</td>\n",
       "      <td>220000</td>\n",
       "      <td>Satya Nadella</td>\n",
       "      <td>USA</td>\n",
       "      <td>https://en.wikipedia.org/wiki/Microsoft</td>\n",
       "      <td>https://twitter.com/Microsoft</td>\n",
       "      <td>https://www.facebook.com/Microsoft/</td>\n",
       "    </tr>\n",
       "    <tr>\n",
       "      <th>2</th>\n",
       "      <td>SAUDI ARABIAN OIL COMPANY (Saudi Aramco)</td>\n",
       "      <td>400460000000</td>\n",
       "      <td>105380000000</td>\n",
       "      <td>1889600000000</td>\n",
       "      <td>79800</td>\n",
       "      <td>Amin H. Al-Nasser</td>\n",
       "      <td>Saudi Arabia</td>\n",
       "      <td>https://en.wikipedia.org/wiki/Saudi_Aramco</td>\n",
       "      <td>https://twitter.com/Saudi_Aramco</td>\n",
       "      <td>https://www.facebook.com/aramco/</td>\n",
       "    </tr>\n",
       "    <tr>\n",
       "      <th>3</th>\n",
       "      <td>ALPHABET</td>\n",
       "      <td>257640000000</td>\n",
       "      <td>76003000000</td>\n",
       "      <td>1820000000000</td>\n",
       "      <td>156500</td>\n",
       "      <td>Sundar Pichai</td>\n",
       "      <td>USA</td>\n",
       "      <td>https://en.wikipedia.org/wiki/Alphabet_Inc.</td>\n",
       "      <td>https://twitter.com/google?lang=en</td>\n",
       "      <td>https://www.facebook.com/alphabet/</td>\n",
       "    </tr>\n",
       "    <tr>\n",
       "      <th>4</th>\n",
       "      <td>AMAZON.COM</td>\n",
       "      <td>469820000000</td>\n",
       "      <td>33364000000</td>\n",
       "      <td>1649000000000</td>\n",
       "      <td>1335000</td>\n",
       "      <td>Andy Jassy</td>\n",
       "      <td>USA</td>\n",
       "      <td>https://en.wikipedia.org/wiki/Amazon_(company)</td>\n",
       "      <td>https://twitter.com/amazon</td>\n",
       "      <td>https://www.facebook.com/Amazon/</td>\n",
       "    </tr>\n",
       "  </tbody>\n",
       "</table>\n",
       "</div>"
      ],
      "text/plain": [
       "                                       name annual_revenue_USD  \\\n",
       "0                                     APPLE       394330000000   \n",
       "1                     MICROSOFT CORPORATION       198270000000   \n",
       "2  SAUDI ARABIAN OIL COMPANY (Saudi Aramco)       400460000000   \n",
       "3                                  ALPHABET       257640000000   \n",
       "4                                AMAZON.COM       469820000000   \n",
       "\n",
       "  annual_net_income_USD market_capitalization_2022 employees_number  \\\n",
       "0           99803000000              2825000000000           154000   \n",
       "1           72738000000              2358000000000           220000   \n",
       "2          105380000000              1889600000000            79800   \n",
       "3           76003000000              1820000000000           156500   \n",
       "4           33364000000              1649000000000          1335000   \n",
       "\n",
       "                 CEO headquarters_country  \\\n",
       "0           Tim Cook                  USA   \n",
       "1      Satya Nadella                  USA   \n",
       "2  Amin H. Al-Nasser         Saudi Arabia   \n",
       "3      Sundar Pichai                  USA   \n",
       "4         Andy Jassy                  USA   \n",
       "\n",
       "                               wikipedia_page_url  \\\n",
       "0        https://en.wikipedia.org/wiki/Apple_Inc.   \n",
       "1         https://en.wikipedia.org/wiki/Microsoft   \n",
       "2      https://en.wikipedia.org/wiki/Saudi_Aramco   \n",
       "3     https://en.wikipedia.org/wiki/Alphabet_Inc.   \n",
       "4  https://en.wikipedia.org/wiki/Amazon_(company)   \n",
       "\n",
       "                     twitter_page_url                    facebook_page_url  \n",
       "0   https://twitter.com/apple?lang=en      https://www.facebook.com/apple/  \n",
       "1       https://twitter.com/Microsoft  https://www.facebook.com/Microsoft/  \n",
       "2    https://twitter.com/Saudi_Aramco     https://www.facebook.com/aramco/  \n",
       "3  https://twitter.com/google?lang=en   https://www.facebook.com/alphabet/  \n",
       "4          https://twitter.com/amazon     https://www.facebook.com/Amazon/  "
      ]
     },
     "execution_count": 301,
     "metadata": {},
     "output_type": "execute_result"
    }
   ],
   "source": [
    "val3 = pd.read_json('de-sources-2022-2023/value.today/gren-value.today.json')\n",
    "val3.head()"
   ]
  },
  {
   "cell_type": "code",
   "execution_count": 302,
   "metadata": {},
   "outputs": [
    {
     "name": "stdout",
     "output_type": "stream",
     "text": [
      "<class 'pandas.core.frame.DataFrame'>\n",
      "RangeIndex: 10682 entries, 0 to 10681\n",
      "Data columns (total 10 columns):\n",
      " #   Column                      Non-Null Count  Dtype \n",
      "---  ------                      --------------  ----- \n",
      " 0   name                        10682 non-null  object\n",
      " 1   annual_revenue_USD          10682 non-null  object\n",
      " 2   annual_net_income_USD       10682 non-null  object\n",
      " 3   market_capitalization_2022  10682 non-null  object\n",
      " 4   employees_number            10682 non-null  object\n",
      " 5   CEO                         10682 non-null  object\n",
      " 6   headquarters_country        10682 non-null  object\n",
      " 7   wikipedia_page_url          10682 non-null  object\n",
      " 8   twitter_page_url            10682 non-null  object\n",
      " 9   facebook_page_url           10682 non-null  object\n",
      "dtypes: object(10)\n",
      "memory usage: 834.7+ KB\n"
     ]
    }
   ],
   "source": [
    "val3.info()"
   ]
  },
  {
   "cell_type": "code",
   "execution_count": 303,
   "metadata": {},
   "outputs": [
    {
     "data": {
      "text/plain": [
       "name                          object\n",
       "annual_revenue_USD            object\n",
       "annual_net_income_USD         object\n",
       "market_capitalization_2022    object\n",
       "employees_number              object\n",
       "CEO                           object\n",
       "headquarters_country          object\n",
       "wikipedia_page_url            object\n",
       "twitter_page_url              object\n",
       "facebook_page_url             object\n",
       "dtype: object"
      ]
     },
     "execution_count": 303,
     "metadata": {},
     "output_type": "execute_result"
    }
   ],
   "source": [
    "val3.dtypes"
   ]
  },
  {
   "cell_type": "code",
   "execution_count": 304,
   "metadata": {},
   "outputs": [
    {
     "data": {
      "text/plain": [
       "name                          0\n",
       "annual_revenue_USD            0\n",
       "annual_net_income_USD         0\n",
       "market_capitalization_2022    0\n",
       "employees_number              0\n",
       "CEO                           0\n",
       "headquarters_country          0\n",
       "wikipedia_page_url            0\n",
       "twitter_page_url              0\n",
       "facebook_page_url             0\n",
       "dtype: int64"
      ]
     },
     "execution_count": 304,
     "metadata": {},
     "output_type": "execute_result"
    }
   ],
   "source": [
    "val3.isnull().sum()"
   ]
  },
  {
   "cell_type": "code",
   "execution_count": 305,
   "metadata": {},
   "outputs": [
    {
     "data": {
      "text/html": [
       "<div>\n",
       "<style scoped>\n",
       "    .dataframe tbody tr th:only-of-type {\n",
       "        vertical-align: middle;\n",
       "    }\n",
       "\n",
       "    .dataframe tbody tr th {\n",
       "        vertical-align: top;\n",
       "    }\n",
       "\n",
       "    .dataframe thead th {\n",
       "        text-align: right;\n",
       "    }\n",
       "</style>\n",
       "<table border=\"1\" class=\"dataframe\">\n",
       "  <thead>\n",
       "    <tr style=\"text-align: right;\">\n",
       "      <th></th>\n",
       "      <th>id</th>\n",
       "      <th>name</th>\n",
       "      <th>world_rank</th>\n",
       "      <th>annual_revenue_in_usd</th>\n",
       "      <th>annual_net_income_in_usd</th>\n",
       "      <th>annual_results_for_year_ending</th>\n",
       "      <th>total_assets_in_usd</th>\n",
       "      <th>total_liabilities_in_usd</th>\n",
       "      <th>total_equity_in_usd</th>\n",
       "      <th>headquarters_region_city</th>\n",
       "      <th>headquarters_country</th>\n",
       "      <th>headquarters_sub_region</th>\n",
       "      <th>headquarters_continent</th>\n",
       "      <th>company_business</th>\n",
       "      <th>number_of_employees</th>\n",
       "      <th>ceo</th>\n",
       "      <th>founders</th>\n",
       "      <th>company_website</th>\n",
       "    </tr>\n",
       "  </thead>\n",
       "  <tbody>\n",
       "    <tr>\n",
       "      <th>0</th>\n",
       "      <td>b9a098214d1a4ce1acc834cf17aef660</td>\n",
       "      <td>Apple</td>\n",
       "      <td>1</td>\n",
       "      <td>394,330 Million USD</td>\n",
       "      <td>99,803 Million USD</td>\n",
       "      <td>Sep-2022</td>\n",
       "      <td>352,760 Million USD</td>\n",
       "      <td>302,080 Million USD</td>\n",
       "      <td>50,672 Million USD</td>\n",
       "      <td>California</td>\n",
       "      <td>USA</td>\n",
       "      <td>Northern America</td>\n",
       "      <td>Americas</td>\n",
       "      <td>[Technology, Mobiles &amp; Accessories, Electronic...</td>\n",
       "      <td>154,000</td>\n",
       "      <td>Tim Cook</td>\n",
       "      <td>[Steve Jobs, Steve Wozniak, Ronald Wayne]</td>\n",
       "      <td>https://www.apple.com/</td>\n",
       "    </tr>\n",
       "    <tr>\n",
       "      <th>1</th>\n",
       "      <td>42f1b7d5a40343de9837fc75d74767c3</td>\n",
       "      <td>Taiwan Semiconductor Manufacturing Company (tsmc)</td>\n",
       "      <td>10</td>\n",
       "      <td>55,306 Million USD</td>\n",
       "      <td>20,783 Million USD</td>\n",
       "      <td>Dec-2021</td>\n",
       "      <td>129,800 Million USD</td>\n",
       "      <td>54,253 Million USD</td>\n",
       "      <td>75,543 Million USD</td>\n",
       "      <td>Hsinchu</td>\n",
       "      <td>Taiwan</td>\n",
       "      <td>South East Asia</td>\n",
       "      <td>Asia</td>\n",
       "      <td>[Technology, Semiconductors, Electronics, Tech...</td>\n",
       "      <td>65,152</td>\n",
       "      <td>C. C. Wei</td>\n",
       "      <td>Morris Chang</td>\n",
       "      <td>https://www.tsmc.com/</td>\n",
       "    </tr>\n",
       "    <tr>\n",
       "      <th>2</th>\n",
       "      <td>85fa8c7dfbb447d898002cb3cfb2fffd</td>\n",
       "      <td>Nvidia Corporation</td>\n",
       "      <td>9</td>\n",
       "      <td>26,914 Million USD</td>\n",
       "      <td>9,752 Million USD</td>\n",
       "      <td>For Year Ending  JAN-2022</td>\n",
       "      <td>44,187 Million USD</td>\n",
       "      <td>17,575 Million USD</td>\n",
       "      <td>26,612 Million USD</td>\n",
       "      <td>California</td>\n",
       "      <td>USA</td>\n",
       "      <td>Northern America</td>\n",
       "      <td>Americas</td>\n",
       "      <td>[Technology, Semiconductors, Electronics, Tech...</td>\n",
       "      <td>18,975</td>\n",
       "      <td>Jensen Huang</td>\n",
       "      <td>[Jensen Huang, Chris Malachowsky, Curtis Priem]</td>\n",
       "      <td>http://www.nvidia.com/</td>\n",
       "    </tr>\n",
       "    <tr>\n",
       "      <th>3</th>\n",
       "      <td>6b52bb9b50924235b1003c74bb8db227</td>\n",
       "      <td>Berkshire Hathaway</td>\n",
       "      <td>8</td>\n",
       "      <td>354,640 Million USD</td>\n",
       "      <td>89,795 Million USD</td>\n",
       "      <td>For Year ending Dec-2021</td>\n",
       "      <td>956,780 Million USD</td>\n",
       "      <td>443,850 Million USD</td>\n",
       "      <td>514,930 Million USD</td>\n",
       "      <td>Nebraska</td>\n",
       "      <td>USA</td>\n",
       "      <td>Northern America</td>\n",
       "      <td>Americas</td>\n",
       "      <td>[Financial Services, Investments, Insurance]</td>\n",
       "      <td>372,000</td>\n",
       "      <td>Warren Buffett</td>\n",
       "      <td>Oliver Chace</td>\n",
       "      <td>https://www.berkshirehathaway.com/</td>\n",
       "    </tr>\n",
       "    <tr>\n",
       "      <th>4</th>\n",
       "      <td>d10c3bd4fe924f138454b6f0583de7a1</td>\n",
       "      <td>Meta Platforms</td>\n",
       "      <td>7</td>\n",
       "      <td>117,930 Million USD</td>\n",
       "      <td>39,370 Million USD</td>\n",
       "      <td>Dec-2021</td>\n",
       "      <td>165,990 Million USD</td>\n",
       "      <td>41,108 Million USD</td>\n",
       "      <td>124,880 Million USD</td>\n",
       "      <td>California</td>\n",
       "      <td>USA</td>\n",
       "      <td>Northern America</td>\n",
       "      <td>Americas</td>\n",
       "      <td>[Communication Services, Internet or Mobile Ap...</td>\n",
       "      <td>77,805</td>\n",
       "      <td>Mark Zuckerberg</td>\n",
       "      <td>[Mark Zuckerberg, Andrew McCollum, Eduardo Sav...</td>\n",
       "      <td>https://www.facebook.com/</td>\n",
       "    </tr>\n",
       "  </tbody>\n",
       "</table>\n",
       "</div>"
      ],
      "text/plain": [
       "                                 id  \\\n",
       "0  b9a098214d1a4ce1acc834cf17aef660   \n",
       "1  42f1b7d5a40343de9837fc75d74767c3   \n",
       "2  85fa8c7dfbb447d898002cb3cfb2fffd   \n",
       "3  6b52bb9b50924235b1003c74bb8db227   \n",
       "4  d10c3bd4fe924f138454b6f0583de7a1   \n",
       "\n",
       "                                                name world_rank  \\\n",
       "0                                              Apple          1   \n",
       "1  Taiwan Semiconductor Manufacturing Company (tsmc)         10   \n",
       "2                                 Nvidia Corporation          9   \n",
       "3                                 Berkshire Hathaway          8   \n",
       "4                                     Meta Platforms          7   \n",
       "\n",
       "  annual_revenue_in_usd annual_net_income_in_usd  \\\n",
       "0   394,330 Million USD       99,803 Million USD   \n",
       "1    55,306 Million USD       20,783 Million USD   \n",
       "2    26,914 Million USD        9,752 Million USD   \n",
       "3   354,640 Million USD       89,795 Million USD   \n",
       "4   117,930 Million USD       39,370 Million USD   \n",
       "\n",
       "  annual_results_for_year_ending  total_assets_in_usd  \\\n",
       "0                       Sep-2022  352,760 Million USD   \n",
       "1                       Dec-2021  129,800 Million USD   \n",
       "2      For Year Ending  JAN-2022   44,187 Million USD   \n",
       "3       For Year ending Dec-2021  956,780 Million USD   \n",
       "4                       Dec-2021  165,990 Million USD   \n",
       "\n",
       "  total_liabilities_in_usd  total_equity_in_usd headquarters_region_city  \\\n",
       "0      302,080 Million USD   50,672 Million USD               California   \n",
       "1       54,253 Million USD   75,543 Million USD                  Hsinchu   \n",
       "2       17,575 Million USD   26,612 Million USD               California   \n",
       "3      443,850 Million USD  514,930 Million USD                 Nebraska   \n",
       "4       41,108 Million USD  124,880 Million USD               California   \n",
       "\n",
       "  headquarters_country headquarters_sub_region headquarters_continent  \\\n",
       "0                  USA        Northern America               Americas   \n",
       "1               Taiwan         South East Asia                   Asia   \n",
       "2                  USA        Northern America               Americas   \n",
       "3                  USA        Northern America               Americas   \n",
       "4                  USA        Northern America               Americas   \n",
       "\n",
       "                                    company_business number_of_employees  \\\n",
       "0  [Technology, Mobiles & Accessories, Electronic...             154,000   \n",
       "1  [Technology, Semiconductors, Electronics, Tech...              65,152   \n",
       "2  [Technology, Semiconductors, Electronics, Tech...              18,975   \n",
       "3       [Financial Services, Investments, Insurance]             372,000   \n",
       "4  [Communication Services, Internet or Mobile Ap...              77,805   \n",
       "\n",
       "               ceo                                           founders  \\\n",
       "0         Tim Cook          [Steve Jobs, Steve Wozniak, Ronald Wayne]   \n",
       "1        C. C. Wei                                       Morris Chang   \n",
       "2     Jensen Huang    [Jensen Huang, Chris Malachowsky, Curtis Priem]   \n",
       "3   Warren Buffett                                       Oliver Chace   \n",
       "4  Mark Zuckerberg  [Mark Zuckerberg, Andrew McCollum, Eduardo Sav...   \n",
       "\n",
       "                      company_website  \n",
       "0              https://www.apple.com/  \n",
       "1               https://www.tsmc.com/  \n",
       "2              http://www.nvidia.com/  \n",
       "3  https://www.berkshirehathaway.com/  \n",
       "4           https://www.facebook.com/  "
      ]
     },
     "execution_count": 305,
     "metadata": {},
     "output_type": "execute_result"
    }
   ],
   "source": [
    "val4 = pd.read_json('de-sources-2022-2023/value.today/avengers-valuetoday.json', lines=True)\n",
    "val4.head()"
   ]
  },
  {
   "cell_type": "code",
   "execution_count": 306,
   "metadata": {},
   "outputs": [
    {
     "name": "stdout",
     "output_type": "stream",
     "text": [
      "<class 'pandas.core.frame.DataFrame'>\n",
      "RangeIndex: 10682 entries, 0 to 10681\n",
      "Data columns (total 18 columns):\n",
      " #   Column                          Non-Null Count  Dtype \n",
      "---  ------                          --------------  ----- \n",
      " 0   id                              10682 non-null  object\n",
      " 1   name                            10682 non-null  object\n",
      " 2   world_rank                      10682 non-null  object\n",
      " 3   annual_revenue_in_usd           8296 non-null   object\n",
      " 4   annual_net_income_in_usd        8302 non-null   object\n",
      " 5   annual_results_for_year_ending  8350 non-null   object\n",
      " 6   total_assets_in_usd             7960 non-null   object\n",
      " 7   total_liabilities_in_usd        7959 non-null   object\n",
      " 8   total_equity_in_usd             7958 non-null   object\n",
      " 9   headquarters_region_city        3380 non-null   object\n",
      " 10  headquarters_country            10664 non-null  object\n",
      " 11  headquarters_sub_region         10634 non-null  object\n",
      " 12  headquarters_continent          10659 non-null  object\n",
      " 13  company_business                10513 non-null  object\n",
      " 14  number_of_employees             5451 non-null   object\n",
      " 15  ceo                             1249 non-null   object\n",
      " 16  founders                        394 non-null    object\n",
      " 17  company_website                 10399 non-null  object\n",
      "dtypes: object(18)\n",
      "memory usage: 1.5+ MB\n"
     ]
    }
   ],
   "source": [
    "val4.info()"
   ]
  },
  {
   "cell_type": "code",
   "execution_count": 307,
   "metadata": {},
   "outputs": [
    {
     "data": {
      "text/plain": [
       "id                                object\n",
       "name                              object\n",
       "world_rank                        object\n",
       "annual_revenue_in_usd             object\n",
       "annual_net_income_in_usd          object\n",
       "annual_results_for_year_ending    object\n",
       "total_assets_in_usd               object\n",
       "total_liabilities_in_usd          object\n",
       "total_equity_in_usd               object\n",
       "headquarters_region_city          object\n",
       "headquarters_country              object\n",
       "headquarters_sub_region           object\n",
       "headquarters_continent            object\n",
       "company_business                  object\n",
       "number_of_employees               object\n",
       "ceo                               object\n",
       "founders                          object\n",
       "company_website                   object\n",
       "dtype: object"
      ]
     },
     "execution_count": 307,
     "metadata": {},
     "output_type": "execute_result"
    }
   ],
   "source": [
    "val4.dtypes"
   ]
  },
  {
   "cell_type": "code",
   "execution_count": 308,
   "metadata": {},
   "outputs": [
    {
     "data": {
      "text/plain": [
       "id                                    0\n",
       "name                                  0\n",
       "world_rank                            0\n",
       "annual_revenue_in_usd              2386\n",
       "annual_net_income_in_usd           2380\n",
       "annual_results_for_year_ending     2332\n",
       "total_assets_in_usd                2722\n",
       "total_liabilities_in_usd           2723\n",
       "total_equity_in_usd                2724\n",
       "headquarters_region_city           7302\n",
       "headquarters_country                 18\n",
       "headquarters_sub_region              48\n",
       "headquarters_continent               23\n",
       "company_business                    169\n",
       "number_of_employees                5231\n",
       "ceo                                9433\n",
       "founders                          10288\n",
       "company_website                     283\n",
       "dtype: int64"
      ]
     },
     "execution_count": 308,
     "metadata": {},
     "output_type": "execute_result"
    }
   ],
   "source": [
    "val4.isnull().sum()"
   ]
  },
  {
   "cell_type": "code",
   "execution_count": 309,
   "metadata": {},
   "outputs": [
    {
     "data": {
      "text/html": [
       "<div>\n",
       "<style scoped>\n",
       "    .dataframe tbody tr th:only-of-type {\n",
       "        vertical-align: middle;\n",
       "    }\n",
       "\n",
       "    .dataframe tbody tr th {\n",
       "        vertical-align: top;\n",
       "    }\n",
       "\n",
       "    .dataframe thead th {\n",
       "        text-align: right;\n",
       "    }\n",
       "</style>\n",
       "<table border=\"1\" class=\"dataframe\">\n",
       "  <thead>\n",
       "    <tr style=\"text-align: right;\">\n",
       "      <th></th>\n",
       "      <th>name</th>\n",
       "      <th>world_rank</th>\n",
       "      <th>marketValue</th>\n",
       "      <th>marketCap</th>\n",
       "      <th>CEO</th>\n",
       "      <th>country</th>\n",
       "    </tr>\n",
       "  </thead>\n",
       "  <tbody>\n",
       "    <tr>\n",
       "      <th>0</th>\n",
       "      <td>APPLE</td>\n",
       "      <td>1</td>\n",
       "      <td>2,825.000 Billion USD</td>\n",
       "      <td>2,510.000 Billion USD</td>\n",
       "      <td>Tim Cook</td>\n",
       "      <td>USA</td>\n",
       "    </tr>\n",
       "    <tr>\n",
       "      <th>1</th>\n",
       "      <td>MICROSOFT CORPORATION</td>\n",
       "      <td>2</td>\n",
       "      <td>2,358.000 Billion USD</td>\n",
       "      <td>2,269.000 Billion USD</td>\n",
       "      <td>None</td>\n",
       "      <td>USA</td>\n",
       "    </tr>\n",
       "    <tr>\n",
       "      <th>2</th>\n",
       "      <td>SAUDI ARABIAN OIL COMPANY (Saudi Aramco)</td>\n",
       "      <td>3</td>\n",
       "      <td>1,889.600 Billion USD</td>\n",
       "      <td>1,891.600 Billion USD</td>\n",
       "      <td>H.E. Yasir Othman Al-Rumayyan</td>\n",
       "      <td>Saudi Arabia</td>\n",
       "    </tr>\n",
       "    <tr>\n",
       "      <th>3</th>\n",
       "      <td>ALPHABET</td>\n",
       "      <td>4</td>\n",
       "      <td>1,820.000 Billion USD</td>\n",
       "      <td>1,934.000 Billion USD</td>\n",
       "      <td>John L. Hennessy</td>\n",
       "      <td>USA</td>\n",
       "    </tr>\n",
       "    <tr>\n",
       "      <th>4</th>\n",
       "      <td>AMAZON.COM</td>\n",
       "      <td>5</td>\n",
       "      <td>1,649.000 Billion USD</td>\n",
       "      <td>1,758.000 Billion USD</td>\n",
       "      <td>Andy Jassy</td>\n",
       "      <td>USA</td>\n",
       "    </tr>\n",
       "  </tbody>\n",
       "</table>\n",
       "</div>"
      ],
      "text/plain": [
       "                                       name world_rank            marketValue  \\\n",
       "0                                     APPLE          1  2,825.000 Billion USD   \n",
       "1                     MICROSOFT CORPORATION          2  2,358.000 Billion USD   \n",
       "2  SAUDI ARABIAN OIL COMPANY (Saudi Aramco)          3  1,889.600 Billion USD   \n",
       "3                                  ALPHABET          4  1,820.000 Billion USD   \n",
       "4                                AMAZON.COM          5  1,649.000 Billion USD   \n",
       "\n",
       "               marketCap                            CEO       country  \n",
       "0  2,510.000 Billion USD                       Tim Cook           USA  \n",
       "1  2,269.000 Billion USD                           None           USA  \n",
       "2  1,891.600 Billion USD  H.E. Yasir Othman Al-Rumayyan  Saudi Arabia  \n",
       "3  1,934.000 Billion USD               John L. Hennessy           USA  \n",
       "4  1,758.000 Billion USD                     Andy Jassy           USA  "
      ]
     },
     "execution_count": 309,
     "metadata": {},
     "output_type": "execute_result"
    }
   ],
   "source": [
    "val5 = pd.read_json('de-sources-2022-2023/value.today/GioPonSpiz-value.today.json')\n",
    "val5.head()"
   ]
  },
  {
   "cell_type": "code",
   "execution_count": 310,
   "metadata": {},
   "outputs": [
    {
     "name": "stdout",
     "output_type": "stream",
     "text": [
      "<class 'pandas.core.frame.DataFrame'>\n",
      "RangeIndex: 10680 entries, 0 to 10679\n",
      "Data columns (total 6 columns):\n",
      " #   Column       Non-Null Count  Dtype \n",
      "---  ------       --------------  ----- \n",
      " 0   name         10680 non-null  object\n",
      " 1   world_rank   10680 non-null  object\n",
      " 2   marketValue  10666 non-null  object\n",
      " 3   marketCap    10571 non-null  object\n",
      " 4   CEO          1094 non-null   object\n",
      " 5   country      10680 non-null  object\n",
      "dtypes: object(6)\n",
      "memory usage: 500.8+ KB\n"
     ]
    }
   ],
   "source": [
    "val5.info()"
   ]
  },
  {
   "cell_type": "code",
   "execution_count": 311,
   "metadata": {},
   "outputs": [
    {
     "data": {
      "text/plain": [
       "name           object\n",
       "world_rank     object\n",
       "marketValue    object\n",
       "marketCap      object\n",
       "CEO            object\n",
       "country        object\n",
       "dtype: object"
      ]
     },
     "execution_count": 311,
     "metadata": {},
     "output_type": "execute_result"
    }
   ],
   "source": [
    "val5.dtypes"
   ]
  },
  {
   "cell_type": "code",
   "execution_count": 312,
   "metadata": {},
   "outputs": [
    {
     "data": {
      "text/plain": [
       "name              0\n",
       "world_rank        0\n",
       "marketValue      14\n",
       "marketCap       109\n",
       "CEO            9586\n",
       "country           0\n",
       "dtype: int64"
      ]
     },
     "execution_count": 312,
     "metadata": {},
     "output_type": "execute_result"
    }
   ],
   "source": [
    "val5.isnull().sum()"
   ]
  },
  {
   "cell_type": "code",
   "execution_count": 313,
   "metadata": {},
   "outputs": [
    {
     "data": {
      "text/html": [
       "<div>\n",
       "<style scoped>\n",
       "    .dataframe tbody tr th:only-of-type {\n",
       "        vertical-align: middle;\n",
       "    }\n",
       "\n",
       "    .dataframe tbody tr th {\n",
       "        vertical-align: top;\n",
       "    }\n",
       "\n",
       "    .dataframe thead th {\n",
       "        text-align: right;\n",
       "    }\n",
       "</style>\n",
       "<table border=\"1\" class=\"dataframe\">\n",
       "  <thead>\n",
       "    <tr style=\"text-align: right;\">\n",
       "      <th></th>\n",
       "      <th>name</th>\n",
       "      <th>ceo</th>\n",
       "      <th>market value (Jan-07-2022)</th>\n",
       "      <th>world rank (Jan-07-2022)</th>\n",
       "      <th>market value (Jan 1st 2020)</th>\n",
       "      <th>world rank (Jan-2020)</th>\n",
       "      <th>headquarters country</th>\n",
       "      <th>number of employees</th>\n",
       "      <th>company business</th>\n",
       "      <th>annual revenue in USD</th>\n",
       "      <th>annual net income in USD</th>\n",
       "      <th>company website</th>\n",
       "    </tr>\n",
       "  </thead>\n",
       "  <tbody>\n",
       "    <tr>\n",
       "      <th>0</th>\n",
       "      <td>APPLE</td>\n",
       "      <td>Tim Cook</td>\n",
       "      <td>2,825.000 Billion USD</td>\n",
       "      <td>1</td>\n",
       "      <td>1,323.000 Billion USD</td>\n",
       "      <td>2.0</td>\n",
       "      <td>USA</td>\n",
       "      <td>154,000</td>\n",
       "      <td>[Technology, Mobiles &amp; Accessories, Electronics]</td>\n",
       "      <td>365,820 Million USD</td>\n",
       "      <td>94,680 Million USD</td>\n",
       "      <td>https://www.apple.com/</td>\n",
       "    </tr>\n",
       "    <tr>\n",
       "      <th>1</th>\n",
       "      <td>MICROSOFT CORPORATION</td>\n",
       "      <td>Satya Nadella</td>\n",
       "      <td>2,358.000 Billion USD</td>\n",
       "      <td>2</td>\n",
       "      <td>1,215.000 Billion USD</td>\n",
       "      <td>3.0</td>\n",
       "      <td>USA</td>\n",
       "      <td>220,000</td>\n",
       "      <td>[Technology, Software and IT, Laptops]</td>\n",
       "      <td>198,270 Million USD</td>\n",
       "      <td>72,738 Million USD</td>\n",
       "      <td>https://www.microsoft.com/</td>\n",
       "    </tr>\n",
       "    <tr>\n",
       "      <th>2</th>\n",
       "      <td>SAUDI ARABIAN OIL COMPANY (Saudi Aramco)</td>\n",
       "      <td>Amin H. Al-Nasser</td>\n",
       "      <td>1,889.600 Billion USD</td>\n",
       "      <td>3</td>\n",
       "      <td>1,898.100 Billion USD</td>\n",
       "      <td>1.0</td>\n",
       "      <td>Saudi Arabia</td>\n",
       "      <td>79,800</td>\n",
       "      <td>[Energy, Oil and Gas, Chemicals]</td>\n",
       "      <td>400,460 Million USD</td>\n",
       "      <td>105,380 Million USD</td>\n",
       "      <td>https://www.saudiaramco.com/</td>\n",
       "    </tr>\n",
       "    <tr>\n",
       "      <th>3</th>\n",
       "      <td>ALPHABET</td>\n",
       "      <td>Sundar Pichai</td>\n",
       "      <td>1,820.000 Billion USD</td>\n",
       "      <td>4</td>\n",
       "      <td>943.897 Billion USD</td>\n",
       "      <td>4.0</td>\n",
       "      <td>USA</td>\n",
       "      <td>156,500</td>\n",
       "      <td>[Technology, Internet or Mobile App Based Busi...</td>\n",
       "      <td>257,640 Million USD</td>\n",
       "      <td>76,003 Million USD</td>\n",
       "      <td>https://abc.xyz/</td>\n",
       "    </tr>\n",
       "    <tr>\n",
       "      <th>4</th>\n",
       "      <td>AMAZON.COM</td>\n",
       "      <td>Andy Jassy</td>\n",
       "      <td>1,649.000 Billion USD</td>\n",
       "      <td>5</td>\n",
       "      <td>941.028 Billion USD</td>\n",
       "      <td>5.0</td>\n",
       "      <td>USA</td>\n",
       "      <td>1,335,000</td>\n",
       "      <td>[eCommerce, Internet or Mobile App Based Busin...</td>\n",
       "      <td>469,820 Million USD</td>\n",
       "      <td>33,364 Million USD</td>\n",
       "      <td>https://www.amazon.com/</td>\n",
       "    </tr>\n",
       "  </tbody>\n",
       "</table>\n",
       "</div>"
      ],
      "text/plain": [
       "                                       name                ceo  \\\n",
       "0                                     APPLE           Tim Cook   \n",
       "1                     MICROSOFT CORPORATION      Satya Nadella   \n",
       "2  SAUDI ARABIAN OIL COMPANY (Saudi Aramco)  Amin H. Al-Nasser   \n",
       "3                                  ALPHABET      Sundar Pichai   \n",
       "4                                AMAZON.COM         Andy Jassy   \n",
       "\n",
       "  market value (Jan-07-2022) world rank (Jan-07-2022)  \\\n",
       "0      2,825.000 Billion USD                        1   \n",
       "1      2,358.000 Billion USD                        2   \n",
       "2      1,889.600 Billion USD                        3   \n",
       "3      1,820.000 Billion USD                        4   \n",
       "4      1,649.000 Billion USD                        5   \n",
       "\n",
       "  market value (Jan 1st 2020)  world rank (Jan-2020) headquarters country  \\\n",
       "0       1,323.000 Billion USD                    2.0                  USA   \n",
       "1       1,215.000 Billion USD                    3.0                  USA   \n",
       "2       1,898.100 Billion USD                    1.0         Saudi Arabia   \n",
       "3         943.897 Billion USD                    4.0                  USA   \n",
       "4         941.028 Billion USD                    5.0                  USA   \n",
       "\n",
       "  number of employees                                   company business  \\\n",
       "0             154,000   [Technology, Mobiles & Accessories, Electronics]   \n",
       "1             220,000             [Technology, Software and IT, Laptops]   \n",
       "2              79,800                   [Energy, Oil and Gas, Chemicals]   \n",
       "3             156,500  [Technology, Internet or Mobile App Based Busi...   \n",
       "4           1,335,000  [eCommerce, Internet or Mobile App Based Busin...   \n",
       "\n",
       "  annual revenue in USD annual net income in USD               company website  \n",
       "0   365,820 Million USD       94,680 Million USD        https://www.apple.com/  \n",
       "1   198,270 Million USD       72,738 Million USD    https://www.microsoft.com/  \n",
       "2   400,460 Million USD      105,380 Million USD  https://www.saudiaramco.com/  \n",
       "3   257,640 Million USD       76,003 Million USD              https://abc.xyz/  \n",
       "4   469,820 Million USD       33,364 Million USD       https://www.amazon.com/  "
      ]
     },
     "execution_count": 313,
     "metadata": {},
     "output_type": "execute_result"
    }
   ],
   "source": [
    "val6 = pd.read_json('de-sources-2022-2023/value.today/iGMM-value.today.json')\n",
    "val6.head()"
   ]
  },
  {
   "cell_type": "code",
   "execution_count": 314,
   "metadata": {},
   "outputs": [
    {
     "name": "stdout",
     "output_type": "stream",
     "text": [
      "<class 'pandas.core.frame.DataFrame'>\n",
      "RangeIndex: 10000 entries, 0 to 9999\n",
      "Data columns (total 12 columns):\n",
      " #   Column                       Non-Null Count  Dtype  \n",
      "---  ------                       --------------  -----  \n",
      " 0   name                         10000 non-null  object \n",
      " 1   ceo                          1249 non-null   object \n",
      " 2   market value (Jan-07-2022)   9359 non-null   object \n",
      " 3   world rank (Jan-07-2022)     10000 non-null  object \n",
      " 4   market value (Jan 1st 2020)  8373 non-null   object \n",
      " 5   world rank (Jan-2020)        8755 non-null   float64\n",
      " 6   headquarters country         9986 non-null   object \n",
      " 7   number of employees          5335 non-null   object \n",
      " 8   company business             10000 non-null  object \n",
      " 9   annual revenue in USD        7913 non-null   object \n",
      " 10  annual net income in USD     7919 non-null   object \n",
      " 11  company website              9751 non-null   object \n",
      "dtypes: float64(1), object(11)\n",
      "memory usage: 937.6+ KB\n"
     ]
    }
   ],
   "source": [
    "val6.info()"
   ]
  },
  {
   "cell_type": "code",
   "execution_count": 315,
   "metadata": {},
   "outputs": [
    {
     "data": {
      "text/plain": [
       "name                            object\n",
       "ceo                             object\n",
       "market value (Jan-07-2022)      object\n",
       "world rank (Jan-07-2022)        object\n",
       "market value (Jan 1st 2020)     object\n",
       "world rank (Jan-2020)          float64\n",
       "headquarters country            object\n",
       "number of employees             object\n",
       "company business                object\n",
       "annual revenue in USD           object\n",
       "annual net income in USD        object\n",
       "company website                 object\n",
       "dtype: object"
      ]
     },
     "execution_count": 315,
     "metadata": {},
     "output_type": "execute_result"
    }
   ],
   "source": [
    "val6.dtypes"
   ]
  },
  {
   "cell_type": "code",
   "execution_count": 316,
   "metadata": {},
   "outputs": [
    {
     "data": {
      "text/plain": [
       "name                              0\n",
       "ceo                            8751\n",
       "market value (Jan-07-2022)      641\n",
       "world rank (Jan-07-2022)          0\n",
       "market value (Jan 1st 2020)    1627\n",
       "world rank (Jan-2020)          1245\n",
       "headquarters country             14\n",
       "number of employees            4665\n",
       "company business                  0\n",
       "annual revenue in USD          2087\n",
       "annual net income in USD       2081\n",
       "company website                 249\n",
       "dtype: int64"
      ]
     },
     "execution_count": 316,
     "metadata": {},
     "output_type": "execute_result"
    }
   ],
   "source": [
    "val6.isnull().sum()"
   ]
  },
  {
   "cell_type": "code",
   "execution_count": 318,
   "metadata": {},
   "outputs": [
    {
     "data": {
      "text/html": [
       "<div>\n",
       "<style scoped>\n",
       "    .dataframe tbody tr th:only-of-type {\n",
       "        vertical-align: middle;\n",
       "    }\n",
       "\n",
       "    .dataframe tbody tr th {\n",
       "        vertical-align: top;\n",
       "    }\n",
       "\n",
       "    .dataframe thead th {\n",
       "        text-align: right;\n",
       "    }\n",
       "</style>\n",
       "<table border=\"1\" class=\"dataframe\">\n",
       "  <thead>\n",
       "    <tr style=\"text-align: right;\">\n",
       "      <th></th>\n",
       "      <th>link</th>\n",
       "      <th>rank</th>\n",
       "      <th>name</th>\n",
       "      <th>ceo</th>\n",
       "      <th>founded</th>\n",
       "      <th>revenue</th>\n",
       "      <th>country</th>\n",
       "      <th>industry</th>\n",
       "    </tr>\n",
       "  </thead>\n",
       "  <tbody>\n",
       "    <tr>\n",
       "      <th>0</th>\n",
       "      <td>https://www.value.today/company/apple</td>\n",
       "      <td>1</td>\n",
       "      <td>APPLE</td>\n",
       "      <td>Tim Cook</td>\n",
       "      <td>1976</td>\n",
       "      <td>365,820 Million USD</td>\n",
       "      <td>USA</td>\n",
       "      <td>[Technology, Mobiles &amp; Accessories, Electronic...</td>\n",
       "    </tr>\n",
       "    <tr>\n",
       "      <th>1</th>\n",
       "      <td>https://www.value.today/company/taiwan-semicon...</td>\n",
       "      <td>10</td>\n",
       "      <td>TAIWAN SEMICONDUCTOR MANUFACTURING COMPANY (TSMC)</td>\n",
       "      <td>Mark Liu</td>\n",
       "      <td>1987</td>\n",
       "      <td>55,306 Million USD</td>\n",
       "      <td>Taiwan</td>\n",
       "      <td>[Technology, Semiconductors, Electronics, Tech...</td>\n",
       "    </tr>\n",
       "    <tr>\n",
       "      <th>2</th>\n",
       "      <td>https://www.value.today/company/microsoft-corp...</td>\n",
       "      <td>2</td>\n",
       "      <td>MICROSOFT CORPORATION</td>\n",
       "      <td>Satya Nadella</td>\n",
       "      <td>1975</td>\n",
       "      <td>198,270 Million USD</td>\n",
       "      <td>USA</td>\n",
       "      <td>[Technology, Software and IT, Laptops, Video G...</td>\n",
       "    </tr>\n",
       "    <tr>\n",
       "      <th>3</th>\n",
       "      <td>https://www.value.today/company/nvidia-corpora...</td>\n",
       "      <td>9</td>\n",
       "      <td>NVIDIA CORPORATION</td>\n",
       "      <td>Jensen Huang</td>\n",
       "      <td>1993</td>\n",
       "      <td>26,914 Million USD</td>\n",
       "      <td>USA</td>\n",
       "      <td>[Technology, Semiconductors, Electronics, Tech...</td>\n",
       "    </tr>\n",
       "    <tr>\n",
       "      <th>4</th>\n",
       "      <td>https://www.value.today/company/amazon.com</td>\n",
       "      <td>5</td>\n",
       "      <td>AMAZON.COM</td>\n",
       "      <td>Andy Jassy</td>\n",
       "      <td>1994</td>\n",
       "      <td>469,820 Million USD</td>\n",
       "      <td>USA</td>\n",
       "      <td>[eCommerce, Internet or Mobile App Based Busin...</td>\n",
       "    </tr>\n",
       "  </tbody>\n",
       "</table>\n",
       "</div>"
      ],
      "text/plain": [
       "                                                link  rank  \\\n",
       "0              https://www.value.today/company/apple     1   \n",
       "1  https://www.value.today/company/taiwan-semicon...    10   \n",
       "2  https://www.value.today/company/microsoft-corp...     2   \n",
       "3  https://www.value.today/company/nvidia-corpora...     9   \n",
       "4         https://www.value.today/company/amazon.com     5   \n",
       "\n",
       "                                                name            ceo founded  \\\n",
       "0                                              APPLE       Tim Cook    1976   \n",
       "1  TAIWAN SEMICONDUCTOR MANUFACTURING COMPANY (TSMC)       Mark Liu    1987   \n",
       "2                              MICROSOFT CORPORATION  Satya Nadella    1975   \n",
       "3                                 NVIDIA CORPORATION   Jensen Huang    1993   \n",
       "4                                         AMAZON.COM     Andy Jassy    1994   \n",
       "\n",
       "               revenue country  \\\n",
       "0  365,820 Million USD     USA   \n",
       "1   55,306 Million USD  Taiwan   \n",
       "2  198,270 Million USD     USA   \n",
       "3   26,914 Million USD     USA   \n",
       "4  469,820 Million USD     USA   \n",
       "\n",
       "                                            industry  \n",
       "0  [Technology, Mobiles & Accessories, Electronic...  \n",
       "1  [Technology, Semiconductors, Electronics, Tech...  \n",
       "2  [Technology, Software and IT, Laptops, Video G...  \n",
       "3  [Technology, Semiconductors, Electronics, Tech...  \n",
       "4  [eCommerce, Internet or Mobile App Based Busin...  "
      ]
     },
     "execution_count": 318,
     "metadata": {},
     "output_type": "execute_result"
    }
   ],
   "source": [
    "val7 = pd.read_json('de-sources-2022-2023/value.today/slytherin-value.today.json')\n",
    "val7.head()"
   ]
  },
  {
   "cell_type": "code",
   "execution_count": 319,
   "metadata": {},
   "outputs": [
    {
     "name": "stdout",
     "output_type": "stream",
     "text": [
      "<class 'pandas.core.frame.DataFrame'>\n",
      "RangeIndex: 10000 entries, 0 to 9999\n",
      "Data columns (total 8 columns):\n",
      " #   Column    Non-Null Count  Dtype \n",
      "---  ------    --------------  ----- \n",
      " 0   link      10000 non-null  object\n",
      " 1   rank      10000 non-null  int64 \n",
      " 2   name      10000 non-null  object\n",
      " 3   ceo       10000 non-null  object\n",
      " 4   founded   10000 non-null  object\n",
      " 5   revenue   10000 non-null  object\n",
      " 6   country   10000 non-null  object\n",
      " 7   industry  10000 non-null  object\n",
      "dtypes: int64(1), object(7)\n",
      "memory usage: 625.1+ KB\n"
     ]
    }
   ],
   "source": [
    "val7.info()"
   ]
  },
  {
   "cell_type": "code",
   "execution_count": 320,
   "metadata": {},
   "outputs": [
    {
     "data": {
      "text/plain": [
       "link        object\n",
       "rank         int64\n",
       "name        object\n",
       "ceo         object\n",
       "founded     object\n",
       "revenue     object\n",
       "country     object\n",
       "industry    object\n",
       "dtype: object"
      ]
     },
     "execution_count": 320,
     "metadata": {},
     "output_type": "execute_result"
    }
   ],
   "source": [
    "val7.dtypes"
   ]
  },
  {
   "cell_type": "code",
   "execution_count": 321,
   "metadata": {},
   "outputs": [
    {
     "data": {
      "text/plain": [
       "link        0\n",
       "rank        0\n",
       "name        0\n",
       "ceo         0\n",
       "founded     0\n",
       "revenue     0\n",
       "country     0\n",
       "industry    0\n",
       "dtype: int64"
      ]
     },
     "execution_count": 321,
     "metadata": {},
     "output_type": "execute_result"
    }
   ],
   "source": [
    "val7.isnull().sum()"
   ]
  },
  {
   "attachments": {},
   "cell_type": "markdown",
   "metadata": {},
   "source": [
    "### **wikipedia.org**"
   ]
  },
  {
   "attachments": {},
   "cell_type": "markdown",
   "metadata": {},
   "source": [
    "#### Formato .csv"
   ]
  },
  {
   "cell_type": "code",
   "execution_count": 322,
   "metadata": {},
   "outputs": [
    {
     "data": {
      "text/html": [
       "<div>\n",
       "<style scoped>\n",
       "    .dataframe tbody tr th:only-of-type {\n",
       "        vertical-align: middle;\n",
       "    }\n",
       "\n",
       "    .dataframe tbody tr th {\n",
       "        vertical-align: top;\n",
       "    }\n",
       "\n",
       "    .dataframe thead th {\n",
       "        text-align: right;\n",
       "    }\n",
       "</style>\n",
       "<table border=\"1\" class=\"dataframe\">\n",
       "  <thead>\n",
       "    <tr style=\"text-align: right;\">\n",
       "      <th></th>\n",
       "      <th>Name</th>\n",
       "      <th>Industry</th>\n",
       "      <th>headQuarters</th>\n",
       "      <th>Founded</th>\n",
       "      <th>Area Served</th>\n",
       "    </tr>\n",
       "  </thead>\n",
       "  <tbody>\n",
       "    <tr>\n",
       "      <th>609</th>\n",
       "      <td>Yandex</td>\n",
       "      <td>Internet Search engine Mapping Streaming servi...</td>\n",
       "      <td>Moscow</td>\n",
       "      <td>23 September 1997; 25 years ago (23 September ...</td>\n",
       "      <td>Russia, Kazakhstan, Belarus, Uzbekistan, Azerb...</td>\n",
       "    </tr>\n",
       "    <tr>\n",
       "      <th>610</th>\n",
       "      <td>Yokohama Rubber Company</td>\n",
       "      <td>Manufacturing</td>\n",
       "      <td>Moscow</td>\n",
       "      <td>October 13, 1917; 105 years ago (1917-10-13)</td>\n",
       "      <td>NaN</td>\n",
       "    </tr>\n",
       "    <tr>\n",
       "      <th>611</th>\n",
       "      <td>Yamaha Motor Company</td>\n",
       "      <td>Automotive</td>\n",
       "      <td>Moscow</td>\n",
       "      <td>1 May 1955; 67 years ago (1955-05-01)</td>\n",
       "      <td>Worldwide</td>\n",
       "    </tr>\n",
       "    <tr>\n",
       "      <th>612</th>\n",
       "      <td>Yum! Brands</td>\n",
       "      <td>Foodservice</td>\n",
       "      <td>Moscow</td>\n",
       "      <td>October 6, 1997; 25 years ago (October 6, 1997)</td>\n",
       "      <td>Worldwide</td>\n",
       "    </tr>\n",
       "    <tr>\n",
       "      <th>613</th>\n",
       "      <td>Zara (retailer)</td>\n",
       "      <td>Retail</td>\n",
       "      <td>Moscow</td>\n",
       "      <td>1975; 47 years ago (1975) (as Zorba) in Spain</td>\n",
       "      <td>Worldwide</td>\n",
       "    </tr>\n",
       "    <tr>\n",
       "      <th>614</th>\n",
       "      <td>Zensar Technologies</td>\n",
       "      <td>IT services</td>\n",
       "      <td>Pune, India</td>\n",
       "      <td>1991[1]</td>\n",
       "      <td>NaN</td>\n",
       "    </tr>\n",
       "    <tr>\n",
       "      <th>615</th>\n",
       "      <td>Guangzhou Zhujiang Brewery Group</td>\n",
       "      <td>Beverages</td>\n",
       "      <td>Pune, India</td>\n",
       "      <td>1985</td>\n",
       "      <td>Worldwide</td>\n",
       "    </tr>\n",
       "    <tr>\n",
       "      <th>616</th>\n",
       "      <td>ZTE</td>\n",
       "      <td>Telecommunications equipment Networking equipment</td>\n",
       "      <td>NaN</td>\n",
       "      <td>1985; 37 years ago (1985) (as Zhongxing Semico...</td>\n",
       "      <td>Worldwide</td>\n",
       "    </tr>\n",
       "    <tr>\n",
       "      <th>617</th>\n",
       "      <td>Zippo</td>\n",
       "      <td>Manufacturing</td>\n",
       "      <td>Bradford</td>\n",
       "      <td>1932; 90 years ago (1932)</td>\n",
       "      <td>NaN</td>\n",
       "    </tr>\n",
       "    <tr>\n",
       "      <th>618</th>\n",
       "      <td>Zyxel</td>\n",
       "      <td>Telecommunications</td>\n",
       "      <td>Hsinchu Science Park</td>\n",
       "      <td>1989; 33 years ago (1989) in Hsinchu, Taiwan</td>\n",
       "      <td>Worldwide</td>\n",
       "    </tr>\n",
       "  </tbody>\n",
       "</table>\n",
       "</div>"
      ],
      "text/plain": [
       "                                 Name  \\\n",
       "609                            Yandex   \n",
       "610           Yokohama Rubber Company   \n",
       "611              Yamaha Motor Company   \n",
       "612                       Yum! Brands   \n",
       "613                   Zara (retailer)   \n",
       "614               Zensar Technologies   \n",
       "615  Guangzhou Zhujiang Brewery Group   \n",
       "616                               ZTE   \n",
       "617                             Zippo   \n",
       "618                             Zyxel   \n",
       "\n",
       "                                              Industry          headQuarters  \\\n",
       "609  Internet Search engine Mapping Streaming servi...                Moscow   \n",
       "610                                      Manufacturing                Moscow   \n",
       "611                                         Automotive                Moscow   \n",
       "612                                        Foodservice                Moscow   \n",
       "613                                             Retail                Moscow   \n",
       "614                                        IT services           Pune, India   \n",
       "615                                          Beverages           Pune, India   \n",
       "616  Telecommunications equipment Networking equipment                   NaN   \n",
       "617                                      Manufacturing              Bradford   \n",
       "618                                 Telecommunications  Hsinchu Science Park   \n",
       "\n",
       "                                               Founded  \\\n",
       "609  23 September 1997; 25 years ago (23 September ...   \n",
       "610       October 13, 1917; 105 years ago (1917-10-13)   \n",
       "611              1 May 1955; 67 years ago (1955-05-01)   \n",
       "612    October 6, 1997; 25 years ago (October 6, 1997)   \n",
       "613      1975; 47 years ago (1975) (as Zorba) in Spain   \n",
       "614                                            1991[1]   \n",
       "615                                               1985   \n",
       "616  1985; 37 years ago (1985) (as Zhongxing Semico...   \n",
       "617                          1932; 90 years ago (1932)   \n",
       "618       1989; 33 years ago (1989) in Hsinchu, Taiwan   \n",
       "\n",
       "                                           Area Served  \n",
       "609  Russia, Kazakhstan, Belarus, Uzbekistan, Azerb...  \n",
       "610                                                NaN  \n",
       "611                                          Worldwide  \n",
       "612                                          Worldwide  \n",
       "613                                          Worldwide  \n",
       "614                                                NaN  \n",
       "615                                          Worldwide  \n",
       "616                                          Worldwide  \n",
       "617                                                NaN  \n",
       "618                                          Worldwide  "
      ]
     },
     "execution_count": 322,
     "metadata": {},
     "output_type": "execute_result"
    }
   ],
   "source": [
    "wiki1 = pd.read_csv(\"de-sources-2022-2023/wikipedia.org/MarScoToc-wikipedia.csv\")\n",
    "wiki1.tail(10)"
   ]
  },
  {
   "cell_type": "code",
   "execution_count": 323,
   "metadata": {},
   "outputs": [
    {
     "name": "stdout",
     "output_type": "stream",
     "text": [
      "<class 'pandas.core.frame.DataFrame'>\n",
      "RangeIndex: 619 entries, 0 to 618\n",
      "Data columns (total 5 columns):\n",
      " #   Column        Non-Null Count  Dtype \n",
      "---  ------        --------------  ----- \n",
      " 0   Name          619 non-null    object\n",
      " 1   Industry      619 non-null    object\n",
      " 2   headQuarters  591 non-null    object\n",
      " 3   Founded       619 non-null    object\n",
      " 4   Area Served   383 non-null    object\n",
      "dtypes: object(5)\n",
      "memory usage: 24.3+ KB\n"
     ]
    }
   ],
   "source": [
    "wiki1.info()"
   ]
  },
  {
   "cell_type": "code",
   "execution_count": 324,
   "metadata": {},
   "outputs": [
    {
     "data": {
      "text/plain": [
       "Name            object\n",
       "Industry        object\n",
       "headQuarters    object\n",
       "Founded         object\n",
       "Area Served     object\n",
       "dtype: object"
      ]
     },
     "execution_count": 324,
     "metadata": {},
     "output_type": "execute_result"
    }
   ],
   "source": [
    "wiki1.dtypes"
   ]
  },
  {
   "cell_type": "code",
   "execution_count": 325,
   "metadata": {},
   "outputs": [
    {
     "data": {
      "text/plain": [
       "Name              0\n",
       "Industry          0\n",
       "headQuarters     28\n",
       "Founded           0\n",
       "Area Served     236\n",
       "dtype: int64"
      ]
     },
     "execution_count": 325,
     "metadata": {},
     "output_type": "execute_result"
    }
   ],
   "source": [
    "wiki1.isnull().sum()"
   ]
  },
  {
   "attachments": {},
   "cell_type": "markdown",
   "metadata": {},
   "source": [
    "#### Formato .json"
   ]
  },
  {
   "cell_type": "code",
   "execution_count": 326,
   "metadata": {},
   "outputs": [
    {
     "data": {
      "text/html": [
       "<div>\n",
       "<style scoped>\n",
       "    .dataframe tbody tr th:only-of-type {\n",
       "        vertical-align: middle;\n",
       "    }\n",
       "\n",
       "    .dataframe tbody tr th {\n",
       "        vertical-align: top;\n",
       "    }\n",
       "\n",
       "    .dataframe thead th {\n",
       "        text-align: right;\n",
       "    }\n",
       "</style>\n",
       "<table border=\"1\" class=\"dataframe\">\n",
       "  <thead>\n",
       "    <tr style=\"text-align: right;\">\n",
       "      <th></th>\n",
       "      <th>name</th>\n",
       "      <th>type</th>\n",
       "      <th>industry</th>\n",
       "      <th>founded</th>\n",
       "      <th>founders</th>\n",
       "      <th>headquarters</th>\n",
       "      <th>key_people</th>\n",
       "      <th>services</th>\n",
       "      <th>revenue</th>\n",
       "      <th>operating_income</th>\n",
       "      <th>total_assets</th>\n",
       "      <th>number_of_employees</th>\n",
       "      <th>website</th>\n",
       "    </tr>\n",
       "  </thead>\n",
       "  <tbody>\n",
       "    <tr>\n",
       "      <th>0</th>\n",
       "      <td>Binance</td>\n",
       "      <td>[]</td>\n",
       "      <td>[cryptocurrency industry ]</td>\n",
       "      <td>[July 2017]</td>\n",
       "      <td>[ (\"CZ\"), Yi He]</td>\n",
       "      <td>[]</td>\n",
       "      <td>[]</td>\n",
       "      <td>[]</td>\n",
       "      <td>[US$]</td>\n",
       "      <td>[]</td>\n",
       "      <td>[]</td>\n",
       "      <td>[]</td>\n",
       "      <td>[www, .binance, .com]</td>\n",
       "    </tr>\n",
       "    <tr>\n",
       "      <th>1</th>\n",
       "      <td>Gourmet Master Co. Ltd</td>\n",
       "      <td>[]</td>\n",
       "      <td>[Food and Beverage]</td>\n",
       "      <td>[2004]</td>\n",
       "      <td>[]</td>\n",
       "      <td>[Taipei, Taiwan]</td>\n",
       "      <td>[]</td>\n",
       "      <td>[]</td>\n",
       "      <td>[NT$]</td>\n",
       "      <td>[]</td>\n",
       "      <td>[]</td>\n",
       "      <td>[]</td>\n",
       "      <td>[www.85cafe.com, [1], www.85cbakerycafe.com]</td>\n",
       "    </tr>\n",
       "    <tr>\n",
       "      <th>2</th>\n",
       "      <td>Tata Consultancy Services</td>\n",
       "      <td>[Public]</td>\n",
       "      <td>[Information technology, Consulting, Outsourcing]</td>\n",
       "      <td>[1968]</td>\n",
       "      <td>[J. R. D. Tata]</td>\n",
       "      <td>[Mumbai, Maharashtra]</td>\n",
       "      <td>[]</td>\n",
       "      <td>[]</td>\n",
       "      <td>[ ,  (US$25 billion),  (2022)]</td>\n",
       "      <td>[ , ₹, 51,687 crore,  (US$6.5 billion), [1],  ...</td>\n",
       "      <td>[ , ₹, 141,514 crore,  (US$18 billion), [2],  ...</td>\n",
       "      <td>[616,171, [3],  (October 2022)]</td>\n",
       "      <td>[www, .tcs, .com]</td>\n",
       "    </tr>\n",
       "    <tr>\n",
       "      <th>3</th>\n",
       "      <td>APMEX, Inc.</td>\n",
       "      <td>[Private]</td>\n",
       "      <td>[precious metals]</td>\n",
       "      <td>[2000]</td>\n",
       "      <td>[]</td>\n",
       "      <td>[Oklahoma City, Oklahoma, United States]</td>\n",
       "      <td>[]</td>\n",
       "      <td>[]</td>\n",
       "      <td>[]</td>\n",
       "      <td>[]</td>\n",
       "      <td>[]</td>\n",
       "      <td>[]</td>\n",
       "      <td>[www.apmex.com]</td>\n",
       "    </tr>\n",
       "    <tr>\n",
       "      <th>4</th>\n",
       "      <td>Bitmain Technologies Ltd.</td>\n",
       "      <td>[Private]</td>\n",
       "      <td>[Cryptocurrency]</td>\n",
       "      <td>[2013]</td>\n",
       "      <td>[Micree Zhan, Jihan Wu]</td>\n",
       "      <td>[Beijing, China]</td>\n",
       "      <td>[]</td>\n",
       "      <td>[]</td>\n",
       "      <td>[]</td>\n",
       "      <td>[]</td>\n",
       "      <td>[]</td>\n",
       "      <td>[]</td>\n",
       "      <td>[bitmain, .com]</td>\n",
       "    </tr>\n",
       "  </tbody>\n",
       "</table>\n",
       "</div>"
      ],
      "text/plain": [
       "                        name       type  \\\n",
       "0                    Binance         []   \n",
       "1     Gourmet Master Co. Ltd         []   \n",
       "2  Tata Consultancy Services   [Public]   \n",
       "3                APMEX, Inc.  [Private]   \n",
       "4  Bitmain Technologies Ltd.  [Private]   \n",
       "\n",
       "                                            industry      founded  \\\n",
       "0                         [cryptocurrency industry ]  [July 2017]   \n",
       "1                                [Food and Beverage]       [2004]   \n",
       "2  [Information technology, Consulting, Outsourcing]       [1968]   \n",
       "3                                  [precious metals]       [2000]   \n",
       "4                                   [Cryptocurrency]       [2013]   \n",
       "\n",
       "                  founders                              headquarters  \\\n",
       "0         [ (\"CZ\"), Yi He]                                        []   \n",
       "1                       []                          [Taipei, Taiwan]   \n",
       "2          [J. R. D. Tata]                     [Mumbai, Maharashtra]   \n",
       "3                       []  [Oklahoma City, Oklahoma, United States]   \n",
       "4  [Micree Zhan, Jihan Wu]                          [Beijing, China]   \n",
       "\n",
       "  key_people services                         revenue  \\\n",
       "0         []       []                           [US$]   \n",
       "1         []       []                           [NT$]   \n",
       "2         []       []  [ ,  (US$25 billion),  (2022)]   \n",
       "3         []       []                              []   \n",
       "4         []       []                              []   \n",
       "\n",
       "                                    operating_income  \\\n",
       "0                                                 []   \n",
       "1                                                 []   \n",
       "2  [ , ₹, 51,687 crore,  (US$6.5 billion), [1],  ...   \n",
       "3                                                 []   \n",
       "4                                                 []   \n",
       "\n",
       "                                        total_assets  \\\n",
       "0                                                 []   \n",
       "1                                                 []   \n",
       "2  [ , ₹, 141,514 crore,  (US$18 billion), [2],  ...   \n",
       "3                                                 []   \n",
       "4                                                 []   \n",
       "\n",
       "               number_of_employees  \\\n",
       "0                               []   \n",
       "1                               []   \n",
       "2  [616,171, [3],  (October 2022)]   \n",
       "3                               []   \n",
       "4                               []   \n",
       "\n",
       "                                        website  \n",
       "0                         [www, .binance, .com]  \n",
       "1  [www.85cafe.com, [1], www.85cbakerycafe.com]  \n",
       "2                             [www, .tcs, .com]  \n",
       "3                               [www.apmex.com]  \n",
       "4                               [bitmain, .com]  "
      ]
     },
     "execution_count": 326,
     "metadata": {},
     "output_type": "execute_result"
    }
   ],
   "source": [
    "wiki2 = pd.read_json('de-sources-2022-2023/wikipedia.org/DeBiGa-wikipedia.json')\n",
    "wiki2.head()"
   ]
  },
  {
   "cell_type": "code",
   "execution_count": 327,
   "metadata": {},
   "outputs": [
    {
     "name": "stdout",
     "output_type": "stream",
     "text": [
      "<class 'pandas.core.frame.DataFrame'>\n",
      "RangeIndex: 1002 entries, 0 to 1001\n",
      "Data columns (total 13 columns):\n",
      " #   Column               Non-Null Count  Dtype \n",
      "---  ------               --------------  ----- \n",
      " 0   name                 1002 non-null   object\n",
      " 1   type                 1002 non-null   object\n",
      " 2   industry             1002 non-null   object\n",
      " 3   founded              1002 non-null   object\n",
      " 4   founders             1002 non-null   object\n",
      " 5   headquarters         1002 non-null   object\n",
      " 6   key_people           1002 non-null   object\n",
      " 7   services             1002 non-null   object\n",
      " 8   revenue              1002 non-null   object\n",
      " 9   operating_income     1002 non-null   object\n",
      " 10  total_assets         1002 non-null   object\n",
      " 11  number_of_employees  1002 non-null   object\n",
      " 12  website              1002 non-null   object\n",
      "dtypes: object(13)\n",
      "memory usage: 101.9+ KB\n"
     ]
    }
   ],
   "source": [
    "wiki2.info()"
   ]
  },
  {
   "cell_type": "code",
   "execution_count": 328,
   "metadata": {},
   "outputs": [
    {
     "data": {
      "text/plain": [
       "name                   object\n",
       "type                   object\n",
       "industry               object\n",
       "founded                object\n",
       "founders               object\n",
       "headquarters           object\n",
       "key_people             object\n",
       "services               object\n",
       "revenue                object\n",
       "operating_income       object\n",
       "total_assets           object\n",
       "number_of_employees    object\n",
       "website                object\n",
       "dtype: object"
      ]
     },
     "execution_count": 328,
     "metadata": {},
     "output_type": "execute_result"
    }
   ],
   "source": [
    "wiki2.dtypes"
   ]
  },
  {
   "cell_type": "code",
   "execution_count": 329,
   "metadata": {},
   "outputs": [
    {
     "data": {
      "text/plain": [
       "name                   0\n",
       "type                   0\n",
       "industry               0\n",
       "founded                0\n",
       "founders               0\n",
       "headquarters           0\n",
       "key_people             0\n",
       "services               0\n",
       "revenue                0\n",
       "operating_income       0\n",
       "total_assets           0\n",
       "number_of_employees    0\n",
       "website                0\n",
       "dtype: int64"
      ]
     },
     "execution_count": 329,
     "metadata": {},
     "output_type": "execute_result"
    }
   ],
   "source": [
    "wiki2.isnull().sum()"
   ]
  },
  {
   "cell_type": "code",
   "execution_count": 330,
   "metadata": {},
   "outputs": [
    {
     "data": {
      "text/html": [
       "<div>\n",
       "<style scoped>\n",
       "    .dataframe tbody tr th:only-of-type {\n",
       "        vertical-align: middle;\n",
       "    }\n",
       "\n",
       "    .dataframe tbody tr th {\n",
       "        vertical-align: top;\n",
       "    }\n",
       "\n",
       "    .dataframe thead th {\n",
       "        text-align: right;\n",
       "    }\n",
       "</style>\n",
       "<table border=\"1\" class=\"dataframe\">\n",
       "  <thead>\n",
       "    <tr style=\"text-align: right;\">\n",
       "      <th></th>\n",
       "      <th>Name</th>\n",
       "      <th>Industry</th>\n",
       "      <th>Sector</th>\n",
       "      <th>Headquarters</th>\n",
       "      <th>Founded</th>\n",
       "    </tr>\n",
       "  </thead>\n",
       "  <tbody>\n",
       "    <tr>\n",
       "      <th>0</th>\n",
       "      <td>3H Biomedical</td>\n",
       "      <td>Health care</td>\n",
       "      <td>Biotechnology</td>\n",
       "      <td>Uppsala</td>\n",
       "      <td>2004</td>\n",
       "    </tr>\n",
       "    <tr>\n",
       "      <th>1</th>\n",
       "      <td>AarhusKarlshamn</td>\n",
       "      <td>Consumer goods</td>\n",
       "      <td>Food products</td>\n",
       "      <td>Malmö</td>\n",
       "      <td>2005</td>\n",
       "    </tr>\n",
       "    <tr>\n",
       "      <th>2</th>\n",
       "      <td>Abba Seafood</td>\n",
       "      <td>Consumer goods</td>\n",
       "      <td>Food products</td>\n",
       "      <td>Gothenburg</td>\n",
       "      <td>1883</td>\n",
       "    </tr>\n",
       "    <tr>\n",
       "      <th>3</th>\n",
       "      <td>ABU Garcia</td>\n",
       "      <td>Consumer goods</td>\n",
       "      <td>Recreational products</td>\n",
       "      <td>Svängsta</td>\n",
       "      <td>1921</td>\n",
       "    </tr>\n",
       "    <tr>\n",
       "      <th>4</th>\n",
       "      <td>Acando</td>\n",
       "      <td>Technology</td>\n",
       "      <td>Software</td>\n",
       "      <td>Stockholm</td>\n",
       "      <td>2001</td>\n",
       "    </tr>\n",
       "  </tbody>\n",
       "</table>\n",
       "</div>"
      ],
      "text/plain": [
       "              Name        Industry                 Sector Headquarters Founded\n",
       "0    3H Biomedical     Health care          Biotechnology      Uppsala    2004\n",
       "1  AarhusKarlshamn  Consumer goods          Food products        Malmö    2005\n",
       "2     Abba Seafood  Consumer goods          Food products   Gothenburg    1883\n",
       "3       ABU Garcia  Consumer goods  Recreational products     Svängsta    1921\n",
       "4           Acando      Technology               Software    Stockholm    2001"
      ]
     },
     "execution_count": 330,
     "metadata": {},
     "output_type": "execute_result"
    }
   ],
   "source": [
    "wiki3 = pd.read_json('de-sources-2022-2023/wikipedia.org/GioPonSpiz-wikipedia.org.json')\n",
    "wiki3.head()"
   ]
  },
  {
   "cell_type": "code",
   "execution_count": 331,
   "metadata": {},
   "outputs": [
    {
     "name": "stdout",
     "output_type": "stream",
     "text": [
      "<class 'pandas.core.frame.DataFrame'>\n",
      "RangeIndex: 2664 entries, 0 to 2663\n",
      "Data columns (total 5 columns):\n",
      " #   Column        Non-Null Count  Dtype \n",
      "---  ------        --------------  ----- \n",
      " 0   Name          2664 non-null   object\n",
      " 1   Industry      2664 non-null   object\n",
      " 2   Sector        2664 non-null   object\n",
      " 3   Headquarters  2664 non-null   object\n",
      " 4   Founded       2664 non-null   object\n",
      "dtypes: object(5)\n",
      "memory usage: 104.2+ KB\n"
     ]
    }
   ],
   "source": [
    "wiki3.info()"
   ]
  },
  {
   "cell_type": "code",
   "execution_count": 332,
   "metadata": {},
   "outputs": [
    {
     "data": {
      "text/plain": [
       "Name            object\n",
       "Industry        object\n",
       "Sector          object\n",
       "Headquarters    object\n",
       "Founded         object\n",
       "dtype: object"
      ]
     },
     "execution_count": 332,
     "metadata": {},
     "output_type": "execute_result"
    }
   ],
   "source": [
    "wiki3.dtypes"
   ]
  },
  {
   "cell_type": "code",
   "execution_count": 333,
   "metadata": {},
   "outputs": [
    {
     "data": {
      "text/plain": [
       "Name            0\n",
       "Industry        0\n",
       "Sector          0\n",
       "Headquarters    0\n",
       "Founded         0\n",
       "dtype: int64"
      ]
     },
     "execution_count": 333,
     "metadata": {},
     "output_type": "execute_result"
    }
   ],
   "source": [
    "wiki3.isnull().sum()"
   ]
  },
  {
   "attachments": {},
   "cell_type": "markdown",
   "metadata": {},
   "source": [
    "#### Formato .xls"
   ]
  },
  {
   "cell_type": "code",
   "execution_count": 334,
   "metadata": {},
   "outputs": [
    {
     "data": {
      "text/html": [
       "<div>\n",
       "<style scoped>\n",
       "    .dataframe tbody tr th:only-of-type {\n",
       "        vertical-align: middle;\n",
       "    }\n",
       "\n",
       "    .dataframe tbody tr th {\n",
       "        vertical-align: top;\n",
       "    }\n",
       "\n",
       "    .dataframe thead th {\n",
       "        text-align: right;\n",
       "    }\n",
       "</style>\n",
       "<table border=\"1\" class=\"dataframe\">\n",
       "  <thead>\n",
       "    <tr style=\"text-align: right;\">\n",
       "      <th></th>\n",
       "      <th>Unnamed: 0</th>\n",
       "      <th>Name</th>\n",
       "      <th>Industry</th>\n",
       "      <th>Sector</th>\n",
       "      <th>Headquarters</th>\n",
       "      <th>Founded</th>\n",
       "      <th>Notes</th>\n",
       "    </tr>\n",
       "  </thead>\n",
       "  <tbody>\n",
       "    <tr>\n",
       "      <th>0</th>\n",
       "      <td>0</td>\n",
       "      <td>Agrana</td>\n",
       "      <td>Consumer goods</td>\n",
       "      <td>Food products</td>\n",
       "      <td>Vienna</td>\n",
       "      <td>1988</td>\n",
       "      <td>Sugar, starch, fruit juice concentrates and fr...</td>\n",
       "    </tr>\n",
       "    <tr>\n",
       "      <th>1</th>\n",
       "      <td>1</td>\n",
       "      <td>pewag group</td>\n",
       "      <td>Industrials</td>\n",
       "      <td>Industrial machinery</td>\n",
       "      <td>Klagenfurt</td>\n",
       "      <td>1479</td>\n",
       "      <td>Chain manufacturer</td>\n",
       "    </tr>\n",
       "    <tr>\n",
       "      <th>2</th>\n",
       "      <td>2</td>\n",
       "      <td>AHT Cooling Systems</td>\n",
       "      <td>Industrials</td>\n",
       "      <td>Electronic equipment</td>\n",
       "      <td>Rottenmann</td>\n",
       "      <td>1983</td>\n",
       "      <td>Cooling and refrigeration</td>\n",
       "    </tr>\n",
       "    <tr>\n",
       "      <th>3</th>\n",
       "      <td>3</td>\n",
       "      <td>Ammerer Bed Company</td>\n",
       "      <td>Consumer goods</td>\n",
       "      <td>Durable household products</td>\n",
       "      <td>Ried im Innkreis</td>\n",
       "      <td>1763</td>\n",
       "      <td>NaN</td>\n",
       "    </tr>\n",
       "    <tr>\n",
       "      <th>4</th>\n",
       "      <td>4</td>\n",
       "      <td>ams AG</td>\n",
       "      <td>Technology</td>\n",
       "      <td>Semiconductors</td>\n",
       "      <td>Premstätten</td>\n",
       "      <td>1981</td>\n",
       "      <td>Semiconductors</td>\n",
       "    </tr>\n",
       "  </tbody>\n",
       "</table>\n",
       "</div>"
      ],
      "text/plain": [
       "   Unnamed: 0                 Name        Industry  \\\n",
       "0           0               Agrana  Consumer goods   \n",
       "1           1          pewag group     Industrials   \n",
       "2           2  AHT Cooling Systems     Industrials   \n",
       "3           3  Ammerer Bed Company  Consumer goods   \n",
       "4           4               ams AG      Technology   \n",
       "\n",
       "                       Sector      Headquarters Founded  \\\n",
       "0               Food products            Vienna    1988   \n",
       "1        Industrial machinery        Klagenfurt    1479   \n",
       "2        Electronic equipment        Rottenmann    1983   \n",
       "3  Durable household products  Ried im Innkreis    1763   \n",
       "4              Semiconductors       Premstätten    1981   \n",
       "\n",
       "                                               Notes  \n",
       "0  Sugar, starch, fruit juice concentrates and fr...  \n",
       "1                                 Chain manufacturer  \n",
       "2                          Cooling and refrigeration  \n",
       "3                                                NaN  \n",
       "4                                     Semiconductors  "
      ]
     },
     "execution_count": 334,
     "metadata": {},
     "output_type": "execute_result"
    }
   ],
   "source": [
    "wiki4 = pd.read_excel('de-sources-2022-2023/wikipedia.org/MalPatSaj-wikipedia.org.xls')\n",
    "wiki4.head()"
   ]
  },
  {
   "cell_type": "code",
   "execution_count": 335,
   "metadata": {},
   "outputs": [
    {
     "name": "stdout",
     "output_type": "stream",
     "text": [
      "<class 'pandas.core.frame.DataFrame'>\n",
      "RangeIndex: 3111 entries, 0 to 3110\n",
      "Data columns (total 7 columns):\n",
      " #   Column        Non-Null Count  Dtype \n",
      "---  ------        --------------  ----- \n",
      " 0   Unnamed: 0    3111 non-null   int64 \n",
      " 1   Name          3111 non-null   object\n",
      " 2   Industry      3111 non-null   object\n",
      " 3   Sector        3110 non-null   object\n",
      " 4   Headquarters  3111 non-null   object\n",
      " 5   Founded       3110 non-null   object\n",
      " 6   Notes         3099 non-null   object\n",
      "dtypes: int64(1), object(6)\n",
      "memory usage: 170.3+ KB\n"
     ]
    }
   ],
   "source": [
    "wiki4.info()"
   ]
  },
  {
   "cell_type": "code",
   "execution_count": 336,
   "metadata": {},
   "outputs": [
    {
     "data": {
      "text/plain": [
       "Unnamed: 0       int64\n",
       "Name            object\n",
       "Industry        object\n",
       "Sector          object\n",
       "Headquarters    object\n",
       "Founded         object\n",
       "Notes           object\n",
       "dtype: object"
      ]
     },
     "execution_count": 336,
     "metadata": {},
     "output_type": "execute_result"
    }
   ],
   "source": [
    "wiki4.dtypes"
   ]
  },
  {
   "cell_type": "code",
   "execution_count": 337,
   "metadata": {},
   "outputs": [
    {
     "data": {
      "text/plain": [
       "Unnamed: 0       0\n",
       "Name             0\n",
       "Industry         0\n",
       "Sector           1\n",
       "Headquarters     0\n",
       "Founded          1\n",
       "Notes           12\n",
       "dtype: int64"
      ]
     },
     "execution_count": 337,
     "metadata": {},
     "output_type": "execute_result"
    }
   ],
   "source": [
    "wiki4.isnull().sum()"
   ]
  },
  {
   "attachments": {},
   "cell_type": "markdown",
   "metadata": {},
   "source": [
    "### **Altre aziende**"
   ]
  },
  {
   "attachments": {},
   "cell_type": "markdown",
   "metadata": {},
   "source": [
    "#### AmbitionBox"
   ]
  },
  {
   "cell_type": "code",
   "execution_count": 338,
   "metadata": {},
   "outputs": [
    {
     "data": {
      "text/html": [
       "<div>\n",
       "<style scoped>\n",
       "    .dataframe tbody tr th:only-of-type {\n",
       "        vertical-align: middle;\n",
       "    }\n",
       "\n",
       "    .dataframe tbody tr th {\n",
       "        vertical-align: top;\n",
       "    }\n",
       "\n",
       "    .dataframe thead th {\n",
       "        text-align: right;\n",
       "    }\n",
       "</style>\n",
       "<table border=\"1\" class=\"dataframe\">\n",
       "  <thead>\n",
       "    <tr style=\"text-align: right;\">\n",
       "      <th></th>\n",
       "      <th>Name</th>\n",
       "      <th>Industry</th>\n",
       "      <th>Headquarter</th>\n",
       "      <th>Ownership</th>\n",
       "      <th>Foundation Year</th>\n",
       "    </tr>\n",
       "  </thead>\n",
       "  <tbody>\n",
       "    <tr>\n",
       "      <th>9894</th>\n",
       "      <td>Sterling Gtake E-Mobility</td>\n",
       "      <td>Auto Components</td>\n",
       "      <td>NaN</td>\n",
       "      <td>NaN</td>\n",
       "      <td>NaN</td>\n",
       "    </tr>\n",
       "    <tr>\n",
       "      <th>9895</th>\n",
       "      <td>Ashv Finance</td>\n",
       "      <td>NaN</td>\n",
       "      <td>NaN</td>\n",
       "      <td>NaN</td>\n",
       "      <td>NaN</td>\n",
       "    </tr>\n",
       "    <tr>\n",
       "      <th>9896</th>\n",
       "      <td>Wunderman Thompson Commerce</td>\n",
       "      <td>IT Services &amp; Consulting</td>\n",
       "      <td>Watford, United Kingdom (UK)</td>\n",
       "      <td>Private</td>\n",
       "      <td>1989 (34 yrs old)</td>\n",
       "    </tr>\n",
       "    <tr>\n",
       "      <th>9897</th>\n",
       "      <td>Optimus Pharma</td>\n",
       "      <td>Healthcare / Pharma</td>\n",
       "      <td>NaN</td>\n",
       "      <td>NaN</td>\n",
       "      <td>NaN</td>\n",
       "    </tr>\n",
       "    <tr>\n",
       "      <th>9898</th>\n",
       "      <td>SHOW OFF RETAIL</td>\n",
       "      <td>Retail</td>\n",
       "      <td>Delhi,NCT, India</td>\n",
       "      <td>NaN</td>\n",
       "      <td>2016 (7 yrs old)</td>\n",
       "    </tr>\n",
       "  </tbody>\n",
       "</table>\n",
       "</div>"
      ],
      "text/plain": [
       "                             Name                  Industry  \\\n",
       "9894    Sterling Gtake E-Mobility           Auto Components   \n",
       "9895                 Ashv Finance                       NaN   \n",
       "9896  Wunderman Thompson Commerce  IT Services & Consulting   \n",
       "9897               Optimus Pharma       Healthcare / Pharma   \n",
       "9898              SHOW OFF RETAIL                    Retail   \n",
       "\n",
       "                       Headquarter Ownership    Foundation Year  \n",
       "9894                           NaN       NaN                NaN  \n",
       "9895                           NaN       NaN                NaN  \n",
       "9896  Watford, United Kingdom (UK)   Private  1989 (34 yrs old)  \n",
       "9897                           NaN       NaN                NaN  \n",
       "9898              Delhi,NCT, India       NaN   2016 (7 yrs old)  "
      ]
     },
     "execution_count": 338,
     "metadata": {},
     "output_type": "execute_result"
    }
   ],
   "source": [
    "ab = pd.read_csv(\"de-sources-2022-2023/altreAziende/MarScoToc-ambitionbox.com.csv\")\n",
    "ab.tail(5)"
   ]
  },
  {
   "cell_type": "code",
   "execution_count": 339,
   "metadata": {},
   "outputs": [
    {
     "name": "stdout",
     "output_type": "stream",
     "text": [
      "<class 'pandas.core.frame.DataFrame'>\n",
      "RangeIndex: 9899 entries, 0 to 9898\n",
      "Data columns (total 5 columns):\n",
      " #   Column           Non-Null Count  Dtype \n",
      "---  ------           --------------  ----- \n",
      " 0   Name             9899 non-null   object\n",
      " 1   Industry         9693 non-null   object\n",
      " 2   Headquarter      9471 non-null   object\n",
      " 3   Ownership        8226 non-null   object\n",
      " 4   Foundation Year  9350 non-null   object\n",
      "dtypes: object(5)\n",
      "memory usage: 386.8+ KB\n"
     ]
    }
   ],
   "source": [
    "ab.info()"
   ]
  },
  {
   "cell_type": "code",
   "execution_count": 340,
   "metadata": {},
   "outputs": [
    {
     "data": {
      "text/plain": [
       "Name               object\n",
       "Industry           object\n",
       "Headquarter        object\n",
       "Ownership          object\n",
       "Foundation Year    object\n",
       "dtype: object"
      ]
     },
     "execution_count": 340,
     "metadata": {},
     "output_type": "execute_result"
    }
   ],
   "source": [
    "ab.dtypes"
   ]
  },
  {
   "cell_type": "code",
   "execution_count": 341,
   "metadata": {},
   "outputs": [
    {
     "data": {
      "text/plain": [
       "Name                  0\n",
       "Industry            206\n",
       "Headquarter         428\n",
       "Ownership          1673\n",
       "Foundation Year     549\n",
       "dtype: int64"
      ]
     },
     "execution_count": 341,
     "metadata": {},
     "output_type": "execute_result"
    }
   ],
   "source": [
    "ab.isnull().sum()"
   ]
  },
  {
   "attachments": {},
   "cell_type": "markdown",
   "metadata": {},
   "source": [
    "#### CampaignIndia"
   ]
  },
  {
   "cell_type": "code",
   "execution_count": 342,
   "metadata": {},
   "outputs": [
    {
     "data": {
      "text/html": [
       "<div>\n",
       "<style scoped>\n",
       "    .dataframe tbody tr th:only-of-type {\n",
       "        vertical-align: middle;\n",
       "    }\n",
       "\n",
       "    .dataframe tbody tr th {\n",
       "        vertical-align: top;\n",
       "    }\n",
       "\n",
       "    .dataframe thead th {\n",
       "        text-align: right;\n",
       "    }\n",
       "</style>\n",
       "<table border=\"1\" class=\"dataframe\">\n",
       "  <thead>\n",
       "    <tr style=\"text-align: right;\">\n",
       "      <th></th>\n",
       "      <th>RANK</th>\n",
       "      <th>BRAND NAME</th>\n",
       "      <th>CATEGORY</th>\n",
       "      <th>MAIN MARKET</th>\n",
       "      <th>2010 RANK</th>\n",
       "    </tr>\n",
       "  </thead>\n",
       "  <tbody>\n",
       "    <tr>\n",
       "      <th>995</th>\n",
       "      <td>996</td>\n",
       "      <td>Devondale</td>\n",
       "      <td>Dairy Products</td>\n",
       "      <td>Australia</td>\n",
       "      <td>New entry</td>\n",
       "    </tr>\n",
       "    <tr>\n",
       "      <th>996</th>\n",
       "      <td>997</td>\n",
       "      <td>More</td>\n",
       "      <td>Supermarket</td>\n",
       "      <td>India</td>\n",
       "      <td>New entry</td>\n",
       "    </tr>\n",
       "    <tr>\n",
       "      <th>997</th>\n",
       "      <td>998</td>\n",
       "      <td>Corona</td>\n",
       "      <td>Beer</td>\n",
       "      <td>Regional</td>\n",
       "      <td>New entry</td>\n",
       "    </tr>\n",
       "    <tr>\n",
       "      <th>998</th>\n",
       "      <td>999</td>\n",
       "      <td>Harvey Fresh</td>\n",
       "      <td>Fruit Juice</td>\n",
       "      <td>Australia</td>\n",
       "      <td>New entry</td>\n",
       "    </tr>\n",
       "    <tr>\n",
       "      <th>999</th>\n",
       "      <td>1000</td>\n",
       "      <td>Gatsby</td>\n",
       "      <td>Male Skincare Product</td>\n",
       "      <td>Regional</td>\n",
       "      <td>953</td>\n",
       "    </tr>\n",
       "  </tbody>\n",
       "</table>\n",
       "</div>"
      ],
      "text/plain": [
       "     RANK    BRAND NAME               CATEGORY MAIN MARKET  2010 RANK\n",
       "995   996     Devondale         Dairy Products   Australia  New entry\n",
       "996   997          More            Supermarket       India  New entry\n",
       "997   998        Corona                   Beer    Regional  New entry\n",
       "998   999  Harvey Fresh            Fruit Juice   Australia  New entry\n",
       "999  1000        Gatsby  Male Skincare Product    Regional        953"
      ]
     },
     "execution_count": 342,
     "metadata": {},
     "output_type": "execute_result"
    }
   ],
   "source": [
    "ci = pd.read_csv(\"de-sources-2022-2023/altreAziende/FR-campaignindia.csv\")\n",
    "ci.tail(5)"
   ]
  },
  {
   "cell_type": "code",
   "execution_count": 343,
   "metadata": {},
   "outputs": [
    {
     "name": "stdout",
     "output_type": "stream",
     "text": [
      "<class 'pandas.core.frame.DataFrame'>\n",
      "RangeIndex: 1000 entries, 0 to 999\n",
      "Data columns (total 5 columns):\n",
      " #   Column       Non-Null Count  Dtype \n",
      "---  ------       --------------  ----- \n",
      " 0   RANK         1000 non-null   int64 \n",
      " 1   BRAND NAME   1000 non-null   object\n",
      " 2   CATEGORY     1000 non-null   object\n",
      " 3   MAIN MARKET  1000 non-null   object\n",
      " 4   2010 RANK    1000 non-null   object\n",
      "dtypes: int64(1), object(4)\n",
      "memory usage: 39.2+ KB\n"
     ]
    }
   ],
   "source": [
    "ci.info()"
   ]
  },
  {
   "cell_type": "code",
   "execution_count": 344,
   "metadata": {},
   "outputs": [
    {
     "data": {
      "text/plain": [
       "RANK            int64\n",
       "BRAND NAME     object\n",
       "CATEGORY       object\n",
       "MAIN MARKET    object\n",
       "2010 RANK      object\n",
       "dtype: object"
      ]
     },
     "execution_count": 344,
     "metadata": {},
     "output_type": "execute_result"
    }
   ],
   "source": [
    "ci.dtypes"
   ]
  },
  {
   "cell_type": "code",
   "execution_count": 345,
   "metadata": {},
   "outputs": [
    {
     "data": {
      "text/plain": [
       "RANK           0\n",
       "BRAND NAME     0\n",
       "CATEGORY       0\n",
       "MAIN MARKET    0\n",
       "2010 RANK      0\n",
       "dtype: int64"
      ]
     },
     "execution_count": 345,
     "metadata": {},
     "output_type": "execute_result"
    }
   ],
   "source": [
    "ci.isnull().sum()"
   ]
  },
  {
   "attachments": {},
   "cell_type": "markdown",
   "metadata": {},
   "source": [
    "#### CompanySocialUrls"
   ]
  },
  {
   "cell_type": "code",
   "execution_count": 346,
   "metadata": {},
   "outputs": [
    {
     "data": {
      "text/html": [
       "<div>\n",
       "<style scoped>\n",
       "    .dataframe tbody tr th:only-of-type {\n",
       "        vertical-align: middle;\n",
       "    }\n",
       "\n",
       "    .dataframe tbody tr th {\n",
       "        vertical-align: top;\n",
       "    }\n",
       "\n",
       "    .dataframe thead th {\n",
       "        text-align: right;\n",
       "    }\n",
       "</style>\n",
       "<table border=\"1\" class=\"dataframe\">\n",
       "  <thead>\n",
       "    <tr style=\"text-align: right;\">\n",
       "      <th></th>\n",
       "      <th>Company</th>\n",
       "      <th>Facebook</th>\n",
       "      <th>Twitter</th>\n",
       "      <th>Instagram</th>\n",
       "      <th>Pinterest</th>\n",
       "    </tr>\n",
       "  </thead>\n",
       "  <tbody>\n",
       "    <tr>\n",
       "      <th>843</th>\n",
       "      <td>The Hershey Company</td>\n",
       "      <td>https://www.facebook.com/HersheyCompany/</td>\n",
       "      <td>https://twitter.com/hersheycompany</td>\n",
       "      <td>https://www.instagram.com/hersheycompany/</td>\n",
       "      <td>https://www.pinterest.com/hersheycompany/</td>\n",
       "    </tr>\n",
       "    <tr>\n",
       "      <th>844</th>\n",
       "      <td>ITC</td>\n",
       "      <td>https://it-it.facebook.com/ITCooperativa/</td>\n",
       "      <td>https://twitter.com/search?q=%23itc</td>\n",
       "      <td>https://www.instagram.com/tgruiz24/?hl=it</td>\n",
       "      <td>https://www.pinterest.it/itcaccessories/</td>\n",
       "    </tr>\n",
       "    <tr>\n",
       "      <th>845</th>\n",
       "      <td>Pgnig Group</td>\n",
       "      <td>https://www.facebook.com/PGNiG/</td>\n",
       "      <td>https://twitter.com/search?q=%23pgnig</td>\n",
       "      <td>https://www.instagram.com/pgnig_od/</td>\n",
       "      <td>NaN</td>\n",
       "    </tr>\n",
       "    <tr>\n",
       "      <th>846</th>\n",
       "      <td>MTN Group</td>\n",
       "      <td>https://m.facebook.com/profile.php?id=10859005...</td>\n",
       "      <td>https://twitter.com/mtngroup</td>\n",
       "      <td>https://www.instagram.com/mtn.company/?hl=it</td>\n",
       "      <td>https://www.pinterest.it/mtn_company/</td>\n",
       "    </tr>\n",
       "    <tr>\n",
       "      <th>847</th>\n",
       "      <td>Compass Group</td>\n",
       "      <td>https://it-it.facebook.com/people/Compass-Grou...</td>\n",
       "      <td>https://twitter.com/compassgroupuk</td>\n",
       "      <td>https://www.instagram.com/compassgroupse/?hl=it</td>\n",
       "      <td>https://www.pinterest.it/pin/288652657357881873/</td>\n",
       "    </tr>\n",
       "  </tbody>\n",
       "</table>\n",
       "</div>"
      ],
      "text/plain": [
       "                 Company                                           Facebook  \\\n",
       "843  The Hershey Company           https://www.facebook.com/HersheyCompany/   \n",
       "844                  ITC          https://it-it.facebook.com/ITCooperativa/   \n",
       "845          Pgnig Group                    https://www.facebook.com/PGNiG/   \n",
       "846            MTN Group  https://m.facebook.com/profile.php?id=10859005...   \n",
       "847        Compass Group  https://it-it.facebook.com/people/Compass-Grou...   \n",
       "\n",
       "                                   Twitter  \\\n",
       "843     https://twitter.com/hersheycompany   \n",
       "844    https://twitter.com/search?q=%23itc   \n",
       "845  https://twitter.com/search?q=%23pgnig   \n",
       "846           https://twitter.com/mtngroup   \n",
       "847     https://twitter.com/compassgroupuk   \n",
       "\n",
       "                                           Instagram  \\\n",
       "843        https://www.instagram.com/hersheycompany/   \n",
       "844        https://www.instagram.com/tgruiz24/?hl=it   \n",
       "845              https://www.instagram.com/pgnig_od/   \n",
       "846     https://www.instagram.com/mtn.company/?hl=it   \n",
       "847  https://www.instagram.com/compassgroupse/?hl=it   \n",
       "\n",
       "                                            Pinterest  \n",
       "843         https://www.pinterest.com/hersheycompany/  \n",
       "844          https://www.pinterest.it/itcaccessories/  \n",
       "845                                               NaN  \n",
       "846             https://www.pinterest.it/mtn_company/  \n",
       "847  https://www.pinterest.it/pin/288652657357881873/  "
      ]
     },
     "execution_count": 346,
     "metadata": {},
     "output_type": "execute_result"
    }
   ],
   "source": [
    "csu = pd.read_csv(\"de-sources-2022-2023/altreAziende/FR-company_social_urls.csv\")\n",
    "csu.tail(5)"
   ]
  },
  {
   "cell_type": "code",
   "execution_count": 347,
   "metadata": {},
   "outputs": [
    {
     "name": "stdout",
     "output_type": "stream",
     "text": [
      "<class 'pandas.core.frame.DataFrame'>\n",
      "RangeIndex: 848 entries, 0 to 847\n",
      "Data columns (total 5 columns):\n",
      " #   Column     Non-Null Count  Dtype \n",
      "---  ------     --------------  ----- \n",
      " 0   Company    848 non-null    object\n",
      " 1   Facebook   847 non-null    object\n",
      " 2   Twitter    846 non-null    object\n",
      " 3   Instagram  846 non-null    object\n",
      " 4   Pinterest  663 non-null    object\n",
      "dtypes: object(5)\n",
      "memory usage: 33.2+ KB\n"
     ]
    }
   ],
   "source": [
    "csu.info()"
   ]
  },
  {
   "cell_type": "code",
   "execution_count": 348,
   "metadata": {},
   "outputs": [
    {
     "data": {
      "text/plain": [
       "Company      object\n",
       "Facebook     object\n",
       "Twitter      object\n",
       "Instagram    object\n",
       "Pinterest    object\n",
       "dtype: object"
      ]
     },
     "execution_count": 348,
     "metadata": {},
     "output_type": "execute_result"
    }
   ],
   "source": [
    "csu.dtypes"
   ]
  },
  {
   "cell_type": "code",
   "execution_count": 349,
   "metadata": {},
   "outputs": [
    {
     "data": {
      "text/plain": [
       "Company        0\n",
       "Facebook       1\n",
       "Twitter        2\n",
       "Instagram      2\n",
       "Pinterest    185\n",
       "dtype: int64"
      ]
     },
     "execution_count": 349,
     "metadata": {},
     "output_type": "execute_result"
    }
   ],
   "source": [
    "csu.isnull().sum()"
   ]
  },
  {
   "attachments": {},
   "cell_type": "markdown",
   "metadata": {},
   "source": [
    "#### TeamBlind"
   ]
  },
  {
   "cell_type": "code",
   "execution_count": 350,
   "metadata": {},
   "outputs": [
    {
     "data": {
      "text/html": [
       "<div>\n",
       "<style scoped>\n",
       "    .dataframe tbody tr th:only-of-type {\n",
       "        vertical-align: middle;\n",
       "    }\n",
       "\n",
       "    .dataframe tbody tr th {\n",
       "        vertical-align: top;\n",
       "    }\n",
       "\n",
       "    .dataframe thead th {\n",
       "        text-align: right;\n",
       "    }\n",
       "</style>\n",
       "<table border=\"1\" class=\"dataframe\">\n",
       "  <thead>\n",
       "    <tr style=\"text-align: right;\">\n",
       "      <th></th>\n",
       "      <th>Unnamed: 0</th>\n",
       "      <th>name</th>\n",
       "      <th>website</th>\n",
       "      <th>locations</th>\n",
       "      <th>size</th>\n",
       "      <th>industry</th>\n",
       "      <th>founded</th>\n",
       "    </tr>\n",
       "  </thead>\n",
       "  <tbody>\n",
       "    <tr>\n",
       "      <th>941</th>\n",
       "      <td>941</td>\n",
       "      <td>Abiomed Careers</td>\n",
       "      <td>www.abiomed.com</td>\n",
       "      <td>Danvers, MA</td>\n",
       "      <td>1,001 to 5,000 employees</td>\n",
       "      <td>Medical Device</td>\n",
       "      <td>1981</td>\n",
       "    </tr>\n",
       "    <tr>\n",
       "      <th>942</th>\n",
       "      <td>942</td>\n",
       "      <td>System Soft Technologies Careers</td>\n",
       "      <td>sstech.us</td>\n",
       "      <td>Tampa, FL</td>\n",
       "      <td>501 to 1,000 employees</td>\n",
       "      <td>Information Technology &amp; Services</td>\n",
       "      <td>1999</td>\n",
       "    </tr>\n",
       "    <tr>\n",
       "      <th>943</th>\n",
       "      <td>943</td>\n",
       "      <td>Anthem Careers</td>\n",
       "      <td>www.antheminc.com</td>\n",
       "      <td>Indianapolis, Indiana</td>\n",
       "      <td>10,000+ employees</td>\n",
       "      <td>Financial Services</td>\n",
       "      <td>2004</td>\n",
       "    </tr>\n",
       "    <tr>\n",
       "      <th>944</th>\n",
       "      <td>944</td>\n",
       "      <td>Ad Hoc LLC Careers</td>\n",
       "      <td>adhoc.team</td>\n",
       "      <td>Washington, DC</td>\n",
       "      <td>201 to 500 employees</td>\n",
       "      <td>Computer Software</td>\n",
       "      <td>2014</td>\n",
       "    </tr>\n",
       "    <tr>\n",
       "      <th>945</th>\n",
       "      <td>945</td>\n",
       "      <td>BETSOL Careers</td>\n",
       "      <td>www.betsol.com</td>\n",
       "      <td>Broomfield, CO</td>\n",
       "      <td>501 to 1,000 employees</td>\n",
       "      <td>Information Technology &amp; Services</td>\n",
       "      <td>2002</td>\n",
       "    </tr>\n",
       "  </tbody>\n",
       "</table>\n",
       "</div>"
      ],
      "text/plain": [
       "     Unnamed: 0                              name            website  \\\n",
       "941         941                   Abiomed Careers    www.abiomed.com   \n",
       "942         942  System Soft Technologies Careers          sstech.us   \n",
       "943         943                    Anthem Careers  www.antheminc.com   \n",
       "944         944                Ad Hoc LLC Careers         adhoc.team   \n",
       "945         945                    BETSOL Careers     www.betsol.com   \n",
       "\n",
       "                 locations                      size  \\\n",
       "941            Danvers, MA  1,001 to 5,000 employees   \n",
       "942              Tampa, FL    501 to 1,000 employees   \n",
       "943  Indianapolis, Indiana         10,000+ employees   \n",
       "944         Washington, DC      201 to 500 employees   \n",
       "945         Broomfield, CO    501 to 1,000 employees   \n",
       "\n",
       "                              industry founded  \n",
       "941                     Medical Device    1981  \n",
       "942  Information Technology & Services    1999  \n",
       "943                 Financial Services    2004  \n",
       "944                  Computer Software    2014  \n",
       "945  Information Technology & Services    2002  "
      ]
     },
     "execution_count": 350,
     "metadata": {},
     "output_type": "execute_result"
    }
   ],
   "source": [
    "tb = pd.read_csv(\"de-sources-2022-2023/altreAziende/DDD-teamblind.com.csv\")\n",
    "tb.tail(5)"
   ]
  },
  {
   "cell_type": "code",
   "execution_count": 351,
   "metadata": {},
   "outputs": [
    {
     "name": "stdout",
     "output_type": "stream",
     "text": [
      "<class 'pandas.core.frame.DataFrame'>\n",
      "RangeIndex: 946 entries, 0 to 945\n",
      "Data columns (total 7 columns):\n",
      " #   Column      Non-Null Count  Dtype \n",
      "---  ------      --------------  ----- \n",
      " 0   Unnamed: 0  946 non-null    int64 \n",
      " 1   name        946 non-null    object\n",
      " 2   website     946 non-null    object\n",
      " 3   locations   946 non-null    object\n",
      " 4   size        946 non-null    object\n",
      " 5   industry    946 non-null    object\n",
      " 6   founded     946 non-null    object\n",
      "dtypes: int64(1), object(6)\n",
      "memory usage: 51.9+ KB\n"
     ]
    }
   ],
   "source": [
    "tb.info()"
   ]
  },
  {
   "cell_type": "code",
   "execution_count": 352,
   "metadata": {},
   "outputs": [
    {
     "data": {
      "text/plain": [
       "Unnamed: 0     int64\n",
       "name          object\n",
       "website       object\n",
       "locations     object\n",
       "size          object\n",
       "industry      object\n",
       "founded       object\n",
       "dtype: object"
      ]
     },
     "execution_count": 352,
     "metadata": {},
     "output_type": "execute_result"
    }
   ],
   "source": [
    "tb.dtypes"
   ]
  },
  {
   "cell_type": "code",
   "execution_count": 353,
   "metadata": {},
   "outputs": [
    {
     "data": {
      "text/plain": [
       "Unnamed: 0    0\n",
       "name          0\n",
       "website       0\n",
       "locations     0\n",
       "size          0\n",
       "industry      0\n",
       "founded       0\n",
       "dtype: int64"
      ]
     },
     "execution_count": 353,
     "metadata": {},
     "output_type": "execute_result"
    }
   ],
   "source": [
    "tb.isnull().sum()"
   ]
  },
  {
   "attachments": {},
   "cell_type": "markdown",
   "metadata": {},
   "source": [
    "#### FamCapGermany"
   ]
  },
  {
   "cell_type": "code",
   "execution_count": 354,
   "metadata": {},
   "outputs": [
    {
     "data": {
      "text/html": [
       "<div>\n",
       "<style scoped>\n",
       "    .dataframe tbody tr th:only-of-type {\n",
       "        vertical-align: middle;\n",
       "    }\n",
       "\n",
       "    .dataframe tbody tr th {\n",
       "        vertical-align: top;\n",
       "    }\n",
       "\n",
       "    .dataframe thead th {\n",
       "        text-align: right;\n",
       "    }\n",
       "</style>\n",
       "<table border=\"1\" class=\"dataframe\">\n",
       "  <thead>\n",
       "    <tr style=\"text-align: right;\">\n",
       "      <th></th>\n",
       "      <th>Rank</th>\n",
       "      <th>Company</th>\n",
       "      <th>Revenues 2018 $m</th>\n",
       "      <th>Employees</th>\n",
       "      <th>Family ownership</th>\n",
       "      <th>Founded</th>\n",
       "      <th>Public/Private</th>\n",
       "      <th>Generation</th>\n",
       "      <th>Family executive</th>\n",
       "      <th>Woman in leadership</th>\n",
       "      <th>Sector</th>\n",
       "      <th>Headquarters</th>\n",
       "      <th>State (abbreviation)</th>\n",
       "      <th>Website</th>\n",
       "    </tr>\n",
       "  </thead>\n",
       "  <tbody>\n",
       "    <tr>\n",
       "      <th>495</th>\n",
       "      <td>496</td>\n",
       "      <td>Mediengruppe Pre edruck</td>\n",
       "      <td>564.9</td>\n",
       "      <td>3,600</td>\n",
       "      <td>Holland, Scherer</td>\n",
       "      <td>1945</td>\n",
       "      <td>Private</td>\n",
       "      <td>3</td>\n",
       "      <td>Yes</td>\n",
       "      <td>Yes</td>\n",
       "      <td>Media and Entertainment</td>\n",
       "      <td>Augsburg</td>\n",
       "      <td>BY</td>\n",
       "      <td>www.mediengruppe-pd.de</td>\n",
       "    </tr>\n",
       "    <tr>\n",
       "      <th>496</th>\n",
       "      <td>497</td>\n",
       "      <td>Index-Werke GmbH &amp; Co. KG</td>\n",
       "      <td>563.6</td>\n",
       "      <td>2,032</td>\n",
       "      <td>Hahn</td>\n",
       "      <td>1914</td>\n",
       "      <td>Private</td>\n",
       "      <td>N.A.</td>\n",
       "      <td>No</td>\n",
       "      <td>No</td>\n",
       "      <td>Industrial Manufacturing</td>\n",
       "      <td>E lingen</td>\n",
       "      <td>BW</td>\n",
       "      <td>www.index-werke.de</td>\n",
       "    </tr>\n",
       "    <tr>\n",
       "      <th>497</th>\n",
       "      <td>498</td>\n",
       "      <td>Dr. Theodor Stiebel Werke GmbH &amp; Co. KG</td>\n",
       "      <td>557.2</td>\n",
       "      <td>3,700</td>\n",
       "      <td>Stiebel</td>\n",
       "      <td>1924</td>\n",
       "      <td>Private</td>\n",
       "      <td>3</td>\n",
       "      <td>No</td>\n",
       "      <td>No</td>\n",
       "      <td>Financial Services</td>\n",
       "      <td>Holzminden</td>\n",
       "      <td>NI</td>\n",
       "      <td>www.stiebel-eltron.de</td>\n",
       "    </tr>\n",
       "    <tr>\n",
       "      <th>498</th>\n",
       "      <td>499</td>\n",
       "      <td>Amazonen-Werke H. Dreyer GmbH &amp; Co. KG</td>\n",
       "      <td>557.1</td>\n",
       "      <td>1,850</td>\n",
       "      <td>Dreyer</td>\n",
       "      <td>1883</td>\n",
       "      <td>Private</td>\n",
       "      <td>4</td>\n",
       "      <td>Yes</td>\n",
       "      <td>No</td>\n",
       "      <td>Industrial Manufacturing</td>\n",
       "      <td>Hasbergen</td>\n",
       "      <td>NI</td>\n",
       "      <td>www.amazone.de</td>\n",
       "    </tr>\n",
       "    <tr>\n",
       "      <th>499</th>\n",
       "      <td>500</td>\n",
       "      <td>W. Markgraf GmbH &amp; Co KG Bauunternehmung</td>\n",
       "      <td>556.5</td>\n",
       "      <td>968</td>\n",
       "      <td>Markgraf</td>\n",
       "      <td>1932</td>\n",
       "      <td>Private</td>\n",
       "      <td>3</td>\n",
       "      <td>No</td>\n",
       "      <td>No</td>\n",
       "      <td>Industrial Manufacturing</td>\n",
       "      <td>Bayreuth</td>\n",
       "      <td>BY</td>\n",
       "      <td>www.markgraf-bau.de/</td>\n",
       "    </tr>\n",
       "  </tbody>\n",
       "</table>\n",
       "</div>"
      ],
      "text/plain": [
       "     Rank                                   Company Revenues 2018 $m  \\\n",
       "495   496                   Mediengruppe Pre edruck            564.9   \n",
       "496   497                 Index-Werke GmbH & Co. KG            563.6   \n",
       "497   498   Dr. Theodor Stiebel Werke GmbH & Co. KG            557.2   \n",
       "498   499    Amazonen-Werke H. Dreyer GmbH & Co. KG            557.1   \n",
       "499   500  W. Markgraf GmbH & Co KG Bauunternehmung            556.5   \n",
       "\n",
       "    Employees  Family ownership  Founded Public/Private Generation  \\\n",
       "495     3,600  Holland, Scherer     1945        Private          3   \n",
       "496     2,032              Hahn     1914        Private       N.A.   \n",
       "497     3,700           Stiebel     1924        Private          3   \n",
       "498     1,850            Dreyer     1883        Private          4   \n",
       "499       968          Markgraf     1932        Private          3   \n",
       "\n",
       "    Family executive Woman in leadership                    Sector  \\\n",
       "495              Yes                 Yes   Media and Entertainment   \n",
       "496               No                  No  Industrial Manufacturing   \n",
       "497               No                  No        Financial Services   \n",
       "498              Yes                  No  Industrial Manufacturing   \n",
       "499               No                  No  Industrial Manufacturing   \n",
       "\n",
       "    Headquarters State (abbreviation)                 Website  \n",
       "495     Augsburg                   BY  www.mediengruppe-pd.de  \n",
       "496     E lingen                   BW      www.index-werke.de  \n",
       "497   Holzminden                   NI   www.stiebel-eltron.de  \n",
       "498    Hasbergen                   NI          www.amazone.de  \n",
       "499     Bayreuth                   BY    www.markgraf-bau.de/  "
      ]
     },
     "execution_count": 354,
     "metadata": {},
     "output_type": "execute_result"
    }
   ],
   "source": [
    "fcg = pd.read_csv(\"de-sources-2022-2023/altreAziende/FR-famcap_germany.csv\")\n",
    "fcg.tail(5)"
   ]
  },
  {
   "cell_type": "code",
   "execution_count": 355,
   "metadata": {},
   "outputs": [
    {
     "name": "stdout",
     "output_type": "stream",
     "text": [
      "<class 'pandas.core.frame.DataFrame'>\n",
      "RangeIndex: 500 entries, 0 to 499\n",
      "Data columns (total 14 columns):\n",
      " #   Column                Non-Null Count  Dtype \n",
      "---  ------                --------------  ----- \n",
      " 0   Rank                  500 non-null    int64 \n",
      " 1   Company               500 non-null    object\n",
      " 2   Revenues 2018 $m      500 non-null    object\n",
      " 3   Employees             500 non-null    object\n",
      " 4   Family ownership      500 non-null    object\n",
      " 5   Founded               500 non-null    int64 \n",
      " 6   Public/Private        500 non-null    object\n",
      " 7   Generation            500 non-null    object\n",
      " 8   Family executive      500 non-null    object\n",
      " 9   Woman in leadership   500 non-null    object\n",
      " 10  Sector                500 non-null    object\n",
      " 11  Headquarters          500 non-null    object\n",
      " 12  State (abbreviation)  500 non-null    object\n",
      " 13  Website               500 non-null    object\n",
      "dtypes: int64(2), object(12)\n",
      "memory usage: 54.8+ KB\n"
     ]
    }
   ],
   "source": [
    "fcg.info()"
   ]
  },
  {
   "cell_type": "code",
   "execution_count": 356,
   "metadata": {},
   "outputs": [
    {
     "data": {
      "text/plain": [
       "Rank                     int64\n",
       "Company                 object\n",
       "Revenues 2018 $m        object\n",
       "Employees               object\n",
       "Family ownership        object\n",
       "Founded                  int64\n",
       "Public/Private          object\n",
       "Generation              object\n",
       "Family executive        object\n",
       "Woman in leadership     object\n",
       "Sector                  object\n",
       "Headquarters            object\n",
       "State (abbreviation)    object\n",
       "Website                 object\n",
       "dtype: object"
      ]
     },
     "execution_count": 356,
     "metadata": {},
     "output_type": "execute_result"
    }
   ],
   "source": [
    "fcg.dtypes"
   ]
  },
  {
   "cell_type": "code",
   "execution_count": 357,
   "metadata": {},
   "outputs": [
    {
     "data": {
      "text/plain": [
       "Rank                    0\n",
       "Company                 0\n",
       "Revenues 2018 $m        0\n",
       "Employees               0\n",
       "Family ownership        0\n",
       "Founded                 0\n",
       "Public/Private          0\n",
       "Generation              0\n",
       "Family executive        0\n",
       "Woman in leadership     0\n",
       "Sector                  0\n",
       "Headquarters            0\n",
       "State (abbreviation)    0\n",
       "Website                 0\n",
       "dtype: int64"
      ]
     },
     "execution_count": 357,
     "metadata": {},
     "output_type": "execute_result"
    }
   ],
   "source": [
    "fcg.isnull().sum()"
   ]
  },
  {
   "attachments": {},
   "cell_type": "markdown",
   "metadata": {},
   "source": [
    "#### Followers"
   ]
  },
  {
   "cell_type": "code",
   "execution_count": 358,
   "metadata": {},
   "outputs": [
    {
     "data": {
      "text/html": [
       "<div>\n",
       "<style scoped>\n",
       "    .dataframe tbody tr th:only-of-type {\n",
       "        vertical-align: middle;\n",
       "    }\n",
       "\n",
       "    .dataframe tbody tr th {\n",
       "        vertical-align: top;\n",
       "    }\n",
       "\n",
       "    .dataframe thead th {\n",
       "        text-align: right;\n",
       "    }\n",
       "</style>\n",
       "<table border=\"1\" class=\"dataframe\">\n",
       "  <thead>\n",
       "    <tr style=\"text-align: right;\">\n",
       "      <th></th>\n",
       "      <th>Company</th>\n",
       "      <th>Facebook</th>\n",
       "      <th>Twitter</th>\n",
       "      <th>Instagram</th>\n",
       "      <th>Pinterest</th>\n",
       "    </tr>\n",
       "  </thead>\n",
       "  <tbody>\n",
       "    <tr>\n",
       "      <th>844</th>\n",
       "      <td>The Hershey Company</td>\n",
       "      <td>54.830 persone seguono questa Pagina</td>\n",
       "      <td>15.155</td>\n",
       "      <td>377K follower</td>\n",
       "      <td>118,3mila follower</td>\n",
       "    </tr>\n",
       "    <tr>\n",
       "      <th>845</th>\n",
       "      <td>ITC</td>\n",
       "      <td>-</td>\n",
       "      <td>-</td>\n",
       "      <td>1,483 follower</td>\n",
       "      <td>45 follower</td>\n",
       "    </tr>\n",
       "    <tr>\n",
       "      <th>846</th>\n",
       "      <td>Pgnig Group</td>\n",
       "      <td>-</td>\n",
       "      <td>-</td>\n",
       "      <td>2,710 follower</td>\n",
       "      <td>-</td>\n",
       "    </tr>\n",
       "    <tr>\n",
       "      <th>847</th>\n",
       "      <td>MTN Group</td>\n",
       "      <td>-</td>\n",
       "      <td>20.904</td>\n",
       "      <td>3,086 follower</td>\n",
       "      <td>46 follower</td>\n",
       "    </tr>\n",
       "    <tr>\n",
       "      <th>848</th>\n",
       "      <td>Compass Group</td>\n",
       "      <td>-</td>\n",
       "      <td>15.540</td>\n",
       "      <td>1,045 follower</td>\n",
       "      <td>-</td>\n",
       "    </tr>\n",
       "  </tbody>\n",
       "</table>\n",
       "</div>"
      ],
      "text/plain": [
       "                 Company                              Facebook Twitter  \\\n",
       "844  The Hershey Company  54.830 persone seguono questa Pagina  15.155   \n",
       "845                  ITC                                     -       -   \n",
       "846          Pgnig Group                                     -       -   \n",
       "847            MTN Group                                     -  20.904   \n",
       "848        Compass Group                                     -  15.540   \n",
       "\n",
       "          Instagram           Pinterest  \n",
       "844   377K follower  118,3mila follower  \n",
       "845  1,483 follower         45 follower  \n",
       "846  2,710 follower                   -  \n",
       "847  3,086 follower         46 follower  \n",
       "848  1,045 follower                   -  "
      ]
     },
     "execution_count": 358,
     "metadata": {},
     "output_type": "execute_result"
    }
   ],
   "source": [
    "fol = pd.read_csv(\"de-sources-2022-2023/altreAziende/FR-followers.csv\")\n",
    "fol.tail(5)"
   ]
  },
  {
   "cell_type": "code",
   "execution_count": 359,
   "metadata": {},
   "outputs": [
    {
     "name": "stdout",
     "output_type": "stream",
     "text": [
      "<class 'pandas.core.frame.DataFrame'>\n",
      "RangeIndex: 849 entries, 0 to 848\n",
      "Data columns (total 5 columns):\n",
      " #   Column     Non-Null Count  Dtype \n",
      "---  ------     --------------  ----- \n",
      " 0   Company    849 non-null    object\n",
      " 1   Facebook   849 non-null    object\n",
      " 2   Twitter    849 non-null    object\n",
      " 3   Instagram  848 non-null    object\n",
      " 4   Pinterest  849 non-null    object\n",
      "dtypes: object(5)\n",
      "memory usage: 33.3+ KB\n"
     ]
    }
   ],
   "source": [
    "fol.info()"
   ]
  },
  {
   "cell_type": "code",
   "execution_count": 360,
   "metadata": {},
   "outputs": [
    {
     "data": {
      "text/plain": [
       "Company      object\n",
       "Facebook     object\n",
       "Twitter      object\n",
       "Instagram    object\n",
       "Pinterest    object\n",
       "dtype: object"
      ]
     },
     "execution_count": 360,
     "metadata": {},
     "output_type": "execute_result"
    }
   ],
   "source": [
    "fol.dtypes"
   ]
  },
  {
   "cell_type": "code",
   "execution_count": 361,
   "metadata": {},
   "outputs": [
    {
     "data": {
      "text/plain": [
       "Company      0\n",
       "Facebook     0\n",
       "Twitter      0\n",
       "Instagram    1\n",
       "Pinterest    0\n",
       "dtype: int64"
      ]
     },
     "execution_count": 361,
     "metadata": {},
     "output_type": "execute_result"
    }
   ],
   "source": [
    "fol.isnull().sum()"
   ]
  },
  {
   "attachments": {},
   "cell_type": "markdown",
   "metadata": {},
   "source": [
    "#### HitHorizons"
   ]
  },
  {
   "cell_type": "code",
   "execution_count": 362,
   "metadata": {},
   "outputs": [
    {
     "data": {
      "text/html": [
       "<div>\n",
       "<style scoped>\n",
       "    .dataframe tbody tr th:only-of-type {\n",
       "        vertical-align: middle;\n",
       "    }\n",
       "\n",
       "    .dataframe tbody tr th {\n",
       "        vertical-align: top;\n",
       "    }\n",
       "\n",
       "    .dataframe thead th {\n",
       "        text-align: right;\n",
       "    }\n",
       "</style>\n",
       "<table border=\"1\" class=\"dataframe\">\n",
       "  <thead>\n",
       "    <tr style=\"text-align: right;\">\n",
       "      <th></th>\n",
       "      <th>id</th>\n",
       "      <th>name</th>\n",
       "      <th>address</th>\n",
       "      <th>nation</th>\n",
       "      <th>hhid</th>\n",
       "      <th>industry</th>\n",
       "      <th>sic_code</th>\n",
       "      <th>type</th>\n",
       "      <th>est_of_ownership</th>\n",
       "    </tr>\n",
       "  </thead>\n",
       "  <tbody>\n",
       "    <tr>\n",
       "      <th>0</th>\n",
       "      <td>d60823f20d864692b517a8ad6c1418ed</td>\n",
       "      <td>Enel Spa</td>\n",
       "      <td>VIALE REGINA MARGHERITA 137, ROMA, 00198, ROMA...</td>\n",
       "      <td>IT00934061003</td>\n",
       "      <td>H-IT0031426662</td>\n",
       "      <td>Finance, Insurance, and Real Estate</td>\n",
       "      <td>Holding company (6719)</td>\n",
       "      <td>Corporation</td>\n",
       "      <td>1962</td>\n",
       "    </tr>\n",
       "    <tr>\n",
       "      <th>1</th>\n",
       "      <td>c7856532ca8b4dd286a9602c77221035</td>\n",
       "      <td>Esselunga Spa</td>\n",
       "      <td>VIA GIAMBOLOGNA 1, PIOLTELLO, 20096, MILANO, I...</td>\n",
       "      <td>IT04916380159</td>\n",
       "      <td>H-IT0068388950</td>\n",
       "      <td>Retail Trade</td>\n",
       "      <td>Ret mail-order house (5961)</td>\n",
       "      <td>Corporation</td>\n",
       "      <td>1957</td>\n",
       "    </tr>\n",
       "    <tr>\n",
       "      <th>2</th>\n",
       "      <td>e8e04ae3e4594e3b836e62077155b19a</td>\n",
       "      <td>Superit Srl</td>\n",
       "      <td>VIA VITTOR PISANI 20, MILANO, 20124, MILANO, I...</td>\n",
       "      <td>IT11068950960</td>\n",
       "      <td>H-IT0289899385</td>\n",
       "      <td>Finance, Insurance, and Real Estate</td>\n",
       "      <td>Holding company (6719)</td>\n",
       "      <td>Corporation</td>\n",
       "      <td>2019</td>\n",
       "    </tr>\n",
       "    <tr>\n",
       "      <th>3</th>\n",
       "      <td>37290f39faa54935813c0c6f840d7353</td>\n",
       "      <td>Saras Spa</td>\n",
       "      <td>GALLERIA PASSARELLA 2, MILANO, 20122, MILANO, ...</td>\n",
       "      <td>IT00136440922</td>\n",
       "      <td>H-IT0018414451</td>\n",
       "      <td>Manufacturing</td>\n",
       "      <td>Petroleum refiner (2911)</td>\n",
       "      <td>Corporation</td>\n",
       "      <td>1962</td>\n",
       "    </tr>\n",
       "    <tr>\n",
       "      <th>4</th>\n",
       "      <td>bb3a80a40f704c688f804f627667fd31</td>\n",
       "      <td>Unicredit Spa</td>\n",
       "      <td>PIAZZA GAE AULENTI 3 TOWER A, MILANO, 20154, M...</td>\n",
       "      <td>IT00348170101</td>\n",
       "      <td>H-IT0009571558</td>\n",
       "      <td>Finance, Insurance, and Real Estate</td>\n",
       "      <td>National commercial bank (6021)</td>\n",
       "      <td>Corporation</td>\n",
       "      <td>1870</td>\n",
       "    </tr>\n",
       "  </tbody>\n",
       "</table>\n",
       "</div>"
      ],
      "text/plain": [
       "                                 id           name  \\\n",
       "0  d60823f20d864692b517a8ad6c1418ed       Enel Spa   \n",
       "1  c7856532ca8b4dd286a9602c77221035  Esselunga Spa   \n",
       "2  e8e04ae3e4594e3b836e62077155b19a    Superit Srl   \n",
       "3  37290f39faa54935813c0c6f840d7353      Saras Spa   \n",
       "4  bb3a80a40f704c688f804f627667fd31  Unicredit Spa   \n",
       "\n",
       "                                             address         nation  \\\n",
       "0  VIALE REGINA MARGHERITA 137, ROMA, 00198, ROMA...  IT00934061003   \n",
       "1  VIA GIAMBOLOGNA 1, PIOLTELLO, 20096, MILANO, I...  IT04916380159   \n",
       "2  VIA VITTOR PISANI 20, MILANO, 20124, MILANO, I...  IT11068950960   \n",
       "3  GALLERIA PASSARELLA 2, MILANO, 20122, MILANO, ...  IT00136440922   \n",
       "4  PIAZZA GAE AULENTI 3 TOWER A, MILANO, 20154, M...  IT00348170101   \n",
       "\n",
       "             hhid                             industry  \\\n",
       "0  H-IT0031426662  Finance, Insurance, and Real Estate   \n",
       "1  H-IT0068388950                         Retail Trade   \n",
       "2  H-IT0289899385  Finance, Insurance, and Real Estate   \n",
       "3  H-IT0018414451                        Manufacturing   \n",
       "4  H-IT0009571558  Finance, Insurance, and Real Estate   \n",
       "\n",
       "                          sic_code         type  est_of_ownership  \n",
       "0           Holding company (6719)  Corporation              1962  \n",
       "1      Ret mail-order house (5961)  Corporation              1957  \n",
       "2           Holding company (6719)  Corporation              2019  \n",
       "3         Petroleum refiner (2911)  Corporation              1962  \n",
       "4  National commercial bank (6021)  Corporation              1870  "
      ]
     },
     "execution_count": 362,
     "metadata": {},
     "output_type": "execute_result"
    }
   ],
   "source": [
    "hh = pd.read_json('de-sources-2022-2023/altreAziende/avengers-hithorizons.json', lines=True)\n",
    "hh.head()"
   ]
  },
  {
   "cell_type": "code",
   "execution_count": 363,
   "metadata": {},
   "outputs": [
    {
     "name": "stdout",
     "output_type": "stream",
     "text": [
      "<class 'pandas.core.frame.DataFrame'>\n",
      "RangeIndex: 667 entries, 0 to 666\n",
      "Data columns (total 9 columns):\n",
      " #   Column            Non-Null Count  Dtype \n",
      "---  ------            --------------  ----- \n",
      " 0   id                667 non-null    object\n",
      " 1   name              667 non-null    object\n",
      " 2   address           667 non-null    object\n",
      " 3   nation            667 non-null    object\n",
      " 4   hhid              667 non-null    object\n",
      " 5   industry          667 non-null    object\n",
      " 6   sic_code          667 non-null    object\n",
      " 7   type              667 non-null    object\n",
      " 8   est_of_ownership  667 non-null    int64 \n",
      "dtypes: int64(1), object(8)\n",
      "memory usage: 47.0+ KB\n"
     ]
    }
   ],
   "source": [
    "hh.info()"
   ]
  },
  {
   "cell_type": "code",
   "execution_count": 364,
   "metadata": {},
   "outputs": [
    {
     "data": {
      "text/plain": [
       "id                  object\n",
       "name                object\n",
       "address             object\n",
       "nation              object\n",
       "hhid                object\n",
       "industry            object\n",
       "sic_code            object\n",
       "type                object\n",
       "est_of_ownership     int64\n",
       "dtype: object"
      ]
     },
     "execution_count": 364,
     "metadata": {},
     "output_type": "execute_result"
    }
   ],
   "source": [
    "hh.dtypes"
   ]
  },
  {
   "cell_type": "code",
   "execution_count": 365,
   "metadata": {},
   "outputs": [
    {
     "data": {
      "text/plain": [
       "id                  0\n",
       "name                0\n",
       "address             0\n",
       "nation              0\n",
       "hhid                0\n",
       "industry            0\n",
       "sic_code            0\n",
       "type                0\n",
       "est_of_ownership    0\n",
       "dtype: int64"
      ]
     },
     "execution_count": 365,
     "metadata": {},
     "output_type": "execute_result"
    }
   ],
   "source": [
    "hh.isnull().sum()"
   ]
  },
  {
   "attachments": {},
   "cell_type": "markdown",
   "metadata": {},
   "source": [
    "#### GlobalData"
   ]
  },
  {
   "cell_type": "code",
   "execution_count": 366,
   "metadata": {},
   "outputs": [
    {
     "data": {
      "text/html": [
       "<div>\n",
       "<style scoped>\n",
       "    .dataframe tbody tr th:only-of-type {\n",
       "        vertical-align: middle;\n",
       "    }\n",
       "\n",
       "    .dataframe tbody tr th {\n",
       "        vertical-align: top;\n",
       "    }\n",
       "\n",
       "    .dataframe thead th {\n",
       "        text-align: right;\n",
       "    }\n",
       "</style>\n",
       "<table border=\"1\" class=\"dataframe\">\n",
       "  <thead>\n",
       "    <tr style=\"text-align: right;\">\n",
       "      <th></th>\n",
       "      <th>name</th>\n",
       "      <th>headquarters</th>\n",
       "      <th>number_of_employees</th>\n",
       "      <th>address</th>\n",
       "      <th>industry</th>\n",
       "      <th>website</th>\n",
       "      <th>market_cap</th>\n",
       "      <th>telephone</th>\n",
       "      <th>revenue</th>\n",
       "    </tr>\n",
       "  </thead>\n",
       "  <tbody>\n",
       "    <tr>\n",
       "      <th>0</th>\n",
       "      <td>US Ecology Inc</td>\n",
       "      <td>United States of America</td>\n",
       "      <td>3,600</td>\n",
       "      <td>101 S Capitol Blvd Ste 1000, Boise, Idaho, 83702</td>\n",
       "      <td>Environmental and Waste Management Services</td>\n",
       "      <td>www.usecology.com</td>\n",
       "      <td>None</td>\n",
       "      <td>1 208 3318400</td>\n",
       "      <td>$988.0M</td>\n",
       "    </tr>\n",
       "    <tr>\n",
       "      <th>1</th>\n",
       "      <td>Mercury Systems Inc</td>\n",
       "      <td>United States of America</td>\n",
       "      <td>2,386</td>\n",
       "      <td>50 Minuteman Drive, Andover, Massachusetts, 01810</td>\n",
       "      <td>Aerospace and Defense</td>\n",
       "      <td>www.mrcy.com</td>\n",
       "      <td>$2.7B</td>\n",
       "      <td>1 978 2561300</td>\n",
       "      <td>$988.2M</td>\n",
       "    </tr>\n",
       "    <tr>\n",
       "      <th>2</th>\n",
       "      <td>Xiwang Foodstuffs Co Ltd</td>\n",
       "      <td>China</td>\n",
       "      <td>1,892</td>\n",
       "      <td>Xiwang Industrial Park, Zouping County, Binzho...</td>\n",
       "      <td>Consumer Packaged Goods</td>\n",
       "      <td>www.xwsp.cc</td>\n",
       "      <td>$787.4M</td>\n",
       "      <td>86 543 4868888</td>\n",
       "      <td>$985.2M</td>\n",
       "    </tr>\n",
       "    <tr>\n",
       "      <th>3</th>\n",
       "      <td>Shenzhen Hepalink Pharmaceutical Group Co Ltd</td>\n",
       "      <td>China</td>\n",
       "      <td>2,046</td>\n",
       "      <td>No. 19, Hi-Tech Zhongyi Avenue, Middle Area, H...</td>\n",
       "      <td>Pharmaceuticals and Healthcare</td>\n",
       "      <td>www.hepalink.com</td>\n",
       "      <td>$2.7B</td>\n",
       "      <td>86 755 26980311</td>\n",
       "      <td>$986.9M</td>\n",
       "    </tr>\n",
       "    <tr>\n",
       "      <th>4</th>\n",
       "      <td>Kingsoft Corporation Ltd</td>\n",
       "      <td>Hong Kong</td>\n",
       "      <td>7,174</td>\n",
       "      <td>Kingsoft Tower, No. 33, Xiaoying West Road, Ha...</td>\n",
       "      <td>Technology and Communications</td>\n",
       "      <td>www.kingsoft.com</td>\n",
       "      <td>$5.0B</td>\n",
       "      <td>852  24050088</td>\n",
       "      <td>$987.8M</td>\n",
       "    </tr>\n",
       "  </tbody>\n",
       "</table>\n",
       "</div>"
      ],
      "text/plain": [
       "                                            name              headquarters  \\\n",
       "0                                 US Ecology Inc  United States of America   \n",
       "1                            Mercury Systems Inc  United States of America   \n",
       "2                       Xiwang Foodstuffs Co Ltd                     China   \n",
       "3  Shenzhen Hepalink Pharmaceutical Group Co Ltd                     China   \n",
       "4                       Kingsoft Corporation Ltd                 Hong Kong   \n",
       "\n",
       "  number_of_employees                                            address  \\\n",
       "0               3,600   101 S Capitol Blvd Ste 1000, Boise, Idaho, 83702   \n",
       "1               2,386  50 Minuteman Drive, Andover, Massachusetts, 01810   \n",
       "2               1,892  Xiwang Industrial Park, Zouping County, Binzho...   \n",
       "3               2,046  No. 19, Hi-Tech Zhongyi Avenue, Middle Area, H...   \n",
       "4               7,174  Kingsoft Tower, No. 33, Xiaoying West Road, Ha...   \n",
       "\n",
       "                                      industry            website market_cap  \\\n",
       "0  Environmental and Waste Management Services  www.usecology.com       None   \n",
       "1                        Aerospace and Defense       www.mrcy.com      $2.7B   \n",
       "2                      Consumer Packaged Goods        www.xwsp.cc    $787.4M   \n",
       "3               Pharmaceuticals and Healthcare   www.hepalink.com      $2.7B   \n",
       "4                Technology and Communications   www.kingsoft.com      $5.0B   \n",
       "\n",
       "         telephone  revenue  \n",
       "0    1 208 3318400  $988.0M  \n",
       "1    1 978 2561300  $988.2M  \n",
       "2   86 543 4868888  $985.2M  \n",
       "3  86 755 26980311  $986.9M  \n",
       "4    852  24050088  $987.8M  "
      ]
     },
     "execution_count": 366,
     "metadata": {},
     "output_type": "execute_result"
    }
   ],
   "source": [
    "gd = pd.read_json('de-sources-2022-2023/altreAziende/DeBiGa-globaldata.json')\n",
    "gd.head()"
   ]
  },
  {
   "cell_type": "code",
   "execution_count": 367,
   "metadata": {},
   "outputs": [
    {
     "name": "stdout",
     "output_type": "stream",
     "text": [
      "<class 'pandas.core.frame.DataFrame'>\n",
      "RangeIndex: 5336 entries, 0 to 5335\n",
      "Data columns (total 9 columns):\n",
      " #   Column               Non-Null Count  Dtype \n",
      "---  ------               --------------  ----- \n",
      " 0   name                 5336 non-null   object\n",
      " 1   headquarters         5336 non-null   object\n",
      " 2   number_of_employees  5233 non-null   object\n",
      " 3   address              5336 non-null   object\n",
      " 4   industry             5336 non-null   object\n",
      " 5   website              5336 non-null   object\n",
      " 6   market_cap           4914 non-null   object\n",
      " 7   telephone            5242 non-null   object\n",
      " 8   revenue              5336 non-null   object\n",
      "dtypes: object(9)\n",
      "memory usage: 375.3+ KB\n"
     ]
    }
   ],
   "source": [
    "gd.info()"
   ]
  },
  {
   "cell_type": "code",
   "execution_count": 368,
   "metadata": {},
   "outputs": [
    {
     "data": {
      "text/plain": [
       "name                   object\n",
       "headquarters           object\n",
       "number_of_employees    object\n",
       "address                object\n",
       "industry               object\n",
       "website                object\n",
       "market_cap             object\n",
       "telephone              object\n",
       "revenue                object\n",
       "dtype: object"
      ]
     },
     "execution_count": 368,
     "metadata": {},
     "output_type": "execute_result"
    }
   ],
   "source": [
    "gd.dtypes"
   ]
  },
  {
   "cell_type": "code",
   "execution_count": 369,
   "metadata": {},
   "outputs": [
    {
     "data": {
      "text/plain": [
       "name                     0\n",
       "headquarters             0\n",
       "number_of_employees    103\n",
       "address                  0\n",
       "industry                 0\n",
       "website                  0\n",
       "market_cap             422\n",
       "telephone               94\n",
       "revenue                  0\n",
       "dtype: int64"
      ]
     },
     "execution_count": 369,
     "metadata": {},
     "output_type": "execute_result"
    }
   ],
   "source": [
    "gd.isnull().sum()"
   ]
  },
  {
   "attachments": {},
   "cell_type": "markdown",
   "metadata": {},
   "source": [
    "#### GovUk"
   ]
  },
  {
   "cell_type": "code",
   "execution_count": 370,
   "metadata": {},
   "outputs": [
    {
     "data": {
      "text/html": [
       "<div>\n",
       "<style scoped>\n",
       "    .dataframe tbody tr th:only-of-type {\n",
       "        vertical-align: middle;\n",
       "    }\n",
       "\n",
       "    .dataframe tbody tr th {\n",
       "        vertical-align: top;\n",
       "    }\n",
       "\n",
       "    .dataframe thead th {\n",
       "        text-align: right;\n",
       "    }\n",
       "</style>\n",
       "<table border=\"1\" class=\"dataframe\">\n",
       "  <thead>\n",
       "    <tr style=\"text-align: right;\">\n",
       "      <th></th>\n",
       "      <th>URL</th>\n",
       "      <th>ID</th>\n",
       "      <th>Name</th>\n",
       "      <th>Company ID</th>\n",
       "      <th>Company Status</th>\n",
       "      <th>Company Type</th>\n",
       "      <th>Registration Date</th>\n",
       "      <th>Incorporation Date</th>\n",
       "      <th>Dissolution Date</th>\n",
       "      <th>Office Address</th>\n",
       "    </tr>\n",
       "  </thead>\n",
       "  <tbody>\n",
       "    <tr>\n",
       "      <th>1316</th>\n",
       "      <td>https://find-and-update.company-information.se...</td>\n",
       "      <td>1317</td>\n",
       "      <td>P &amp; A S HAYSELDEN LIMITED</td>\n",
       "      <td>04944953</td>\n",
       "      <td>Active</td>\n",
       "      <td>PrivatelimitedCompany</td>\n",
       "      <td>NaN</td>\n",
       "      <td>27 October 2003</td>\n",
       "      <td>NaN</td>\n",
       "      <td>61GreenStreetHoyland Barnsley SouthYorkshire S...</td>\n",
       "    </tr>\n",
       "    <tr>\n",
       "      <th>1317</th>\n",
       "      <td>https://find-and-update.company-information.se...</td>\n",
       "      <td>1318</td>\n",
       "      <td>P &amp; A SHOPFITTING LIMITED</td>\n",
       "      <td>08948068</td>\n",
       "      <td>Active</td>\n",
       "      <td>PrivatelimitedCompany</td>\n",
       "      <td>NaN</td>\n",
       "      <td>19 March 2014</td>\n",
       "      <td>NaN</td>\n",
       "      <td>1bQueensway NewMilton Dorset UnitedKingdom BH2...</td>\n",
       "    </tr>\n",
       "    <tr>\n",
       "      <th>1318</th>\n",
       "      <td>https://find-and-update.company-information.se...</td>\n",
       "      <td>1319</td>\n",
       "      <td>P &amp; A SIDGWICK LIMITED</td>\n",
       "      <td>12400905</td>\n",
       "      <td>Active</td>\n",
       "      <td>PrivatelimitedCompany</td>\n",
       "      <td>NaN</td>\n",
       "      <td>13 January 2020</td>\n",
       "      <td>NaN</td>\n",
       "      <td>TrevearHouseOldCountyCourt OldCountyCourt Penz...</td>\n",
       "    </tr>\n",
       "    <tr>\n",
       "      <th>1319</th>\n",
       "      <td>https://find-and-update.company-information.se...</td>\n",
       "      <td>1320</td>\n",
       "      <td>P &amp; A SKIBINSKI CONTRACTORS LIMITED</td>\n",
       "      <td>03841278</td>\n",
       "      <td>Active</td>\n",
       "      <td>PrivatelimitedCompany</td>\n",
       "      <td>NaN</td>\n",
       "      <td>14 September 1999</td>\n",
       "      <td>NaN</td>\n",
       "      <td>9StationParade UxbridgeRoad London W53LD</td>\n",
       "    </tr>\n",
       "    <tr>\n",
       "      <th>1320</th>\n",
       "      <td>https://find-and-update.company-information.se...</td>\n",
       "      <td>1321</td>\n",
       "      <td>P &amp; A SOFTWARE SOLUTIONS (UK) LIMITED</td>\n",
       "      <td>04332509</td>\n",
       "      <td>Active</td>\n",
       "      <td>PrivatelimitedCompany</td>\n",
       "      <td>NaN</td>\n",
       "      <td>30 November 2001</td>\n",
       "      <td>NaN</td>\n",
       "      <td>TheOldPinFactory 6bChurchStreet StonyStratford...</td>\n",
       "    </tr>\n",
       "  </tbody>\n",
       "</table>\n",
       "</div>"
      ],
      "text/plain": [
       "                                                    URL    ID  \\\n",
       "1316  https://find-and-update.company-information.se...  1317   \n",
       "1317  https://find-and-update.company-information.se...  1318   \n",
       "1318  https://find-and-update.company-information.se...  1319   \n",
       "1319  https://find-and-update.company-information.se...  1320   \n",
       "1320  https://find-and-update.company-information.se...  1321   \n",
       "\n",
       "                                       Name Company ID Company Status  \\\n",
       "1316              P & A S HAYSELDEN LIMITED   04944953         Active   \n",
       "1317              P & A SHOPFITTING LIMITED   08948068         Active   \n",
       "1318                 P & A SIDGWICK LIMITED   12400905         Active   \n",
       "1319    P & A SKIBINSKI CONTRACTORS LIMITED   03841278         Active   \n",
       "1320  P & A SOFTWARE SOLUTIONS (UK) LIMITED   04332509         Active   \n",
       "\n",
       "               Company Type Registration Date Incorporation Date  \\\n",
       "1316  PrivatelimitedCompany               NaN    27 October 2003   \n",
       "1317  PrivatelimitedCompany               NaN      19 March 2014   \n",
       "1318  PrivatelimitedCompany               NaN    13 January 2020   \n",
       "1319  PrivatelimitedCompany               NaN  14 September 1999   \n",
       "1320  PrivatelimitedCompany               NaN   30 November 2001   \n",
       "\n",
       "     Dissolution Date                                     Office Address  \n",
       "1316              NaN  61GreenStreetHoyland Barnsley SouthYorkshire S...  \n",
       "1317              NaN  1bQueensway NewMilton Dorset UnitedKingdom BH2...  \n",
       "1318              NaN  TrevearHouseOldCountyCourt OldCountyCourt Penz...  \n",
       "1319              NaN           9StationParade UxbridgeRoad London W53LD  \n",
       "1320              NaN  TheOldPinFactory 6bChurchStreet StonyStratford...  "
      ]
     },
     "execution_count": 370,
     "metadata": {},
     "output_type": "execute_result"
    }
   ],
   "source": [
    "gu1 = pd.read_csv(\"de-sources-2022-2023/altreAziende/wissel-aziende-gov.uk.csv\")\n",
    "gu1.tail(5)"
   ]
  },
  {
   "cell_type": "code",
   "execution_count": 371,
   "metadata": {},
   "outputs": [
    {
     "name": "stdout",
     "output_type": "stream",
     "text": [
      "<class 'pandas.core.frame.DataFrame'>\n",
      "RangeIndex: 1321 entries, 0 to 1320\n",
      "Data columns (total 10 columns):\n",
      " #   Column              Non-Null Count  Dtype \n",
      "---  ------              --------------  ----- \n",
      " 0   URL                 1321 non-null   object\n",
      " 1   ID                  1321 non-null   int64 \n",
      " 2   Name                1321 non-null   object\n",
      " 3   Company ID          1321 non-null   object\n",
      " 4   Company Status      1318 non-null   object\n",
      " 5   Company Type        1320 non-null   object\n",
      " 6   Registration Date   15 non-null     object\n",
      " 7   Incorporation Date  1306 non-null   object\n",
      " 8   Dissolution Date    95 non-null     object\n",
      " 9   Office Address      1317 non-null   object\n",
      "dtypes: int64(1), object(9)\n",
      "memory usage: 103.3+ KB\n"
     ]
    }
   ],
   "source": [
    "gu1.info()"
   ]
  },
  {
   "cell_type": "code",
   "execution_count": 372,
   "metadata": {},
   "outputs": [
    {
     "data": {
      "text/plain": [
       "URL                   object\n",
       "ID                     int64\n",
       "Name                  object\n",
       "Company ID            object\n",
       "Company Status        object\n",
       "Company Type          object\n",
       "Registration Date     object\n",
       "Incorporation Date    object\n",
       "Dissolution Date      object\n",
       "Office Address        object\n",
       "dtype: object"
      ]
     },
     "execution_count": 372,
     "metadata": {},
     "output_type": "execute_result"
    }
   ],
   "source": [
    "gu1.dtypes"
   ]
  },
  {
   "cell_type": "code",
   "execution_count": 373,
   "metadata": {},
   "outputs": [
    {
     "data": {
      "text/plain": [
       "URL                      0\n",
       "ID                       0\n",
       "Name                     0\n",
       "Company ID               0\n",
       "Company Status           3\n",
       "Company Type             1\n",
       "Registration Date     1306\n",
       "Incorporation Date      15\n",
       "Dissolution Date      1226\n",
       "Office Address           4\n",
       "dtype: int64"
      ]
     },
     "execution_count": 373,
     "metadata": {},
     "output_type": "execute_result"
    }
   ],
   "source": [
    "gu1.isnull().sum()"
   ]
  },
  {
   "cell_type": "code",
   "execution_count": 374,
   "metadata": {},
   "outputs": [
    {
     "data": {
      "text/html": [
       "<div>\n",
       "<style scoped>\n",
       "    .dataframe tbody tr th:only-of-type {\n",
       "        vertical-align: middle;\n",
       "    }\n",
       "\n",
       "    .dataframe tbody tr th {\n",
       "        vertical-align: top;\n",
       "    }\n",
       "\n",
       "    .dataframe thead th {\n",
       "        text-align: right;\n",
       "    }\n",
       "</style>\n",
       "<table border=\"1\" class=\"dataframe\">\n",
       "  <thead>\n",
       "    <tr style=\"text-align: right;\">\n",
       "      <th></th>\n",
       "      <th>name</th>\n",
       "      <th>company_number</th>\n",
       "      <th>registered_office_address</th>\n",
       "      <th>company_status</th>\n",
       "      <th>company_type</th>\n",
       "      <th>company_creation_date</th>\n",
       "      <th>nature_of_business</th>\n",
       "    </tr>\n",
       "  </thead>\n",
       "  <tbody>\n",
       "    <tr>\n",
       "      <th>0</th>\n",
       "      <td>INGRAM MICRO (UK) LIMITED</td>\n",
       "      <td>01609968</td>\n",
       "      <td>Cbxii, 406-432 Midsummer Boulevard, Milton Key...</td>\n",
       "      <td>Active</td>\n",
       "      <td>Private limited Company</td>\n",
       "      <td>29 January 1982</td>\n",
       "      <td>46510 - Wholesale of computers, computer perip...</td>\n",
       "    </tr>\n",
       "    <tr>\n",
       "      <th>1</th>\n",
       "      <td>MARKETING FACILITIES MANAGEMENT LTD</td>\n",
       "      <td>04437088</td>\n",
       "      <td>Jupiter House, Calleva Park, Aldermaston, Read...</td>\n",
       "      <td>Dissolved</td>\n",
       "      <td>Private limited Company</td>\n",
       "      <td>13 May 2002</td>\n",
       "      <td>74990 - Non-trading company</td>\n",
       "    </tr>\n",
       "    <tr>\n",
       "      <th>2</th>\n",
       "      <td>SOFTWARE LTD.</td>\n",
       "      <td>SC144127</td>\n",
       "      <td>214 214 Holburn St, Aberdeen, Scotland, AB10 6DB</td>\n",
       "      <td>Active</td>\n",
       "      <td>Private limited Company</td>\n",
       "      <td>29 April 1993</td>\n",
       "      <td>62012 - Business and domestic software develop...</td>\n",
       "    </tr>\n",
       "    <tr>\n",
       "      <th>3</th>\n",
       "      <td>SPENEO TECHNOLOGIES LTD</td>\n",
       "      <td>04348149</td>\n",
       "      <td>Suite B, 29 Harley Street, London, United King...</td>\n",
       "      <td>Dissolved</td>\n",
       "      <td>Private limited Company</td>\n",
       "      <td>7 January 2002</td>\n",
       "      <td>7499 - Non-trading company</td>\n",
       "    </tr>\n",
       "    <tr>\n",
       "      <th>4</th>\n",
       "      <td>SOFTWARE ADD-ONS LIMITED</td>\n",
       "      <td>05387424</td>\n",
       "      <td>1 Bailey Court Bailey Court, Colburn Business ...</td>\n",
       "      <td>Active</td>\n",
       "      <td>Private limited Company</td>\n",
       "      <td>10 March 2005</td>\n",
       "      <td>62020 - Information technology consultancy act...</td>\n",
       "    </tr>\n",
       "  </tbody>\n",
       "</table>\n",
       "</div>"
      ],
      "text/plain": [
       "                                  name company_number  \\\n",
       "0            INGRAM MICRO (UK) LIMITED       01609968   \n",
       "1  MARKETING FACILITIES MANAGEMENT LTD       04437088   \n",
       "2                        SOFTWARE LTD.       SC144127   \n",
       "3              SPENEO TECHNOLOGIES LTD       04348149   \n",
       "4             SOFTWARE ADD-ONS LIMITED       05387424   \n",
       "\n",
       "                           registered_office_address company_status  \\\n",
       "0  Cbxii, 406-432 Midsummer Boulevard, Milton Key...         Active   \n",
       "1  Jupiter House, Calleva Park, Aldermaston, Read...      Dissolved   \n",
       "2   214 214 Holburn St, Aberdeen, Scotland, AB10 6DB         Active   \n",
       "3  Suite B, 29 Harley Street, London, United King...      Dissolved   \n",
       "4  1 Bailey Court Bailey Court, Colburn Business ...         Active   \n",
       "\n",
       "              company_type company_creation_date  \\\n",
       "0  Private limited Company       29 January 1982   \n",
       "1  Private limited Company           13 May 2002   \n",
       "2  Private limited Company         29 April 1993   \n",
       "3  Private limited Company        7 January 2002   \n",
       "4  Private limited Company         10 March 2005   \n",
       "\n",
       "                                  nature_of_business  \n",
       "0  46510 - Wholesale of computers, computer perip...  \n",
       "1                        74990 - Non-trading company  \n",
       "2  62012 - Business and domestic software develop...  \n",
       "3                         7499 - Non-trading company  \n",
       "4  62020 - Information technology consultancy act...  "
      ]
     },
     "execution_count": 374,
     "metadata": {},
     "output_type": "execute_result"
    }
   ],
   "source": [
    "gu2 = pd.read_json(\"de-sources-2022-2023/altreAziende/DeBiGa-govuk.json\")\n",
    "gu2.head()"
   ]
  },
  {
   "cell_type": "code",
   "execution_count": 375,
   "metadata": {},
   "outputs": [
    {
     "name": "stdout",
     "output_type": "stream",
     "text": [
      "<class 'pandas.core.frame.DataFrame'>\n",
      "RangeIndex: 7000 entries, 0 to 6999\n",
      "Data columns (total 7 columns):\n",
      " #   Column                     Non-Null Count  Dtype \n",
      "---  ------                     --------------  ----- \n",
      " 0   name                       7000 non-null   object\n",
      " 1   company_number             7000 non-null   object\n",
      " 2   registered_office_address  7000 non-null   object\n",
      " 3   company_status             7000 non-null   object\n",
      " 4   company_type               7000 non-null   object\n",
      " 5   company_creation_date      7000 non-null   object\n",
      " 6   nature_of_business         7000 non-null   object\n",
      "dtypes: object(7)\n",
      "memory usage: 382.9+ KB\n"
     ]
    }
   ],
   "source": [
    "gu2.info()"
   ]
  },
  {
   "cell_type": "code",
   "execution_count": 376,
   "metadata": {},
   "outputs": [
    {
     "data": {
      "text/plain": [
       "name                         object\n",
       "company_number               object\n",
       "registered_office_address    object\n",
       "company_status               object\n",
       "company_type                 object\n",
       "company_creation_date        object\n",
       "nature_of_business           object\n",
       "dtype: object"
      ]
     },
     "execution_count": 376,
     "metadata": {},
     "output_type": "execute_result"
    }
   ],
   "source": [
    "gu2.dtypes"
   ]
  },
  {
   "cell_type": "code",
   "execution_count": 377,
   "metadata": {},
   "outputs": [
    {
     "data": {
      "text/plain": [
       "name                         0\n",
       "company_number               0\n",
       "registered_office_address    0\n",
       "company_status               0\n",
       "company_type                 0\n",
       "company_creation_date        0\n",
       "nature_of_business           0\n",
       "dtype: int64"
      ]
     },
     "execution_count": 377,
     "metadata": {},
     "output_type": "execute_result"
    }
   ],
   "source": [
    "gu2.isnull().sum()"
   ]
  },
  {
   "attachments": {},
   "cell_type": "markdown",
   "metadata": {},
   "source": [
    "#### Sole24Ore"
   ]
  },
  {
   "cell_type": "code",
   "execution_count": 378,
   "metadata": {},
   "outputs": [
    {
     "data": {
      "text/html": [
       "<div>\n",
       "<style scoped>\n",
       "    .dataframe tbody tr th:only-of-type {\n",
       "        vertical-align: middle;\n",
       "    }\n",
       "\n",
       "    .dataframe tbody tr th {\n",
       "        vertical-align: top;\n",
       "    }\n",
       "\n",
       "    .dataframe thead th {\n",
       "        text-align: right;\n",
       "    }\n",
       "</style>\n",
       "<table border=\"1\" class=\"dataframe\">\n",
       "  <thead>\n",
       "    <tr style=\"text-align: right;\">\n",
       "      <th></th>\n",
       "      <th>Via Maurizio Gonzaga 5</th>\n",
       "      <th>Unnamed: 1</th>\n",
       "      <th>E-commerce</th>\n",
       "      <th>7.337</th>\n",
       "      <th>Winelivery S.r.l.</th>\n",
       "    </tr>\n",
       "  </thead>\n",
       "  <tbody>\n",
       "    <tr>\n",
       "      <th>444</th>\n",
       "      <td>Via Prima Dorsale Zir, Snc</td>\n",
       "      <td>Trapani</td>\n",
       "      <td>Vendita al dettaglio &amp; all'ingrosso</td>\n",
       "      <td>3.117</td>\n",
       "      <td>Centro Sistemi Innovativi S.r.l.</td>\n",
       "    </tr>\n",
       "    <tr>\n",
       "      <th>445</th>\n",
       "      <td>Pescara 46</td>\n",
       "      <td>Atessa</td>\n",
       "      <td>Vendita al dettaglio &amp; all’ingrosso</td>\n",
       "      <td>7.916</td>\n",
       "      <td>Color Max S.r.l.</td>\n",
       "    </tr>\n",
       "    <tr>\n",
       "      <th>446</th>\n",
       "      <td>Via G. Peroni 400/402</td>\n",
       "      <td>Roma</td>\n",
       "      <td>Consulenza manageriale</td>\n",
       "      <td>2.860</td>\n",
       "      <td>Ithude S.r.l.</td>\n",
       "    </tr>\n",
       "    <tr>\n",
       "      <th>447</th>\n",
       "      <td>Viale Giuseppe Verdi,33</td>\n",
       "      <td>Salerno</td>\n",
       "      <td>Trasporti &amp; logistica</td>\n",
       "      <td>7.247</td>\n",
       "      <td>GTProject S.r.l.</td>\n",
       "    </tr>\n",
       "    <tr>\n",
       "      <th>448</th>\n",
       "      <td>Via Cavour 54</td>\n",
       "      <td>Stornara</td>\n",
       "      <td>Trasporti &amp; logistica</td>\n",
       "      <td>3.403</td>\n",
       "      <td>Transporent S.r.l.</td>\n",
       "    </tr>\n",
       "  </tbody>\n",
       "</table>\n",
       "</div>"
      ],
      "text/plain": [
       "         Via Maurizio Gonzaga 5 Unnamed: 1  \\\n",
       "444  Via Prima Dorsale Zir, Snc    Trapani   \n",
       "445                  Pescara 46     Atessa   \n",
       "446       Via G. Peroni 400/402       Roma   \n",
       "447     Viale Giuseppe Verdi,33    Salerno   \n",
       "448               Via Cavour 54   Stornara   \n",
       "\n",
       "                              E-commerce  7.337  \\\n",
       "444  Vendita al dettaglio & all'ingrosso  3.117   \n",
       "445  Vendita al dettaglio & all’ingrosso  7.916   \n",
       "446               Consulenza manageriale  2.860   \n",
       "447                Trasporti & logistica  7.247   \n",
       "448                Trasporti & logistica  3.403   \n",
       "\n",
       "                    Winelivery S.r.l.  \n",
       "444  Centro Sistemi Innovativi S.r.l.  \n",
       "445                  Color Max S.r.l.  \n",
       "446                     Ithude S.r.l.  \n",
       "447                  GTProject S.r.l.  \n",
       "448                Transporent S.r.l.  "
      ]
     },
     "execution_count": 378,
     "metadata": {},
     "output_type": "execute_result"
    }
   ],
   "source": [
    "s24o = pd.read_csv(\"de-sources-2022-2023/altreAziende/FR-sole24ore.csv\")\n",
    "s24o.tail(5)"
   ]
  },
  {
   "cell_type": "code",
   "execution_count": 379,
   "metadata": {},
   "outputs": [
    {
     "name": "stdout",
     "output_type": "stream",
     "text": [
      "<class 'pandas.core.frame.DataFrame'>\n",
      "RangeIndex: 449 entries, 0 to 448\n",
      "Data columns (total 5 columns):\n",
      " #   Column                  Non-Null Count  Dtype  \n",
      "---  ------                  --------------  -----  \n",
      " 0   Via Maurizio Gonzaga 5  449 non-null    object \n",
      " 1   Unnamed: 1              449 non-null    object \n",
      " 2   E-commerce              449 non-null    object \n",
      " 3   7.337                   449 non-null    float64\n",
      " 4   Winelivery S.r.l.       449 non-null    object \n",
      "dtypes: float64(1), object(4)\n",
      "memory usage: 17.7+ KB\n"
     ]
    }
   ],
   "source": [
    "s24o.info()"
   ]
  },
  {
   "cell_type": "code",
   "execution_count": 380,
   "metadata": {},
   "outputs": [
    {
     "data": {
      "text/plain": [
       "Via Maurizio Gonzaga 5     object\n",
       "Unnamed: 1                 object\n",
       "E-commerce                 object\n",
       "7.337                     float64\n",
       "Winelivery S.r.l.          object\n",
       "dtype: object"
      ]
     },
     "execution_count": 380,
     "metadata": {},
     "output_type": "execute_result"
    }
   ],
   "source": [
    "s24o.dtypes"
   ]
  },
  {
   "cell_type": "code",
   "execution_count": 381,
   "metadata": {},
   "outputs": [
    {
     "data": {
      "text/plain": [
       "Via Maurizio Gonzaga 5    0\n",
       "Unnamed: 1                0\n",
       "E-commerce                0\n",
       "7.337                     0\n",
       "Winelivery S.r.l.         0\n",
       "dtype: int64"
      ]
     },
     "execution_count": 381,
     "metadata": {},
     "output_type": "execute_result"
    }
   ],
   "source": [
    "s24o.isnull().sum()"
   ]
  },
  {
   "attachments": {},
   "cell_type": "markdown",
   "metadata": {},
   "source": [
    "#### Clipper"
   ]
  },
  {
   "cell_type": "code",
   "execution_count": 382,
   "metadata": {},
   "outputs": [
    {
     "data": {
      "text/html": [
       "<div>\n",
       "<style scoped>\n",
       "    .dataframe tbody tr th:only-of-type {\n",
       "        vertical-align: middle;\n",
       "    }\n",
       "\n",
       "    .dataframe tbody tr th {\n",
       "        vertical-align: top;\n",
       "    }\n",
       "\n",
       "    .dataframe thead th {\n",
       "        text-align: right;\n",
       "    }\n",
       "</style>\n",
       "<table border=\"1\" class=\"dataframe\">\n",
       "  <thead>\n",
       "    <tr style=\"text-align: right;\">\n",
       "      <th></th>\n",
       "      <th>Unnamed: 0</th>\n",
       "      <th>INDEX</th>\n",
       "      <th>URL</th>\n",
       "      <th>Name</th>\n",
       "      <th>Trade Name</th>\n",
       "      <th>Address Name</th>\n",
       "      <th>Postalcode</th>\n",
       "      <th>City</th>\n",
       "      <th>State</th>\n",
       "      <th>Country</th>\n",
       "      <th>Location type</th>\n",
       "    </tr>\n",
       "  </thead>\n",
       "  <tbody>\n",
       "    <tr>\n",
       "      <th>4651</th>\n",
       "      <td>4651</td>\n",
       "      <td>4651</td>\n",
       "      <td>https://www.info-clipper.com/en/company/united...</td>\n",
       "      <td>SOFTBANK ROBOTICS UK LTD</td>\n",
       "      <td>NaN</td>\n",
       "      <td>30 Old Bailey</td>\n",
       "      <td>EC4M 7AU</td>\n",
       "      <td>LONDON</td>\n",
       "      <td>UNITED KINGDOM</td>\n",
       "      <td>UNITED KINGDOM</td>\n",
       "      <td>Headquarter</td>\n",
       "    </tr>\n",
       "    <tr>\n",
       "      <th>4652</th>\n",
       "      <td>4652</td>\n",
       "      <td>4652</td>\n",
       "      <td>https://www.info-clipper.com/en/company/italy/...</td>\n",
       "      <td>COMUNE DI VOLLA</td>\n",
       "      <td>NaN</td>\n",
       "      <td>VIA ALDO MORO 1</td>\n",
       "      <td>80040</td>\n",
       "      <td>VOLLA</td>\n",
       "      <td>ITALY</td>\n",
       "      <td>ITALY</td>\n",
       "      <td>Single address</td>\n",
       "    </tr>\n",
       "    <tr>\n",
       "      <th>4653</th>\n",
       "      <td>4653</td>\n",
       "      <td>4653</td>\n",
       "      <td>https://www.info-clipper.com/en/company/united...</td>\n",
       "      <td>SUDDATH RELOCATION SYSTEMS OF ORLANDO, INC</td>\n",
       "      <td>UNITED VAN LINES</td>\n",
       "      <td>4850 L B MCLEOD RD</td>\n",
       "      <td>328116410</td>\n",
       "      <td>ORLANDO</td>\n",
       "      <td>Florida(FL)</td>\n",
       "      <td>UNITED STATES</td>\n",
       "      <td>Single address</td>\n",
       "    </tr>\n",
       "    <tr>\n",
       "      <th>4654</th>\n",
       "      <td>4654</td>\n",
       "      <td>4654</td>\n",
       "      <td>https://www.info-clipper.com/en/company/united...</td>\n",
       "      <td>MIDASPLAYER.COM LTD.</td>\n",
       "      <td>KING</td>\n",
       "      <td>Ampersand Building 178 Wardour Street</td>\n",
       "      <td>W1F 8FY</td>\n",
       "      <td>LONDON</td>\n",
       "      <td>UNITED KINGDOM</td>\n",
       "      <td>UNITED KINGDOM</td>\n",
       "      <td>Headquarter</td>\n",
       "    </tr>\n",
       "    <tr>\n",
       "      <th>4655</th>\n",
       "      <td>4655</td>\n",
       "      <td>4655</td>\n",
       "      <td>https://www.info-clipper.com/en/company/italy/...</td>\n",
       "      <td>DRILLMEC SPA</td>\n",
       "      <td>NaN</td>\n",
       "      <td>VIA I MAGGIO 12</td>\n",
       "      <td>29027</td>\n",
       "      <td>PODENZANO (GARIGA )</td>\n",
       "      <td>ITALY</td>\n",
       "      <td>ITALY</td>\n",
       "      <td>Headquarter</td>\n",
       "    </tr>\n",
       "  </tbody>\n",
       "</table>\n",
       "</div>"
      ],
      "text/plain": [
       "      Unnamed: 0  INDEX                                                URL  \\\n",
       "4651        4651   4651  https://www.info-clipper.com/en/company/united...   \n",
       "4652        4652   4652  https://www.info-clipper.com/en/company/italy/...   \n",
       "4653        4653   4653  https://www.info-clipper.com/en/company/united...   \n",
       "4654        4654   4654  https://www.info-clipper.com/en/company/united...   \n",
       "4655        4655   4655  https://www.info-clipper.com/en/company/italy/...   \n",
       "\n",
       "                                            Name        Trade Name  \\\n",
       "4651                    SOFTBANK ROBOTICS UK LTD               NaN   \n",
       "4652                             COMUNE DI VOLLA               NaN   \n",
       "4653  SUDDATH RELOCATION SYSTEMS OF ORLANDO, INC  UNITED VAN LINES   \n",
       "4654                        MIDASPLAYER.COM LTD.              KING   \n",
       "4655                                DRILLMEC SPA               NaN   \n",
       "\n",
       "                               Address Name               Postalcode  \\\n",
       "4651                          30 Old Bailey                 EC4M 7AU   \n",
       "4652                        VIA ALDO MORO 1                    80040   \n",
       "4653                     4850 L B MCLEOD RD                328116410   \n",
       "4654  Ampersand Building 178 Wardour Street                  W1F 8FY   \n",
       "4655                        VIA I MAGGIO 12                    29027   \n",
       "\n",
       "                     City           State         Country   Location type  \n",
       "4651               LONDON  UNITED KINGDOM  UNITED KINGDOM     Headquarter  \n",
       "4652                VOLLA           ITALY           ITALY  Single address  \n",
       "4653              ORLANDO     Florida(FL)   UNITED STATES  Single address  \n",
       "4654               LONDON  UNITED KINGDOM  UNITED KINGDOM     Headquarter  \n",
       "4655  PODENZANO (GARIGA )           ITALY           ITALY     Headquarter  "
      ]
     },
     "execution_count": 382,
     "metadata": {},
     "output_type": "execute_result"
    }
   ],
   "source": [
    "clip = pd.read_csv(\"de-sources-2022-2023/altreAziende/wissel-aziende-info-clipper.com.csv\")\n",
    "clip.tail(5)"
   ]
  },
  {
   "cell_type": "code",
   "execution_count": 383,
   "metadata": {},
   "outputs": [
    {
     "name": "stdout",
     "output_type": "stream",
     "text": [
      "<class 'pandas.core.frame.DataFrame'>\n",
      "RangeIndex: 4656 entries, 0 to 4655\n",
      "Data columns (total 11 columns):\n",
      " #   Column         Non-Null Count  Dtype \n",
      "---  ------         --------------  ----- \n",
      " 0   Unnamed: 0     4656 non-null   int64 \n",
      " 1   INDEX          4656 non-null   int64 \n",
      " 2   URL            4656 non-null   object\n",
      " 3   Name           4656 non-null   object\n",
      " 4   Trade Name     677 non-null    object\n",
      " 5   Address Name   4656 non-null   object\n",
      " 6   Postalcode     4656 non-null   object\n",
      " 7   City           4656 non-null   object\n",
      " 8   State          4656 non-null   object\n",
      " 9   Country        4656 non-null   object\n",
      " 10  Location type  4400 non-null   object\n",
      "dtypes: int64(2), object(9)\n",
      "memory usage: 400.2+ KB\n"
     ]
    }
   ],
   "source": [
    "clip.info()"
   ]
  },
  {
   "cell_type": "code",
   "execution_count": 384,
   "metadata": {},
   "outputs": [
    {
     "data": {
      "text/plain": [
       "Unnamed: 0        int64\n",
       "INDEX             int64\n",
       "URL              object\n",
       "Name             object\n",
       "Trade Name       object\n",
       "Address Name     object\n",
       "Postalcode       object\n",
       "City             object\n",
       "State            object\n",
       "Country          object\n",
       "Location type    object\n",
       "dtype: object"
      ]
     },
     "execution_count": 384,
     "metadata": {},
     "output_type": "execute_result"
    }
   ],
   "source": [
    "clip.dtypes"
   ]
  },
  {
   "cell_type": "code",
   "execution_count": 385,
   "metadata": {},
   "outputs": [
    {
     "data": {
      "text/plain": [
       "Unnamed: 0          0\n",
       "INDEX               0\n",
       "URL                 0\n",
       "Name                0\n",
       "Trade Name       3979\n",
       "Address Name        0\n",
       "Postalcode          0\n",
       "City                0\n",
       "State               0\n",
       "Country             0\n",
       "Location type     256\n",
       "dtype: int64"
      ]
     },
     "execution_count": 385,
     "metadata": {},
     "output_type": "execute_result"
    }
   ],
   "source": [
    "clip.isnull().sum()"
   ]
  }
 ],
 "metadata": {
  "kernelspec": {
   "display_name": "Python 3.8.8",
   "language": "python",
   "name": "python3"
  },
  "language_info": {
   "codemirror_mode": {
    "name": "ipython",
    "version": 3
   },
   "file_extension": ".py",
   "mimetype": "text/x-python",
   "name": "python",
   "nbconvert_exporter": "python",
   "pygments_lexer": "ipython3",
   "version": "3.8.8"
  },
  "orig_nbformat": 4,
  "vscode": {
   "interpreter": {
    "hash": "0276ff69500abe2d91ba632e055fcb377451e51e6d19b9e80dff5426d1d4a679"
   }
  }
 },
 "nbformat": 4,
 "nbformat_minor": 2
}
