{
  "cells": [
    {
      "attachments": {},
      "cell_type": "markdown",
      "metadata": {
        "id": "PTYs9Pmve01a"
      },
      "source": [
        "## **Record Linkage del dataset**"
      ]
    },
    {
      "cell_type": "code",
      "execution_count": 5,
      "metadata": {
        "id": "xhFjuRC8e01e"
      },
      "outputs": [],
      "source": [
        "import pandas as pd\n",
        "import numpy as np\n",
        "import time\n",
        "\n",
        "import recordlinkage\n",
        "import warnings\n",
        "from recordlinkage.index import Full\n",
        "\n",
        "warnings.filterwarnings('ignore')"
      ]
    },
    {
      "cell_type": "code",
      "execution_count": 4,
      "metadata": {
        "colab": {
          "base_uri": "https://localhost:8080/",
          "height": 730
        },
        "id": "K2XwU1xce01h",
        "outputId": "d0e5bc40-d23f-460b-ec61-6c6b20368be2"
      },
      "outputs": [
        {
          "data": {
            "text/html": [
              "\n",
              "  <div id=\"df-59ca28f7-267e-4d03-9afd-1d320682d2a7\">\n",
              "    <div class=\"colab-df-container\">\n",
              "      <div>\n",
              "<style scoped>\n",
              "    .dataframe tbody tr th:only-of-type {\n",
              "        vertical-align: middle;\n",
              "    }\n",
              "\n",
              "    .dataframe tbody tr th {\n",
              "        vertical-align: top;\n",
              "    }\n",
              "\n",
              "    .dataframe thead th {\n",
              "        text-align: right;\n",
              "    }\n",
              "</style>\n",
              "<table border=\"1\" class=\"dataframe\">\n",
              "  <thead>\n",
              "    <tr style=\"text-align: right;\">\n",
              "      <th></th>\n",
              "      <th>name</th>\n",
              "      <th>company_website</th>\n",
              "      <th>country</th>\n",
              "      <th>number_of_employees</th>\n",
              "      <th>industry</th>\n",
              "      <th>founded_year</th>\n",
              "      <th>market_cap</th>\n",
              "      <th>revenue</th>\n",
              "      <th>rank</th>\n",
              "      <th>sector</th>\n",
              "      <th>city</th>\n",
              "      <th>valuation</th>\n",
              "      <th>stock</th>\n",
              "      <th>ceo</th>\n",
              "      <th>market_value</th>\n",
              "    </tr>\n",
              "  </thead>\n",
              "  <tbody>\n",
              "    <tr>\n",
              "      <th>0</th>\n",
              "      <td>Proteus Digital Health Careers</td>\n",
              "      <td>www.proteus.com</td>\n",
              "      <td>Redwood City, CA</td>\n",
              "      <td>201 to 500 employees</td>\n",
              "      <td>Pharmaceuticals</td>\n",
              "      <td>2004</td>\n",
              "      <td>NaN</td>\n",
              "      <td>NaN</td>\n",
              "      <td>NaN</td>\n",
              "      <td>NaN</td>\n",
              "      <td>NaN</td>\n",
              "      <td>NaN</td>\n",
              "      <td>NaN</td>\n",
              "      <td>NaN</td>\n",
              "      <td>NaN</td>\n",
              "    </tr>\n",
              "    <tr>\n",
              "      <th>1</th>\n",
              "      <td>Zelis Careers</td>\n",
              "      <td>www.zelis.com</td>\n",
              "      <td>Bedminster, NJ</td>\n",
              "      <td>1,001 to 5,000 employees</td>\n",
              "      <td>Information Technology &amp; Services</td>\n",
              "      <td>2016</td>\n",
              "      <td>NaN</td>\n",
              "      <td>NaN</td>\n",
              "      <td>NaN</td>\n",
              "      <td>NaN</td>\n",
              "      <td>NaN</td>\n",
              "      <td>NaN</td>\n",
              "      <td>NaN</td>\n",
              "      <td>NaN</td>\n",
              "      <td>NaN</td>\n",
              "    </tr>\n",
              "    <tr>\n",
              "      <th>2</th>\n",
              "      <td>UpNest Careers</td>\n",
              "      <td>www.upnest.com</td>\n",
              "      <td>Burlingame, CA</td>\n",
              "      <td>1 to 50 employees</td>\n",
              "      <td>Real Estate</td>\n",
              "      <td>2013</td>\n",
              "      <td>NaN</td>\n",
              "      <td>NaN</td>\n",
              "      <td>NaN</td>\n",
              "      <td>NaN</td>\n",
              "      <td>NaN</td>\n",
              "      <td>NaN</td>\n",
              "      <td>NaN</td>\n",
              "      <td>NaN</td>\n",
              "      <td>NaN</td>\n",
              "    </tr>\n",
              "    <tr>\n",
              "      <th>3</th>\n",
              "      <td>conferacity Careers</td>\n",
              "      <td>conferacity.com</td>\n",
              "      <td>Menlo Park, CA</td>\n",
              "      <td>1 to 50 employees</td>\n",
              "      <td>Broadcast &amp; Online Media</td>\n",
              "      <td>2013</td>\n",
              "      <td>NaN</td>\n",
              "      <td>NaN</td>\n",
              "      <td>NaN</td>\n",
              "      <td>NaN</td>\n",
              "      <td>NaN</td>\n",
              "      <td>NaN</td>\n",
              "      <td>NaN</td>\n",
              "      <td>NaN</td>\n",
              "      <td>NaN</td>\n",
              "    </tr>\n",
              "    <tr>\n",
              "      <th>4</th>\n",
              "      <td>Zenoti Careers</td>\n",
              "      <td>www.zenoti.com</td>\n",
              "      <td>Bellevue, WA</td>\n",
              "      <td>501 to 1,000 employees</td>\n",
              "      <td>Computer Software</td>\n",
              "      <td>2010</td>\n",
              "      <td>NaN</td>\n",
              "      <td>NaN</td>\n",
              "      <td>NaN</td>\n",
              "      <td>NaN</td>\n",
              "      <td>NaN</td>\n",
              "      <td>NaN</td>\n",
              "      <td>NaN</td>\n",
              "      <td>NaN</td>\n",
              "      <td>NaN</td>\n",
              "    </tr>\n",
              "    <tr>\n",
              "      <th>...</th>\n",
              "      <td>...</td>\n",
              "      <td>...</td>\n",
              "      <td>...</td>\n",
              "      <td>...</td>\n",
              "      <td>...</td>\n",
              "      <td>...</td>\n",
              "      <td>...</td>\n",
              "      <td>...</td>\n",
              "      <td>...</td>\n",
              "      <td>...</td>\n",
              "      <td>...</td>\n",
              "      <td>...</td>\n",
              "      <td>...</td>\n",
              "      <td>...</td>\n",
              "      <td>...</td>\n",
              "    </tr>\n",
              "    <tr>\n",
              "      <th>120254</th>\n",
              "      <td>Wayne's Coffee</td>\n",
              "      <td>NaN</td>\n",
              "      <td>NaN</td>\n",
              "      <td>NaN</td>\n",
              "      <td>Consumer services</td>\n",
              "      <td>NaN</td>\n",
              "      <td>NaN</td>\n",
              "      <td>NaN</td>\n",
              "      <td>NaN</td>\n",
              "      <td>Restaurants &amp; bars</td>\n",
              "      <td>NaN</td>\n",
              "      <td>NaN</td>\n",
              "      <td>NaN</td>\n",
              "      <td>NaN</td>\n",
              "      <td>NaN</td>\n",
              "    </tr>\n",
              "    <tr>\n",
              "      <th>120255</th>\n",
              "      <td>WESC</td>\n",
              "      <td>NaN</td>\n",
              "      <td>NaN</td>\n",
              "      <td>NaN</td>\n",
              "      <td>Consumer goods</td>\n",
              "      <td>NaN</td>\n",
              "      <td>NaN</td>\n",
              "      <td>NaN</td>\n",
              "      <td>NaN</td>\n",
              "      <td>Clothing &amp; accessories</td>\n",
              "      <td>NaN</td>\n",
              "      <td>NaN</td>\n",
              "      <td>NaN</td>\n",
              "      <td>NaN</td>\n",
              "      <td>NaN</td>\n",
              "    </tr>\n",
              "    <tr>\n",
              "      <th>120256</th>\n",
              "      <td>WG Film</td>\n",
              "      <td>NaN</td>\n",
              "      <td>NaN</td>\n",
              "      <td>NaN</td>\n",
              "      <td>Consumer services</td>\n",
              "      <td>NaN</td>\n",
              "      <td>NaN</td>\n",
              "      <td>NaN</td>\n",
              "      <td>NaN</td>\n",
              "      <td>Broadcasting &amp; entertainment</td>\n",
              "      <td>NaN</td>\n",
              "      <td>NaN</td>\n",
              "      <td>NaN</td>\n",
              "      <td>NaN</td>\n",
              "      <td>NaN</td>\n",
              "    </tr>\n",
              "    <tr>\n",
              "      <th>120257</th>\n",
              "      <td>WM-data</td>\n",
              "      <td>NaN</td>\n",
              "      <td>NaN</td>\n",
              "      <td>NaN</td>\n",
              "      <td>Technology</td>\n",
              "      <td>NaN</td>\n",
              "      <td>NaN</td>\n",
              "      <td>NaN</td>\n",
              "      <td>NaN</td>\n",
              "      <td>Software</td>\n",
              "      <td>NaN</td>\n",
              "      <td>NaN</td>\n",
              "      <td>NaN</td>\n",
              "      <td>NaN</td>\n",
              "      <td>NaN</td>\n",
              "    </tr>\n",
              "    <tr>\n",
              "      <th>120258</th>\n",
              "      <td>X5 Music Group</td>\n",
              "      <td>NaN</td>\n",
              "      <td>NaN</td>\n",
              "      <td>NaN</td>\n",
              "      <td>Consumer services</td>\n",
              "      <td>NaN</td>\n",
              "      <td>NaN</td>\n",
              "      <td>NaN</td>\n",
              "      <td>NaN</td>\n",
              "      <td>Broadcasting &amp; entertainment</td>\n",
              "      <td>NaN</td>\n",
              "      <td>NaN</td>\n",
              "      <td>NaN</td>\n",
              "      <td>NaN</td>\n",
              "      <td>NaN</td>\n",
              "    </tr>\n",
              "  </tbody>\n",
              "</table>\n",
              "<p>120259 rows × 15 columns</p>\n",
              "</div>\n",
              "      <button class=\"colab-df-convert\" onclick=\"convertToInteractive('df-59ca28f7-267e-4d03-9afd-1d320682d2a7')\"\n",
              "              title=\"Convert this dataframe to an interactive table.\"\n",
              "              style=\"display:none;\">\n",
              "        \n",
              "  <svg xmlns=\"http://www.w3.org/2000/svg\" height=\"24px\"viewBox=\"0 0 24 24\"\n",
              "       width=\"24px\">\n",
              "    <path d=\"M0 0h24v24H0V0z\" fill=\"none\"/>\n",
              "    <path d=\"M18.56 5.44l.94 2.06.94-2.06 2.06-.94-2.06-.94-.94-2.06-.94 2.06-2.06.94zm-11 1L8.5 8.5l.94-2.06 2.06-.94-2.06-.94L8.5 2.5l-.94 2.06-2.06.94zm10 10l.94 2.06.94-2.06 2.06-.94-2.06-.94-.94-2.06-.94 2.06-2.06.94z\"/><path d=\"M17.41 7.96l-1.37-1.37c-.4-.4-.92-.59-1.43-.59-.52 0-1.04.2-1.43.59L10.3 9.45l-7.72 7.72c-.78.78-.78 2.05 0 2.83L4 21.41c.39.39.9.59 1.41.59.51 0 1.02-.2 1.41-.59l7.78-7.78 2.81-2.81c.8-.78.8-2.07 0-2.86zM5.41 20L4 18.59l7.72-7.72 1.47 1.35L5.41 20z\"/>\n",
              "  </svg>\n",
              "      </button>\n",
              "      \n",
              "  <style>\n",
              "    .colab-df-container {\n",
              "      display:flex;\n",
              "      flex-wrap:wrap;\n",
              "      gap: 12px;\n",
              "    }\n",
              "\n",
              "    .colab-df-convert {\n",
              "      background-color: #E8F0FE;\n",
              "      border: none;\n",
              "      border-radius: 50%;\n",
              "      cursor: pointer;\n",
              "      display: none;\n",
              "      fill: #1967D2;\n",
              "      height: 32px;\n",
              "      padding: 0 0 0 0;\n",
              "      width: 32px;\n",
              "    }\n",
              "\n",
              "    .colab-df-convert:hover {\n",
              "      background-color: #E2EBFA;\n",
              "      box-shadow: 0px 1px 2px rgba(60, 64, 67, 0.3), 0px 1px 3px 1px rgba(60, 64, 67, 0.15);\n",
              "      fill: #174EA6;\n",
              "    }\n",
              "\n",
              "    [theme=dark] .colab-df-convert {\n",
              "      background-color: #3B4455;\n",
              "      fill: #D2E3FC;\n",
              "    }\n",
              "\n",
              "    [theme=dark] .colab-df-convert:hover {\n",
              "      background-color: #434B5C;\n",
              "      box-shadow: 0px 1px 3px 1px rgba(0, 0, 0, 0.15);\n",
              "      filter: drop-shadow(0px 1px 2px rgba(0, 0, 0, 0.3));\n",
              "      fill: #FFFFFF;\n",
              "    }\n",
              "  </style>\n",
              "\n",
              "      <script>\n",
              "        const buttonEl =\n",
              "          document.querySelector('#df-59ca28f7-267e-4d03-9afd-1d320682d2a7 button.colab-df-convert');\n",
              "        buttonEl.style.display =\n",
              "          google.colab.kernel.accessAllowed ? 'block' : 'none';\n",
              "\n",
              "        async function convertToInteractive(key) {\n",
              "          const element = document.querySelector('#df-59ca28f7-267e-4d03-9afd-1d320682d2a7');\n",
              "          const dataTable =\n",
              "            await google.colab.kernel.invokeFunction('convertToInteractive',\n",
              "                                                     [key], {});\n",
              "          if (!dataTable) return;\n",
              "\n",
              "          const docLinkHtml = 'Like what you see? Visit the ' +\n",
              "            '<a target=\"_blank\" href=https://colab.research.google.com/notebooks/data_table.ipynb>data table notebook</a>'\n",
              "            + ' to learn more about interactive tables.';\n",
              "          element.innerHTML = '';\n",
              "          dataTable['output_type'] = 'display_data';\n",
              "          await google.colab.output.renderOutput(dataTable, element);\n",
              "          const docLink = document.createElement('div');\n",
              "          docLink.innerHTML = docLinkHtml;\n",
              "          element.appendChild(docLink);\n",
              "        }\n",
              "      </script>\n",
              "    </div>\n",
              "  </div>\n",
              "  "
            ],
            "text/plain": [
              "                                  name  company_website           country  \\\n",
              "0       Proteus Digital Health Careers  www.proteus.com  Redwood City, CA   \n",
              "1                        Zelis Careers    www.zelis.com    Bedminster, NJ   \n",
              "2                       UpNest Careers   www.upnest.com    Burlingame, CA   \n",
              "3                  conferacity Careers  conferacity.com    Menlo Park, CA   \n",
              "4                       Zenoti Careers   www.zenoti.com      Bellevue, WA   \n",
              "...                                ...              ...               ...   \n",
              "120254                  Wayne's Coffee              NaN               NaN   \n",
              "120255                            WESC              NaN               NaN   \n",
              "120256                         WG Film              NaN               NaN   \n",
              "120257                         WM-data              NaN               NaN   \n",
              "120258                  X5 Music Group              NaN               NaN   \n",
              "\n",
              "             number_of_employees                           industry  \\\n",
              "0           201 to 500 employees                    Pharmaceuticals   \n",
              "1       1,001 to 5,000 employees  Information Technology & Services   \n",
              "2              1 to 50 employees                        Real Estate   \n",
              "3              1 to 50 employees           Broadcast & Online Media   \n",
              "4         501 to 1,000 employees                  Computer Software   \n",
              "...                          ...                                ...   \n",
              "120254                       NaN                  Consumer services   \n",
              "120255                       NaN                     Consumer goods   \n",
              "120256                       NaN                  Consumer services   \n",
              "120257                       NaN                         Technology   \n",
              "120258                       NaN                  Consumer services   \n",
              "\n",
              "       founded_year market_cap revenue rank                        sector  \\\n",
              "0              2004        NaN     NaN  NaN                           NaN   \n",
              "1              2016        NaN     NaN  NaN                           NaN   \n",
              "2              2013        NaN     NaN  NaN                           NaN   \n",
              "3              2013        NaN     NaN  NaN                           NaN   \n",
              "4              2010        NaN     NaN  NaN                           NaN   \n",
              "...             ...        ...     ...  ...                           ...   \n",
              "120254          NaN        NaN     NaN  NaN            Restaurants & bars   \n",
              "120255          NaN        NaN     NaN  NaN        Clothing & accessories   \n",
              "120256          NaN        NaN     NaN  NaN  Broadcasting & entertainment   \n",
              "120257          NaN        NaN     NaN  NaN                      Software   \n",
              "120258          NaN        NaN     NaN  NaN  Broadcasting & entertainment   \n",
              "\n",
              "       city valuation stock  ceo market_value  \n",
              "0       NaN       NaN   NaN  NaN          NaN  \n",
              "1       NaN       NaN   NaN  NaN          NaN  \n",
              "2       NaN       NaN   NaN  NaN          NaN  \n",
              "3       NaN       NaN   NaN  NaN          NaN  \n",
              "4       NaN       NaN   NaN  NaN          NaN  \n",
              "...     ...       ...   ...  ...          ...  \n",
              "120254  NaN       NaN   NaN  NaN          NaN  \n",
              "120255  NaN       NaN   NaN  NaN          NaN  \n",
              "120256  NaN       NaN   NaN  NaN          NaN  \n",
              "120257  NaN       NaN   NaN  NaN          NaN  \n",
              "120258  NaN       NaN   NaN  NaN          NaN  \n",
              "\n",
              "[120259 rows x 15 columns]"
            ]
          },
          "execution_count": 4,
          "metadata": {},
          "output_type": "execute_result"
        }
      ],
      "source": [
        "df = pd.read_csv('aziende_merged_finale.csv', low_memory=False)\n",
        "df = df.drop(['Unnamed: 0'], axis=1)\n",
        "df"
      ]
    },
    {
      "cell_type": "code",
      "execution_count": 5,
      "metadata": {
        "colab": {
          "base_uri": "https://localhost:8080/"
        },
        "id": "89REpsf5e01j",
        "outputId": "e92eedd7-4fbe-43a3-964f-b774a64638a4"
      },
      "outputs": [
        {
          "name": "stdout",
          "output_type": "stream",
          "text": [
            "Tempo di indicizzazione dei dati:  0.17244696617126465 secondi\n",
            "MultiIndex([( 51039,    952),\n",
            "            ( 25131,    953),\n",
            "            ( 47097,    953),\n",
            "            ( 47097,  25131),\n",
            "            ( 95494,    953),\n",
            "            ( 95494,  25131),\n",
            "            ( 95494,  47097),\n",
            "            (100561,    953),\n",
            "            (100561,  25131),\n",
            "            (100561,  47097),\n",
            "            ...\n",
            "            (118747, 117706),\n",
            "            (117768, 117732),\n",
            "            (118347, 117732),\n",
            "            (118347, 117768),\n",
            "            (119764, 117776),\n",
            "            (117935, 117812),\n",
            "            (119467, 117821),\n",
            "            (118118, 117923),\n",
            "            (118021, 117943),\n",
            "            (118745, 118013)],\n",
            "           length=155900)\n"
          ]
        }
      ],
      "source": [
        "# Indicizzazione dei dati e calcolo tempo necessario per indicizzazione\n",
        "start_time = time.time()\n",
        "\n",
        "indexer = recordlinkage.Index()\n",
        "indexer.block('name') # Blocco sulla colonna \"name\" (blocco informazioni utilizzate per l'indicizzazione)\n",
        "candidate_links = indexer.index(df)\n",
        "\n",
        "print(\"Tempo di indicizzazione dei dati: \", time.time() - start_time, \"secondi\")\n",
        "print(candidate_links)"
      ]
    },
    {
      "cell_type": "code",
      "execution_count": 6,
      "metadata": {
        "colab": {
          "base_uri": "https://localhost:8080/"
        },
        "id": "Wiq3xvgGe01k",
        "outputId": "2a46a8df-801a-4f05-b0e2-2b4b590cb862"
      },
      "outputs": [
        {
          "name": "stdout",
          "output_type": "stream",
          "text": [
            "Tempo di confronto delle coppie di record:  9.054016590118408 secondi\n"
          ]
        }
      ],
      "source": [
        "# Confrontare ogni coppia di record candidate e calcolo empo necessario per effettuare il confronto\n",
        "start_time = time.time()\n",
        "\n",
        "compare_cl = recordlinkage.Compare()\n",
        "\n",
        "compare_cl.string('name', 'name', label='name', threshold = 0.9)\n",
        "compare_cl.string('country', 'country', label='country', threshold = 0.8)\n",
        "compare_cl.string('company_website', 'company_website', label='comprany_website', threshold = 0.9)\n",
        "compare_cl.string('number_of_employees', 'number_of_employees', label='number_of_employees', threshold = 0.6)\n",
        "compare_cl.string('industry', 'industry', label='industry', threshold = 0.7)\n",
        "compare_cl.string('market_cap', 'market_cap', label='market_cap')\n",
        "compare_cl.string('revenue', 'revenue', label='revenue')\n",
        "compare_cl.string('rank', 'rank', label='rank')\n",
        "compare_cl.string('sector', 'sector', label='sector')\n",
        "compare_cl.string('city', 'city', label='city')\n",
        "compare_cl.string('valuation', 'valuation', label='valuation')\n",
        "compare_cl.string('stock', 'stock', label='stock')\n",
        "compare_cl.string('ceo', 'ceo', label='ceo')\n",
        "compare_cl.string('market_value', 'market_value', label='market_value')\n",
        "compare_cl.exact('founded_year', 'founded_year', label='founded_year')\n",
        "\n",
        "features = compare_cl.compute(candidate_links, df)\n",
        "\n",
        "print(\"Tempo di confronto delle coppie di record: \", time.time() - start_time, \"secondi\")"
      ]
    },
    {
      "cell_type": "code",
      "execution_count": 7,
      "metadata": {
        "colab": {
          "base_uri": "https://localhost:8080/",
          "height": 487
        },
        "id": "TMH2a1xCe01k",
        "outputId": "246c00b0-a86e-4a98-e7ce-de78731b5f49"
      },
      "outputs": [
        {
          "data": {
            "text/html": [
              "\n",
              "  <div id=\"df-584f49bc-743e-412f-bb46-e0e00bf02289\">\n",
              "    <div class=\"colab-df-container\">\n",
              "      <div>\n",
              "<style scoped>\n",
              "    .dataframe tbody tr th:only-of-type {\n",
              "        vertical-align: middle;\n",
              "    }\n",
              "\n",
              "    .dataframe tbody tr th {\n",
              "        vertical-align: top;\n",
              "    }\n",
              "\n",
              "    .dataframe thead th {\n",
              "        text-align: right;\n",
              "    }\n",
              "</style>\n",
              "<table border=\"1\" class=\"dataframe\">\n",
              "  <thead>\n",
              "    <tr style=\"text-align: right;\">\n",
              "      <th></th>\n",
              "      <th></th>\n",
              "      <th>name</th>\n",
              "      <th>country</th>\n",
              "      <th>comprany_website</th>\n",
              "      <th>number_of_employees</th>\n",
              "      <th>industry</th>\n",
              "      <th>market_cap</th>\n",
              "      <th>revenue</th>\n",
              "      <th>rank</th>\n",
              "      <th>sector</th>\n",
              "      <th>city</th>\n",
              "      <th>valuation</th>\n",
              "      <th>stock</th>\n",
              "      <th>ceo</th>\n",
              "      <th>market_value</th>\n",
              "      <th>founded_year</th>\n",
              "    </tr>\n",
              "  </thead>\n",
              "  <tbody>\n",
              "    <tr>\n",
              "      <th>51039</th>\n",
              "      <th>952</th>\n",
              "      <td>1.0</td>\n",
              "      <td>0.0</td>\n",
              "      <td>0.0</td>\n",
              "      <td>0.0</td>\n",
              "      <td>0.0</td>\n",
              "      <td>0.125000</td>\n",
              "      <td>0.000000</td>\n",
              "      <td>0.000000</td>\n",
              "      <td>0.0</td>\n",
              "      <td>0.0</td>\n",
              "      <td>0.000000</td>\n",
              "      <td>0.0</td>\n",
              "      <td>0.0</td>\n",
              "      <td>0.0</td>\n",
              "      <td>0</td>\n",
              "    </tr>\n",
              "    <tr>\n",
              "      <th>25131</th>\n",
              "      <th>953</th>\n",
              "      <td>1.0</td>\n",
              "      <td>0.0</td>\n",
              "      <td>0.0</td>\n",
              "      <td>0.0</td>\n",
              "      <td>0.0</td>\n",
              "      <td>0.000000</td>\n",
              "      <td>0.000000</td>\n",
              "      <td>0.000000</td>\n",
              "      <td>0.0</td>\n",
              "      <td>0.0</td>\n",
              "      <td>0.000000</td>\n",
              "      <td>0.0</td>\n",
              "      <td>0.0</td>\n",
              "      <td>0.0</td>\n",
              "      <td>0</td>\n",
              "    </tr>\n",
              "    <tr>\n",
              "      <th rowspan=\"2\" valign=\"top\">47097</th>\n",
              "      <th>953</th>\n",
              "      <td>1.0</td>\n",
              "      <td>0.0</td>\n",
              "      <td>0.0</td>\n",
              "      <td>0.0</td>\n",
              "      <td>0.0</td>\n",
              "      <td>0.230769</td>\n",
              "      <td>0.000000</td>\n",
              "      <td>0.000000</td>\n",
              "      <td>0.0</td>\n",
              "      <td>0.0</td>\n",
              "      <td>0.000000</td>\n",
              "      <td>0.0</td>\n",
              "      <td>0.0</td>\n",
              "      <td>0.0</td>\n",
              "      <td>0</td>\n",
              "    </tr>\n",
              "    <tr>\n",
              "      <th>25131</th>\n",
              "      <td>1.0</td>\n",
              "      <td>0.0</td>\n",
              "      <td>0.0</td>\n",
              "      <td>0.0</td>\n",
              "      <td>0.0</td>\n",
              "      <td>0.000000</td>\n",
              "      <td>0.000000</td>\n",
              "      <td>0.000000</td>\n",
              "      <td>0.0</td>\n",
              "      <td>0.0</td>\n",
              "      <td>0.000000</td>\n",
              "      <td>0.0</td>\n",
              "      <td>0.0</td>\n",
              "      <td>0.0</td>\n",
              "      <td>0</td>\n",
              "    </tr>\n",
              "    <tr>\n",
              "      <th>95494</th>\n",
              "      <th>953</th>\n",
              "      <td>1.0</td>\n",
              "      <td>1.0</td>\n",
              "      <td>0.0</td>\n",
              "      <td>1.0</td>\n",
              "      <td>0.0</td>\n",
              "      <td>0.571429</td>\n",
              "      <td>0.142857</td>\n",
              "      <td>0.000000</td>\n",
              "      <td>0.0</td>\n",
              "      <td>0.0</td>\n",
              "      <td>0.000000</td>\n",
              "      <td>0.0</td>\n",
              "      <td>0.0</td>\n",
              "      <td>0.0</td>\n",
              "      <td>0</td>\n",
              "    </tr>\n",
              "    <tr>\n",
              "      <th>...</th>\n",
              "      <th>...</th>\n",
              "      <td>...</td>\n",
              "      <td>...</td>\n",
              "      <td>...</td>\n",
              "      <td>...</td>\n",
              "      <td>...</td>\n",
              "      <td>...</td>\n",
              "      <td>...</td>\n",
              "      <td>...</td>\n",
              "      <td>...</td>\n",
              "      <td>...</td>\n",
              "      <td>...</td>\n",
              "      <td>...</td>\n",
              "      <td>...</td>\n",
              "      <td>...</td>\n",
              "      <td>...</td>\n",
              "    </tr>\n",
              "    <tr>\n",
              "      <th rowspan=\"2\" valign=\"top\">81476</th>\n",
              "      <th>81474</th>\n",
              "      <td>1.0</td>\n",
              "      <td>1.0</td>\n",
              "      <td>0.0</td>\n",
              "      <td>0.0</td>\n",
              "      <td>0.0</td>\n",
              "      <td>0.857143</td>\n",
              "      <td>0.000000</td>\n",
              "      <td>0.833333</td>\n",
              "      <td>0.0</td>\n",
              "      <td>0.0</td>\n",
              "      <td>0.333333</td>\n",
              "      <td>0.0</td>\n",
              "      <td>0.0</td>\n",
              "      <td>0.0</td>\n",
              "      <td>0</td>\n",
              "    </tr>\n",
              "    <tr>\n",
              "      <th>81475</th>\n",
              "      <td>1.0</td>\n",
              "      <td>1.0</td>\n",
              "      <td>0.0</td>\n",
              "      <td>0.0</td>\n",
              "      <td>0.0</td>\n",
              "      <td>0.000000</td>\n",
              "      <td>0.000000</td>\n",
              "      <td>0.000000</td>\n",
              "      <td>0.0</td>\n",
              "      <td>0.0</td>\n",
              "      <td>0.000000</td>\n",
              "      <td>0.0</td>\n",
              "      <td>0.0</td>\n",
              "      <td>0.0</td>\n",
              "      <td>0</td>\n",
              "    </tr>\n",
              "    <tr>\n",
              "      <th>81483</th>\n",
              "      <th>81482</th>\n",
              "      <td>1.0</td>\n",
              "      <td>0.0</td>\n",
              "      <td>0.0</td>\n",
              "      <td>0.0</td>\n",
              "      <td>0.0</td>\n",
              "      <td>0.857143</td>\n",
              "      <td>0.000000</td>\n",
              "      <td>0.000000</td>\n",
              "      <td>0.0</td>\n",
              "      <td>0.0</td>\n",
              "      <td>0.666667</td>\n",
              "      <td>0.0</td>\n",
              "      <td>0.0</td>\n",
              "      <td>0.0</td>\n",
              "      <td>0</td>\n",
              "    </tr>\n",
              "    <tr>\n",
              "      <th rowspan=\"2\" valign=\"top\">81484</th>\n",
              "      <th>81482</th>\n",
              "      <td>1.0</td>\n",
              "      <td>0.0</td>\n",
              "      <td>0.0</td>\n",
              "      <td>0.0</td>\n",
              "      <td>0.0</td>\n",
              "      <td>0.857143</td>\n",
              "      <td>0.000000</td>\n",
              "      <td>0.666667</td>\n",
              "      <td>0.0</td>\n",
              "      <td>0.0</td>\n",
              "      <td>0.666667</td>\n",
              "      <td>0.0</td>\n",
              "      <td>0.0</td>\n",
              "      <td>0.0</td>\n",
              "      <td>0</td>\n",
              "    </tr>\n",
              "    <tr>\n",
              "      <th>81483</th>\n",
              "      <td>1.0</td>\n",
              "      <td>0.0</td>\n",
              "      <td>0.0</td>\n",
              "      <td>0.0</td>\n",
              "      <td>0.0</td>\n",
              "      <td>0.857143</td>\n",
              "      <td>0.000000</td>\n",
              "      <td>0.000000</td>\n",
              "      <td>0.0</td>\n",
              "      <td>0.0</td>\n",
              "      <td>0.666667</td>\n",
              "      <td>0.0</td>\n",
              "      <td>0.0</td>\n",
              "      <td>0.0</td>\n",
              "      <td>0</td>\n",
              "    </tr>\n",
              "  </tbody>\n",
              "</table>\n",
              "<p>120259 rows × 15 columns</p>\n",
              "</div>\n",
              "      <button class=\"colab-df-convert\" onclick=\"convertToInteractive('df-584f49bc-743e-412f-bb46-e0e00bf02289')\"\n",
              "              title=\"Convert this dataframe to an interactive table.\"\n",
              "              style=\"display:none;\">\n",
              "        \n",
              "  <svg xmlns=\"http://www.w3.org/2000/svg\" height=\"24px\"viewBox=\"0 0 24 24\"\n",
              "       width=\"24px\">\n",
              "    <path d=\"M0 0h24v24H0V0z\" fill=\"none\"/>\n",
              "    <path d=\"M18.56 5.44l.94 2.06.94-2.06 2.06-.94-2.06-.94-.94-2.06-.94 2.06-2.06.94zm-11 1L8.5 8.5l.94-2.06 2.06-.94-2.06-.94L8.5 2.5l-.94 2.06-2.06.94zm10 10l.94 2.06.94-2.06 2.06-.94-2.06-.94-.94-2.06-.94 2.06-2.06.94z\"/><path d=\"M17.41 7.96l-1.37-1.37c-.4-.4-.92-.59-1.43-.59-.52 0-1.04.2-1.43.59L10.3 9.45l-7.72 7.72c-.78.78-.78 2.05 0 2.83L4 21.41c.39.39.9.59 1.41.59.51 0 1.02-.2 1.41-.59l7.78-7.78 2.81-2.81c.8-.78.8-2.07 0-2.86zM5.41 20L4 18.59l7.72-7.72 1.47 1.35L5.41 20z\"/>\n",
              "  </svg>\n",
              "      </button>\n",
              "      \n",
              "  <style>\n",
              "    .colab-df-container {\n",
              "      display:flex;\n",
              "      flex-wrap:wrap;\n",
              "      gap: 12px;\n",
              "    }\n",
              "\n",
              "    .colab-df-convert {\n",
              "      background-color: #E8F0FE;\n",
              "      border: none;\n",
              "      border-radius: 50%;\n",
              "      cursor: pointer;\n",
              "      display: none;\n",
              "      fill: #1967D2;\n",
              "      height: 32px;\n",
              "      padding: 0 0 0 0;\n",
              "      width: 32px;\n",
              "    }\n",
              "\n",
              "    .colab-df-convert:hover {\n",
              "      background-color: #E2EBFA;\n",
              "      box-shadow: 0px 1px 2px rgba(60, 64, 67, 0.3), 0px 1px 3px 1px rgba(60, 64, 67, 0.15);\n",
              "      fill: #174EA6;\n",
              "    }\n",
              "\n",
              "    [theme=dark] .colab-df-convert {\n",
              "      background-color: #3B4455;\n",
              "      fill: #D2E3FC;\n",
              "    }\n",
              "\n",
              "    [theme=dark] .colab-df-convert:hover {\n",
              "      background-color: #434B5C;\n",
              "      box-shadow: 0px 1px 3px 1px rgba(0, 0, 0, 0.15);\n",
              "      filter: drop-shadow(0px 1px 2px rgba(0, 0, 0, 0.3));\n",
              "      fill: #FFFFFF;\n",
              "    }\n",
              "  </style>\n",
              "\n",
              "      <script>\n",
              "        const buttonEl =\n",
              "          document.querySelector('#df-584f49bc-743e-412f-bb46-e0e00bf02289 button.colab-df-convert');\n",
              "        buttonEl.style.display =\n",
              "          google.colab.kernel.accessAllowed ? 'block' : 'none';\n",
              "\n",
              "        async function convertToInteractive(key) {\n",
              "          const element = document.querySelector('#df-584f49bc-743e-412f-bb46-e0e00bf02289');\n",
              "          const dataTable =\n",
              "            await google.colab.kernel.invokeFunction('convertToInteractive',\n",
              "                                                     [key], {});\n",
              "          if (!dataTable) return;\n",
              "\n",
              "          const docLinkHtml = 'Like what you see? Visit the ' +\n",
              "            '<a target=\"_blank\" href=https://colab.research.google.com/notebooks/data_table.ipynb>data table notebook</a>'\n",
              "            + ' to learn more about interactive tables.';\n",
              "          element.innerHTML = '';\n",
              "          dataTable['output_type'] = 'display_data';\n",
              "          await google.colab.output.renderOutput(dataTable, element);\n",
              "          const docLink = document.createElement('div');\n",
              "          docLink.innerHTML = docLinkHtml;\n",
              "          element.appendChild(docLink);\n",
              "        }\n",
              "      </script>\n",
              "    </div>\n",
              "  </div>\n",
              "  "
            ],
            "text/plain": [
              "             name  country  comprany_website  number_of_employees  industry  \\\n",
              "51039 952     1.0      0.0               0.0                  0.0       0.0   \n",
              "25131 953     1.0      0.0               0.0                  0.0       0.0   \n",
              "47097 953     1.0      0.0               0.0                  0.0       0.0   \n",
              "      25131   1.0      0.0               0.0                  0.0       0.0   \n",
              "95494 953     1.0      1.0               0.0                  1.0       0.0   \n",
              "...           ...      ...               ...                  ...       ...   \n",
              "81476 81474   1.0      1.0               0.0                  0.0       0.0   \n",
              "      81475   1.0      1.0               0.0                  0.0       0.0   \n",
              "81483 81482   1.0      0.0               0.0                  0.0       0.0   \n",
              "81484 81482   1.0      0.0               0.0                  0.0       0.0   \n",
              "      81483   1.0      0.0               0.0                  0.0       0.0   \n",
              "\n",
              "             market_cap   revenue      rank  sector  city  valuation  stock  \\\n",
              "51039 952      0.125000  0.000000  0.000000     0.0   0.0   0.000000    0.0   \n",
              "25131 953      0.000000  0.000000  0.000000     0.0   0.0   0.000000    0.0   \n",
              "47097 953      0.230769  0.000000  0.000000     0.0   0.0   0.000000    0.0   \n",
              "      25131    0.000000  0.000000  0.000000     0.0   0.0   0.000000    0.0   \n",
              "95494 953      0.571429  0.142857  0.000000     0.0   0.0   0.000000    0.0   \n",
              "...                 ...       ...       ...     ...   ...        ...    ...   \n",
              "81476 81474    0.857143  0.000000  0.833333     0.0   0.0   0.333333    0.0   \n",
              "      81475    0.000000  0.000000  0.000000     0.0   0.0   0.000000    0.0   \n",
              "81483 81482    0.857143  0.000000  0.000000     0.0   0.0   0.666667    0.0   \n",
              "81484 81482    0.857143  0.000000  0.666667     0.0   0.0   0.666667    0.0   \n",
              "      81483    0.857143  0.000000  0.000000     0.0   0.0   0.666667    0.0   \n",
              "\n",
              "             ceo  market_value  founded_year  \n",
              "51039 952    0.0           0.0             0  \n",
              "25131 953    0.0           0.0             0  \n",
              "47097 953    0.0           0.0             0  \n",
              "      25131  0.0           0.0             0  \n",
              "95494 953    0.0           0.0             0  \n",
              "...          ...           ...           ...  \n",
              "81476 81474  0.0           0.0             0  \n",
              "      81475  0.0           0.0             0  \n",
              "81483 81482  0.0           0.0             0  \n",
              "81484 81482  0.0           0.0             0  \n",
              "      81483  0.0           0.0             0  \n",
              "\n",
              "[120259 rows x 15 columns]"
            ]
          },
          "execution_count": 7,
          "metadata": {},
          "output_type": "execute_result"
        }
      ],
      "source": [
        "features = features.head(len(df))\n",
        "features"
      ]
    },
    {
      "cell_type": "markdown",
      "metadata": {
        "id": "xDgfzgRce01l"
      },
      "source": [
        "### **Dedupe**"
      ]
    },
    {
      "cell_type": "code",
      "execution_count": 117,
      "metadata": {
        "id": "NTf4qZoUe01l"
      },
      "outputs": [],
      "source": [
        "import pandas as pd\n",
        "import dedupe\n",
        "import time\n",
        "\n",
        "df = pd.read_csv('aziendeMerged_ordinato.csv', low_memory=False)"
      ]
    },
    {
      "cell_type": "code",
      "execution_count": 118,
      "metadata": {
        "id": "lzxciDId0zBG"
      },
      "outputs": [],
      "source": [
        "from unidecode import unidecode\n",
        "import re\n",
        "\n",
        "# Pulizia dei dati\n",
        "def preProcess(column):\n",
        "    column = unidecode(column)\n",
        "    column = re.sub('  +', ' ', column)\n",
        "    column = re.sub('\\n', ' ', column)\n",
        "    column = column.strip().strip('\"').strip(\"'\").lower().strip()\n",
        "    # Se la colonna è vuota, imposta il valore su None\n",
        "    if not column:\n",
        "        column = None\n",
        "    return column"
      ]
    },
    {
      "cell_type": "code",
      "execution_count": 119,
      "metadata": {
        "id": "XUz6rpXj0tY7"
      },
      "outputs": [],
      "source": [
        "# Prende come input il file CSV e restituisce un dizionario\n",
        "def readData(filename):\n",
        "    data_d = {}\n",
        "    with open(filename, encoding=\"utf8\") as f:\n",
        "        reader = csv.DictReader(f)\n",
        "        for row in reader:\n",
        "            clean_row = [(k, preProcess(v)) for (k, v) in row.items()]\n",
        "            row_id = str(row['name'])\n",
        "            data_d[row_id] = dict(clean_row)\n",
        "\n",
        "    return data_d"
      ]
    },
    {
      "cell_type": "code",
      "execution_count": 120,
      "metadata": {
        "colab": {
          "base_uri": "https://localhost:8080/"
        },
        "id": "mZlVpbLZ0jeI",
        "outputId": "ecd8c0dc-7ed1-488a-bf4f-ab6763d7d415"
      },
      "outputs": [
        {
          "name": "stdout",
          "output_type": "stream",
          "text": [
            "importing data ...\n",
            "Tempo di lettura del dataset:  6.940991640090942 secondi\n"
          ]
        }
      ],
      "source": [
        "start_time = time.time()\n",
        "data_d = readData('aziendeMerged_ordinato.csv')\n",
        "print(\"Tempo di lettura del dataset: \", time.time() - start_time, \"secondi\")"
      ]
    },
    {
      "cell_type": "code",
      "execution_count": 121,
      "metadata": {
        "colab": {
          "base_uri": "https://localhost:8080/"
        },
        "id": "il3N01Hae01l",
        "outputId": "364b44d1-704a-4b93-ab57-8defd21229c5"
      },
      "outputs": [
        {
          "name": "stdout",
          "output_type": "stream",
          "text": [
            "name                        0\n",
            "market_cap              40444\n",
            "country                 44790\n",
            "valuation               64783\n",
            "number_of_employees     73448\n",
            "founded_year            78733\n",
            "revenue                 88830\n",
            "industry                89327\n",
            "rank                    91252\n",
            "company_website         94980\n",
            "ceo                     97788\n",
            "stock                   99104\n",
            "sector                 112591\n",
            "city                   114425\n",
            "market_value           118250\n",
            "dtype: int64\n"
          ]
        }
      ],
      "source": [
        "# Conta il numero di valori nulli in ciascuna colonna\n",
        "num_missing = df.isnull().sum()\n",
        "num_missing = num_missing.sort_values()\n",
        "\n",
        "print(num_missing)"
      ]
    },
    {
      "cell_type": "code",
      "execution_count": 122,
      "metadata": {
        "colab": {
          "base_uri": "https://localhost:8080/",
          "height": 800
        },
        "id": "ckPDsHMse01m",
        "outputId": "07347164-ff9b-457d-86f9-d129ad69b793"
      },
      "outputs": [
        {
          "data": {
            "text/html": [
              "\n",
              "  <div id=\"df-e4b8524d-8e3a-4689-b9de-2bbb4db52f61\">\n",
              "    <div class=\"colab-df-container\">\n",
              "      <div>\n",
              "<style scoped>\n",
              "    .dataframe tbody tr th:only-of-type {\n",
              "        vertical-align: middle;\n",
              "    }\n",
              "\n",
              "    .dataframe tbody tr th {\n",
              "        vertical-align: top;\n",
              "    }\n",
              "\n",
              "    .dataframe thead th {\n",
              "        text-align: right;\n",
              "    }\n",
              "</style>\n",
              "<table border=\"1\" class=\"dataframe\">\n",
              "  <thead>\n",
              "    <tr style=\"text-align: right;\">\n",
              "      <th></th>\n",
              "      <th>name</th>\n",
              "      <th>company_website</th>\n",
              "      <th>country</th>\n",
              "      <th>number_of_employees</th>\n",
              "      <th>industry</th>\n",
              "      <th>founded_year</th>\n",
              "      <th>market_cap</th>\n",
              "      <th>revenue</th>\n",
              "      <th>rank</th>\n",
              "      <th>sector</th>\n",
              "      <th>city</th>\n",
              "      <th>valuation</th>\n",
              "      <th>stock</th>\n",
              "      <th>ceo</th>\n",
              "      <th>market_value</th>\n",
              "    </tr>\n",
              "  </thead>\n",
              "  <tbody>\n",
              "    <tr>\n",
              "      <th>29</th>\n",
              "      <td>1&amp;1 AG</td>\n",
              "      <td>https://www.mcafee.com/</td>\n",
              "      <td>Germany</td>\n",
              "      <td>6,396</td>\n",
              "      <td>NaN</td>\n",
              "      <td>2017</td>\n",
              "      <td>5.510 Billion USD</td>\n",
              "      <td>51 Million USD</td>\n",
              "      <td>NaN</td>\n",
              "      <td>NaN</td>\n",
              "      <td>NaN</td>\n",
              "      <td>4.804 Billion USD</td>\n",
              "      <td>NaN</td>\n",
              "      <td>NaN</td>\n",
              "      <td>NaN</td>\n",
              "    </tr>\n",
              "    <tr>\n",
              "      <th>31</th>\n",
              "      <td>1-800-FLOWERS.COM</td>\n",
              "      <td>https://www.farmaciasguadalajara.com/</td>\n",
              "      <td>USA</td>\n",
              "      <td>4800</td>\n",
              "      <td>NaN</td>\n",
              "      <td>Not found</td>\n",
              "      <td>2.067 Billion USD</td>\n",
              "      <td>1,642 Million USD</td>\n",
              "      <td>NaN</td>\n",
              "      <td>NaN</td>\n",
              "      <td>NaN</td>\n",
              "      <td>1.579 Billion USD</td>\n",
              "      <td>NaN</td>\n",
              "      <td>NaN</td>\n",
              "      <td>NaN</td>\n",
              "    </tr>\n",
              "    <tr>\n",
              "      <th>52</th>\n",
              "      <td>10X GENOMICS</td>\n",
              "      <td>https://www.halinvestments.nl/</td>\n",
              "      <td>USA</td>\n",
              "      <td>51,397</td>\n",
              "      <td>NaN</td>\n",
              "      <td>1968</td>\n",
              "      <td>19.507 Billion USD</td>\n",
              "      <td>2,862 Million USD</td>\n",
              "      <td>NaN</td>\n",
              "      <td>NaN</td>\n",
              "      <td>NaN</td>\n",
              "      <td>14.275 Billion USD</td>\n",
              "      <td>NaN</td>\n",
              "      <td>John R. Stuelpnagel, D.V.M</td>\n",
              "      <td>NaN</td>\n",
              "    </tr>\n",
              "    <tr>\n",
              "      <th>84</th>\n",
              "      <td>1LIFE HEALTHCARE INC</td>\n",
              "      <td>https://www.itron.com</td>\n",
              "      <td>USA</td>\n",
              "      <td>6,065</td>\n",
              "      <td>NaN</td>\n",
              "      <td>1996</td>\n",
              "      <td>3.378 Billion USD</td>\n",
              "      <td>73,816 Million USD</td>\n",
              "      <td>NaN</td>\n",
              "      <td>NaN</td>\n",
              "      <td>NaN</td>\n",
              "      <td>2.940 Billion USD</td>\n",
              "      <td>NaN</td>\n",
              "      <td>NaN</td>\n",
              "      <td>NaN</td>\n",
              "    </tr>\n",
              "    <tr>\n",
              "      <th>87</th>\n",
              "      <td>1ST SOURCE CORPORATION</td>\n",
              "      <td>https://www.1stsource.com/</td>\n",
              "      <td>USA</td>\n",
              "      <td>1,130</td>\n",
              "      <td>NaN</td>\n",
              "      <td>Not found</td>\n",
              "      <td>1.175 Billion USD</td>\n",
              "      <td>476 Million USD</td>\n",
              "      <td>NaN</td>\n",
              "      <td>NaN</td>\n",
              "      <td>NaN</td>\n",
              "      <td>1.295 Billion USD</td>\n",
              "      <td>NaN</td>\n",
              "      <td>NaN</td>\n",
              "      <td>NaN</td>\n",
              "    </tr>\n",
              "    <tr>\n",
              "      <th>...</th>\n",
              "      <td>...</td>\n",
              "      <td>...</td>\n",
              "      <td>...</td>\n",
              "      <td>...</td>\n",
              "      <td>...</td>\n",
              "      <td>...</td>\n",
              "      <td>...</td>\n",
              "      <td>...</td>\n",
              "      <td>...</td>\n",
              "      <td>...</td>\n",
              "      <td>...</td>\n",
              "      <td>...</td>\n",
              "      <td>...</td>\n",
              "      <td>...</td>\n",
              "      <td>...</td>\n",
              "    </tr>\n",
              "    <tr>\n",
              "      <th>119673</th>\n",
              "      <td>geobra Brandstätter Stiftung &amp; Co. KG (aka Pla...</td>\n",
              "      <td>www.playmobil.de</td>\n",
              "      <td>BY</td>\n",
              "      <td>4,635</td>\n",
              "      <td>NaN</td>\n",
              "      <td>1876</td>\n",
              "      <td>NaN</td>\n",
              "      <td>856.4</td>\n",
              "      <td>308.0</td>\n",
              "      <td>Consumer Products</td>\n",
              "      <td>NaN</td>\n",
              "      <td>NaN</td>\n",
              "      <td>NaN</td>\n",
              "      <td>NaN</td>\n",
              "      <td>NaN</td>\n",
              "    </tr>\n",
              "    <tr>\n",
              "      <th>119707</th>\n",
              "      <td>huber group</td>\n",
              "      <td>www.hubergroup.de</td>\n",
              "      <td>BY</td>\n",
              "      <td>3,500</td>\n",
              "      <td>NaN</td>\n",
              "      <td>1765</td>\n",
              "      <td>NaN</td>\n",
              "      <td>976.8</td>\n",
              "      <td>263.0</td>\n",
              "      <td>Industrial Manufacturing</td>\n",
              "      <td>NaN</td>\n",
              "      <td>NaN</td>\n",
              "      <td>NaN</td>\n",
              "      <td>NaN</td>\n",
              "      <td>NaN</td>\n",
              "    </tr>\n",
              "    <tr>\n",
              "      <th>119733</th>\n",
              "      <td>iA Financial Corporation</td>\n",
              "      <td>https://www.forbes.com/companies/legrand</td>\n",
              "      <td>France</td>\n",
              "      <td>34,244</td>\n",
              "      <td>Insurance</td>\n",
              "      <td>1892.0</td>\n",
              "      <td>NaN</td>\n",
              "      <td>$13.3B</td>\n",
              "      <td>NaN</td>\n",
              "      <td>NaN</td>\n",
              "      <td>NaN</td>\n",
              "      <td>NaN</td>\n",
              "      <td>NaN</td>\n",
              "      <td>Benoît Coquart</td>\n",
              "      <td>$24.35 B</td>\n",
              "    </tr>\n",
              "    <tr>\n",
              "      <th>120045</th>\n",
              "      <td>salesforce.com, inc.</td>\n",
              "      <td>NaN</td>\n",
              "      <td>United States</td>\n",
              "      <td>73,541</td>\n",
              "      <td>Software—Application</td>\n",
              "      <td>February 3, 1999</td>\n",
              "      <td>$193.80 B</td>\n",
              "      <td>NaN</td>\n",
              "      <td>NaN</td>\n",
              "      <td>Technology</td>\n",
              "      <td>NaN</td>\n",
              "      <td>NaN</td>\n",
              "      <td>CRM</td>\n",
              "      <td>Mr. Marc R. Benioff</td>\n",
              "      <td>NaN</td>\n",
              "    </tr>\n",
              "    <tr>\n",
              "      <th>120096</th>\n",
              "      <td>tesla</td>\n",
              "      <td>https://www.forbes.com/companies/visa</td>\n",
              "      <td>united states</td>\n",
              "      <td>21,500</td>\n",
              "      <td>Consumer Durables</td>\n",
              "      <td>2003.0</td>\n",
              "      <td>NaN</td>\n",
              "      <td>$53.8B</td>\n",
              "      <td>NaN</td>\n",
              "      <td>NaN</td>\n",
              "      <td>NaN</td>\n",
              "      <td>NaN</td>\n",
              "      <td>NaN</td>\n",
              "      <td>Alfred F. Kelly Jr.</td>\n",
              "      <td>$436.49 B</td>\n",
              "    </tr>\n",
              "  </tbody>\n",
              "</table>\n",
              "<p>11107 rows × 15 columns</p>\n",
              "</div>\n",
              "      <button class=\"colab-df-convert\" onclick=\"convertToInteractive('df-e4b8524d-8e3a-4689-b9de-2bbb4db52f61')\"\n",
              "              title=\"Convert this dataframe to an interactive table.\"\n",
              "              style=\"display:none;\">\n",
              "        \n",
              "  <svg xmlns=\"http://www.w3.org/2000/svg\" height=\"24px\"viewBox=\"0 0 24 24\"\n",
              "       width=\"24px\">\n",
              "    <path d=\"M0 0h24v24H0V0z\" fill=\"none\"/>\n",
              "    <path d=\"M18.56 5.44l.94 2.06.94-2.06 2.06-.94-2.06-.94-.94-2.06-.94 2.06-2.06.94zm-11 1L8.5 8.5l.94-2.06 2.06-.94-2.06-.94L8.5 2.5l-.94 2.06-2.06.94zm10 10l.94 2.06.94-2.06 2.06-.94-2.06-.94-.94-2.06-.94 2.06-2.06.94z\"/><path d=\"M17.41 7.96l-1.37-1.37c-.4-.4-.92-.59-1.43-.59-.52 0-1.04.2-1.43.59L10.3 9.45l-7.72 7.72c-.78.78-.78 2.05 0 2.83L4 21.41c.39.39.9.59 1.41.59.51 0 1.02-.2 1.41-.59l7.78-7.78 2.81-2.81c.8-.78.8-2.07 0-2.86zM5.41 20L4 18.59l7.72-7.72 1.47 1.35L5.41 20z\"/>\n",
              "  </svg>\n",
              "      </button>\n",
              "      \n",
              "  <style>\n",
              "    .colab-df-container {\n",
              "      display:flex;\n",
              "      flex-wrap:wrap;\n",
              "      gap: 12px;\n",
              "    }\n",
              "\n",
              "    .colab-df-convert {\n",
              "      background-color: #E8F0FE;\n",
              "      border: none;\n",
              "      border-radius: 50%;\n",
              "      cursor: pointer;\n",
              "      display: none;\n",
              "      fill: #1967D2;\n",
              "      height: 32px;\n",
              "      padding: 0 0 0 0;\n",
              "      width: 32px;\n",
              "    }\n",
              "\n",
              "    .colab-df-convert:hover {\n",
              "      background-color: #E2EBFA;\n",
              "      box-shadow: 0px 1px 2px rgba(60, 64, 67, 0.3), 0px 1px 3px 1px rgba(60, 64, 67, 0.15);\n",
              "      fill: #174EA6;\n",
              "    }\n",
              "\n",
              "    [theme=dark] .colab-df-convert {\n",
              "      background-color: #3B4455;\n",
              "      fill: #D2E3FC;\n",
              "    }\n",
              "\n",
              "    [theme=dark] .colab-df-convert:hover {\n",
              "      background-color: #434B5C;\n",
              "      box-shadow: 0px 1px 3px 1px rgba(0, 0, 0, 0.15);\n",
              "      filter: drop-shadow(0px 1px 2px rgba(0, 0, 0, 0.3));\n",
              "      fill: #FFFFFF;\n",
              "    }\n",
              "  </style>\n",
              "\n",
              "      <script>\n",
              "        const buttonEl =\n",
              "          document.querySelector('#df-e4b8524d-8e3a-4689-b9de-2bbb4db52f61 button.colab-df-convert');\n",
              "        buttonEl.style.display =\n",
              "          google.colab.kernel.accessAllowed ? 'block' : 'none';\n",
              "\n",
              "        async function convertToInteractive(key) {\n",
              "          const element = document.querySelector('#df-e4b8524d-8e3a-4689-b9de-2bbb4db52f61');\n",
              "          const dataTable =\n",
              "            await google.colab.kernel.invokeFunction('convertToInteractive',\n",
              "                                                     [key], {});\n",
              "          if (!dataTable) return;\n",
              "\n",
              "          const docLinkHtml = 'Like what you see? Visit the ' +\n",
              "            '<a target=\"_blank\" href=https://colab.research.google.com/notebooks/data_table.ipynb>data table notebook</a>'\n",
              "            + ' to learn more about interactive tables.';\n",
              "          element.innerHTML = '';\n",
              "          dataTable['output_type'] = 'display_data';\n",
              "          await google.colab.output.renderOutput(dataTable, element);\n",
              "          const docLink = document.createElement('div');\n",
              "          docLink.innerHTML = docLinkHtml;\n",
              "          element.appendChild(docLink);\n",
              "        }\n",
              "      </script>\n",
              "    </div>\n",
              "  </div>\n",
              "  "
            ],
            "text/plain": [
              "                                                     name  \\\n",
              "29                                                 1&1 AG   \n",
              "31                                      1-800-FLOWERS.COM   \n",
              "52                                           10X GENOMICS   \n",
              "84                                   1LIFE HEALTHCARE INC   \n",
              "87                                 1ST SOURCE CORPORATION   \n",
              "...                                                   ...   \n",
              "119673  geobra Brandstätter Stiftung & Co. KG (aka Pla...   \n",
              "119707                                        huber group   \n",
              "119733                           iA Financial Corporation   \n",
              "120045                               salesforce.com, inc.   \n",
              "120096                                              tesla   \n",
              "\n",
              "                                 company_website        country  \\\n",
              "29                       https://www.mcafee.com/        Germany   \n",
              "31         https://www.farmaciasguadalajara.com/            USA   \n",
              "52                https://www.halinvestments.nl/            USA   \n",
              "84                         https://www.itron.com            USA   \n",
              "87                    https://www.1stsource.com/            USA   \n",
              "...                                          ...            ...   \n",
              "119673                          www.playmobil.de             BY   \n",
              "119707                         www.hubergroup.de             BY   \n",
              "119733  https://www.forbes.com/companies/legrand         France   \n",
              "120045                                       NaN  United States   \n",
              "120096     https://www.forbes.com/companies/visa  united states   \n",
              "\n",
              "       number_of_employees              industry       founded_year  \\\n",
              "29                   6,396                   NaN               2017   \n",
              "31                    4800                   NaN          Not found   \n",
              "52                  51,397                   NaN               1968   \n",
              "84                   6,065                   NaN               1996   \n",
              "87                   1,130                   NaN          Not found   \n",
              "...                    ...                   ...                ...   \n",
              "119673               4,635                   NaN               1876   \n",
              "119707               3,500                   NaN               1765   \n",
              "119733              34,244             Insurance             1892.0   \n",
              "120045              73,541  Software—Application   February 3, 1999   \n",
              "120096              21,500     Consumer Durables             2003.0   \n",
              "\n",
              "                market_cap             revenue   rank  \\\n",
              "29       5.510 Billion USD      51 Million USD    NaN   \n",
              "31       2.067 Billion USD   1,642 Million USD    NaN   \n",
              "52      19.507 Billion USD   2,862 Million USD    NaN   \n",
              "84       3.378 Billion USD  73,816 Million USD    NaN   \n",
              "87       1.175 Billion USD     476 Million USD    NaN   \n",
              "...                    ...                 ...    ...   \n",
              "119673                 NaN               856.4  308.0   \n",
              "119707                 NaN               976.8  263.0   \n",
              "119733                 NaN              $13.3B    NaN   \n",
              "120045           $193.80 B                 NaN    NaN   \n",
              "120096                 NaN              $53.8B    NaN   \n",
              "\n",
              "                          sector city           valuation stock  \\\n",
              "29                           NaN  NaN   4.804 Billion USD   NaN   \n",
              "31                           NaN  NaN   1.579 Billion USD   NaN   \n",
              "52                           NaN  NaN  14.275 Billion USD   NaN   \n",
              "84                           NaN  NaN   2.940 Billion USD   NaN   \n",
              "87                           NaN  NaN   1.295 Billion USD   NaN   \n",
              "...                          ...  ...                 ...   ...   \n",
              "119673         Consumer Products  NaN                 NaN   NaN   \n",
              "119707  Industrial Manufacturing  NaN                 NaN   NaN   \n",
              "119733                       NaN  NaN                 NaN   NaN   \n",
              "120045                Technology  NaN                 NaN   CRM   \n",
              "120096                       NaN  NaN                 NaN   NaN   \n",
              "\n",
              "                               ceo market_value  \n",
              "29                             NaN          NaN  \n",
              "31                             NaN          NaN  \n",
              "52      John R. Stuelpnagel, D.V.M          NaN  \n",
              "84                             NaN          NaN  \n",
              "87                             NaN          NaN  \n",
              "...                            ...          ...  \n",
              "119673                         NaN          NaN  \n",
              "119707                         NaN          NaN  \n",
              "119733              Benoît Coquart     $24.35 B  \n",
              "120045         Mr. Marc R. Benioff          NaN  \n",
              "120096         Alfred F. Kelly Jr.    $436.49 B  \n",
              "\n",
              "[11107 rows x 15 columns]"
            ]
          },
          "execution_count": 122,
          "metadata": {},
          "output_type": "execute_result"
        }
      ],
      "source": [
        "df = df.loc[df.isna().sum(axis=1) <= 7]\n",
        "df"
      ]
    },
    {
      "cell_type": "code",
      "execution_count": 123,
      "metadata": {
        "colab": {
          "base_uri": "https://localhost:8080/"
        },
        "id": "gluc3bx-e01m",
        "outputId": "4d26c84b-0565-4f0c-fed2-97d05d9438d5"
      },
      "outputs": [
        {
          "name": "stdout",
          "output_type": "stream",
          "text": [
            "name                       0\n",
            "country                    0\n",
            "number_of_employees       30\n",
            "founded_year             705\n",
            "revenue                 1259\n",
            "company_website         1860\n",
            "market_cap              2512\n",
            "valuation               4324\n",
            "ceo                     5971\n",
            "industry                7283\n",
            "sector                  8784\n",
            "market_value            9107\n",
            "stock                   9249\n",
            "rank                    9583\n",
            "city                   11107\n",
            "dtype: int64\n"
          ]
        }
      ],
      "source": [
        "# Conta il numero di valori nulli in ciascuna colonna\n",
        "num_missing = df.isnull().sum()\n",
        "num_missing = num_missing.sort_values()\n",
        "\n",
        "print(num_missing)"
      ]
    },
    {
      "cell_type": "code",
      "execution_count": 124,
      "metadata": {
        "id": "67xXOLghe01n"
      },
      "outputs": [],
      "source": [
        "df = df.astype(str)"
      ]
    },
    {
      "cell_type": "code",
      "execution_count": 125,
      "metadata": {
        "id": "blMSGF-Qe01n"
      },
      "outputs": [],
      "source": [
        "# crea un dizionario dei campi del dataset da usare per la deduplicazione\n",
        "fields = [\n",
        "        {'field': 'name', 'type': 'String'},\n",
        "        {'field': 'country', 'type': 'String', 'has missing': True},\n",
        "        {'field': 'number_of_employees', 'type': 'String', 'has missing': True},\n",
        "        {'field': 'founded_year', 'type': 'String', 'has missing': True},\n",
        "        {'field': 'revenue', 'type': 'String', 'has missing': True},\n",
        "    ]\n",
        "deduper = dedupe.Dedupe(fields)"
      ]
    },
    {
      "cell_type": "code",
      "execution_count": 126,
      "metadata": {
        "id": "cv5o_rr70T5R"
      },
      "outputs": [],
      "source": [
        "deduper.prepare_training(data_d)"
      ]
    },
    {
      "cell_type": "code",
      "execution_count": 127,
      "metadata": {
        "colab": {
          "base_uri": "https://localhost:8080/"
        },
        "id": "IRm9Qp9Fe01o",
        "outputId": "2ebc06e3-f8b0-4050-a475-efd31e0a2cf4"
      },
      "outputs": [
        {
          "name": "stderr",
          "output_type": "stream",
          "text": [
            "name : tingyi (cayman islands) holding\n",
            "country : taiwan\n",
            "number_of_employees : 58182\n",
            "founded_year : 1920\n",
            "revenue : 4,601 million usd\n",
            "\n",
            "name : tingyi (cayman islands) holding corp\n",
            "country : china\n",
            "number_of_employees : 62,107\n",
            "founded_year : None\n",
            "revenue : $11.5b\n",
            "\n",
            "0/10 positive, 0/10 negative\n",
            "Do these records refer to the same thing?\n",
            "(y)es / (n)o / (u)nsure / (f)inished\n"
          ]
        },
        {
          "name": "stdout",
          "output_type": "stream",
          "text": [
            "y\n"
          ]
        },
        {
          "name": "stderr",
          "output_type": "stream",
          "text": [
            "name : construction partners\n",
            "country : usa\n",
            "number_of_employees : 5,654\n",
            "founded_year : not found\n",
            "revenue : not found\n",
            "\n",
            "name : construction partners inc\n",
            "country : united states of america\n",
            "number_of_employees : 1,035\n",
            "founded_year : None\n",
            "revenue : $1.3b\n",
            "\n",
            "1/10 positive, 0/10 negative\n",
            "Do these records refer to the same thing?\n",
            "(y)es / (n)o / (u)nsure / (f)inished / (p)revious\n"
          ]
        },
        {
          "name": "stdout",
          "output_type": "stream",
          "text": [
            "y\n"
          ]
        },
        {
          "name": "stderr",
          "output_type": "stream",
          "text": [
            "name : sumitomo osaka cement\n",
            "country : japan\n",
            "number_of_employees : 3005\n",
            "founded_year : not found\n",
            "revenue : not found\n",
            "\n",
            "name : sumitomo osaka cement co ltd\n",
            "country : japan\n",
            "number_of_employees : 3,068\n",
            "founded_year : None\n",
            "revenue : $1.6b\n",
            "\n",
            "2/10 positive, 0/10 negative\n",
            "Do these records refer to the same thing?\n",
            "(y)es / (n)o / (u)nsure / (f)inished / (p)revious\n"
          ]
        },
        {
          "name": "stdout",
          "output_type": "stream",
          "text": [
            "y\n"
          ]
        },
        {
          "name": "stderr",
          "output_type": "stream",
          "text": [
            "name : nolte gmbh & co.kgaa\n",
            "country : rp\n",
            "number_of_employees : 2,082\n",
            "founded_year : 1921\n",
            "revenue : 623.1\n",
            "\n",
            "name : voith gmbh & co kgaa\n",
            "country : germany\n",
            "number_of_employees : 20,634\n",
            "founded_year : None\n",
            "revenue : $5.0b\n",
            "\n",
            "3/10 positive, 0/10 negative\n",
            "Do these records refer to the same thing?\n",
            "(y)es / (n)o / (u)nsure / (f)inished / (p)revious\n"
          ]
        },
        {
          "name": "stdout",
          "output_type": "stream",
          "text": [
            "n\n"
          ]
        },
        {
          "name": "stderr",
          "output_type": "stream",
          "text": [
            "name : mts systems corporation\n",
            "country : usa\n",
            "number_of_employees : 1,776\n",
            "founded_year : 2009\n",
            "revenue : not found\n",
            "\n",
            "name : nrt\n",
            "country : germany\n",
            "number_of_employees : 24\n",
            "founded_year : 2009\n",
            "revenue : 2,449,370\n",
            "\n",
            "3/10 positive, 1/10 negative\n",
            "Do these records refer to the same thing?\n",
            "(y)es / (n)o / (u)nsure / (f)inished / (p)revious\n"
          ]
        },
        {
          "name": "stdout",
          "output_type": "stream",
          "text": [
            "n\n"
          ]
        },
        {
          "name": "stderr",
          "output_type": "stream",
          "text": [
            "name : sto express\n",
            "country : israel\n",
            "number_of_employees : 5,931\n",
            "founded_year : 2001.0\n",
            "revenue : $39.2b\n",
            "\n",
            "name : yto express\n",
            "country : None\n",
            "number_of_employees : 924\n",
            "founded_year : None\n",
            "revenue : None\n",
            "\n",
            "3/10 positive, 2/10 negative\n",
            "Do these records refer to the same thing?\n",
            "(y)es / (n)o / (u)nsure / (f)inished / (p)revious\n"
          ]
        },
        {
          "name": "stdout",
          "output_type": "stream",
          "text": [
            "n\n"
          ]
        },
        {
          "name": "stderr",
          "output_type": "stream",
          "text": [
            "name : zhejiang huahai pharmaceutical co. ltd\n",
            "country : None\n",
            "number_of_employees : 6,655\n",
            "founded_year : None\n",
            "revenue : None\n",
            "\n",
            "name : zhejiang starry pharmaceutical co. ltd\n",
            "country : None\n",
            "number_of_employees : 1,729\n",
            "founded_year : None\n",
            "revenue : None\n",
            "\n",
            "3/10 positive, 3/10 negative\n",
            "Do these records refer to the same thing?\n",
            "(y)es / (n)o / (u)nsure / (f)inished / (p)revious\n"
          ]
        },
        {
          "name": "stdout",
          "output_type": "stream",
          "text": [
            "n\n"
          ]
        },
        {
          "name": "stderr",
          "output_type": "stream",
          "text": [
            "name : airtac international\n",
            "country : taiwan\n",
            "number_of_employees : None\n",
            "founded_year : None\n",
            "revenue : None\n",
            "\n",
            "name : airtac international group\n",
            "country : None\n",
            "number_of_employees : not found\n",
            "founded_year : None\n",
            "revenue : None\n",
            "\n",
            "3/10 positive, 4/10 negative\n",
            "Do these records refer to the same thing?\n",
            "(y)es / (n)o / (u)nsure / (f)inished / (p)revious\n"
          ]
        },
        {
          "name": "stdout",
          "output_type": "stream",
          "text": [
            "y\n"
          ]
        },
        {
          "name": "stderr",
          "output_type": "stream",
          "text": [
            "name : gett\n",
            "country : israel\n",
            "number_of_employees : 964\n",
            "founded_year : 1977\n",
            "revenue : 453 million usd\n",
            "\n",
            "name : getty images\n",
            "country : usa\n",
            "number_of_employees : None\n",
            "founded_year : None\n",
            "revenue : None\n",
            "\n",
            "4/10 positive, 4/10 negative\n",
            "Do these records refer to the same thing?\n",
            "(y)es / (n)o / (u)nsure / (f)inished / (p)revious\n"
          ]
        },
        {
          "name": "stdout",
          "output_type": "stream",
          "text": [
            "n\n"
          ]
        },
        {
          "name": "stderr",
          "output_type": "stream",
          "text": [
            "name : klabin\n",
            "country : brazil\n",
            "number_of_employees : 7,000\n",
            "founded_year : 1866\n",
            "revenue : 375 million usd\n",
            "\n",
            "name : klab\n",
            "country : japan\n",
            "number_of_employees : None\n",
            "founded_year : None\n",
            "revenue : None\n",
            "\n",
            "4/10 positive, 5/10 negative\n",
            "Do these records refer to the same thing?\n",
            "(y)es / (n)o / (u)nsure / (f)inished / (p)revious\n"
          ]
        },
        {
          "name": "stdout",
          "output_type": "stream",
          "text": [
            "n\n"
          ]
        },
        {
          "name": "stderr",
          "output_type": "stream",
          "text": [
            "name : intercom\n",
            "country : usa\n",
            "number_of_employees : None\n",
            "founded_year : 2014\n",
            "revenue : not found\n",
            "\n",
            "name : interpublic group of companies\n",
            "country : usa\n",
            "number_of_employees : 11,012\n",
            "founded_year : 1949\n",
            "revenue : 0 million usd\n",
            "\n",
            "4/10 positive, 6/10 negative\n",
            "Do these records refer to the same thing?\n",
            "(y)es / (n)o / (u)nsure / (f)inished / (p)revious\n"
          ]
        },
        {
          "name": "stdout",
          "output_type": "stream",
          "text": [
            "n\n"
          ]
        },
        {
          "name": "stderr",
          "output_type": "stream",
          "text": [
            "name : alibaba\n",
            "country : china\n",
            "number_of_employees : 243.903\n",
            "founded_year : None\n",
            "revenue : $129.98 b\n",
            "\n",
            "name : hangzhou lianluo interactive information technology\n",
            "country : china\n",
            "number_of_employees : None\n",
            "founded_year : not found\n",
            "revenue : not found\n",
            "\n",
            "4/10 positive, 7/10 negative\n",
            "Do these records refer to the same thing?\n",
            "(y)es / (n)o / (u)nsure / (f)inished / (p)revious\n"
          ]
        },
        {
          "name": "stdout",
          "output_type": "stream",
          "text": [
            "n\n"
          ]
        },
        {
          "name": "stderr",
          "output_type": "stream",
          "text": [
            "name : ample\n",
            "country : united states\n",
            "number_of_employees : None\n",
            "founded_year : 2014\n",
            "revenue : $271.3m\n",
            "\n",
            "name : atlas air worldwide holdings inc\n",
            "country : united states of america\n",
            "number_of_employees : 4,056\n",
            "founded_year : None\n",
            "revenue : $4.0b\n",
            "\n",
            "4/10 positive, 8/10 negative\n",
            "Do these records refer to the same thing?\n",
            "(y)es / (n)o / (u)nsure / (f)inished / (p)revious\n"
          ]
        },
        {
          "name": "stdout",
          "output_type": "stream",
          "text": [
            "n\n"
          ]
        },
        {
          "name": "stderr",
          "output_type": "stream",
          "text": [
            "name : wilmar international\n",
            "country : singapore\n",
            "number_of_employees : 100,000\n",
            "founded_year : 1889\n",
            "revenue : 18,336 million usd\n",
            "\n",
            "name : wilmar international ltd\n",
            "country : None\n",
            "number_of_employees : 100,000\n",
            "founded_year : None\n",
            "revenue : None\n",
            "\n",
            "4/10 positive, 9/10 negative\n",
            "Do these records refer to the same thing?\n",
            "(y)es / (n)o / (u)nsure / (f)inished / (p)revious\n"
          ]
        },
        {
          "name": "stdout",
          "output_type": "stream",
          "text": [
            "y\n"
          ]
        },
        {
          "name": "stderr",
          "output_type": "stream",
          "text": [
            "name : post\n",
            "country : None\n",
            "number_of_employees : None\n",
            "founded_year : None\n",
            "revenue : None\n",
            "\n",
            "name : postnl\n",
            "country : netherlands\n",
            "number_of_employees : None\n",
            "founded_year : None\n",
            "revenue : None\n",
            "\n",
            "5/10 positive, 9/10 negative\n",
            "Do these records refer to the same thing?\n",
            "(y)es / (n)o / (u)nsure / (f)inished / (p)revious\n"
          ]
        },
        {
          "name": "stdout",
          "output_type": "stream",
          "text": [
            "n\n"
          ]
        },
        {
          "name": "stderr",
          "output_type": "stream",
          "text": [
            "name : bancolombia\n",
            "country : colombia\n",
            "number_of_employees : 31900\n",
            "founded_year : 1902\n",
            "revenue : 1,004 million usd\n",
            "\n",
            "name : bancolombia sa\n",
            "country : colombia\n",
            "number_of_employees : 30,000\n",
            "founded_year : None\n",
            "revenue : $6.4b\n",
            "\n",
            "5/10 positive, 10/10 negative\n",
            "Do these records refer to the same thing?\n",
            "(y)es / (n)o / (u)nsure / (f)inished / (p)revious\n"
          ]
        },
        {
          "name": "stdout",
          "output_type": "stream",
          "text": [
            "y\n"
          ]
        },
        {
          "name": "stderr",
          "output_type": "stream",
          "text": [
            "name : waters\n",
            "country : united states\n",
            "number_of_employees : 7,800\n",
            "founded_year : 1958\n",
            "revenue : $2.79 b\n",
            "\n",
            "name : waters corp\n",
            "country : united states of america\n",
            "number_of_employees : 7,800\n",
            "founded_year : None\n",
            "revenue : $2.8b\n",
            "\n",
            "6/10 positive, 10/10 negative\n",
            "Do these records refer to the same thing?\n",
            "(y)es / (n)o / (u)nsure / (f)inished / (p)revious\n"
          ]
        },
        {
          "name": "stdout",
          "output_type": "stream",
          "text": [
            "y\n"
          ]
        },
        {
          "name": "stderr",
          "output_type": "stream",
          "text": [
            "name : alibaba\n",
            "country : china\n",
            "number_of_employees : 243.903\n",
            "founded_year : None\n",
            "revenue : $129.98 b\n",
            "\n",
            "name : alibaba pictures group ltd\n",
            "country : None\n",
            "number_of_employees : 1,348\n",
            "founded_year : None\n",
            "revenue : None\n",
            "\n",
            "7/10 positive, 10/10 negative\n",
            "Do these records refer to the same thing?\n",
            "(y)es / (n)o / (u)nsure / (f)inished / (p)revious\n"
          ]
        },
        {
          "name": "stdout",
          "output_type": "stream",
          "text": [
            "y\n"
          ]
        },
        {
          "name": "stderr",
          "output_type": "stream",
          "text": [
            "name : holcim\n",
            "country : None\n",
            "number_of_employees : not found\n",
            "founded_year : None\n",
            "revenue : None\n",
            "\n",
            "name : holcim group\n",
            "country : switzerland\n",
            "number_of_employees : None\n",
            "founded_year : None\n",
            "revenue : None\n",
            "\n",
            "8/10 positive, 10/10 negative\n",
            "Do these records refer to the same thing?\n",
            "(y)es / (n)o / (u)nsure / (f)inished / (p)revious\n"
          ]
        },
        {
          "name": "stdout",
          "output_type": "stream",
          "text": [
            "y\n"
          ]
        },
        {
          "name": "stderr",
          "output_type": "stream",
          "text": [
            "name : toyota\n",
            "country : None\n",
            "number_of_employees : None\n",
            "founded_year : None\n",
            "revenue : None\n",
            "\n",
            "name : toyota tsusho\n",
            "country : japan\n",
            "number_of_employees : None\n",
            "founded_year : None\n",
            "revenue : None\n",
            "\n",
            "9/10 positive, 10/10 negative\n",
            "Do these records refer to the same thing?\n",
            "(y)es / (n)o / (u)nsure / (f)inished / (p)revious\n"
          ]
        },
        {
          "name": "stdout",
          "output_type": "stream",
          "text": [
            "y\n"
          ]
        },
        {
          "name": "stderr",
          "output_type": "stream",
          "text": [
            "name : free\n",
            "country : None\n",
            "number_of_employees : None\n",
            "founded_year : 1999\n",
            "revenue : None\n",
            "\n",
            "name : freenet\n",
            "country : germany\n",
            "number_of_employees : None\n",
            "founded_year : None\n",
            "revenue : None\n",
            "\n",
            "10/10 positive, 10/10 negative\n",
            "Do these records refer to the same thing?\n",
            "(y)es / (n)o / (u)nsure / (f)inished / (p)revious\n"
          ]
        },
        {
          "name": "stdout",
          "output_type": "stream",
          "text": [
            "n\n"
          ]
        },
        {
          "name": "stderr",
          "output_type": "stream",
          "text": [
            "name : robinhood\n",
            "country : None\n",
            "number_of_employees : 3.400\n",
            "founded_year : None\n",
            "revenue : $1.21 b\n",
            "\n",
            "name : robinhood insurance broker\n",
            "country : None\n",
            "number_of_employees : None\n",
            "founded_year : 2008 (15 yrs old)\n",
            "revenue : None\n",
            "\n",
            "10/10 positive, 11/10 negative\n",
            "Do these records refer to the same thing?\n",
            "(y)es / (n)o / (u)nsure / (f)inished / (p)revious\n"
          ]
        },
        {
          "name": "stdout",
          "output_type": "stream",
          "text": [
            "y\n"
          ]
        },
        {
          "name": "stderr",
          "output_type": "stream",
          "text": [
            "name : la technologies\n",
            "country : None\n",
            "number_of_employees : None\n",
            "founded_year : None\n",
            "revenue : None\n",
            "\n",
            "name : sa technologies\n",
            "country : None\n",
            "number_of_employees : None\n",
            "founded_year : 2002 (21 yrs old)\n",
            "revenue : None\n",
            "\n",
            "11/10 positive, 11/10 negative\n",
            "Do these records refer to the same thing?\n",
            "(y)es / (n)o / (u)nsure / (f)inished / (p)revious\n"
          ]
        },
        {
          "name": "stdout",
          "output_type": "stream",
          "text": [
            "n\n"
          ]
        },
        {
          "name": "stderr",
          "output_type": "stream",
          "text": [
            "name : midea group\n",
            "country : None\n",
            "number_of_employees : None\n",
            "founded_year : None\n",
            "revenue : None\n",
            "\n",
            "name : sidea group\n",
            "country : italy\n",
            "number_of_employees : 49\n",
            "founded_year : 2015\n",
            "revenue : 2,429,590\n",
            "\n",
            "11/10 positive, 12/10 negative\n",
            "Do these records refer to the same thing?\n",
            "(y)es / (n)o / (u)nsure / (f)inished / (p)revious\n"
          ]
        },
        {
          "name": "stdout",
          "output_type": "stream",
          "text": [
            "n\n"
          ]
        },
        {
          "name": "stderr",
          "output_type": "stream",
          "text": [
            "name : software and management group ltd\n",
            "country : None\n",
            "number_of_employees : None\n",
            "founded_year : 8 january 2019\n",
            "revenue : None\n",
            "\n",
            "name : software ag\n",
            "country : germany\n",
            "number_of_employees : None\n",
            "founded_year : None\n",
            "revenue : None\n",
            "\n",
            "11/10 positive, 13/10 negative\n",
            "Do these records refer to the same thing?\n",
            "(y)es / (n)o / (u)nsure / (f)inished / (p)revious\n"
          ]
        },
        {
          "name": "stdout",
          "output_type": "stream",
          "text": [
            "n\n"
          ]
        },
        {
          "name": "stderr",
          "output_type": "stream",
          "text": [
            "name : idex corporation\n",
            "country : None\n",
            "number_of_employees : 7,536\n",
            "founded_year : None\n",
            "revenue : None\n",
            "\n",
            "name : idex\n",
            "country : usa\n",
            "number_of_employees : None\n",
            "founded_year : None\n",
            "revenue : None\n",
            "\n",
            "11/10 positive, 14/10 negative\n",
            "Do these records refer to the same thing?\n",
            "(y)es / (n)o / (u)nsure / (f)inished / (p)revious\n"
          ]
        },
        {
          "name": "stdout",
          "output_type": "stream",
          "text": [
            "y\n"
          ]
        },
        {
          "name": "stderr",
          "output_type": "stream",
          "text": [
            "name : reckitt benckiser group\n",
            "country : uk\n",
            "number_of_employees : 43,000\n",
            "founded_year : 2007\n",
            "revenue : 15,849 million usd\n",
            "\n",
            "name : reckitt benckiser\n",
            "country : united-kingdom\n",
            "number_of_employees : None\n",
            "founded_year : None\n",
            "revenue : None\n",
            "\n",
            "12/10 positive, 14/10 negative\n",
            "Do these records refer to the same thing?\n",
            "(y)es / (n)o / (u)nsure / (f)inished / (p)revious\n"
          ]
        },
        {
          "name": "stdout",
          "output_type": "stream",
          "text": [
            "y\n"
          ]
        },
        {
          "name": "stderr",
          "output_type": "stream",
          "text": [
            "name : ing group\n",
            "country : None\n",
            "number_of_employees : None\n",
            "founded_year : None\n",
            "revenue : None\n",
            "\n",
            "name : ing\n",
            "country : netherlands\n",
            "number_of_employees : None\n",
            "founded_year : None\n",
            "revenue : None\n",
            "\n",
            "13/10 positive, 14/10 negative\n",
            "Do these records refer to the same thing?\n",
            "(y)es / (n)o / (u)nsure / (f)inished / (p)revious\n"
          ]
        },
        {
          "name": "stdout",
          "output_type": "stream",
          "text": [
            "y\n"
          ]
        },
        {
          "name": "stderr",
          "output_type": "stream",
          "text": [
            "name : shanghai international port (group)\n",
            "country : china\n",
            "number_of_employees : 14,068\n",
            "founded_year : 1985\n",
            "revenue : 279 million usd\n",
            "\n",
            "name : shanghai international port\n",
            "country : united states\n",
            "number_of_employees : 1,854\n",
            "founded_year : 1993.0\n",
            "revenue : $5.2b\n",
            "\n",
            "14/10 positive, 14/10 negative\n",
            "Do these records refer to the same thing?\n",
            "(y)es / (n)o / (u)nsure / (f)inished / (p)revious\n"
          ]
        },
        {
          "name": "stdout",
          "output_type": "stream",
          "text": [
            "y\n"
          ]
        },
        {
          "name": "stderr",
          "output_type": "stream",
          "text": [
            "name : druva\n",
            "country : usa\n",
            "number_of_employees : 467\n",
            "founded_year : 2013\n",
            "revenue : not found\n",
            "\n",
            "name : druva\n",
            "country : united states\n",
            "number_of_employees : None\n",
            "founded_year : 2007\n",
            "revenue : $475m\n",
            "\n",
            "15/10 positive, 14/10 negative\n",
            "Do these records refer to the same thing?\n",
            "(y)es / (n)o / (u)nsure / (f)inished / (p)revious\n"
          ]
        },
        {
          "name": "stdout",
          "output_type": "stream",
          "text": [
            "y\n"
          ]
        },
        {
          "name": "stderr",
          "output_type": "stream",
          "text": [
            "name : cogeco communications\n",
            "country : canada\n",
            "number_of_employees : 713\n",
            "founded_year : 1972\n",
            "revenue : 1,930 million usd\n",
            "\n",
            "name : cogeco inc\n",
            "country : canada\n",
            "number_of_employees : 3,844\n",
            "founded_year : None\n",
            "revenue : $2.4b\n",
            "\n",
            "16/10 positive, 14/10 negative\n",
            "Do these records refer to the same thing?\n",
            "(y)es / (n)o / (u)nsure / (f)inished / (p)revious\n"
          ]
        },
        {
          "name": "stdout",
          "output_type": "stream",
          "text": [
            "y\n"
          ]
        },
        {
          "name": "stderr",
          "output_type": "stream",
          "text": [
            "name : h & a holdings limited\n",
            "country : None\n",
            "number_of_employees : None\n",
            "founded_year : 19 june 1973\n",
            "revenue : None\n",
            "\n",
            "name : v & a holdings limited\n",
            "country : None\n",
            "number_of_employees : None\n",
            "founded_year : 5 may 1993\n",
            "revenue : None\n",
            "\n",
            "17/10 positive, 14/10 negative\n",
            "Do these records refer to the same thing?\n",
            "(y)es / (n)o / (u)nsure / (f)inished / (p)revious\n"
          ]
        },
        {
          "name": "stdout",
          "output_type": "stream",
          "text": [
            "n\n"
          ]
        },
        {
          "name": "stderr",
          "output_type": "stream",
          "text": [
            "name : china resources mixc lifestyle services limited\n",
            "country : china\n",
            "number_of_employees : 20,200\n",
            "founded_year : 2005\n",
            "revenue : 939 million usd\n",
            "\n",
            "name : dxy\n",
            "country : china\n",
            "number_of_employees : 568\n",
            "founded_year : 2011\n",
            "revenue : not found\n",
            "\n",
            "17/10 positive, 15/10 negative\n",
            "Do these records refer to the same thing?\n",
            "(y)es / (n)o / (u)nsure / (f)inished / (p)revious\n"
          ]
        },
        {
          "name": "stdout",
          "output_type": "stream",
          "text": [
            "n\n"
          ]
        },
        {
          "name": "stderr",
          "output_type": "stream",
          "text": [
            "name : pt bank rakyat indonesia (persero) tbk\n",
            "country : indonesia\n",
            "number_of_employees : 61,531\n",
            "founded_year : 2009\n",
            "revenue : 0 million usd\n",
            "\n",
            "name : pt semen indonesia (persero) tbk\n",
            "country : indonesia\n",
            "number_of_employees : 9,297\n",
            "founded_year : None\n",
            "revenue : $2.4b\n",
            "\n",
            "17/10 positive, 16/10 negative\n",
            "Do these records refer to the same thing?\n",
            "(y)es / (n)o / (u)nsure / (f)inished / (p)revious\n"
          ]
        },
        {
          "name": "stdout",
          "output_type": "stream",
          "text": [
            "n\n"
          ]
        },
        {
          "name": "stderr",
          "output_type": "stream",
          "text": [
            "name : archer daniels midland company careers\n",
            "country : chicago, il\n",
            "number_of_employees : 10,000+ employees\n",
            "founded_year : 1902\n",
            "revenue : None\n",
            "\n",
            "name : archer-daniels-midland company\n",
            "country : None\n",
            "number_of_employees : 39,218\n",
            "founded_year : minneapolis, minnesota, u.s.1902\n",
            "revenue : None\n",
            "\n",
            "17/10 positive, 17/10 negative\n",
            "Do these records refer to the same thing?\n",
            "(y)es / (n)o / (u)nsure / (f)inished / (p)revious\n"
          ]
        },
        {
          "name": "stdout",
          "output_type": "stream",
          "text": [
            "y\n"
          ]
        },
        {
          "name": "stderr",
          "output_type": "stream",
          "text": [
            "name : seven west media limited\n",
            "country : None\n",
            "number_of_employees : not found\n",
            "founded_year : None\n",
            "revenue : None\n",
            "\n",
            "name : seven west media ltd\n",
            "country : australia\n",
            "number_of_employees : 4,528\n",
            "founded_year : None\n",
            "revenue : $1.2b\n",
            "\n",
            "18/10 positive, 17/10 negative\n",
            "Do these records refer to the same thing?\n",
            "(y)es / (n)o / (u)nsure / (f)inished / (p)revious\n"
          ]
        },
        {
          "name": "stdout",
          "output_type": "stream",
          "text": [
            "y\n"
          ]
        },
        {
          "name": "stderr",
          "output_type": "stream",
          "text": [
            "name : intesa sanpaolo s.p.a.\n",
            "country : None\n",
            "number_of_employees : 78,000\n",
            "founded_year : None\n",
            "revenue : None\n",
            "\n",
            "name : intesa sanpaolo spa\n",
            "country : None\n",
            "number_of_employees : None\n",
            "founded_year : 1925\n",
            "revenue : None\n",
            "\n",
            "19/10 positive, 17/10 negative\n",
            "Do these records refer to the same thing?\n",
            "(y)es / (n)o / (u)nsure / (f)inished / (p)revious\n"
          ]
        },
        {
          "name": "stdout",
          "output_type": "stream",
          "text": [
            "y\n"
          ]
        },
        {
          "name": "stderr",
          "output_type": "stream",
          "text": [
            "name : canadian tire corp ltd\n",
            "country : canada\n",
            "number_of_employees : 13,435\n",
            "founded_year : None\n",
            "revenue : $12.2b\n",
            "\n",
            "name : canadian tire corporation, limited\n",
            "country : None\n",
            "number_of_employees : 13,435\n",
            "founded_year : None\n",
            "revenue : None\n",
            "\n",
            "20/10 positive, 17/10 negative\n",
            "Do these records refer to the same thing?\n",
            "(y)es / (n)o / (u)nsure / (f)inished / (p)revious\n"
          ]
        },
        {
          "name": "stdout",
          "output_type": "stream",
          "text": [
            "y\n"
          ]
        },
        {
          "name": "stderr",
          "output_type": "stream",
          "text": [
            "name : bilt\n",
            "country : None\n",
            "number_of_employees : None\n",
            "founded_year : 1945 (78 yrs old)\n",
            "revenue : None\n",
            "\n",
            "name : bilt rewards\n",
            "country : united states\n",
            "number_of_employees : None\n",
            "founded_year : 2021\n",
            "revenue : $210.3m\n",
            "\n",
            "21/10 positive, 17/10 negative\n",
            "Do these records refer to the same thing?\n",
            "(y)es / (n)o / (u)nsure / (f)inished / (p)revious\n"
          ]
        },
        {
          "name": "stdout",
          "output_type": "stream",
          "text": [
            "f\n"
          ]
        },
        {
          "name": "stderr",
          "output_type": "stream",
          "text": [
            "Finished labeling\n"
          ]
        }
      ],
      "source": [
        "# inizio del training dell'algoritmo di deduplicazione\n",
        "dedupe.console_label(deduper)"
      ]
    },
    {
      "cell_type": "code",
      "execution_count": 128,
      "metadata": {
        "id": "DU_2xlSQh1hK"
      },
      "outputs": [],
      "source": [
        "deduper.train()"
      ]
    },
    {
      "cell_type": "code",
      "execution_count": 129,
      "metadata": {
        "colab": {
          "base_uri": "https://localhost:8080/"
        },
        "id": "7m0hyuo4e01p",
        "outputId": "8174a903-c6d3-4662-9bec-27d163d0ef82"
      },
      "outputs": [
        {
          "name": "stdout",
          "output_type": "stream",
          "text": [
            "clustering...\n",
            "Numero sets duplicati 34616\n",
            "Durata clustering:  1408.964673757553 secondi\n"
          ]
        }
      ],
      "source": [
        "print('clustering...')\n",
        "\n",
        "start_time = time.time()\n",
        "clustered_dupes = deduper.partition(data_d, 0.5)\n",
        "\n",
        "print('Numero sets duplicati', len(clustered_dupes))\n",
        "print(\"Durata clustering: \", time.time() - start_time, \"secondi\")"
      ]
    },
    {
      "cell_type": "code",
      "execution_count": 130,
      "metadata": {
        "id": "DL5qU8y5e01p"
      },
      "outputs": [],
      "source": [
        "import csv \n",
        "\n",
        "cluster_membership = {}\n",
        "for cluster_id, (records, scores) in enumerate(clustered_dupes):\n",
        "    for record_id, score in zip(records, scores):\n",
        "        cluster_membership[record_id] = {\n",
        "            \"Cluster ID\": cluster_id,\n",
        "            \"confidence_score\": score\n",
        "        }"
      ]
    },
    {
      "cell_type": "code",
      "execution_count": 131,
      "metadata": {
        "colab": {
          "base_uri": "https://localhost:8080/"
        },
        "id": "A4vZe8cKoh36",
        "outputId": "34f1fb79-dd5f-40d6-fb09-6ab872203a7a"
      },
      "outputs": [
        {
          "data": {
            "text/plain": [
              "{'Cluster ID': 608, 'confidence_score': 0.5526490198073372}"
            ]
          },
          "execution_count": 131,
          "metadata": {},
          "output_type": "execute_result"
        }
      ],
      "source": [
        "cluster_membership['Apple']"
      ]
    },
    {
      "cell_type": "code",
      "execution_count": null,
      "metadata": {
        "id": "MttF4JYWnIfV"
      },
      "outputs": [],
      "source": [
        "with open('aziendeMerged_cluster.csv', 'w', encoding=\"utf8\") as f_output, open('aziendeMerged_ordinato.csv', encoding=\"utf8\") as f_input:\n",
        "\n",
        "    reader = csv.DictReader(f_input)\n",
        "    fieldnames = ['Cluster ID', 'confidence_score'] + reader.fieldnames\n",
        "\n",
        "    writer = csv.DictWriter(f_output, fieldnames=fieldnames)\n",
        "    writer.writeheader()\n",
        "\n",
        "    for row in reader:\n",
        "      row_id = str(row['name'])\n",
        "      row.update(cluster_membership[row_id])\n",
        "      writer.writerow(row)"
      ]
    },
    {
      "attachments": {},
      "cell_type": "markdown",
      "metadata": {},
      "source": [
        "## **Model evaluation**"
      ]
    },
    {
      "cell_type": "code",
      "execution_count": 26,
      "metadata": {},
      "outputs": [
        {
          "data": {
            "text/html": [
              "<div>\n",
              "<style scoped>\n",
              "    .dataframe tbody tr th:only-of-type {\n",
              "        vertical-align: middle;\n",
              "    }\n",
              "\n",
              "    .dataframe tbody tr th {\n",
              "        vertical-align: top;\n",
              "    }\n",
              "\n",
              "    .dataframe thead th {\n",
              "        text-align: right;\n",
              "    }\n",
              "</style>\n",
              "<table border=\"1\" class=\"dataframe\">\n",
              "  <thead>\n",
              "    <tr style=\"text-align: right;\">\n",
              "      <th></th>\n",
              "      <th>TrueID</th>\n",
              "      <th>Cluster ID</th>\n",
              "    </tr>\n",
              "  </thead>\n",
              "  <tbody>\n",
              "    <tr>\n",
              "      <th>0</th>\n",
              "      <td>415</td>\n",
              "      <td>415</td>\n",
              "    </tr>\n",
              "    <tr>\n",
              "      <th>1</th>\n",
              "      <td>698</td>\n",
              "      <td>698</td>\n",
              "    </tr>\n",
              "    <tr>\n",
              "      <th>2</th>\n",
              "      <td>27015</td>\n",
              "      <td>27015</td>\n",
              "    </tr>\n",
              "    <tr>\n",
              "      <th>3</th>\n",
              "      <td>2343</td>\n",
              "      <td>2343</td>\n",
              "    </tr>\n",
              "    <tr>\n",
              "      <th>4</th>\n",
              "      <td>9707</td>\n",
              "      <td>9707</td>\n",
              "    </tr>\n",
              "    <tr>\n",
              "      <th>...</th>\n",
              "      <td>...</td>\n",
              "      <td>...</td>\n",
              "    </tr>\n",
              "    <tr>\n",
              "      <th>1995</th>\n",
              "      <td>111172</td>\n",
              "      <td>698</td>\n",
              "    </tr>\n",
              "    <tr>\n",
              "      <th>1996</th>\n",
              "      <td>111173</td>\n",
              "      <td>698</td>\n",
              "    </tr>\n",
              "    <tr>\n",
              "      <th>1997</th>\n",
              "      <td>111174</td>\n",
              "      <td>698</td>\n",
              "    </tr>\n",
              "    <tr>\n",
              "      <th>1998</th>\n",
              "      <td>111175</td>\n",
              "      <td>698</td>\n",
              "    </tr>\n",
              "    <tr>\n",
              "      <th>1999</th>\n",
              "      <td>698</td>\n",
              "      <td>698</td>\n",
              "    </tr>\n",
              "  </tbody>\n",
              "</table>\n",
              "<p>2000 rows × 2 columns</p>\n",
              "</div>"
            ],
            "text/plain": [
              "      TrueID  Cluster ID\n",
              "0        415         415\n",
              "1        698         698\n",
              "2      27015       27015\n",
              "3       2343        2343\n",
              "4       9707        9707\n",
              "...      ...         ...\n",
              "1995  111172         698\n",
              "1996  111173         698\n",
              "1997  111174         698\n",
              "1998  111175         698\n",
              "1999     698         698\n",
              "\n",
              "[2000 rows x 2 columns]"
            ]
          },
          "execution_count": 26,
          "metadata": {},
          "output_type": "execute_result"
        }
      ],
      "source": [
        "import pandas as pd\n",
        "from sklearn.metrics import confusion_matrix, f1_score, precision_score, recall_score\n",
        "\n",
        "# Leggi i dati\n",
        "true_data = pd.read_csv('aziendeMerged_trueCluster.csv', nrows=2000)\n",
        "cluster_data = pd.read_csv('aziendeMerged_cluster.csv', nrows=2000)\n",
        "\n",
        "# Seleziona le colonne di interesse\n",
        "true_data = true_data[['TrueID']]\n",
        "cluster_data = cluster_data[['Cluster ID']]\n",
        "\n",
        "# Unisci i dati in un unico dataframe\n",
        "df = pd.concat([true_data, cluster_data], axis=1)\n",
        "df"
      ]
    },
    {
      "cell_type": "code",
      "execution_count": 27,
      "metadata": {},
      "outputs": [
        {
          "name": "stdout",
          "output_type": "stream",
          "text": [
            "True positive: 1907\n",
            "False positive: 93\n",
            "Precision: 0.9403592450390117\n",
            "Recall: 0.9535\n",
            "F1-score: 0.9438534613812217\n"
          ]
        }
      ],
      "source": [
        "# Conta il numero di valori corrispondenti e non corrispondenti\n",
        "true_positive = df[df['TrueID'] == df['Cluster ID']].shape[0]\n",
        "false_positive = df[df['TrueID'] != df['Cluster ID']].shape[0]\n",
        "\n",
        "# Calcola la precision, recall e f1-score\n",
        "precision = precision_score(df['TrueID'], df['Cluster ID'], average='weighted')\n",
        "recall = recall_score(df['TrueID'], df['Cluster ID'], average='weighted')\n",
        "f1score = f1_score(df['TrueID'], df['Cluster ID'], average='weighted')\n",
        "\n",
        "# Stampa i risultati\n",
        "print('True positive:', true_positive)\n",
        "print('False positive:', false_positive)\n",
        "print('Precision:', precision)\n",
        "print('Recall:', recall)\n",
        "print('F1-score:', f1score)"
      ]
    }
  ],
  "metadata": {
    "colab": {
      "provenance": []
    },
    "kernelspec": {
      "display_name": "Python 3",
      "language": "python",
      "name": "python3"
    },
    "language_info": {
      "codemirror_mode": {
        "name": "ipython",
        "version": 3
      },
      "file_extension": ".py",
      "mimetype": "text/x-python",
      "name": "python",
      "nbconvert_exporter": "python",
      "pygments_lexer": "ipython3",
      "version": "3.8.8"
    },
    "orig_nbformat": 4,
    "vscode": {
      "interpreter": {
        "hash": "0276ff69500abe2d91ba632e055fcb377451e51e6d19b9e80dff5426d1d4a679"
      }
    }
  },
  "nbformat": 4,
  "nbformat_minor": 0
}
